{
 "cells": [
  {
   "cell_type": "code",
   "execution_count": 1,
   "metadata": {},
   "outputs": [],
   "source": [
    "#| default_exp icao\n",
    "%load_ext autoreload\n",
    "%autoreload 2\n",
    "\n",
    "import sys\n",
    "from pathlib import Path\n",
    "\n",
    "# Insert in Path Project Directory\n",
    "sys.path.insert(0, str(Path().cwd().parent))"
   ]
  },
  {
   "attachments": {},
   "cell_type": "markdown",
   "metadata": {},
   "source": [
    "# ICAO\n",
    "\n",
    "> Este módulo concentra as constantes, funções de carga, processamento, mesclagem e salvamento de dados aeronáuticos provenientes do Software Frequency Finder da ICAO"
   ]
  },
  {
   "cell_type": "code",
   "execution_count": 2,
   "metadata": {},
   "outputs": [],
   "source": [
    "#| export\n",
    "from datetime import datetime\n",
    "from typing import Iterable\n",
    "import pandas as pd\n",
    "from fastcore.test import test_close"
   ]
  },
  {
   "attachments": {},
   "cell_type": "markdown",
   "metadata": {},
   "source": [
    "## CONSTANTES\n"
   ]
  },
  {
   "attachments": {},
   "cell_type": "markdown",
   "metadata": {},
   "source": [
    "Dados para acesso aos dados do ICAO"
   ]
  },
  {
   "cell_type": "code",
   "execution_count": 3,
   "metadata": {},
   "outputs": [],
   "source": [
    "#| export\n",
    "PATH_NAV = r\"\\\\servrepds\\dw$\\Input\\sentinela\\extracao\\VHF_NAV_20221108.xlsx\"\n",
    "PATH_COM = r\"\\\\servrepds\\dw$\\Input\\sentinela\\extracao\\VHF_COM_20221108.xlsx\"\n",
    "PATH_CHANNELS = r\"\\\\servrepds\\dw$\\Input\\sentinela\\extracao\\VOR_ILS_DME_Channel.xlsx\"\n",
    "COLS_NAV = [\"Frequency\", \"Latitude\", \"Longitude\", \"Facility\", \"Location\", \"NS\", \"WE\"]\n",
    "COLS_COM = [\"Frequency\", \"CoordLat\", \"CoordLong\", \"DOC\", \"Location\", \"NS\", \"WE\"]"
   ]
  },
  {
   "cell_type": "code",
   "execution_count": 4,
   "metadata": {},
   "outputs": [],
   "source": [
    "#| export\n",
    "def convert_latitude(\n",
    "    lat: str,  # Latitude\n",
    "    hemisphere: str,  # Hemisfério: N | S\n",
    ") -> float:\n",
    "    \"\"\"Converte a Latitude para formato decimal\"\"\"\n",
    "    multiplier = 1 if hemisphere == \"N\" else -1\n",
    "    return multiplier * (\n",
    "        float(lat[:2]) + float(lat[3:5]) / 60 + float(lat[6:8]) / 3600.0\n",
    "    )\n",
    "\n",
    "\n",
    "def convert_longitude(\n",
    "    lon: str,  # Longitude\n",
    "    hemisphere: str,  # Hemisfério: W | E\n",
    ") -> float:\n",
    "    \"\"\"Converte a longitude para formato decimal\"\"\"\n",
    "\n",
    "    multiplier = 1 if hemisphere == \"E\" else -1\n",
    "    return multiplier * (\n",
    "        float(lon[1:3]) + float(lon[4:6]) / 60 + float(lon[7:9]) / 3600.0\n",
    "    )\n"
   ]
  },
  {
   "cell_type": "code",
   "execution_count": 5,
   "metadata": {},
   "outputs": [],
   "source": [
    "lat = \"25D36'01\"\n",
    "long = \"056D06'00\"\n",
    "test_close(convert_latitude(lat, 'S'), -25.60027)\n",
    "test_close(convert_longitude(long, 'W'), -56.10000)"
   ]
  },
  {
   "cell_type": "code",
   "execution_count": 6,
   "metadata": {},
   "outputs": [],
   "source": [
    "#|export\n",
    "def _read_df(\n",
    "    path: str,  # Caminho do arquivo\n",
    "    usecols: Iterable[str],  # Subconjunto de colunas do arquivo\n",
    ") -> pd.DataFrame:  # Dataframe formatado\n",
    "    # sourcery skip: use-fstring-for-concatenation\n",
    "    \"\"\"Lê o DataFrame no caminho `path`, filtra as colunas `usecols` e o retorna formatado\"\"\"\n",
    "    df = pd.read_excel(path, engine=\"openpyxl\", dtype=\"string\")[usecols]\n",
    "    df.columns = COLS_NAV\n",
    "    df[\"Latitude\"] = df.apply(\n",
    "        lambda x: convert_latitude(x[\"Latitude\"], x[\"NS\"]), axis=1\n",
    "    )\n",
    "    df[\"Longitude\"] = df.apply(\n",
    "        lambda x: convert_longitude(x[\"Longitude\"], x[\"WE\"]), axis=1\n",
    "    )\n",
    "    df[\"Description\"] = \"[ICAO] \" + df.Facility + \", \" + df.Location\n",
    "    return df[[\"Frequency\", \"Latitude\", \"Longitude\", \"Description\"]]\n"
   ]
  },
  {
   "cell_type": "code",
   "execution_count": 7,
   "metadata": {},
   "outputs": [],
   "source": [
    "#| export\n",
    "def map_channels(\n",
    "    df: pd.DataFrame,  # DataFrame dos dados de origem\n",
    ") -> pd.DataFrame:\n",
    "    \"\"\"Mapeia os canais contidos em `df` e adiciona os registros ILS/DME caso houver\"\"\"\n",
    "    chs = pd.read_excel(PATH_CHANNELS, engine=\"openpyxl\", dtype=\"string\")\n",
    "    for row in df[df.Description.str.contains(\"ILS|DME\")].itertuples():\n",
    "        if not (ch := chs[(chs.VOR_ILSloc == row.Frequency)]).empty:\n",
    "            for i, c in enumerate(ch.values[0][2:]):\n",
    "                if pd.notnull(c):\n",
    "                    match i:\n",
    "                        case 0:\n",
    "                            freq_type = \"ILS glide path\"\n",
    "                        case 1:\n",
    "                            freq_type = \"Airbone DME\"\n",
    "                        case 2:\n",
    "                            freq_type = \"Ground-based DME\"\n",
    "                    description = (\n",
    "                        f\"{row.Description.replace('ICAO' , 'DOC')} ({freq_type})\"\n",
    "                    )\n",
    "                    df.loc[len(df)] = [c, row.Latitude, row.Longitude, description]\n",
    "    return df\n"
   ]
  },
  {
   "cell_type": "code",
   "execution_count": 8,
   "metadata": {},
   "outputs": [],
   "source": [
    "#| export    \n",
    "def get_icao(path_nav: str, # Caminho para o arquivo NAV\n",
    "             path_com: str, # Caminho para o arquivo COM\n",
    ") -> pd.DataFrame:  # DataFrame com frequências, coordenadas e descrição das estações\n",
    "    \"\"\"Lê, concatena e pós-processa os arquivos do ICAO\"\"\"\n",
    "    df = pd.concat(\n",
    "        _read_df(p, c) for p, c in zip([path_nav, path_com], [COLS_NAV, COLS_COM])\n",
    "    )\n",
    "\n",
    "    return map_channels(df)"
   ]
  },
  {
   "cell_type": "code",
   "execution_count": 9,
   "metadata": {},
   "outputs": [],
   "source": [
    "PATH_NAV = Path.cwd().parent / 'dados' / 'VHF_NAV_20221108.xlsx'\n",
    "PATH_COM = Path.cwd().parent / 'dados' / 'VHF_COM_20221108.xlsx'\n",
    "PATH_CHANNELS = Path.cwd().parent.parent / \"dados\" / \"VOR_ILS_DME_Channel.xlsx\""
   ]
  },
  {
   "cell_type": "code",
   "execution_count": 10,
   "metadata": {},
   "outputs": [
    {
     "name": "stderr",
     "output_type": "stream",
     "text": [
      "/home/melinda/micromamba/envs/db/lib/python3.10/site-packages/openpyxl/styles/stylesheet.py:226: UserWarning: Workbook contains no default style, apply openpyxl's default\n",
      "  warn(\"Workbook contains no default style, apply openpyxl's default\")\n"
     ]
    },
    {
     "data": {
      "text/html": [
       "<div>\n",
       "<style scoped>\n",
       "    .dataframe tbody tr th:only-of-type {\n",
       "        vertical-align: middle;\n",
       "    }\n",
       "\n",
       "    .dataframe tbody tr th {\n",
       "        vertical-align: top;\n",
       "    }\n",
       "\n",
       "    .dataframe thead th {\n",
       "        text-align: right;\n",
       "    }\n",
       "</style>\n",
       "<table border=\"1\" class=\"dataframe\">\n",
       "  <thead>\n",
       "    <tr style=\"text-align: right;\">\n",
       "      <th></th>\n",
       "      <th>Frequency</th>\n",
       "      <th>Latitude</th>\n",
       "      <th>Longitude</th>\n",
       "      <th>Description</th>\n",
       "    </tr>\n",
       "  </thead>\n",
       "  <tbody>\n",
       "    <tr>\n",
       "      <th>0</th>\n",
       "      <td>113.4</td>\n",
       "      <td>-9.866667</td>\n",
       "      <td>-56.100000</td>\n",
       "      <td>[ICAO] VOR/DME, ALTA FLORESTA</td>\n",
       "    </tr>\n",
       "    <tr>\n",
       "      <th>1</th>\n",
       "      <td>113.2</td>\n",
       "      <td>-3.250000</td>\n",
       "      <td>-52.250000</td>\n",
       "      <td>[ICAO] VOR/DME, ALTAMIRA</td>\n",
       "    </tr>\n",
       "    <tr>\n",
       "      <th>2</th>\n",
       "      <td>117.5</td>\n",
       "      <td>-4.183333</td>\n",
       "      <td>-69.933333</td>\n",
       "      <td>[ICAO] VOR/DME, AMAZONICA</td>\n",
       "    </tr>\n",
       "    <tr>\n",
       "      <th>3</th>\n",
       "      <td>115.4</td>\n",
       "      <td>-16.250000</td>\n",
       "      <td>-49.000000</td>\n",
       "      <td>[ICAO] VOR/DME, ANAPOLIS</td>\n",
       "    </tr>\n",
       "    <tr>\n",
       "      <th>4</th>\n",
       "      <td>112</td>\n",
       "      <td>-10.983333</td>\n",
       "      <td>-37.066667</td>\n",
       "      <td>[ICAO] VOR/DME, ARACAJU STA. MARIA</td>\n",
       "    </tr>\n",
       "    <tr>\n",
       "      <th>...</th>\n",
       "      <td>...</td>\n",
       "      <td>...</td>\n",
       "      <td>...</td>\n",
       "      <td>...</td>\n",
       "    </tr>\n",
       "    <tr>\n",
       "      <th>2626</th>\n",
       "      <td>1176</td>\n",
       "      <td>-20.766667</td>\n",
       "      <td>-51.550000</td>\n",
       "      <td>[DOC] VOR/DME, URUBUPUNGA CASTILHO (Ground-bas...</td>\n",
       "    </tr>\n",
       "    <tr>\n",
       "      <th>2627</th>\n",
       "      <td>1082</td>\n",
       "      <td>-12.700000</td>\n",
       "      <td>-60.083333</td>\n",
       "      <td>[DOC] VOR/DME, VILHENA (Airbone DME)</td>\n",
       "    </tr>\n",
       "    <tr>\n",
       "      <th>2628</th>\n",
       "      <td>1019</td>\n",
       "      <td>-12.700000</td>\n",
       "      <td>-60.083333</td>\n",
       "      <td>[DOC] VOR/DME, VILHENA (Ground-based DME)</td>\n",
       "    </tr>\n",
       "    <tr>\n",
       "      <th>2629</th>\n",
       "      <td>1126</td>\n",
       "      <td>-20.250000</td>\n",
       "      <td>-40.283333</td>\n",
       "      <td>[DOC] VOR/DME, VITORIA GOIABEIRAS (Airbone DME)</td>\n",
       "    </tr>\n",
       "    <tr>\n",
       "      <th>2630</th>\n",
       "      <td>1189</td>\n",
       "      <td>-20.250000</td>\n",
       "      <td>-40.283333</td>\n",
       "      <td>[DOC] VOR/DME, VITORIA GOIABEIRAS (Ground-base...</td>\n",
       "    </tr>\n",
       "  </tbody>\n",
       "</table>\n",
       "<p>2631 rows × 4 columns</p>\n",
       "</div>"
      ],
      "text/plain": [
       "     Frequency   Latitude  Longitude  \\\n",
       "0        113.4  -9.866667 -56.100000   \n",
       "1        113.2  -3.250000 -52.250000   \n",
       "2        117.5  -4.183333 -69.933333   \n",
       "3        115.4 -16.250000 -49.000000   \n",
       "4          112 -10.983333 -37.066667   \n",
       "...        ...        ...        ...   \n",
       "2626      1176 -20.766667 -51.550000   \n",
       "2627      1082 -12.700000 -60.083333   \n",
       "2628      1019 -12.700000 -60.083333   \n",
       "2629      1126 -20.250000 -40.283333   \n",
       "2630      1189 -20.250000 -40.283333   \n",
       "\n",
       "                                            Description  \n",
       "0                         [ICAO] VOR/DME, ALTA FLORESTA  \n",
       "1                              [ICAO] VOR/DME, ALTAMIRA  \n",
       "2                             [ICAO] VOR/DME, AMAZONICA  \n",
       "3                              [ICAO] VOR/DME, ANAPOLIS  \n",
       "4                    [ICAO] VOR/DME, ARACAJU STA. MARIA  \n",
       "...                                                 ...  \n",
       "2626  [DOC] VOR/DME, URUBUPUNGA CASTILHO (Ground-bas...  \n",
       "2627               [DOC] VOR/DME, VILHENA (Airbone DME)  \n",
       "2628          [DOC] VOR/DME, VILHENA (Ground-based DME)  \n",
       "2629    [DOC] VOR/DME, VITORIA GOIABEIRAS (Airbone DME)  \n",
       "2630  [DOC] VOR/DME, VITORIA GOIABEIRAS (Ground-base...  \n",
       "\n",
       "[2631 rows x 4 columns]"
      ]
     },
     "execution_count": 10,
     "metadata": {},
     "output_type": "execute_result"
    }
   ],
   "source": [
    "get_icao(PATH_NAV, PATH_COM)"
   ]
  }
 ],
 "metadata": {
  "kernelspec": {
   "display_name": "db",
   "language": "python",
   "name": "python3"
  },
  "language_info": {
   "codemirror_mode": {
    "name": "ipython",
    "version": 3
   },
   "file_extension": ".py",
   "mimetype": "text/x-python",
   "name": "python",
   "nbconvert_exporter": "python",
   "pygments_lexer": "ipython3",
   "version": "3.10.8"
  },
  "orig_nbformat": 4,
  "vscode": {
   "interpreter": {
    "hash": "7bb5bdefed358c9bc21882321cba6aaea0c5bd54091270b3f5b4c8e60635bfdd"
   }
  }
 },
 "nbformat": 4,
 "nbformat_minor": 2
}
