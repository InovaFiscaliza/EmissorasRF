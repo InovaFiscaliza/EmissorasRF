{
 "cells": [
  {
   "cell_type": "code",
   "execution_count": 1,
   "metadata": {},
   "outputs": [],
   "source": [
    "#| default_exp aisweb\n",
    "%load_ext autoreload\n",
    "%autoreload 2\n",
    "\n",
    "import sys\n",
    "from pathlib import Path\n",
    "\n",
    "# Insert in Path Project Directory\n",
    "sys.path.insert(0, str(Path().cwd().parent))"
   ]
  },
  {
   "attachments": {},
   "cell_type": "markdown",
   "metadata": {},
   "source": [
    "# AISWEB\n",
    "\n",
    "> Este módulo concentra as constantes, funções de carga, processamento, mesclagem e salvamento de dados aeronáuticos provenientes da API do AisWeb"
   ]
  },
  {
   "cell_type": "code",
   "execution_count": 2,
   "metadata": {},
   "outputs": [
    {
     "data": {
      "text/plain": [
       "True"
      ]
     },
     "execution_count": 2,
     "metadata": {},
     "output_type": "execute_result"
    }
   ],
   "source": [
    "#| export\n",
    "import os\n",
    "import re\n",
    "import xml.etree.ElementTree as ET\n",
    "from typing import Iterable\n",
    "from functools import cached_property\n",
    "\n",
    "import requests\n",
    "import xmltodict\n",
    "import pandas as pd\n",
    "from fastcore.utils import store_attr\n",
    "from dotenv import load_dotenv\n",
    "\n",
    "from extracao.icao import map_channels\n",
    "\n",
    "load_dotenv()"
   ]
  },
  {
   "attachments": {},
   "cell_type": "markdown",
   "metadata": {},
   "source": [
    "## CONSTANTES\n"
   ]
  },
  {
   "attachments": {},
   "cell_type": "markdown",
   "metadata": {},
   "source": [
    "Dados para acesso à API GEOAISWEB"
   ]
  },
  {
   "cell_type": "code",
   "execution_count": 3,
   "metadata": {},
   "outputs": [],
   "source": [
    "#| export\n",
    "SIGLA_AERO = [\"MIL\", \"PRIV/PUB\", \"PUB\", \"PUB/MIL\", \"PUB/REST\"]\n",
    "URL = \"http://aisweb.decea.gov.br/api/?apiKey={}&apiPass={}&area=rotaer&rowend=10000\"\n",
    "TYPE = [\"COM\", \"NAV\"]\n",
    "COLUMNS = [\"Frequency\", \"Latitude\", \"Longitude\", \"Description\"]"
   ]
  },
  {
   "cell_type": "code",
   "execution_count": 4,
   "metadata": {},
   "outputs": [],
   "source": [
    "#| export\n",
    "def convert_latitude(\n",
    "    lat: str,  # Latitude\n",
    ") -> float:\n",
    "    \"\"\"Converte a Latitude para formato decimal\"\"\"\n",
    "    hemisphere = lat[-1]\n",
    "    multiplier = 1 if hemisphere == \"N\" else -1\n",
    "    return multiplier * (\n",
    "        float(lat[:2]) + float(lat[2:4]) / 60 + float(lat[5:7]) / 3600.0\n",
    "    )\n",
    "\n",
    "\n",
    "def convert_longitude(\n",
    "    lon: str,  # Longitude\n",
    ") -> float:\n",
    "    \"\"\"Converte a longitude para formato decimal\"\"\"\n",
    "    hemisphere = lon[-1]\n",
    "    multiplier = 1 if hemisphere == \"E\" else -1\n",
    "    return multiplier * (\n",
    "        float(lon[:3]) + float(lon[3:5]) / 60 + float(lon[6:8]) / 3600.0\n",
    "    )\n"
   ]
  },
  {
   "cell_type": "code",
   "execution_count": 10,
   "metadata": {},
   "outputs": [],
   "source": [
    "#| export\n",
    "\n",
    "class AisWeb:\n",
    "    \"\"\"Classe para encapsular requisições REST à API do AISWEB\"\"\"\n",
    "\n",
    "    def __init__(\n",
    "        self,\n",
    "        api_key: str,  # Chave API\n",
    "        api_pass: str,  # Senha API\n",
    "        type_aero: Iterable[str] = SIGLA_AERO,  # Lista com os tipos de Aeroportos\n",
    "    ):\n",
    "        store_attr()\n",
    "        self.url = URL.format(api_key, api_pass)\n",
    "        load_dotenv()\n",
    "\n",
    "    def _get_request(self, key, value):\n",
    "        request_url = f\"{self.url}{key}{value}\"\n",
    "        response = requests.get(request_url)\n",
    "        if response.status_code != 200:\n",
    "            raise ValueError(\n",
    "                f\"Resposta a requisição não foi bem sucedida: {response.status_code:=}\"\n",
    "            )\n",
    "        return xmltodict.parse(response.content)\n",
    "\n",
    "    def request_aero(\n",
    "        self,\n",
    "        aero_util: str,  # Sigla de identificação do tipo de Aeroporto\n",
    "    ) -> pd.DataFrame:  # DataFrame com os dados do Aeroporto\n",
    "        \"\"\"Recebe a sigla `aero_util` do tipo de aeroporto e faz a requisição à API\"\"\"\n",
    "        dict_data = self._get_request(\"&util=\", aero_util)\n",
    "        if int(dict_data[\"aisweb\"][\"rotaer\"][\"@total\"]) > 0:\n",
    "            df = pd.json_normalize(dict_data[\"aisweb\"][\"rotaer\"][\"item\"])\n",
    "            df.drop([\"@ciad_id\", \"id\", \"ciad\", \"dt\"], axis=1, inplace=True)\n",
    "            # Remove os não aeródromos\n",
    "            return df[df.type == \"AD\"].reset_index(drop=True)\n",
    "        return pd.DataFrame()\n",
    "\n",
    "    @cached_property\n",
    "    def airports(\n",
    "        self,\n",
    "    ) -> pd.DataFrame:  # DataFrame com os dados de aeroportos\n",
    "        \"\"\"Retorna a lista de aeroportos\"\"\"\n",
    "        return pd.concat(self.request_aero(aero_util) for aero_util in self.type_aero)\n",
    "\n",
    "    def _parse_type(self, df):\n",
    "        df = df[df[\"@type\"].isin(TYPE)].reset_index(drop=True)\n",
    "        if \"type\" in df.columns:\n",
    "            df[\"Description\"] = [\n",
    "                \", \".join(cols) for cols in zip(df[\"@type\"], df[\"type\"])\n",
    "            ]  # Only way to prevent bizarre errors\n",
    "            df = df.drop([\"@type\", \"type\"], axis=1)\n",
    "        return df\n",
    "\n",
    "    def _filter_freq(self, df):\n",
    "        if \"freqs.freq\" in df:\n",
    "            df = df.explode(\"freqs.freq\")\n",
    "            idx = df[\"freqs.freq\"].notnull()\n",
    "            df.loc[idx, \"Frequency\"] = df.loc[idx, \"freqs.freq\"].apply(\n",
    "                lambda x: x.get(\"#text\", pd.NA)\n",
    "            )\n",
    "            df = df.drop(\"freqs.freq\", axis=1)\n",
    "\n",
    "        if (column := \"freqs.freq.#text\") in df:\n",
    "            idx = df[column].notnull()\n",
    "            df.loc[idx, \"Frequency\"] = df.loc[idx, column]\n",
    "            df = df.drop(\"freqs.freq.#text\", axis=1)\n",
    "\n",
    "        return df.reset_index(drop=True)\n",
    "\n",
    "    def _check_ils_dme(self, df):\n",
    "        if (columns := {\"freq\", \"lat\", \"lng\", \"thr\", \"ident\"}).issubset(df.columns):\n",
    "            idx = df.freq.notna()\n",
    "            df.loc[idx, \"Frequency\"] = df.loc[idx, \"freq\"]\n",
    "            df.loc[idx, \"Latitude\"] = df.loc[idx, \"lat\"].apply(\n",
    "                lambda x: convert_latitude(x)\n",
    "            )\n",
    "            df.loc[idx, \"Longitude\"] = df.loc[idx, \"lng\"].apply(\n",
    "                lambda x: convert_longitude(x)\n",
    "            )\n",
    "            df.loc[idx, \"Description\"] = (\n",
    "                df.loc[idx, \"Description\"]\n",
    "                + \" \"\n",
    "                + df.loc[idx, \"thr\"]\n",
    "                + \" \"\n",
    "                + df.loc[idx, \"ident\"]\n",
    "            )\n",
    "            df = df.drop(columns, axis=1)\n",
    "        return df\n",
    "\n",
    "    def _process_coords(self, df, airport_data):\n",
    "        # sourcery skip: use-fstring-for-concatenation\n",
    "        df.loc[df[\"Latitude\"] == \"\", \"Latitude\"] = airport_data.lat\n",
    "        df.loc[df[\"Longitude\"] == \"\", \"Longitude\"] = airport_data.lng\n",
    "        if not df.empty:\n",
    "            df[\"Description\"] = (\n",
    "                r\"[AISW] \"\n",
    "                + str(airport_data[\"AeroCode\"])\n",
    "                + \"-\"\n",
    "                + df[\"Description\"]\n",
    "                + \", \"\n",
    "                + str(airport_data[\"name\"])\n",
    "            )\n",
    "        return df\n",
    "\n",
    "    def _process_data(\n",
    "        self,\n",
    "        dict_data,  # xml com os dados não processados\n",
    "    ) -> pd.DataFrame:  # DataFrame com os dados pós-processados\n",
    "        airport_data = pd.json_normalize(dict_data[\"aisweb\"])[\n",
    "            [\"AeroCode\", \"name\", \"lat\", \"lng\"]\n",
    "        ].iloc[0]\n",
    "        df = pd.json_normalize(dict_data, [\"aisweb\", [\"services\", \"service\"]])\n",
    "        df[COLUMNS] = \"\"\n",
    "        df = self._parse_type(df)\n",
    "        df = self._filter_freq(df)\n",
    "        df = self._check_ils_dme(df)\n",
    "        df = self._process_coords(df, airport_data)\n",
    "        df = df[COLUMNS]\n",
    "        df['Frequency'] = df.Frequency.apply(lambda x: ''.join(re.findall('\\d|\\.', x)))\n",
    "        df = df[~df[\"Frequency\"].isin({\"\", '0'})].reset_index(drop=True)\n",
    "        df['Frequency'] = df.Frequency.astype('float')\n",
    "        return df\n",
    "\n",
    "    def request_stations(\n",
    "        self,\n",
    "        icao_code: str,  # Código ICAO identificando o aeroporto\n",
    "    ) -> pd.DataFrame:  # DataFrame com os dados de estações do aeroporto de código `icao_code`\n",
    "        \"\"\"Recebe o código do aeroporto `icao_code` e retorna as estações registradas nele\"\"\"\n",
    "        dict_data = self._get_request(\"&icaoCode=\", icao_code)\n",
    "        return (\n",
    "            self._process_data(dict_data) if dict_data.get(\"aisweb\") else pd.DataFrame()\n",
    "        )\n",
    "\n",
    "    @cached_property\n",
    "    def records(\n",
    "        self,\n",
    "    ) -> pd.DataFrame:  # DataFrame com os dados de estações emissoras\n",
    "        \"\"\"Retorna os registros de estações emissoras de RF contidas nos aeroportos\"\"\"\n",
    "        df = pd.concat(self.request_stations(code) for code in self.airports.AeroCode)\n",
    "        for c in df.columns:\n",
    "            df[c] = df[c].astype('string')\n",
    "        return map_channels(df, 'AISW')\n"
   ]
  },
  {
   "cell_type": "code",
   "execution_count": 11,
   "metadata": {},
   "outputs": [],
   "source": [
    "#| export\n",
    "def get_aisw() -> pd.DataFrame:  # DataFrame com todos os dados do GEOAISWEB\n",
    "    \"\"\"Lê e processa os dataframes individuais da API AISWEB e retorna o conjunto concatenado\"\"\"\n",
    "    aisweb = AisWeb(os.environ[\"AISWKEY\"], os.environ[\"AISWPASS\"])\n",
    "    return aisweb.records"
   ]
  },
  {
   "cell_type": "code",
   "execution_count": 12,
   "metadata": {},
   "outputs": [],
   "source": [
    "\n",
    "#| eval: false\n",
    "load_dotenv()\n",
    "aisweb = AisWeb(os.environ[\"AISWKEY\"], os.environ[\"AISWPASS\"])"
   ]
  },
  {
   "cell_type": "code",
   "execution_count": 13,
   "metadata": {},
   "outputs": [],
   "source": [
    "#| eval: false\n",
    "aisweb.records"
   ]
  },
  {
   "cell_type": "code",
   "execution_count": null,
   "metadata": {},
   "outputs": [],
   "source": [
    "#| eval: false\n",
    "aisweb.records.to_excel(Path.cwd().parent / 'dados' / 'aisw_api.xlsx', index=False)"
   ]
  },
  {
   "cell_type": "code",
   "execution_count": null,
   "metadata": {},
   "outputs": [],
   "source": []
  }
 ],
 "metadata": {
  "kernelspec": {
   "display_name": "Python 3.10.8 ('db')",
   "language": "python",
   "name": "python3"
  },
  "language_info": {
   "codemirror_mode": {
    "name": "ipython",
    "version": 3
   },
   "file_extension": ".py",
   "mimetype": "text/x-python",
   "name": "python",
   "nbconvert_exporter": "python",
   "pygments_lexer": "ipython3",
   "version": "3.10.8"
  },
  "orig_nbformat": 4,
  "vscode": {
   "interpreter": {
    "hash": "bc0c9c419a5a59e8a5d5bf28d023951ba56e2f8744a354d21e9b69280dbe5840"
   }
  }
 },
 "nbformat": 4,
 "nbformat_minor": 2
}
