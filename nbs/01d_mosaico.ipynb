{
 "cells": [
  {
   "cell_type": "code",
   "execution_count": null,
   "metadata": {},
   "outputs": [],
   "source": [
    "#| default_exp datasources.mosaico\n",
    "%load_ext autoreload\n",
    "%autoreload 2\n",
    "\n",
    "import sys,os\n",
    "from pathlib import Path"
   ]
  },
  {
   "cell_type": "code",
   "execution_count": null,
   "metadata": {},
   "outputs": [],
   "source": [
    "# Insert in Path Project Directory\n",
    "sys.path.insert(0, str(Path().cwd().parent))\n",
    "os.chdir(Path.cwd().parent / 'extracao')"
   ]
  },
  {
   "cell_type": "markdown",
   "metadata": {},
   "source": [
    "# Mosaico\n",
    "> Módulo para encapsular a extração e processamento comum às bases do Mosaico"
   ]
  },
  {
   "cell_type": "code",
   "execution_count": null,
   "metadata": {},
   "outputs": [],
   "source": [
    "#| export\n",
    "import os\n",
    "\n",
    "import pandas as pd\n",
    "from dotenv import find_dotenv, load_dotenv\n",
    "from fastcore.foundation import GetAttr\n",
    "from tqdm.auto import tqdm\n",
    "\n",
    "from extracao.datasources.connectors import MongoDB\n",
    "from extracao.datasources.base import Base"
   ]
  },
  {
   "cell_type": "code",
   "execution_count": null,
   "metadata": {},
   "outputs": [
    {
     "data": {
      "text/plain": [
       "True"
      ]
     },
     "execution_count": null,
     "metadata": {},
     "output_type": "execute_result"
    }
   ],
   "source": [
    "#| export\n",
    "load_dotenv(find_dotenv())"
   ]
  },
  {
   "cell_type": "code",
   "execution_count": null,
   "metadata": {},
   "outputs": [],
   "source": [
    "#| hide: true\n",
    "#| eval:false\n",
    "__file__ = Path.cwd().parent / 'extracao' / 'datasources.py'"
   ]
  },
  {
   "cell_type": "code",
   "execution_count": null,
   "metadata": {},
   "outputs": [],
   "source": [
    "#| export\n",
    "MONGO_URI: str = os.environ.get(\"MONGO_URI\")"
   ]
  },
  {
   "cell_type": "code",
   "execution_count": null,
   "metadata": {},
   "outputs": [],
   "source": [
    "# | export\n",
    "class Mosaico(Base, GetAttr):\n",
    "    def __init__(self, mongo_uri: str = MONGO_URI):\n",
    "        self.database = \"sms\"\n",
    "        self.default = MongoDB(mongo_uri)\n",
    "\n",
    "    @property\n",
    "    def collection(self):\n",
    "        raise NotImplementedError(\n",
    "            \"Subclasses devem implementar a propriedade 'collection'\"\n",
    "        )\n",
    "\n",
    "    @property\n",
    "    def query(self):\n",
    "        raise NotImplementedError(\"Subclasses devem implementar a propriedade 'query'\")\n",
    "\n",
    "    @property\n",
    "    def projection(self):\n",
    "        raise NotImplementedError(\n",
    "            \"Subclasses devem implementar a propriedade 'projection'\"\n",
    "        )\n",
    "\n",
    "    def _extract(self, collection: str, pipeline: list):\n",
    "        client = self.connect()\n",
    "        database = client[self.database]\n",
    "        collection = database[collection]\n",
    "        df = pd.DataFrame(list(collection.aggregate(pipeline)), dtype=\"string[pyarrow]\")\n",
    "        # Substitui strings vazias e somente com espaços por nulo\n",
    "        return df.replace(r\"^\\s*$\", pd.NA, regex=True)\n",
    "\n",
    "    @staticmethod\n",
    "    def split_designacao(\n",
    "        df: pd.DataFrame,  # DataFrame com coluna original DesignacaoEmissao\n",
    "    ) -> (\n",
    "        pd.DataFrame\n",
    "    ):  # DataFrame com novas colunas Largura_Emissão(kHz) e Classe_Emissão\n",
    "        \"\"\"Parse a bandwidth string\n",
    "        It returns the numerical component and a character class\n",
    "        \"\"\"\n",
    "        df[\"Designação_Emissão\"] = (\n",
    "            df[\"Designação_Emissão\"]\n",
    "            .str.replace(\",\", \" \")\n",
    "            .str.strip()\n",
    "            .str.upper()\n",
    "            .str.split(\" \")\n",
    "        )\n",
    "        df = df.explode(\"Designação_Emissão\")\n",
    "        df = df[df[\"Designação_Emissão\"] != \"/\"]  # Removes empty rows\n",
    "        # Apply the parse_bw function\n",
    "        parsed_data = zip(*df[\"Designação_Emissão\"].apply(Base.parse_bw))\n",
    "        df[\"Largura_Emissão(kHz)\"], df[\"Classe_Emissão\"] = parsed_data\n",
    "        return df.drop(\"Designação_Emissão\", axis=1)"
   ]
  },
  {
   "cell_type": "code",
   "execution_count": null,
   "metadata": {},
   "outputs": [],
   "source": [
    "#| hide\n",
    "from nbdev.doclinks import nbdev_export \n",
    "nbdev_export()"
   ]
  },
  {
   "cell_type": "code",
   "execution_count": null,
   "metadata": {},
   "outputs": [],
   "source": []
  }
 ],
 "metadata": {
  "kernelspec": {
   "display_name": "python3",
   "language": "python",
   "name": "python3"
  }
 },
 "nbformat": 4,
 "nbformat_minor": 4
}
