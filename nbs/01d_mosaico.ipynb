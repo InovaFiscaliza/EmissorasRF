{
 "cells": [
  {
   "cell_type": "code",
   "execution_count": null,
   "metadata": {},
   "outputs": [],
   "source": [
    "#| default_exp datasources.mosaico\n",
    "%load_ext autoreload\n",
    "%autoreload 2\n",
    "\n",
    "import sys,os\n",
    "from pathlib import Path"
   ]
  },
  {
   "cell_type": "code",
   "execution_count": null,
   "metadata": {},
   "outputs": [],
   "source": [
    "# Insert in Path Project Directory\n",
    "sys.path.insert(0, str(Path().cwd().parent))\n",
    "os.chdir(Path.cwd().parent / 'extracao')"
   ]
  },
  {
   "cell_type": "markdown",
   "metadata": {},
   "source": [
    "# Mosaico\n",
    "> Módulo para encapsular a extração e processamento comum às bases do Mosaico"
   ]
  },
  {
   "cell_type": "code",
   "execution_count": null,
   "metadata": {},
   "outputs": [],
   "source": [
    "#| export\n",
    "import os\n",
    "\n",
    "import pandas as pd\n",
    "from dotenv import find_dotenv, load_dotenv\n",
    "from fastcore.foundation import GetAttr\n",
    "from tqdm.auto import tqdm\n",
    "\n",
    "from extracao.datasources.connectors import MongoDB\n",
    "from extracao.datasources.base import Base"
   ]
  },
  {
   "cell_type": "code",
   "execution_count": null,
   "metadata": {},
   "outputs": [
    {
     "data": {
      "text/plain": [
       "True"
      ]
     },
     "execution_count": null,
     "metadata": {},
     "output_type": "execute_result"
    }
   ],
   "source": [
    "#| export\n",
    "load_dotenv(find_dotenv())"
   ]
  },
  {
   "cell_type": "code",
   "execution_count": null,
   "metadata": {},
   "outputs": [],
   "source": [
    "#| hide: true\n",
    "#| eval:false\n",
    "__file__ = Path.cwd().parent / 'extracao' / 'datasources.py'"
   ]
  },
  {
   "cell_type": "code",
   "execution_count": null,
   "metadata": {},
   "outputs": [],
   "source": [
    "#| export\n",
    "MONGO_URI: str = os.environ.get('MONGO_URI')\n"
   ]
  },
  {
   "cell_type": "code",
   "execution_count": null,
   "metadata": {},
   "outputs": [],
   "source": [
    "# | export\n",
    "class Mosaico(Base, GetAttr):\n",
    "\tdef __init__(self, mongo_uri: str = MONGO_URI):\n",
    "\t\tself.database = 'sms'\n",
    "\t\tself.default = MongoDB(mongo_uri)\n",
    "\n",
    "\t@property\n",
    "\tdef collection(self):\n",
    "\t\traise NotImplementedError(\"Subclasses devem implementar a propriedade 'collection'\")\n",
    "\n",
    "\t@property\n",
    "\tdef query(self):\n",
    "\t\traise NotImplementedError(\"Subclasses devem implementar a propriedade 'query'\")\n",
    "\n",
    "\t@property\n",
    "\tdef projection(self):\n",
    "\t\traise NotImplementedError(\"Subclasses devem implementar a propriedade 'projection'\")\n",
    "\n",
    "\tdef _extract(self, collection: str, pipeline: list):\n",
    "\t\tclient = self.connect()\n",
    "\t\tdatabase = client[self.database]\n",
    "\t\tcollection = database[collection]\n",
    "\t\tdtype = 'string[pyarrow]' if self.stem == 'srd' else 'category'\n",
    "\t\tdf = pd.DataFrame(list(collection.aggregate(pipeline)), copy=False, dtype=dtype)\n",
    "\t\t# Substitui strings vazias e somente com espaços por nulo\n",
    "\t\treturn df.replace(r'^\\s*$', pd.NA, regex=True)\n",
    "\n",
    "\tdef split_designacao(\n",
    "\t\tself,\n",
    "\t\tdf: pd.DataFrame,  # DataFrame com coluna original DesignacaoEmissao\n",
    "\t) -> pd.DataFrame:  # DataFrame com novas colunas Largura_Emissão(kHz) e Classe_Emissão\n",
    "\t\t\"\"\"Parse a bandwidth string\n",
    "\t\tIt returns the numerical component and a character class\n",
    "\t\t\"\"\"\n",
    "\t\tdf['Designação_Emissão'] = (\n",
    "\t\t\tdf['Designação_Emissão'].str.replace(',', ' ').str.strip().str.upper().str.split(' ')\n",
    "\t\t)\n",
    "\t\tdf = df.explode('Designação_Emissão').reset_index(drop=True)\n",
    "\t\texploded_rows = df['Designação_Emissão'].apply(lambda x: isinstance(x, list))\n",
    "\t\tlog = \"\"\"[(\"Colunas\", \"Designação_Emissão\"]),\n",
    "\t\t          (\"Processamento\", \"Registro expandido nos componentes individuais e extraídas Largura e Classe\")]\"\"\"\n",
    "\t\tdf = self.register_log(df, log, exploded_rows)\n",
    "\t\tdf = df[df['Designação_Emissão'] != '/']  # Removes empty rows\n",
    "\t\t# Apply the parse_bw function\n",
    "\t\tparsed_data = zip(*df['Designação_Emissão'].apply(Base.parse_bw))\n",
    "\t\tdf['Largura_Emissão(kHz)'], df['Classe_Emissão'] = parsed_data\n",
    "\t\treturn df.drop('Designação_Emissão', axis=1)"
   ]
  },
  {
   "cell_type": "code",
   "execution_count": null,
   "metadata": {},
   "outputs": [],
   "source": [
    "#| hide\n",
    "from nbdev.doclinks import nbdev_export \n",
    "nbdev_export()"
   ]
  },
  {
   "cell_type": "code",
   "execution_count": null,
   "metadata": {},
   "outputs": [],
   "source": []
  }
 ],
 "metadata": {
  "kernelspec": {
   "display_name": "python3",
   "language": "python",
   "name": "python3"
  }
 },
 "nbformat": 4,
 "nbformat_minor": 4
}
