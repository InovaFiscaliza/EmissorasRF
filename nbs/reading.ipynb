{
 "cells": [
  {
   "cell_type": "code",
   "execution_count": null,
   "metadata": {},
   "outputs": [],
   "source": [
    "#| default_exp reading\n",
    "%load_ext autoreload\n",
    "%autoreload 2\n",
    "\n",
    "import sys\n",
    "from fastcore.xtras import Path\n",
    "# Insert in Path Project Directory\n",
    "sys.path.insert(0, str(Path().cwd().parent))"
   ]
  },
  {
   "attachments": {},
   "cell_type": "markdown",
   "metadata": {},
   "source": [
    "# Leitura\n",
    "> Este módulo concentra funções para a leitura dos diversos arquivos que compõe a base de dados\n",
    "\n",
    "* `STEL` - Serviços Privados de Telecomunicações\n",
    "* `RADCOM` - Serviço de Radiodifusão Comunitária\n",
    "* `MOSAICO` - Demais serviços de Radiodifusão, e.g. TV, RTV, FM, AM, etc.\n",
    "* `AERONAUTICA` - Consolidação de diversas bases de dados públicas da aeronáutica "
   ]
  },
  {
   "cell_type": "code",
   "execution_count": null,
   "metadata": {},
   "outputs": [
    {
     "data": {
      "text/plain": [
       "True"
      ]
     },
     "execution_count": null,
     "metadata": {},
     "output_type": "execute_result"
    }
   ],
   "source": [
    "#| export\n",
    "import os\n",
    "from typing import Union\n",
    "from pathlib import Path\n",
    "\n",
    "import pandas as pd\n",
    "import pyodbc\n",
    "from pymongo import MongoClient\n",
    "from dotenv import load_dotenv, find_dotenv\n",
    "\n",
    "from extracao.updates import (\n",
    "    update_srd,\n",
    "    update_stel,\n",
    "    update_radcom,\n",
    "    update_base,\n",
    "    update_telecom,\n",
    "    update_aero,\n",
    ")\n",
    "\n",
    "from extracao.icao import get_icao\n",
    "from extracao.aisgeo import get_aisg\n",
    "from extracao.aisweb import get_aisw\n",
    "from extracao.redemet import get_redemet\n",
    "from extracao.format import _read_df\n",
    "\n",
    "load_dotenv(find_dotenv())"
   ]
  },
  {
   "attachments": {},
   "cell_type": "markdown",
   "metadata": {},
   "source": [
    "## MOSAICO\n",
    "> O mosaico atualmente é composto por 2 bases complementares originárias de um banco `MongoDB`: \n",
    "\n",
    "-  `Estações`\n",
    "- `Plano Básico`"
   ]
  },
  {
   "cell_type": "code",
   "execution_count": null,
   "metadata": {},
   "outputs": [],
   "source": [
    "#| export\n",
    "def read_srd(\n",
    "    folder: Union[str, Path],  # Pasta onde ler/salvar os dados\n",
    "    conn: MongoClient = None,  # Objeto de Conexão com o banco MongoDB, atualiza os dados caso válido\n",
    ") -> pd.DataFrame:  # Dataframe com os dados do mosaico\n",
    "    \"\"\"Lê o banco de dados salvo localmente do MOSAICO e opcionalmente o atualiza.\"\"\"\n",
    "    return update_srd(conn, folder) if conn else _read_df(folder, \"srd\")\n"
   ]
  },
  {
   "cell_type": "code",
   "execution_count": null,
   "metadata": {},
   "outputs": [],
   "source": [
    "folder = Path.cwd().parent / 'dados'"
   ]
  },
  {
   "cell_type": "code",
   "execution_count": null,
   "metadata": {},
   "outputs": [],
   "source": [
    "from extracao.constants import MIN_LAT, MAX_LAT, MIN_LONG, MAX_LONG\n",
    "# from pandas_profiling import ProfileReport"
   ]
  },
  {
   "cell_type": "code",
   "execution_count": null,
   "metadata": {},
   "outputs": [],
   "source": [
    "mosaico = read_srd(folder)"
   ]
  },
  {
   "cell_type": "code",
   "execution_count": null,
   "metadata": {},
   "outputs": [
    {
     "name": "stdout",
     "output_type": "stream",
     "text": [
      "<class 'pandas.core.frame.DataFrame'>\n",
      "RangeIndex: 30849 entries, 0 to 30848\n",
      "Data columns (total 17 columns):\n",
      " #   Column                Non-Null Count  Dtype \n",
      "---  ------                --------------  ----- \n",
      " 0   Frequência            30849 non-null  string\n",
      " 1   Entidade              30845 non-null  string\n",
      " 2   Fistel                30849 non-null  string\n",
      " 3   Número_Estação        27348 non-null  string\n",
      " 4   Município             30849 non-null  string\n",
      " 5   Código_Município      30849 non-null  string\n",
      " 6   UF                    30849 non-null  string\n",
      " 7   Latitude              15043 non-null  string\n",
      " 8   Longitude             15043 non-null  string\n",
      " 9   Classe                30840 non-null  string\n",
      " 10  Num_Serviço           30849 non-null  string\n",
      " 11  Classe_Emissão        0 non-null      string\n",
      " 12  Largura_Emissão(kHz)  30849 non-null  string\n",
      " 13  Validade_RF           28727 non-null  string\n",
      " 14  Status                30849 non-null  string\n",
      " 15  Fonte                 30849 non-null  string\n",
      " 16  Multiplicidade        30849 non-null  string\n",
      "dtypes: string(17)\n",
      "memory usage: 4.0 MB\n"
     ]
    }
   ],
   "source": [
    "mosaico.info()"
   ]
  },
  {
   "cell_type": "code",
   "execution_count": null,
   "metadata": {},
   "outputs": [],
   "source": [
    "for c in ['Latitude', 'Longitude']:\n",
    "    mosaico[c] = mosaico[c].astype('float')"
   ]
  },
  {
   "cell_type": "code",
   "execution_count": null,
   "metadata": {},
   "outputs": [],
   "source": [
    "# mos_bad_coords = mosaico[~(mosaico.Latitude.between(MIN_LAT, MAX_LAT) | mosaico.Longitude.between(MIN_LONG, MAX_LONG))]\n",
    "# mos_bad_coords"
   ]
  },
  {
   "cell_type": "code",
   "execution_count": null,
   "metadata": {},
   "outputs": [],
   "source": [
    "# print(f\"A base de radiodifusão do Mosaico possui {len(mos_bad_coords)} registros de coordenadas inválidas do total de {len(mosaico)}\")"
   ]
  },
  {
   "cell_type": "code",
   "execution_count": null,
   "metadata": {},
   "outputs": [],
   "source": [
    "# mosaico['Frequência'] = mosaico['Frequência'].astype('category')\n",
    "# mosaico_profile = ProfileReport(mosaico, config_file='report_config.yaml', title='MOSAICO')\n",
    "# mosaico_profile.to_notebook_iframe()"
   ]
  },
  {
   "attachments": {},
   "cell_type": "markdown",
   "metadata": {},
   "source": [
    "## LICENCIAMENTO\n",
    "> A Base licenciamento é composta de serviços privados de telecomunicações, tanto antigos migrados do STEL como novos para um novo banco de dados `MongoDB`"
   ]
  },
  {
   "cell_type": "code",
   "execution_count": null,
   "metadata": {},
   "outputs": [],
   "source": [
    "#| export\n",
    "def read_telecom(\n",
    "    folder: Union[str, Path],  # Pasta onde ler/salvar os dados\n",
    "    conn: MongoClient = None,  # Objeto de Conexão com o banco MongoDB, atualiza os dados caso válido\n",
    ") -> pd.DataFrame:  # Dataframe com os dados do mosaico\n",
    "    \"\"\"Lê o banco de dados salvo localmente do LICENCIAMENTO e opcionalmente o atualiza.\"\"\"\n",
    "    return update_telecom(conn, folder) if conn else _read_df(folder, \"telecom\")\n"
   ]
  },
  {
   "cell_type": "code",
   "execution_count": null,
   "metadata": {},
   "outputs": [],
   "source": [
    "#|eval: false\n",
    "#|code_fold: true\n",
    "telecom = read_telecom(folder)"
   ]
  },
  {
   "cell_type": "code",
   "execution_count": null,
   "metadata": {},
   "outputs": [],
   "source": [
    "#|eval: false\n",
    "for c in ['Latitude', 'Longitude']:\n",
    "    telecom[c] = telecom[c].astype('float')"
   ]
  },
  {
   "cell_type": "code",
   "execution_count": null,
   "metadata": {},
   "outputs": [],
   "source": [
    "#| eval: false\n",
    "# telecom[~(telecom.Latitude.between(MIN_LAT, MAX_LAT) | telecom.Longitude.between(MIN_LONG, MAX_LONG))]"
   ]
  },
  {
   "cell_type": "code",
   "execution_count": null,
   "metadata": {},
   "outputs": [],
   "source": [
    "#| eval: false\n",
    "# telecom['Frequência'] = telecom['Frequência'].astype('category')\n",
    "# telecom_profile = ProfileReport(telecom, config_file='report_config.yaml', title='Telecomunicações')\n",
    "# telecom_profile.to_notebook_iframe()"
   ]
  },
  {
   "attachments": {},
   "cell_type": "markdown",
   "metadata": {},
   "source": [
    "##  RADCOM"
   ]
  },
  {
   "cell_type": "code",
   "execution_count": null,
   "metadata": {},
   "outputs": [],
   "source": [
    "#| export\n",
    "def read_radcom(\n",
    "    folder: Union[str, Path],  # Pasta onde ler/salvar os dados\n",
    "    conn: pyodbc.Connection = None,  # Objeto de conexão de banco, atualiza os dados caso válido\n",
    ") -> pd.DataFrame:  # Dataframe com os dados de RADCOM\n",
    "    \"\"\"Lê o banco de dados salvo localmente de RADCOM. Opcionalmente o atualiza pelo Banco de Dados ANATELBDRO05 caso `update = True` ou não exista o arquivo local\"\"\"\n",
    "    return update_radcom(conn, folder) if conn else _read_df(folder, \"radcom\")\n"
   ]
  },
  {
   "cell_type": "code",
   "execution_count": null,
   "metadata": {},
   "outputs": [],
   "source": [
    "#|eval: false\n",
    "#|code_fold: true\n",
    "radcom = read_radcom(folder)\n",
    "# radcom['Frequência'] = radcom['Frequência'].astype('category')\n",
    "# radcom_profile = ProfileReport(radcom, config_file='report_config.yaml', title='RADCOM')\n",
    "# radcom_profile.to_notebook_iframe()"
   ]
  },
  {
   "attachments": {},
   "cell_type": "markdown",
   "metadata": {},
   "source": [
    "## STEL"
   ]
  },
  {
   "cell_type": "code",
   "execution_count": null,
   "metadata": {},
   "outputs": [],
   "source": [
    "#| export\n",
    "def read_stel(\n",
    "    folder: Union[str, Path],  # Pasta onde ler/salvar os dados\n",
    "    conn: pyodbc.Connection = None,  # Objeto de conexão de banco. Atualiza os dados caso válido\n",
    ") -> pd.DataFrame:  # Dataframe com os dados do STEL\n",
    "    \"\"\"Lê o banco de dados salvo localmente do STEL.\n",
    "     Opcionalmente o atualiza pelo Banco de Dados ANATELBDRO05\n",
    "    caso `update = True` ou não exista o arquivo local\"\"\"\n",
    "    return update_stel(conn, folder) if conn else _read_df(folder, \"stel\")\n"
   ]
  },
  {
   "cell_type": "code",
   "execution_count": null,
   "metadata": {},
   "outputs": [],
   "source": [
    "#|eval: false\n",
    "#|code_fold: true\n",
    "stel = read_stel(folder)\n",
    "# stel['Frequência'] = stel['Frequência'].astype('category')\n",
    "# stel_profile = ProfileReport(stel, config_file='report_config.yaml', title='STEL')\n",
    "# stel_profile.to_notebook_iframe()"
   ]
  },
  {
   "cell_type": "code",
   "execution_count": null,
   "metadata": {},
   "outputs": [],
   "source": [
    "from extracao.constants import SQL_VALIDA_COORD"
   ]
  },
  {
   "cell_type": "code",
   "execution_count": null,
   "metadata": {},
   "outputs": [],
   "source": [
    "def valida_coords(\n",
    "    conn: pyodbc.Connection,  # Objeto de conexão de banco\n",
    "    row: pd.Series,  # Linha de um DataFrame\n",
    ") -> tuple:  # DataFrame com dados do município\n",
    "    \"\"\"Valida os dados de coordenadas e município em `row` no polígono dos municípios em banco corporativo\"\"\"\n",
    "    \n",
    "    sql = SQL_VALIDA_COORD.format(\n",
    "        row.Longitude, row.Latitude, row.Código_Município\n",
    "    )\n",
    "    crsr = conn.cursor()\n",
    "    crsr.execute(sql)\n",
    "    result = crsr.fetchone()\n",
    "    if result is None:\n",
    "        return (row.Código_Município, row.Longitude, row.Latitude, -1)\n",
    "    elif result.COORD_VALIDA == 1:\n",
    "        return result\n",
    "    else:\n",
    "        return (\n",
    "            result.NO_MUNICIPIO,\n",
    "            result.NU_LONGITUDE,\n",
    "            result.NU_LATITUDE,\n",
    "            result.COORD_VALIDA,\n",
    "        )"
   ]
  },
  {
   "attachments": {},
   "cell_type": "markdown",
   "metadata": {},
   "source": [
    "## Bases Externas da Aeronáutica"
   ]
  },
  {
   "cell_type": "code",
   "execution_count": null,
   "metadata": {},
   "outputs": [],
   "source": [
    "#| export\n",
    "def read_icao(\n",
    "    folder: Union[str, Path],  # Pasta onde ler/salvar os dados\n",
    "    update: bool = False,  # Atualiza os dados caso `True`\n",
    ") -> pd.DataFrame:  # Dataframe com os dados do ICAO\n",
    "    \"\"\"Lê a base de dados do Frequency Finder e Canalização VOR/ILS/DME\"\"\"\n",
    "    return get_icao if update else _read_df(folder, \"icao\")\n"
   ]
  },
  {
   "cell_type": "code",
   "execution_count": null,
   "metadata": {},
   "outputs": [],
   "source": [
    "#| export\n",
    "def read_aisw(\n",
    "    folder: Union[str, Path],  # Pasta onde ler/salvar os dados\n",
    "    update: bool = False,  # Atualiza os dados caso `True`\n",
    ") -> pd.DataFrame:  # Dataframe com os dados do AISWEB\n",
    "    \"\"\"Fontes da informação: AISWEB, REDEMET, Ofício nº 2/SSARP/14410 e Canalização VOR/ILS/DME.\"\"\"\n",
    "    return get_aisw() if update else _read_df(folder, \"aisw\")\n"
   ]
  },
  {
   "cell_type": "code",
   "execution_count": null,
   "metadata": {},
   "outputs": [],
   "source": [
    "#| export\n",
    "def read_aisg(\n",
    "    folder: Union[str, Path],  # Pasta onde ler/salvar os dados\n",
    "    update: bool = False,  # Atualiza os dados caso `True`\n",
    ") -> pd.DataFrame:  # Dataframe com os dados do GEOAISWEB\n",
    "    \"\"\"Fontes da informação: GEOAISWEB, REDEMET, Ofício nº 2/SSARP/14410 e Canalização VOR/ILS/DME.\"\"\"\n",
    "    return get_aisg() if update else _read_df(folder, \"aisg\")\n"
   ]
  },
  {
   "cell_type": "code",
   "execution_count": null,
   "metadata": {},
   "outputs": [],
   "source": [
    "#| export\n",
    "def read_redemet(\n",
    "    folder: Union[str, Path],  # Pasta onde ler/salvar os dados\n",
    "    update: bool = False,  # Atualiza os dados caso `True`\n",
    ") -> pd.DataFrame:  # Dataframe com os dados do AISWEB\n",
    "    \"\"\"Fontes da informação: AISWEB, REDEMET, Ofício nº 2/SSARP/14410 e Canalização VOR/ILS/DME.\"\"\"\n",
    "    return get_redemet() if update else _read_df(folder, \"redemet\")\n"
   ]
  },
  {
   "cell_type": "code",
   "execution_count": null,
   "metadata": {},
   "outputs": [],
   "source": [
    "#| export\n",
    "def read_aero(\n",
    "    folder: Union[str, Path],  # Pasta onde ler/salvar os dados\n",
    "    update: bool = False,  # Atualiza os dados caso `True`\n",
    ") -> pd.DataFrame:  # Dataframe com os dados mesclados das 3 bases da Aeronáutica anteriores\n",
    "    \"\"\"Lê os arquivos de dados da aeronáutica e retorna os registros comuns e únicos\"\"\"\n",
    "    return update_aero(folder) if update else _read_df(folder, \"aero\")\n"
   ]
  },
  {
   "cell_type": "code",
   "execution_count": null,
   "metadata": {},
   "outputs": [],
   "source": [
    "#| eval: false\n",
    "aero = read_aero(folder)\n",
    "# aero['Frequency'] = aero['Frequency'].astype('category')\n",
    "# aero_profile = ProfileReport(aero, config_file='report_config.yaml', title='AERONAUTICA')\n",
    "# aero_profile.to_notebook_iframe()"
   ]
  },
  {
   "attachments": {},
   "cell_type": "markdown",
   "metadata": {},
   "source": [
    "## Base Consolidada"
   ]
  },
  {
   "cell_type": "code",
   "execution_count": null,
   "metadata": {},
   "outputs": [],
   "source": [
    "#| export\n",
    "def read_base(\n",
    "    folder: Union[str, Path],\n",
    "    conn: pyodbc.Connection = None,  # Objeto de conexão do banco SQL Server\n",
    "    clientMongoDB: MongoClient = None,  # Objeto de conexão do banco MongoDB\n",
    ") -> pd.DataFrame:\n",
    "    \"\"\"Lê a base de dados e opcionalmente a atualiza antes da leitura casos as conexões de banco sejam válidas\"\"\"\n",
    "    return (\n",
    "        update_base(conn, clientMongoDB, folder)\n",
    "        if all([conn, clientMongoDB])\n",
    "        else _read_df(folder, \"base\")\n",
    "    )"
   ]
  },
  {
   "cell_type": "code",
   "execution_count": null,
   "metadata": {},
   "outputs": [],
   "source": [
    "#|eval: false\n",
    "#|code_fold: true\n",
    "base = read_base(folder)\n",
    "# base['Frequência'] = base['Frequência'].astype('category')\n",
    "# base_profile = ProfileReport(base, config_file='report_config.yaml', title='Base Consolidada')\n",
    "# base_profile.to_notebook_iframe()"
   ]
  }
 ],
 "metadata": {
  "kernelspec": {
   "display_name": "Python 3 (ipykernel)",
   "language": "python",
   "name": "python3"
  }
 },
 "nbformat": 4,
 "nbformat_minor": 2
}
