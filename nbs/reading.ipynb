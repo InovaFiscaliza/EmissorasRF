{
 "cells": [
  {
   "cell_type": "code",
   "execution_count": 1,
   "metadata": {},
   "outputs": [],
   "source": [
    "#| default_exp reading\n",
    "%load_ext autoreload\n",
    "%autoreload 2\n",
    "\n",
    "import sys\n",
    "from fastcore.xtras import Path\n",
    "# Insert in Path Project Directory\n",
    "sys.path.insert(0, str(Path().cwd().parent))"
   ]
  },
  {
   "cell_type": "markdown",
   "metadata": {},
   "source": [
    "# Leitura\n",
    "> Este módulo concentra funções para a leitura dos diversos arquivos que compõe a base de dados\n",
    "\n",
    "* `STEL` - Serviços Privados de Telecomunicações\n",
    "* `RADCOM` - Serviço de Radiodifusão Comunitária\n",
    "* `MOSAICO` - Demais serviços de Radiodifusão, e.g. TV, RTV, FM, AM, etc.\n",
    "* `AERONAUTICA` - Consolidação de diversas bases de dados públicas da aeronáutica "
   ]
  },
  {
   "cell_type": "code",
   "execution_count": 1,
   "metadata": {},
   "outputs": [],
   "source": [
    "#| export\n",
    "from typing import Union, Tuple\n",
    "from pathlib import Path\n",
    "\n",
    "import pandas as pd\n",
    "from pyarrow import ArrowInvalid\n",
    "import pyodbc\n",
    "from pymongo import MongoClient\n",
    "\n",
    "from anateldb.updates import (\n",
    "update_mosaico, update_stel, update_radcom, update_base\n",
    ")"
   ]
  },
  {
   "cell_type": "code",
   "execution_count": 3,
   "metadata": {},
   "outputs": [],
   "source": [
    "#| export\n",
    "def _read_df(folder: Union[str, Path], stem: str) -> pd.DataFrame:\n",
    "    \"\"\"Lê o dataframe formado por folder / stem.[parquet.gzip | fth | xslx]\"\"\"\n",
    "    file = Path(f\"{folder}/{stem}.parquet.gzip\")\n",
    "    try:\n",
    "        df = pd.read_parquet(file)\n",
    "    except (ArrowInvalid, FileNotFoundError):\n",
    "        file = Path(f\"{folder}/{stem}.fth\")\n",
    "        try:\n",
    "            df = pd.read_feather(file)\n",
    "        except (ArrowInvalid, FileNotFoundError):\n",
    "            file = Path(f\"{folder}/{stem}.xlsx\")\n",
    "            try:\n",
    "                df = pd.read_excel(file, engine=\"openpyxl\", sheet_name=\"DataBase\")\n",
    "            except Exception as e:\n",
    "                raise ValueError(f\"Error when reading {file}\") from e\n",
    "    return df"
   ]
  },
  {
   "cell_type": "markdown",
   "metadata": {},
   "source": [
    "## MOSAICO\n",
    "> O mosaico atualmente é composto por 2 bases complementares originárias de um banco `MongoDB`: \n",
    "\n",
    "-  `Estações`\n",
    "- `Plano Básico`"
   ]
  },
  {
   "cell_type": "code",
   "execution_count": 4,
   "metadata": {},
   "outputs": [],
   "source": [
    "#| export\n",
    "def read_mosaico(folder: Union[str, Path], # Pasta onde ler/salvar os dados\n",
    "                 update: bool = False, # Atualiza os dados caso `True`\n",
    ") -> pd.DataFrame: # Dataframe com os dados do mosaico\n",
    "    \"\"\"Lê o banco de dados salvo localmente do MOSAICO e opcionalmente o atualiza.\"\"\"\n",
    "    return update_mosaico(folder) if update else _read_df(folder, \"mosaico\")"
   ]
  },
  {
   "cell_type": "code",
   "execution_count": 5,
   "metadata": {},
   "outputs": [],
   "source": [
    "#| hide\n",
    "folder = Path.cwd().parent / 'dados'"
   ]
  },
  {
   "cell_type": "code",
   "execution_count": 6,
   "metadata": {},
   "outputs": [],
   "source": [
    "#|echo: false\n",
    "# from pandas_profiling import ProfileReport\n",
    "# mosaico = read_mosaico(folder)\n",
    "# mosaico['Frequência'] = mosaico['Frequência'].astype('category')\n",
    "# mosaico_profile = ProfileReport(mosaico, config_file='report_config.yaml', title='MOSAICO')\n",
    "# mosaico_profile.to_notebook_iframe()"
   ]
  },
  {
   "cell_type": "markdown",
   "metadata": {},
   "source": [
    "##  RADCOM"
   ]
  },
  {
   "cell_type": "code",
   "execution_count": 7,
   "metadata": {},
   "outputs": [],
   "source": [
    "#| export\n",
    "def read_radcom(\n",
    "    conn: pyodbc.Connection, # Objeto de conexão de banco\n",
    "    folder: Union[str, Path], # Pasta onde ler/salvar os dados\n",
    "    update: bool = False # Atualiza os dados caso `True`\n",
    "                \n",
    ") -> pd.DataFrame: # Dataframe com os dados de RADCOM\n",
    "    \"\"\"Lê o banco de dados salvo localmente de RADCOM. Opcionalmente o atualiza pelo Banco de Dados ANATELBDRO05 caso `update = True` ou não exista o arquivo local\"\"\"\n",
    "    return update_radcom(folder) if update else _read_df(folder, \"radcom\")"
   ]
  },
  {
   "cell_type": "code",
   "execution_count": 8,
   "metadata": {},
   "outputs": [],
   "source": [
    "#|echo: false\n",
    "# radcom = read_radcom(folder)\n",
    "# radcom['Frequência'] = radcom['Frequência'].astype('category')\n",
    "# radcom_profile = ProfileReport(radcom, config_file='report_config.yaml', title='RADCOM')\n",
    "# radcom_profile.to_notebook_iframe()"
   ]
  },
  {
   "cell_type": "markdown",
   "metadata": {},
   "source": [
    "## STEL"
   ]
  },
  {
   "cell_type": "code",
   "execution_count": 9,
   "metadata": {},
   "outputs": [],
   "source": [
    "#| export\n",
    "def read_stel(\n",
    "  conn: pyodbc.Connection, # Objeto de conexão de banco\n",
    "  folder: Union[str, Path], # Pasta onde ler/salvar os dados\n",
    "  update: bool = False # Atualiza os dados caso `True`\n",
    "              \n",
    ") -> pd.DataFrame: # Dataframe com os dados do STEL\n",
    "    \"\"\"Lê o banco de dados salvo localmente do STEL. \n",
    "       Opcionalmente o atualiza pelo Banco de Dados ANATELBDRO05\n",
    "      caso `update = True` ou não exista o arquivo local\"\"\"\n",
    "    return update_stel(folder) if update else _read_df(folder, \"stel\")"
   ]
  },
  {
   "cell_type": "code",
   "execution_count": 10,
   "metadata": {},
   "outputs": [],
   "source": [
    "#|echo: false\n",
    "# stel = read_stel(folder)\n",
    "# stel['Frequência'] = stel['Frequência'].astype('category')\n",
    "# stel_profile = ProfileReport(stel, config_file='report_config.yaml', title='STEL')\n",
    "# stel_profile.to_notebook_iframe()"
   ]
  },
  {
   "cell_type": "markdown",
   "metadata": {},
   "source": [
    "## Bases Externas da Aeronáutica"
   ]
  },
  {
   "cell_type": "code",
   "execution_count": 11,
   "metadata": {},
   "outputs": [],
   "source": [
    "#| export\n",
    "def read_icao(folder: Union[str, Path], # Pasta onde ler/salvar os dados\n",
    "              update: bool = False, # Atualiza os dados caso `True`\n",
    ") -> pd.DataFrame: # Dataframe com os dados do ICAO\n",
    "    \"\"\"Lê a base de dados do Frequency Finder e Canalização VOR/ILS/DME\"\"\"\n",
    "    if update:\n",
    "        # TODO: atualizar a base de dados do Frequency Finder e Canalização VOR/ILS/DME\n",
    "        # update_icao(folder)\n",
    "        raise NotImplementedError(\n",
    "            \"Atualizar da base de dados do Frequency Finder e Canalização VOR/ILS/DME não implementado\"\n",
    "        )\n",
    "    return _read_df(folder, \"icao\")\n"
   ]
  },
  {
   "cell_type": "code",
   "execution_count": 12,
   "metadata": {},
   "outputs": [],
   "source": [
    "#| echo: false\n",
    "# icao = read_icao(folder)\n",
    "# icao['Frequency'] = icao['Frequency'].astype('category')\n",
    "# icao_profile = ProfileReport(icao, config_file='report_config.yaml', title='ICAO')\n",
    "# icao_profile.to_notebook_iframe()"
   ]
  },
  {
   "cell_type": "code",
   "execution_count": 13,
   "metadata": {},
   "outputs": [],
   "source": [
    "#| export\n",
    "def read_aisw(folder: Union[str, Path], # Pasta onde ler/salvar os dados\n",
    "              update: bool = False, # Atualiza os dados caso `True`\n",
    ") -> pd.DataFrame: # Dataframe com os dados do AISWEB\n",
    "    \"\"\"Fontes da informação: AISWEB, REDEMET, Ofício nº 2/SSARP/14410 e Canalização VOR/ILS/DME.\"\"\"\n",
    "    if update:\n",
    "        # TODO: Atualizar a base de dados do AISWEB, REDEMET, Ofício nº 2/SSARP/14410 e Canalização VOR/ILS/DME\n",
    "        # update_pmec(folder)\n",
    "        raise NotImplementedError(\n",
    "            \"Atualizar da base de dados do Frequency Finder e Canalização VOR/ILS/DME não implementado\"\n",
    "        )\n",
    "    return _read_df(folder, \"aisw\")\n",
    "\n"
   ]
  },
  {
   "cell_type": "code",
   "execution_count": 14,
   "metadata": {},
   "outputs": [],
   "source": [
    "#| echo: false\n",
    "# aisw = read_aisw(folder)\n",
    "# aisw['Frequency'] = aisw['Frequency'].astype('category')\n",
    "# aisw_profile = ProfileReport(aisw, config_file='report_config.yaml', title='AISWEB')\n",
    "# aisw_profile.to_notebook_iframe()"
   ]
  },
  {
   "cell_type": "code",
   "execution_count": 15,
   "metadata": {},
   "outputs": [],
   "source": [
    "#| export\n",
    "def read_aisg(folder: Union[str, Path], # Pasta onde ler/salvar os dados\n",
    "update: bool = False, # Atualiza os dados caso `True`\n",
    ") -> pd.DataFrame: # Dataframe com os dados do GEOAISWEB\n",
    "    \"\"\"Fontes da informação: GEOAISWEB, REDEMET, Ofício nº 2/SSARP/14410 e Canalização VOR/ILS/DME.\"\"\"\n",
    "    if update:\n",
    "        # TODO: Atualizar a base de dados do GEOAISWEB\n",
    "        # update_geo(folder)\n",
    "        raise NotImplementedError(\n",
    "            \"Atualizar da base de dados do Frequency Finder e Canalização VOR/ILS/DME não implementado\"\n",
    "        )\n",
    "    return _read_df(folder, \"aisg\")"
   ]
  },
  {
   "cell_type": "code",
   "execution_count": 16,
   "metadata": {},
   "outputs": [],
   "source": [
    "#| echo: false\n",
    "# aisg = read_aisg(folder)\n",
    "# aisg['Frequency'] = aisg['Frequency'].astype('category')\n",
    "# aisg_profile = ProfileReport(aisg, config_file='report_config.yaml', title='GEOAISWEB')\n",
    "# aisg_profile.to_notebook_iframe()"
   ]
  },
  {
   "cell_type": "code",
   "execution_count": 17,
   "metadata": {},
   "outputs": [],
   "source": [
    "#| export\n",
    "def read_aero(\n",
    "    folder: Union[str, Path], # Pasta onde ler/salvar os dados\n",
    "update: bool = False, # Atualiza os dados caso `True`\n",
    ") -> pd.DataFrame: # Dataframe com os dados mesclados das 3 bases da Aeronáutica anteriores\n",
    "    \"\"\"Lê os arquivos de dados da aeronáutica e retorna os registros comuns e únicos\"\"\"\n",
    "    if update:\n",
    "        # TODO: Atualizar a base de dados do GEOAISWEB\n",
    "        # update_geo(folder)\n",
    "        raise NotImplementedError(\n",
    "            \"Atualização programática das bases de Dados da Aeronáutica não implementada\"\n",
    "        )\n",
    "    \n",
    "    return _read_df(folder, \"aero\")"
   ]
  },
  {
   "cell_type": "code",
   "execution_count": 18,
   "metadata": {},
   "outputs": [],
   "source": [
    "#| echo: false\n",
    "# from pandas_profiling import ProfileReport\n",
    "# aero= read_aero(folder)\n",
    "# aero['Frequency'] = aero['Frequency'].astype('category')\n",
    "# aero_profile = ProfileReport(aero, config_file='report_config.yaml', title='AERONAUTICA')\n",
    "# aero_profile.to_notebook_iframe()"
   ]
  },
  {
   "cell_type": "markdown",
   "metadata": {},
   "source": [
    "## Base Consolidada"
   ]
  },
  {
   "cell_type": "code",
   "execution_count": 2,
   "metadata": {},
   "outputs": [],
   "source": [
    "#| export\n",
    "def read_base(\n",
    "    conn: pyodbc.Connection, # Objeto de conexão de banco\n",
    "    clientMongoDB: MongoClient, # Ojeto de conexão com o MongoDB\n",
    "    folder: Union[str, Path], \n",
    "    update: bool = False\n",
    ") -> pd.DataFrame:\n",
    "    \"\"\"Lê a base de dados e opcionalmente a atualiza antes da leitura\"\"\"\n",
    "    return update_base(conn, clientMongoDB, folder) if update else _read_df(folder, \"base\")"
   ]
  },
  {
   "cell_type": "code",
   "execution_count": 20,
   "metadata": {},
   "outputs": [],
   "source": [
    "#| echo: false\n",
    "# from pandas_profiling import ProfileReport\n",
    "# base = read_base(folder)\n",
    "# base['Frequência'] = base['Frequência'].astype('category')\n",
    "# base_profile = ProfileReport(base, config_file='report_config.yaml', title='Base Consolidada')\n",
    "# base_profile.to_notebook_iframe()"
   ]
  }
 ],
 "metadata": {
  "kernelspec": {
   "display_name": "Python 3.10.6 ('dev_sentinela-py')",
   "language": "python",
   "name": "python3"
  },
  "language_info": {
   "codemirror_mode": {
    "name": "ipython",
    "version": 3
   },
   "file_extension": ".py",
   "mimetype": "text/x-python",
   "name": "python",
   "nbconvert_exporter": "python",
   "pygments_lexer": "ipython3",
   "version": "3.10.6"
  },
  "vscode": {
   "interpreter": {
    "hash": "1a086758cf6c89337e2c0656f3018eded84605fd3e95eb12984252ff20bc350a"
   }
  }
 },
 "nbformat": 4,
 "nbformat_minor": 2
}
