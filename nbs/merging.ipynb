{
 "cells": [
  {
   "cell_type": "code",
   "execution_count": null,
   "metadata": {},
   "outputs": [],
   "source": [
    "#| default_exp merging\n",
    "import sys\n",
    "from pathlib import Path\n",
    "# Insert in Path Project Directory\n",
    "sys.path.insert(0, str(Path().cwd().parent))\n",
    "%load_ext autoreload\n",
    "%autoreload 2"
   ]
  },
  {
   "cell_type": "markdown",
   "metadata": {},
   "source": [
    "# Mesclagem\n",
    "> Funções auxiliares para mesclar e limpar as várias fontes de dados"
   ]
  },
  {
   "cell_type": "code",
   "execution_count": null,
   "metadata": {},
   "outputs": [],
   "source": [
    "#| export\n",
    "from itertools import product\n",
    "import pandas as pd\n",
    "from geopy.distance import geodesic\n",
    "\n",
    "from extracao.reading import read_icao, read_aisw, read_aisg\n",
    "MAX_DIST = 10 #Km\n",
    "COLS = ['Frequency', 'Latitude', 'Longitude', 'Description']"
   ]
  },
  {
   "cell_type": "markdown",
   "metadata": {},
   "source": [
    "### Aeronáutica\n",
    "Funções auxiliares para mesclar registros que são iguais das diversas bases da aeronáutica, i.e. estão a uma distância menor que `DIST` e verificar a validade da mesclagem"
   ]
  },
  {
   "cell_type": "code",
   "execution_count": null,
   "metadata": {},
   "outputs": [],
   "source": [
    "#| export\n",
    "def check_add_row(df, # DataFrame para mesclar adicionar o registro\n",
    "                  f, # Frequência (MHz) em análise do registro \n",
    "                  rows, # Lista de registros para mesclar\n",
    "                  dicts, # Dicionário fonte dos registros\n",
    ")->pd.DataFrame: # DataFrame com o registro adicionado\n",
    "    \"\"\"Mescla os registros em `rows` de frequência `f` e os adiciona como uma linha do DataFrame `df`\n",
    "    Os registros em `rows` somente são mesclados se ainda constarem nos dicionários fonte `dicts`\n",
    "    Após a mesclagem, os registros são removidos dos dicionários fonte `dicts`   \n",
    "    \"\"\"\n",
    "    if all(row.Index in dict for row, dict in zip(rows, dicts)):\n",
    "        lat = sum(row.Latitude for row in rows) / len(rows)\n",
    "        long = sum(row.Longitude for row in rows) / len(rows)\n",
    "        desc = ' | '.join(row.Description for row in rows)\n",
    "        d = {'Frequency': f, 'Latitude': lat, 'Longitude': long, 'Description': desc}\n",
    "        for row, reg in zip(rows.copy(), dicts.copy()):\n",
    "            reg.pop(row.Index)\n",
    "        return pd.concat([df, pd.DataFrame(d, index=[0])], ignore_index=True)\n",
    "    return df\n"
   ]
  },
  {
   "cell_type": "code",
   "execution_count": null,
   "metadata": {},
   "outputs": [],
   "source": [
    "#| export\n",
    "def get_subsets(f, # Frequência (MHz) em análise do registro\n",
    "                *dfs, # Conjunto de DataFrames a serem analisados\n",
    ")->list: # Lista com subconjuntos de registros de frequência `f` para cada df em `dfs`\n",
    "    \"\"\"Retorna os subconjuntos de registros de frequência `f` em cada dataframe `dfs`\n",
    "    Os subconjuntos são retornados em forma de dicionário, onde a chave é o índice do registro\n",
    "    \"\"\"\n",
    "    return [{s.Index: s for s in df.loc[df.Frequency == f, COLS].itertuples()} for df in dfs]\n"
   ]
  },
  {
   "cell_type": "code",
   "execution_count": null,
   "metadata": {},
   "outputs": [],
   "source": [
    "#| export\n",
    "def merge_closer(frequencies, # Lista de frequências em comum\n",
    "                 df, # DataFrame de saída\n",
    "                 df_left, # DataFrame 1 de entrada da esquerda\n",
    "                 df_right # DataFrame 2 de entrada da direita\n",
    ")->pd.DataFrame: # DataFrame de saída com as frequências em comum de `df_left` e `df_right` mescladas ou inseridas individualmente\n",
    "    \"\"\"Mescla os registros de frequência `frequencies` de `df_left` e `df_right` em `df`\n",
    "    Essa função é utilizada para mesclar registros que possuem frequências em comum listadas em `frequencies`\n",
    "    Os registros são mesclados se a distância entre eles for menor que `MAX_DIST`\n",
    "    do contrário são adicionados individualmente como uma linha no DataFrame de saída `df`\t\n",
    "    \"\"\"\n",
    "    for f in frequencies:\n",
    "        sa, sb = get_subsets(f, df_left, df_right)\n",
    "        if all([sa, sb]): # Somente há registros para mesclar se estiverem nos dois conjuntos\n",
    "            for fa, fb in list(product(sa.copy().values(), sb.copy().values())):\n",
    "                if geodesic((fa.Latitude, fa.Longitude), (fb.Latitude, fb.Longitude)).km <= MAX_DIST:\n",
    "                    df = check_add_row(df, f, [fa, fb], [sa, sb]) \n",
    "        for reg in [sa, sb]: # Do contrário os registros são adicionados individualmente ao DataFrame\n",
    "            for r in reg.copy().values():\n",
    "                df = check_add_row(df, f, [r], [reg])\n",
    "    return df\n"
   ]
  },
  {
   "cell_type": "code",
   "execution_count": null,
   "metadata": {},
   "outputs": [],
   "source": [
    "#| hide\n",
    "# def merge_single(frequencies, # Lista de frequências em comum\n",
    "#                  df, # DataFrame de saída\n",
    "#                  df_left # DataFrame de entrada\n",
    "# )->pd.DataFrame: # DataFrame de saída com as frequências `frequencies` de `df_left` mescladas ou inseridas individualmente em `df`\n",
    "#     \"\"\"Mescla os registros de frequência `frequencies` de `df_left` em `df`\"\"\"\n",
    "#     for f in frequencies:\n",
    "#         if sa := get_subsets(f, df_left)[0]:\n",
    "#             for fa in sa.copy().values():\n",
    "#                 df = check_add_row(df, f, [fa], [sa])\n",
    "#     return df"
   ]
  },
  {
   "cell_type": "code",
   "execution_count": null,
   "metadata": {},
   "outputs": [],
   "source": [
    "#| export\n",
    "def merge_triple(frequencies, # Lista de frequências em comum\n",
    "                 df, # DataFrame de saída \n",
    "                 df_left, # DataFrame 1 de entrada\n",
    "                 df_middle, # DataFrame 2 de entrada \n",
    "                 df_right, # DataFrame 3 de entrada \n",
    ")->pd.DataFrame: # DataFrame de saída com as frequências `frequencies` de `df_left`, `df_middle` e `df_right` mescladas ou inseridas individualmente em `df`\n",
    "    \"\"\"Mescla os registros de frequência `frequencies` de `df_left`, `df_middle` e `df_right` em `df`\n",
    "    Essa função é utilizada para mesclar registros que possuem frequências em comum listadas em `frequencies`\n",
    "    Os registros são mesclados se a distância entre eles for menor que `MAX_DIST`\n",
    "    do contrário são adicionados individualmente como uma linha no DataFrame de saída `df`\n",
    "    \"\"\"\n",
    "    for f in frequencies:\n",
    "        sa, sb, sc = get_subsets(f, df_left, df_middle, df_right)\n",
    "        if all([sa, sb, sc]):\n",
    "            for fa, fb, fc in list(product(sa.copy().values(), sb.copy().values(), sc.copy().values())):\n",
    "                dab = geodesic((fa.Latitude, fa.Longitude), (fb.Latitude, fb.Longitude)).km\n",
    "                dac = geodesic((fa.Latitude, fa.Longitude), (fc.Latitude, fc.Longitude)).km\n",
    "                dbc = geodesic((fb.Latitude, fb.Longitude), (fc.Latitude, fc.Longitude)).km\n",
    "                if all(d <= MAX_DIST  for d in [dab, dac, dbc]):\n",
    "                    df = check_add_row(df, f, [fa, fb, fc], [sa, sb, sc])\n",
    "                elif all(d > MAX_DIST  for d in [dac, dbc]):\n",
    "                    df = check_add_row(df, f, [fa, fb], [sa, sb])\n",
    "                elif all(d > MAX_DIST  for d in [dab, dac]):\n",
    "                    df = check_add_row(df, f, [fa, fc], [sb, sc])\n",
    "                elif all(d > MAX_DIST for d in [dab, dbc]):\n",
    "                    df = check_add_row(df, f, [fa, fc], [sa, sc])\n",
    "        for reg in [sa, sb, sc]:\n",
    "            for r in reg.copy().values():\n",
    "                df = check_add_row(df, f, [r], [reg])        \n",
    "    return df"
   ]
  },
  {
   "cell_type": "code",
   "execution_count": null,
   "metadata": {},
   "outputs": [],
   "source": [
    "#| export\n",
    "def check_merging(df, # Dataframe to check\n",
    "                  freqs, # Sets of Frequencies\n",
    "                  dfs, # Dataframes sources of `df`\n",
    "):    # True se a mesclagem dos registros de `icao`, `aisw` e `aisg` no DataFrame `df` está consistente\n",
    "    \"\"\"Verifica a validade da mesclagem dos registros de `icao`, `aisw` e `aisg` em `df`\"\"\"\n",
    "    assert sum(df[df.Frequency.isin(f)].shape[0] for f in freqs) == len(df), \"Número de registros inconsistente\"\n",
    "    single_sum = df.Description.str.split('\\|').apply(lambda x: len(x)).sum()\n",
    "    assert single_sum == sum(len(d) for d in dfs), \"Número de registros inconsistente\""
   ]
  },
  {
   "cell_type": "code",
   "execution_count": null,
   "metadata": {},
   "outputs": [],
   "source": [
    "#| export\n",
    "def get_frequencies_set(df1: pd.DataFrame, # DataFrame 1\n",
    "                        df2: pd.DataFrame, # DataFrame 2\n",
    "                        df3: pd.DataFrame, # DataFrame 3\n",
    ")-> tuple: # Tupla com todos os subconjuntos do Diagrama de Venn das frequências de `df1`, `df2` e `df3`\n",
    "    \"\"\"Retorna todos os conjuntos de frequências do Diagrama de Venn entre os registros de `df1`, `df2` e `df3`\"\"\"\n",
    "    f1 = set(df1.Frequency.tolist())\n",
    "    f2 = set(df2.Frequency.tolist())\n",
    "    f3 = set(df3.Frequency.tolist())\n",
    "    ABC = f1.intersection(f2).intersection(f3)\n",
    "    AB = f1.intersection(f2).difference(ABC)\n",
    "    BC = f2.intersection(f3).difference(ABC)\n",
    "    AC = f1.intersection(f3).difference(ABC)\n",
    "    A = f1.difference(f2).difference(f3)\n",
    "    B = f2.difference(f3).difference(f1)\n",
    "    C = f3.difference(f1).difference(f2)\n",
    "    return A, B, C, AB, AC, BC, ABC"
   ]
  },
  {
   "cell_type": "code",
   "execution_count": null,
   "metadata": {},
   "outputs": [],
   "source": [
    "#| export\n",
    "def merge_aero(folder, # Pasta onde estão os arquivos de entrada\n",
    ")->pd.DataFrame: # DataFrame com as bases da Aeronáutica com registros mesclados\n",
    "    \"\"\"Mescla os registros de mesma frequência e próximos dos arquivos da aeronáutica em `folder`\"\"\"\n",
    "    icao = read_icao(folder).loc[:, COLS].drop_duplicates().reset_index(drop=True)\n",
    "    aisw = read_aisw(folder).loc[:, COLS].drop_duplicates().reset_index(drop=True)\n",
    "    aisg = read_aisg(folder).loc[:, COLS].drop_duplicates().reset_index(drop=True)\n",
    "    df = pd.DataFrame(columns=COLS)\n",
    "    A, B, C, AB, AC, BC, ABC = get_frequencies_set(icao, aisw, aisg)\n",
    "    df = merge_closer(AB, df, icao, aisw)\n",
    "    df = merge_closer(AC, df, icao, aisg)\n",
    "    df = merge_closer(BC, df, aisw, aisg)\n",
    "    df = merge_triple(ABC, df, icao, aisw, aisg)\n",
    "    df = pd.concat([df, icao[icao.Frequency.isin(A)], aisw[aisw.Frequency.isin(B)], aisg[aisg.Frequency.isin(C)]])\n",
    "    df = df.drop_duplicates().sort_values('Frequency').reset_index(drop=True)\n",
    "    check_merging(df, [A, B, C, AB, AC, BC, ABC], [icao, aisw, aisg])\n",
    "    return df"
   ]
  },
  {
   "cell_type": "code",
   "execution_count": null,
   "metadata": {},
   "outputs": [],
   "source": [
    "aero = merge_aero(Path.cwd().parent / 'dados')"
   ]
  },
  {
   "cell_type": "code",
   "execution_count": null,
   "metadata": {},
   "outputs": [],
   "source": [
    "aero.to_parquet(Path.cwd().parent / 'dados' / 'aero.parquet.gzip', compression='gzip')"
   ]
  }
 ],
 "metadata": {
  "kernelspec": {
   "display_name": "Python 3.10.6 64-bit ('rf')",
   "language": "python",
   "name": "python3"
  }
 },
 "nbformat": 4,
 "nbformat_minor": 4
}
