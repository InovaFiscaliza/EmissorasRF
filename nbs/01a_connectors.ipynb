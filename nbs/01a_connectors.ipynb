{
 "cells": [
  {
   "cell_type": "code",
   "execution_count": null,
   "metadata": {},
   "outputs": [],
   "source": [
    "#| default_exp connectors\n",
    "%load_ext autoreload\n",
    "%autoreload 2\n",
    "\n",
    "import sys,os\n",
    "from pathlib import Path"
   ]
  },
  {
   "cell_type": "code",
   "execution_count": null,
   "metadata": {},
   "outputs": [],
   "source": [
    "# Insert in Path Project Directory\n",
    "sys.path.insert(0, str(Path().cwd().parent))\n",
    "os.chdir(Path.cwd().parent / 'extracao')"
   ]
  },
  {
   "cell_type": "markdown",
   "metadata": {},
   "source": [
    "# Conectores\n",
    "> Módulo para encapsular a criação de conectores de banco com o intuito de serem usados por composição nas classes de extração de dados"
   ]
  },
  {
   "cell_type": "code",
   "execution_count": null,
   "metadata": {},
   "outputs": [],
   "source": [
    "#| export \n",
    "from concurrent.futures import ThreadPoolExecutor\n",
    "from dataclasses import dataclass\n",
    "\n",
    "import pyodbc\n",
    "\n",
    "from pymongo import MongoClient\n",
    "\n",
    "# from motor.motor_asyncio import AsyncIOMotorClient"
   ]
  },
  {
   "cell_type": "code",
   "execution_count": null,
   "metadata": {},
   "outputs": [],
   "source": [
    "# | export\n",
    "@dataclass\n",
    "class DBConnector:\n",
    "    def connect(self):\n",
    "        raise NotImplementedError\n",
    "\n",
    "    def get_parallel_connections(self, n):\n",
    "        # This method returns a list of n pyodbc connection objects in parallel\n",
    "        with ThreadPoolExecutor(max_workers=n) as executor:\n",
    "            futures = [executor.submit(self.connect) for _ in range(n)]\n",
    "            return [future.result() for future in futures]\n",
    "\n",
    "\n",
    "@dataclass\n",
    "class SQLServer(DBConnector):\n",
    "    sql_params: dict\n",
    "\n",
    "    def connect(self):\n",
    "        # This method returns a pyodbc connection object according to the platform\n",
    "        connection_string = f\"\"\"DRIVER={self.sql_params.get('driver')};\n",
    "                                SERVER={self.sql_params.get('server')};\n",
    "                                DATABASE={self.sql_params.get('database')};\n",
    "                                timeout={self.sql_params.get('timeout')}\"\"\"\n",
    "        if self.sql_params.get(\"trusted_conn\"):\n",
    "            connection_string += f\"\"\"MultipleActiveResultSets={self.sql_params.get('mult_results')};\n",
    "                                  Trusted_Connection=yes;\"\"\"\n",
    "        else:\n",
    "            connection_string += f\"\"\"UID={self.sql_params.get('username')};\n",
    "                                  PWD={self.sql_params.get('password')};\n",
    "                                  Trusted_Connection=no;\"\"\"\n",
    "        return pyodbc.connect(connection_string)\n",
    "\n",
    "\n",
    "@dataclass\n",
    "class MongoDB(DBConnector):\n",
    "    mongo_uri: str\n",
    "\n",
    "    def connect(self):\n",
    "        # This method returns a connected AsyncIOMotorClient object\n",
    "        return MongoClient(self.mongo_uri)"
   ]
  },
  {
   "cell_type": "code",
   "execution_count": null,
   "metadata": {},
   "outputs": [],
   "source": []
  }
 ],
 "metadata": {
  "kernelspec": {
   "display_name": "python3",
   "language": "python",
   "name": "python3"
  }
 },
 "nbformat": 4,
 "nbformat_minor": 2
}
