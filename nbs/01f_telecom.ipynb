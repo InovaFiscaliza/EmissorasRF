{
 "cells": [
  {
   "cell_type": "code",
   "execution_count": null,
   "metadata": {},
   "outputs": [],
   "source": [
    "#| default_exp datasources.telecom\n",
    "%load_ext autoreload\n",
    "%autoreload 2\n",
    "\n",
    "import sys,os\n",
    "from pathlib import Path"
   ]
  },
  {
   "cell_type": "code",
   "execution_count": null,
   "metadata": {},
   "outputs": [],
   "source": [
    "# Insert in Path Project Directory\n",
    "sys.path.insert(0, str(Path().cwd().parent))\n",
    "os.chdir(Path.cwd().parent / 'extracao')"
   ]
  },
  {
   "cell_type": "markdown",
   "metadata": {},
   "source": [
    "# Telecomunicações\n",
    "> Módulo para encapsular a extração e processamento dos dados de telecomunicações distintos do SMP - Serviço Móvel Pessoal"
   ]
  },
  {
   "cell_type": "code",
   "execution_count": null,
   "metadata": {},
   "outputs": [],
   "source": [
    "#| export\n",
    "import os\n",
    "from functools import cached_property\n",
    "import gc\n",
    "\n",
    "import pandas as pd\n",
    "from dotenv import find_dotenv, load_dotenv\n",
    "\n",
    "from extracao.constants import (\n",
    "\tAGG_LICENCIAMENTO,\n",
    "\tCOLS_LICENCIAMENTO,\n",
    "\tDICT_LICENCIAMENTO,\n",
    "\tMONGO_TELECOM,\n",
    "\tPROJECTION_LICENCIAMENTO,\n",
    ")\n",
    "\n",
    "from extracao.datasources.mosaico import Mosaico"
   ]
  },
  {
   "cell_type": "code",
   "execution_count": null,
   "metadata": {},
   "outputs": [
    {
     "data": {
      "text/plain": [
       "True"
      ]
     },
     "execution_count": null,
     "metadata": {},
     "output_type": "execute_result"
    }
   ],
   "source": [
    "#| export\n",
    "load_dotenv(find_dotenv())"
   ]
  },
  {
   "cell_type": "code",
   "execution_count": null,
   "metadata": {},
   "outputs": [],
   "source": [
    "#| hide: true\n",
    "#| eval:false\n",
    "__file__ = Path.cwd().parent / 'extracao' / 'datasources.py'"
   ]
  },
  {
   "cell_type": "code",
   "execution_count": null,
   "metadata": {},
   "outputs": [],
   "source": [
    "#| export\n",
    "\n",
    "MONGO_URI = os.environ.get('MONGO_URI')\n"
   ]
  },
  {
   "cell_type": "code",
   "execution_count": null,
   "metadata": {},
   "outputs": [],
   "source": [
    "#| export\n",
    "class Telecom(Mosaico):\n",
    "\t\"\"\"Extração e Processamento dos serviços de Telecomunições distintos de SMP\"\"\"\n",
    "\n",
    "\tdef __init__(self, mongo_uri: str = MONGO_URI, limit: int = 0) -> None:\n",
    "\t\tsuper().__init__(mongo_uri)\n",
    "\t\tself.limit = limit\n",
    "\n",
    "\t@property\n",
    "\tdef stem(self):\n",
    "\t\treturn 'telecom'\n",
    "\n",
    "\t@property\n",
    "\tdef collection(self):\n",
    "\t\treturn 'licenciamento'\n",
    "\n",
    "\t@property\n",
    "\tdef query(self):\n",
    "\t\treturn MONGO_TELECOM\n",
    "\n",
    "\t@property\n",
    "\tdef projection(self):\n",
    "\t\treturn PROJECTION_LICENCIAMENTO\n",
    "\n",
    "\t@property\n",
    "\tdef columns(self):\n",
    "\t\treturn COLS_LICENCIAMENTO\n",
    "\n",
    "\t@property\n",
    "\tdef cols_mapping(self):\n",
    "\t\treturn DICT_LICENCIAMENTO\n",
    "\n",
    "\tdef extraction(self) -> pd.DataFrame:\n",
    "\t\tpipeline = [{'$match': self.query}, {'$project': self.projection}]\n",
    "\t\tif self.limit > 0:\n",
    "\t\t\tpipeline.append({'$limit': self.limit})\n",
    "\t\tdf = self._extract(self.collection, pipeline)\n",
    "\t\tdf['Log'] = ''\n",
    "\t\treturn df\n",
    "\n",
    "\tdef _format(\n",
    "\t\tself,\n",
    "\t\tdf: pd.DataFrame,  # DataFrame com os dados de Estações e Plano_Básico mesclados\n",
    "\t) -> pd.DataFrame:  # DataFrame com os dados mesclados e limpos\n",
    "\t\t\"\"\"Clean the merged dataframe with the data from the MOSAICO page\"\"\"\n",
    "\t\tdf = df.rename(columns=self.cols_mapping)\n",
    "\t\tdf = self.split_designacao(df)\n",
    "\t\tduplicated = df.duplicated(subset=AGG_LICENCIAMENTO, keep='first')\n",
    "\t\tdf_sub = df[~duplicated].reset_index(drop=True)\n",
    "\t\t# discarded = df[duplicated].reset_index(drop=True)\n",
    "\t\t# log = f\"\"\"[(\"Colunas\", {AGG_LICENCIAMENTO}),\n",
    "\t\t# (\"Processamento\", \"Registro agrupado e descartado do arquivo final\")]\"\"\"\n",
    "\t\t# self.append2discarded(self.register_log(discarded, log))\n",
    "\t\t# del discarded\n",
    "\t\t# gc.collect()\n",
    "\t\t# .count() drop the NaN from the subset, not keeping them\n",
    "\t\tdf_sub.dropna(subset=AGG_LICENCIAMENTO, inplace=True)\n",
    "\t\tdf_sub['Multiplicidade'] = (\n",
    "\t\t\tdf.groupby(AGG_LICENCIAMENTO, dropna=True, sort=False, observed=True).size().values\n",
    "\t\t)\n",
    "\t\tlog = f'[(\"Colunas\", {AGG_LICENCIAMENTO}), (\"Processamento\", \"Agrupamento\")]'\n",
    "\t\tdf_sub = self.register_log(df_sub, log, df_sub.Multiplicidade > 1)\n",
    "\t\tdf_sub['Status'] = 'L'\n",
    "\t\tdf_sub['Fonte'] = 'MOSAICO'\n",
    "\n",
    "\t\treturn df_sub.loc[:, self.columns]\n"
   ]
  },
  {
   "cell_type": "code",
   "execution_count": null,
   "metadata": {},
   "outputs": [],
   "source": [
    "#| export\n",
    "# | export# | export\n",
    "# | export"
   ]
  },
  {
   "cell_type": "code",
   "execution_count": null,
   "metadata": {},
   "outputs": [],
   "source": []
  }
 ],
 "metadata": {
  "kernelspec": {
   "display_name": "python3",
   "language": "python",
   "name": "python3"
  }
 },
 "nbformat": 4,
 "nbformat_minor": 4
}
