{
 "cells": [
  {
   "cell_type": "code",
   "execution_count": null,
   "metadata": {},
   "outputs": [],
   "source": [
    "#| default_exp datasources.telecom\n",
    "%load_ext autoreload\n",
    "%autoreload 2\n",
    "\n",
    "import sys,os\n",
    "from pathlib import Path"
   ]
  },
  {
   "cell_type": "code",
   "execution_count": null,
   "metadata": {},
   "outputs": [],
   "source": [
    "# Insert in Path Project Directory\n",
    "sys.path.insert(0, str(Path().cwd().parent))\n",
    "os.chdir(Path.cwd().parent / 'extracao')"
   ]
  },
  {
   "cell_type": "markdown",
   "metadata": {},
   "source": [
    "# Telecomunicações\n",
    "> Módulo para encapsular a extração e processamento dos dados de telecomunicações distintos do SMP - Serviço Móvel Pessoal"
   ]
  },
  {
   "cell_type": "code",
   "execution_count": null,
   "metadata": {},
   "outputs": [],
   "source": [
    "#| export\n",
    "import os\n",
    "from functools import cached_property\n",
    "import gc\n",
    "\n",
    "import pandas as pd\n",
    "from dotenv import find_dotenv, load_dotenv\n",
    "\n",
    "from extracao.constants import (\n",
    "    AGG_LICENCIAMENTO,\n",
    "    COLUNAS,\n",
    "    DICT_LICENCIAMENTO,\n",
    "    MONGO_TELECOM,\n",
    "    PROJECTION_LICENCIAMENTO,\n",
    ")\n",
    "\n",
    "from extracao.datasources.mosaico import Mosaico"
   ]
  },
  {
   "cell_type": "code",
   "execution_count": null,
   "metadata": {},
   "outputs": [
    {
     "data": {
      "text/plain": [
       "True"
      ]
     },
     "execution_count": null,
     "metadata": {},
     "output_type": "execute_result"
    }
   ],
   "source": [
    "#| export\n",
    "load_dotenv(find_dotenv())"
   ]
  },
  {
   "cell_type": "code",
   "execution_count": null,
   "metadata": {},
   "outputs": [],
   "source": [
    "#| hide: true\n",
    "#| eval:false\n",
    "__file__ = Path.cwd().parent / 'extracao' / 'datasources.py'"
   ]
  },
  {
   "cell_type": "code",
   "execution_count": null,
   "metadata": {},
   "outputs": [],
   "source": [
    "#| export\n",
    "\n",
    "MONGO_URI = os.environ.get(\"MONGO_URI\")"
   ]
  },
  {
   "cell_type": "code",
   "execution_count": null,
   "metadata": {},
   "outputs": [],
   "source": [
    "#| export\n",
    "class Telecom(Mosaico):\n",
    "    \"\"\"Extração e Processamento dos serviços de Telecomunições distintos de SMP\"\"\"\n",
    "\n",
    "    def __init__(self, mongo_uri: str = MONGO_URI, limit: int = 0) -> None:\n",
    "        super().__init__(mongo_uri)\n",
    "        self.limit = limit\n",
    "\n",
    "    @property\n",
    "    def stem(self):\n",
    "        return \"telecom\"\n",
    "\n",
    "    @property\n",
    "    def collection(self):\n",
    "        return \"licenciamento\"\n",
    "\n",
    "    @property\n",
    "    def query(self):\n",
    "        return MONGO_TELECOM\n",
    "\n",
    "    @property\n",
    "    def projection(self):\n",
    "        return PROJECTION_LICENCIAMENTO\n",
    "\n",
    "    @property\n",
    "    def columns(self):\n",
    "        return COLUNAS\n",
    "\n",
    "    @property\n",
    "    def cols_mapping(self):\n",
    "        return DICT_LICENCIAMENTO\n",
    "\n",
    "    def extraction(self) -> pd.DataFrame:\n",
    "        pipeline = [{\"$match\": self.query}, {\"$project\": self.projection}]\n",
    "        if self.limit > 0:\n",
    "            pipeline.append({\"$limit\": self.limit})\n",
    "        df = self._extract(self.collection, pipeline)\n",
    "        df[\"Log\"] = \"\"\n",
    "        return df\n",
    "\n",
    "    def _format(\n",
    "        self,\n",
    "        df: pd.DataFrame,  # DataFrame com os dados de Estações e Plano_Básico mesclados\n",
    "    ) -> pd.DataFrame:  # DataFrame com os dados mesclados e limpos\n",
    "        \"\"\"Clean the merged dataframe with the data from the MOSAICO page\"\"\"\n",
    "        df = df.rename(columns=self.cols_mapping)\n",
    "        df = self.split_designacao(df)\n",
    "        duplicated = df.duplicated(subset=AGG_LICENCIAMENTO, keep=\"first\")\n",
    "        df_sub = df[~duplicated].reset_index(drop=True)\n",
    "        # discarded = df[duplicated].reset_index(drop=True)\n",
    "        # log = f\"\"\"[(\"Colunas\", {AGG_LICENCIAMENTO}),\n",
    "        # (\"Processamento\", \"Registro agrupado e descartado do arquivo final\")]\"\"\"\n",
    "        # self.append2discarded(self.register_log(discarded, log))\n",
    "        # del discarded\n",
    "        # gc.collect()\n",
    "        # .count() drop the NaN from the subset, not keeping them\n",
    "        df_sub.dropna(subset=AGG_LICENCIAMENTO, inplace=True)\n",
    "        df_sub[\"Multiplicidade\"] = (\n",
    "            df.groupby(AGG_LICENCIAMENTO, dropna=True, sort=False, observed=True)\n",
    "            .size()\n",
    "            .values\n",
    "        )\n",
    "        log = f'[(\"Colunas\", {AGG_LICENCIAMENTO}), (\"Processamento\", \"Agrupamento\")]'\n",
    "        df_sub = self.register_log(df_sub, log, df_sub.Multiplicidade > 1)\n",
    "        df_sub[\"Status\"] = \"L\"\n",
    "        df_sub[\"Fonte\"] = \"MOSAICO-LICENCIAMENTO\"\n",
    "        return df_sub.loc[:, self.columns]"
   ]
  },
  {
   "cell_type": "code",
   "execution_count": null,
   "metadata": {},
   "outputs": [],
   "source": [
    "#| export\n",
    "# | export# | export\n",
    "# | export# | export\n",
    "# | export# | export\n",
    "# | export# | export\n",
    "# | export# | export\n",
    "# | export# | export\n",
    "# | export# | export\n",
    "# | export"
   ]
  },
  {
   "cell_type": "code",
   "execution_count": null,
   "metadata": {},
   "outputs": [],
   "source": []
  }
 ],
 "metadata": {
  "kernelspec": {
   "display_name": "python3",
   "language": "python",
   "name": "python3"
  }
 },
 "nbformat": 4,
 "nbformat_minor": 4
}
