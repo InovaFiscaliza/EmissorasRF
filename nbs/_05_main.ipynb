{
 "cells": [
  {
   "cell_type": "code",
   "execution_count": null,
   "id": "80feb396",
   "metadata": {},
   "outputs": [],
   "source": [
    "#| default_exp main\n",
    "import sys,os\n",
    "from pathlib import Path\n",
    "# Insert in Path Project Directory\n",
    "sys.path.insert(0, str(Path().cwd().parent))\n",
    "%load_ext autoreload\n",
    "%autoreload 2"
   ]
  },
  {
   "attachments": {},
   "cell_type": "markdown",
   "id": "c06a9485",
   "metadata": {},
   "source": [
    "# Principal\n",
    "> Este módulo concentra funções auxiliares específicas que filtram os dados do banco com campos e formatação de interesse para aplicações específicas como o [appAnalise](https://github.com/EricMagalhaesDelgado/appAnalise) por exemplo."
   ]
  },
  {
   "cell_type": "code",
   "execution_count": null,
   "id": "ac0c52ca",
   "metadata": {},
   "outputs": [
    {
     "name": "stderr",
     "output_type": "stream",
     "text": [
      "/home/melinda/micromamba/envs/dados/lib/python3.8/site-packages/fastprogress/fastprogress.py:107: UserWarning: Couldn't import ipywidgets properly, progress bar will use console behavior\n",
      "  warn(\"Couldn't import ipywidgets properly, progress bar will use console behavior\")\n"
     ]
    },
    {
     "ename": "ModuleNotFoundError",
     "evalue": "No module named 'extracao.aero'",
     "output_type": "error",
     "traceback": [
      "\u001b[0;31m---------------------------------------------------------------------------\u001b[0m",
      "\u001b[0;31mModuleNotFoundError\u001b[0m                       Traceback (most recent call last)",
      "\u001b[1;32m/home/melinda/code/wincode/anateldb/nbs/05_main.ipynb Cell 3\u001b[0m line \u001b[0;36m1\n\u001b[1;32m     <a href='vscode-notebook-cell://wsl%2Bubuntu/home/melinda/code/wincode/anateldb/nbs/05_main.ipynb#W2sdnNjb2RlLXJlbW90ZQ%3D%3D?line=11'>12</a>\u001b[0m \u001b[39mfrom\u001b[39;00m \u001b[39mrich\u001b[39;00m \u001b[39mimport\u001b[39;00m \u001b[39mprint\u001b[39m\n\u001b[1;32m     <a href='vscode-notebook-cell://wsl%2Bubuntu/home/melinda/code/wincode/anateldb/nbs/05_main.ipynb#W2sdnNjb2RlLXJlbW90ZQ%3D%3D?line=13'>14</a>\u001b[0m \u001b[39mfrom\u001b[39;00m \u001b[39mextracao\u001b[39;00m\u001b[39m.\u001b[39;00m\u001b[39mformat\u001b[39;00m \u001b[39mimport\u001b[39;00m _filter_matlab, _format_matlab, merge_on_frequency\n\u001b[0;32m---> <a href='vscode-notebook-cell://wsl%2Bubuntu/home/melinda/code/wincode/anateldb/nbs/05_main.ipynb#W2sdnNjb2RlLXJlbW90ZQ%3D%3D?line=14'>15</a>\u001b[0m \u001b[39mfrom\u001b[39;00m \u001b[39mextracao\u001b[39;00m\u001b[39m.\u001b[39;00m\u001b[39mreading\u001b[39;00m \u001b[39mimport\u001b[39;00m read_aero, read_base\n\u001b[1;32m     <a href='vscode-notebook-cell://wsl%2Bubuntu/home/melinda/code/wincode/anateldb/nbs/05_main.ipynb#W2sdnNjb2RlLXJlbW90ZQ%3D%3D?line=16'>17</a>\u001b[0m load_dotenv(find_dotenv(), override\u001b[39m=\u001b[39m\u001b[39mTrue\u001b[39;00m)\n",
      "File \u001b[0;32m/mnt/c/Users/rsilva/OneDrive - ANATEL/Code/anateldb/extracao/reading.py:16\u001b[0m\n\u001b[1;32m     13\u001b[0m \u001b[39mfrom\u001b[39;00m \u001b[39mdotenv\u001b[39;00m \u001b[39mimport\u001b[39;00m find_dotenv, load_dotenv\n\u001b[1;32m     14\u001b[0m \u001b[39mfrom\u001b[39;00m \u001b[39mpymongo\u001b[39;00m \u001b[39mimport\u001b[39;00m MongoClient\n\u001b[0;32m---> 16\u001b[0m \u001b[39mfrom\u001b[39;00m \u001b[39mextracao\u001b[39;00m\u001b[39m.\u001b[39;00m\u001b[39mupdates\u001b[39;00m \u001b[39mimport\u001b[39;00m (\n\u001b[1;32m     17\u001b[0m     update_aero,\n\u001b[1;32m     18\u001b[0m     update_base,\n\u001b[1;32m     19\u001b[0m     update_radcom,\n\u001b[1;32m     20\u001b[0m     update_srd,\n\u001b[1;32m     21\u001b[0m     update_stel,\n\u001b[1;32m     22\u001b[0m     update_telecom,\n\u001b[1;32m     23\u001b[0m )\n\u001b[1;32m     25\u001b[0m \u001b[39mfrom\u001b[39;00m \u001b[39m.\u001b[39;00m\u001b[39maero\u001b[39;00m\u001b[39m.\u001b[39;00m\u001b[39maisgeo\u001b[39;00m \u001b[39mimport\u001b[39;00m get_aisg\n\u001b[1;32m     26\u001b[0m \u001b[39mfrom\u001b[39;00m \u001b[39m.\u001b[39;00m\u001b[39maero\u001b[39;00m\u001b[39m.\u001b[39;00m\u001b[39maisweb\u001b[39;00m \u001b[39mimport\u001b[39;00m get_aisw\n",
      "File \u001b[0;32m/mnt/c/Users/rsilva/OneDrive - ANATEL/Code/anateldb/extracao/updates.py:36\u001b[0m\n\u001b[1;32m     33\u001b[0m \u001b[39mfrom\u001b[39;00m \u001b[39mrich\u001b[39;00m \u001b[39mimport\u001b[39;00m \u001b[39mprint\u001b[39m\n\u001b[1;32m     34\u001b[0m \u001b[39mfrom\u001b[39;00m \u001b[39mrich\u001b[39;00m\u001b[39m.\u001b[39;00m\u001b[39mconsole\u001b[39;00m \u001b[39mimport\u001b[39;00m Console\n\u001b[0;32m---> 36\u001b[0m \u001b[39mfrom\u001b[39;00m \u001b[39m.\u001b[39;00m\u001b[39maero\u001b[39;00m\u001b[39m.\u001b[39;00m\u001b[39maisgeo\u001b[39;00m \u001b[39mimport\u001b[39;00m get_aisg\n\u001b[1;32m     37\u001b[0m \u001b[39mfrom\u001b[39;00m \u001b[39m.\u001b[39;00m\u001b[39maero\u001b[39;00m\u001b[39m.\u001b[39;00m\u001b[39maisweb\u001b[39;00m \u001b[39mimport\u001b[39;00m get_aisw\n\u001b[1;32m     38\u001b[0m \u001b[39mfrom\u001b[39;00m \u001b[39m.\u001b[39;00m\u001b[39maero\u001b[39;00m\u001b[39m.\u001b[39;00m\u001b[39micao\u001b[39;00m \u001b[39mimport\u001b[39;00m get_icao\n",
      "\u001b[0;31mModuleNotFoundError\u001b[0m: No module named 'extracao.aero'"
     ]
    }
   ],
   "source": [
    "#| export\n",
    "import json\n",
    "from datetime import datetime\n",
    "from pathlib import Path\n",
    "from typing import Union\n",
    "\n",
    "import pandas as pd\n",
    "import pyodbc\n",
    "from dotenv import find_dotenv, load_dotenv\n",
    "from fastcore.test import *\n",
    "from pymongo import MongoClient\n",
    "from rich import print\n",
    "\n",
    "from extracao.format import _filter_matlab, _format_matlab, merge_on_frequency\n",
    "from extracao.reading import read_aero, read_base\n",
    "\n",
    "load_dotenv(find_dotenv(), override=True)"
   ]
  },
  {
   "cell_type": "code",
   "execution_count": null,
   "id": "659d39b0",
   "metadata": {},
   "outputs": [],
   "source": [
    "#| export\n",
    "def get_db(\n",
    "    path: Union[str, Path],  # Pasta onde salvar os arquivos\",\n",
    "    connSQL: pyodbc.Connection = None,  # Objeto de conexão do banco SQL Server\n",
    "    clientMongoDB: MongoClient = None,  # Objeto de conexão do banco MongoDB\n",
    ") -> pd.DataFrame:  # Retorna o DataFrame com as bases da Anatel e da Aeronáutica\n",
    "    \"\"\"Lê e opcionalmente atualiza as bases da Anatel, mescla as bases da Aeronáutica, salva e retorna o arquivo\n",
    "    A atualização junto às bases de dados da Anatel é efetuada caso ambos objetos de banco `connSQL` e `clientMongoDB` forem válidos`\n",
    "    \"\"\"\n",
    "    dest = Path(path)\n",
    "    dest.mkdir(parents=True, exist_ok=True)\n",
    "    print(\":scroll:[green]Lendo as bases de dados da Anatel...\")\n",
    "    df = read_base(path, connSQL, clientMongoDB)\n",
    "    df = _filter_matlab(df)\n",
    "    mod_times = {\"ANATEL\": datetime.now().strftime(\"%d/%m/%Y %H:%M:%S\")}\n",
    "    print(\":airplane:[blue]Requisitando os dados da Aeronáutica.\")\n",
    "    update = all([connSQL, clientMongoDB])\n",
    "    try:\n",
    "        aero = read_aero(path, update=update)\n",
    "    except Exception:\n",
    "        aero = read_aero(path)\n",
    "    mod_times[\"AERONAUTICA\"] = datetime.now().strftime(\"%d/%m/%Y %H:%M:%S\")\n",
    "    print(\":spoon:[yellow]Mesclando os dados da Aeronáutica.\")\n",
    "    df = _format_matlab(merge_on_frequency(df, aero))\n",
    "    print(\":card_file_box:[green]Salvando os arquivos...\")\n",
    "    df.to_parquet(f\"{dest}/AnatelDB.parquet.gzip\", compression=\"gzip\", index=False)\n",
    "    versiondb = json.loads((dest / \"VersionFile.json\").read_text())\n",
    "    mod_times[\"ReleaseDate\"] = datetime.now().strftime(\"%d/%m/%Y %H:%M:%S\")\n",
    "    versiondb[\"anateldb\"].update(mod_times)\n",
    "    json.dump(versiondb, (dest / \"VersionFile.json\").open(\"w\"))\n",
    "    print(\"Sucesso :zap:\")\n",
    "    return df"
   ]
  },
  {
   "cell_type": "code",
   "execution_count": null,
   "id": "40a510fe",
   "metadata": {},
   "outputs": [],
   "source": [
    "#|eval: false\n",
    "import os\n",
    "import warnings\n",
    "from extracao.updates import connect_db\n",
    "import numpy as np\n",
    "from geopy.distance import geodesic\n"
   ]
  },
  {
   "cell_type": "code",
   "execution_count": null,
   "id": "ccb75aa7",
   "metadata": {},
   "outputs": [],
   "source": [
    "#|eval: false\n",
    "warnings.filterwarnings(\"ignore\")"
   ]
  },
  {
   "cell_type": "code",
   "execution_count": null,
   "id": "81f093fe",
   "metadata": {},
   "outputs": [],
   "source": [
    "#|eval: false\n",
    "folder = Path.cwd().parent / 'dados'"
   ]
  },
  {
   "cell_type": "code",
   "execution_count": null,
   "id": "feb70a90",
   "metadata": {},
   "outputs": [],
   "source": [
    "#|eval: false\n",
    "# conn = connect_db()\n",
    "# uri = os.environ['MONGO_URI']\n",
    "# mongo_client = MongoClient(uri)"
   ]
  },
  {
   "cell_type": "code",
   "execution_count": null,
   "id": "ac178478",
   "metadata": {},
   "outputs": [
    {
     "data": {
      "text/html": [
       "<pre style=\"white-space:pre;overflow-x:auto;line-height:normal;font-family:Menlo,'DejaVu Sans Mono',consolas,'Courier New',monospace\">📜<span style=\"color: #008000; text-decoration-color: #008000\">Lendo as bases de dados da Anatel...</span>\n",
       "</pre>\n"
      ],
      "text/plain": [
       "📜\u001b[32mLendo as bases de dados da Anatel\u001b[0m\u001b[32m...\u001b[0m\n"
      ]
     },
     "metadata": {},
     "output_type": "display_data"
    },
    {
     "data": {
      "text/html": [
       "<pre style=\"white-space:pre;overflow-x:auto;line-height:normal;font-family:Menlo,'DejaVu Sans Mono',consolas,'Courier New',monospace\">✈<span style=\"color: #000080; text-decoration-color: #000080\">Requisitando os dados da Aeronáutica.</span>\n",
       "</pre>\n"
      ],
      "text/plain": [
       "✈\u001b[34mRequisitando os dados da Aeronáutica.\u001b[0m\n"
      ]
     },
     "metadata": {},
     "output_type": "display_data"
    },
    {
     "data": {
      "text/html": [
       "<pre style=\"white-space:pre;overflow-x:auto;line-height:normal;font-family:Menlo,'DejaVu Sans Mono',consolas,'Courier New',monospace\">🥄<span style=\"color: #808000; text-decoration-color: #808000\">Mesclando os dados da Aeronáutica.</span>\n",
       "</pre>\n"
      ],
      "text/plain": [
       "🥄\u001b[33mMesclando os dados da Aeronáutica.\u001b[0m\n"
      ]
     },
     "metadata": {},
     "output_type": "display_data"
    },
    {
     "data": {
      "text/html": [
       "<pre style=\"white-space:pre;overflow-x:auto;line-height:normal;font-family:Menlo,'DejaVu Sans Mono',consolas,'Courier New',monospace\">🗃<span style=\"color: #008000; text-decoration-color: #008000\">Salvando os arquivos...</span>\n",
       "</pre>\n"
      ],
      "text/plain": [
       "🗃\u001b[32mSalvando os arquivos\u001b[0m\u001b[32m...\u001b[0m\n"
      ]
     },
     "metadata": {},
     "output_type": "display_data"
    },
    {
     "data": {
      "text/html": [
       "<pre style=\"white-space:pre;overflow-x:auto;line-height:normal;font-family:Menlo,'DejaVu Sans Mono',consolas,'Courier New',monospace\">Sucesso ⚡\n",
       "</pre>\n"
      ],
      "text/plain": [
       "Sucesso ⚡\n"
      ]
     },
     "metadata": {},
     "output_type": "display_data"
    }
   ],
   "source": [
    "#|eval: false\n",
    "# os.chdir(f\"{Path.cwd().parent}/extracao/aero\")\n",
    "df = get_db(folder)\n",
    "# df = get_db(folder) #, conn, mongo_client)\n",
    "# df = pd.read_parquet(folder / 'AnatelDB.parquet.gzip')"
   ]
  },
  {
   "cell_type": "code",
   "execution_count": null,
   "id": "df3f5b85",
   "metadata": {},
   "outputs": [],
   "source": [
    "#|eval: false\n",
    "from pandas_profiling import ProfileReport\n",
    "df['Frequency'] = df['Frequency'].astype('category')\n",
    "profile = ProfileReport(df, config_file= folder.parent / 'nbs/report_config.yaml')\n",
    "profile.to_notebook_iframe()"
   ]
  }
 ],
 "metadata": {
  "kernelspec": {
   "display_name": "python3",
   "language": "python",
   "name": "python3"
  }
 },
 "nbformat": 4,
 "nbformat_minor": 5
}
