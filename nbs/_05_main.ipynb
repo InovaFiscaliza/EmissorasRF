{
 "cells": [
  {
   "cell_type": "code",
   "execution_count": null,
   "id": "80feb396",
   "metadata": {},
   "outputs": [],
   "source": [
    "#| default_exp main\n",
    "import sys,os\n",
    "from pathlib import Path\n",
    "# Insert in Path Project Directory\n",
    "sys.path.insert(0, str(Path().cwd().parent))\n",
    "%load_ext autoreload\n",
    "%autoreload 2"
   ]
  },
  {
   "attachments": {},
   "cell_type": "markdown",
   "id": "c06a9485",
   "metadata": {},
   "source": [
    "# Principal\n",
    "> Este módulo concentra funções auxiliares específicas que filtram os dados do banco com campos e formatação de interesse para aplicações específicas como o [appAnalise](https://github.com/EricMagalhaesDelgado/appAnalise) por exemplo."
   ]
  },
  {
   "cell_type": "code",
   "execution_count": null,
   "id": "ac0c52ca",
   "metadata": {},
   "outputs": [
    {
     "data": {
      "text/plain": [
       "True"
      ]
     },
     "execution_count": null,
     "metadata": {},
     "output_type": "execute_result"
    }
   ],
   "source": [
    "#| export\n",
    "import json\n",
    "from datetime import datetime\n",
    "from pathlib import Path\n",
    "from typing import Union\n",
    "\n",
    "import pandas as pd\n",
    "import pyodbc\n",
    "from dotenv import find_dotenv, load_dotenv\n",
    "from fastcore.test import *\n",
    "from pymongo import MongoClient\n",
    "from rich import print\n",
    "\n",
    "from extracao.format import _filter_matlab, _format_matlab, merge_on_frequency\n",
    "\n",
    "load_dotenv(find_dotenv(), override=True)"
   ]
  },
  {
   "cell_type": "code",
   "execution_count": null,
   "metadata": {},
   "outputs": [],
   "source": [
    "log = \"\"\"[(\"Colunas\", \"Designação_Emissão\"),\n",
    "\t\t          (\"Processamento\", \"Registro expandido nos componentes individuais e extraídas Largura e Classe\")]\"\"\""
   ]
  },
  {
   "cell_type": "code",
   "execution_count": null,
   "metadata": {},
   "outputs": [],
   "source": [
    "log = dict(eval(log))"
   ]
  },
  {
   "cell_type": "code",
   "execution_count": null,
   "metadata": {},
   "outputs": [
    {
     "data": {
      "text/plain": [
       "\"{'Colunas': 'Designação_Emissão', 'Processamento': 'Registro expandido nos componentes individuais e extraídas Largura e Classe'}\""
      ]
     },
     "execution_count": null,
     "metadata": {},
     "output_type": "execute_result"
    }
   ],
   "source": [
    "str(log)"
   ]
  },
  {
   "cell_type": "code",
   "execution_count": null,
   "id": "ccb75aa7",
   "metadata": {},
   "outputs": [],
   "source": [
    "#|eval: false\n",
    "warnings.filterwarnings(\"ignore\")"
   ]
  },
  {
   "cell_type": "code",
   "execution_count": null,
   "id": "81f093fe",
   "metadata": {},
   "outputs": [],
   "source": [
    "#|eval: false\n",
    "folder = Path.cwd().parent / 'dados'"
   ]
  },
  {
   "cell_type": "code",
   "execution_count": null,
   "id": "feb70a90",
   "metadata": {},
   "outputs": [],
   "source": [
    "#|eval: false\n",
    "# conn = connect_db()\n",
    "# uri = os.environ['MONGO_URI']\n",
    "# mongo_client = MongoClient(uri)"
   ]
  },
  {
   "cell_type": "code",
   "execution_count": null,
   "id": "ac178478",
   "metadata": {},
   "outputs": [
    {
     "data": {
      "text/html": [
       "<pre style=\"white-space:pre;overflow-x:auto;line-height:normal;font-family:Menlo,'DejaVu Sans Mono',consolas,'Courier New',monospace\">📜<span style=\"color: #008000; text-decoration-color: #008000\">Lendo as bases de dados da Anatel...</span>\n",
       "</pre>\n"
      ],
      "text/plain": [
       "📜\u001b[32mLendo as bases de dados da Anatel\u001b[0m\u001b[32m...\u001b[0m\n"
      ]
     },
     "metadata": {},
     "output_type": "display_data"
    },
    {
     "data": {
      "text/html": [
       "<pre style=\"white-space:pre;overflow-x:auto;line-height:normal;font-family:Menlo,'DejaVu Sans Mono',consolas,'Courier New',monospace\">✈<span style=\"color: #000080; text-decoration-color: #000080\">Requisitando os dados da Aeronáutica.</span>\n",
       "</pre>\n"
      ],
      "text/plain": [
       "✈\u001b[34mRequisitando os dados da Aeronáutica.\u001b[0m\n"
      ]
     },
     "metadata": {},
     "output_type": "display_data"
    },
    {
     "data": {
      "text/html": [
       "<pre style=\"white-space:pre;overflow-x:auto;line-height:normal;font-family:Menlo,'DejaVu Sans Mono',consolas,'Courier New',monospace\">🥄<span style=\"color: #808000; text-decoration-color: #808000\">Mesclando os dados da Aeronáutica.</span>\n",
       "</pre>\n"
      ],
      "text/plain": [
       "🥄\u001b[33mMesclando os dados da Aeronáutica.\u001b[0m\n"
      ]
     },
     "metadata": {},
     "output_type": "display_data"
    },
    {
     "data": {
      "text/html": [
       "<pre style=\"white-space:pre;overflow-x:auto;line-height:normal;font-family:Menlo,'DejaVu Sans Mono',consolas,'Courier New',monospace\">🗃<span style=\"color: #008000; text-decoration-color: #008000\">Salvando os arquivos...</span>\n",
       "</pre>\n"
      ],
      "text/plain": [
       "🗃\u001b[32mSalvando os arquivos\u001b[0m\u001b[32m...\u001b[0m\n"
      ]
     },
     "metadata": {},
     "output_type": "display_data"
    },
    {
     "data": {
      "text/html": [
       "<pre style=\"white-space:pre;overflow-x:auto;line-height:normal;font-family:Menlo,'DejaVu Sans Mono',consolas,'Courier New',monospace\">Sucesso ⚡\n",
       "</pre>\n"
      ],
      "text/plain": [
       "Sucesso ⚡\n"
      ]
     },
     "metadata": {},
     "output_type": "display_data"
    }
   ],
   "source": [
    "#|eval: false\n",
    "# os.chdir(f\"{Path.cwd().parent}/extracao/aero\")\n",
    "df = get_db(folder)\n",
    "# df = get_db(folder) #, conn, mongo_client)\n",
    "# df = pd.read_parquet(folder / 'AnatelDB.parquet.gzip')"
   ]
  },
  {
   "cell_type": "code",
   "execution_count": null,
   "id": "df3f5b85",
   "metadata": {},
   "outputs": [],
   "source": [
    "#|eval: false\n",
    "from pandas_profiling import ProfileReport\n",
    "df['Frequency'] = df['Frequency'].astype('category')\n",
    "profile = ProfileReport(df, config_file= folder.parent / 'nbs/report_config.yaml')\n",
    "profile.to_notebook_iframe()"
   ]
  }
 ],
 "metadata": {
  "kernelspec": {
   "display_name": "python3",
   "language": "python",
   "name": "python3"
  }
 },
 "nbformat": 4,
 "nbformat_minor": 5
}
