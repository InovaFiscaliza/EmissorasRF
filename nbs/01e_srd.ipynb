{
 "cells": [
  {
   "cell_type": "code",
   "execution_count": null,
   "metadata": {},
   "outputs": [],
   "source": [
    "#| default_exp datasources.srd\n",
    "%load_ext autoreload\n",
    "%autoreload 2\n",
    "\n",
    "import sys,os\n",
    "from pathlib import Path"
   ]
  },
  {
   "cell_type": "code",
   "execution_count": null,
   "metadata": {},
   "outputs": [],
   "source": [
    "# Insert in Path Project Directory\n",
    "sys.path.insert(0, str(Path().cwd().parent))\n",
    "os.chdir(Path.cwd().parent / 'extracao')"
   ]
  },
  {
   "cell_type": "markdown",
   "metadata": {},
   "source": [
    "# Radiodifusão\n",
    "> Módulo para encapsular a extração e processamento das estações de Radiodifusão Pública"
   ]
  },
  {
   "cell_type": "code",
   "execution_count": null,
   "metadata": {},
   "outputs": [],
   "source": [
    "#| export\n",
    "import os\n",
    "from decimal import Decimal\n",
    "from functools import cached_property\n",
    "\n",
    "import pandas as pd\n",
    "from dotenv import find_dotenv, load_dotenv\n",
    "\n",
    "from extracao.constants import (\n",
    "\tBW_MAP,\n",
    "\tCOLS_SRD,\n",
    "\tDICT_SRD,\n",
    "\tMONGO_SRD,\n",
    "\tPROJECTION_SRD,\n",
    ")\n",
    "\n",
    "from extracao.datasources.mosaico import Mosaico"
   ]
  },
  {
   "cell_type": "code",
   "execution_count": null,
   "metadata": {},
   "outputs": [
    {
     "data": {
      "text/plain": [
       "True"
      ]
     },
     "execution_count": null,
     "metadata": {},
     "output_type": "execute_result"
    }
   ],
   "source": [
    "#| export\n",
    "load_dotenv(find_dotenv(), override=True)"
   ]
  },
  {
   "cell_type": "code",
   "execution_count": null,
   "metadata": {},
   "outputs": [],
   "source": [
    "#| hide: true\n",
    "#| eval:false\n",
    "__file__ = Path.cwd().parent / 'extracao' / 'datasources.py'"
   ]
  },
  {
   "cell_type": "code",
   "execution_count": null,
   "metadata": {},
   "outputs": [],
   "source": [
    "#| export\n",
    "MONGO_URI = os.environ.get('MONGO_URI')\n"
   ]
  },
  {
   "cell_type": "code",
   "execution_count": null,
   "metadata": {},
   "outputs": [],
   "source": [
    "#| export\n",
    "class SRD(Mosaico):\n",
    "\t\"\"\"Classe para encapsular a lógica de extração de Radiodifusão\"\"\"\n",
    "\n",
    "\tdef __init__(self, mongo_uri: str = MONGO_URI, limit: int = 0) -> None:\n",
    "\t\tsuper().__init__(mongo_uri)\n",
    "\t\tself.limit = limit\n",
    "\n",
    "\t@property\n",
    "\tdef stem(self):\n",
    "\t\treturn 'srd'\n",
    "\n",
    "\t@property\n",
    "\tdef collection(self):\n",
    "\t\treturn 'srd'\n",
    "\n",
    "\t@property\n",
    "\tdef query(self):\n",
    "\t\treturn MONGO_SRD\n",
    "\n",
    "\t@property\n",
    "\tdef projection(self):\n",
    "\t\treturn PROJECTION_SRD\n",
    "\n",
    "\t@property\n",
    "\tdef columns(self):\n",
    "\t\treturn COLS_SRD\n",
    "\n",
    "\t@property\n",
    "\tdef cols_mapping(self):\n",
    "\t\treturn DICT_SRD\n",
    "\n",
    "\tdef extraction(self) -> pd.DataFrame:\n",
    "\t\tpipeline = [{'$match': self.query}, {'$project': self.projection}]\n",
    "\t\tif self.limit > 0:\n",
    "\t\t\tpipeline.append({'$limit': self.limit})\n",
    "\t\tdf = self._extract(self.collection, pipeline)\n",
    "\t\t# df.loc[df[\"estacao\"] == \"[]\", \"estacao\"] = \"{}\"\n",
    "\t\t# cols = [\"srd_planobasico\", \"estacao\", \"habilitacao\", \"Status\"]\n",
    "\t\t# for col in cols:\n",
    "\t\t#     df = df.join(pd.json_normalize(df[col].apply(eval)))\n",
    "\t\t# df.drop(columns=cols, inplace=True)\n",
    "\t\tdf['Log'] = ''\n",
    "\t\treturn df\n",
    "\n",
    "\tdef _format(\n",
    "\t\tself,\n",
    "\t\tdf: pd.DataFrame,  # DataFrame com o resultantes do banco de dados\n",
    "\t) -> pd.DataFrame:  # DataFrame formatado\n",
    "\t\t\"\"\"Formata, limpa e padroniza os dados provenientes da query no banco\"\"\"\n",
    "\n",
    "\t\tdf = df.rename(columns=self.cols_mapping)\n",
    "\t\tstatus = df.Status.str.contains('-C1$|-C2$|-C3$|-C4$|-C7|-C98$', na=False)\n",
    "\t\t# discarded = df[~status].copy()\n",
    "\t\t# log = \"\"\"[(\"Registro\", \"Status\"),\n",
    "\t\t#         (\"Processamento\", \"Registro com Status não considerado para fins de monitoração\")]\"\"\"\n",
    "\t\t# discarded = self.register_log(discarded, log)\n",
    "\t\tdf = df[status].reset_index(drop=True)\n",
    "\t\tdf['Frequência'] = df.Frequência.astype('string').str.replace(',', '.').astype('float')\n",
    "\t\t# discarded_with_na = df[df.Frequência.isna()].copy()\n",
    "\t\t# log = \"\"\"[(\"Registro\", \"Frequência\"),\n",
    "\t\t#         (\"Processamento\", \"Registro com valor nulo presente\")]\"\"\"\n",
    "\t\t# discarded_with_na = self.register_log(discarded_with_na, log)\n",
    "\t\tdf.dropna(subset='Frequência', ignore_index=True, inplace=True)  # type: ignore\n",
    "\t\tdf.loc[df['Serviço'] == '205', 'Frequência'] = df.loc[\n",
    "\t\t\tdf['Serviço'] == '205', 'Frequência'\n",
    "\t\t].apply(lambda x: float(Decimal(x) / Decimal(1000)))\n",
    "\t\tdf['Frequência'] = df['Frequência'].astype('float')\n",
    "\t\tdf['Validade_RF'] = df.Validade_RF.astype('string').str.slice(0, 10)\n",
    "\t\tdf['Fonte'] = 'MOSAICO-SRD'\n",
    "\t\tdf['Serviço'] = df['Serviço'].fillna('')\n",
    "\t\tdf['Designação_Emissão'] = df.Serviço.astype('string').fillna('').map(BW_MAP)\n",
    "\t\tdf = self.split_designacao(df)\n",
    "\t\tdf['Multiplicidade'] = 1\n",
    "\t\tdf['Padrão_Antena(dBd)'] = df['Padrão_Antena(dBd)'].str.replace('None', '0')\n",
    "\t\tdf['Potência_Transmissor(W)'] = pd.to_numeric(\n",
    "\t\t\tdf['Potência_Transmissor(W)'], errors='coerce'\n",
    "\t\t).astype(float)\n",
    "\t\tdf['Potência_Transmissor(W)'] = (\n",
    "\t\t\tdf['Potência_Transmissor(W)']\n",
    "\t\t\t.apply(lambda x: float(Decimal(1000) * Decimal(x)))\n",
    "\t\t\t.astype(float)\n",
    "\t\t)\n",
    "\t\tdf.loc[:, ['Id', 'Status']] = df.loc[:, ['Id', 'Status']].astype('string')\n",
    "\t\tdf['Relatório_Canal'] = (\n",
    "\t\t\t'http://sistemas.anatel.gov.br/se/eApp/reports/b/srd/resumo_sistema.php?id='\n",
    "\t\t\t+ df['Id']\n",
    "\t\t\t+ '&state='\n",
    "\t\t\t+ df['Status']\n",
    "\t\t)\n",
    "\t\t# self.append2discarded([self.discarded, discarded, discarded_with_na])\n",
    "\t\treturn df.loc[:, self.columns]"
   ]
  }
 ],
 "metadata": {
  "kernelspec": {
   "display_name": "python3",
   "language": "python",
   "name": "python3"
  }
 },
 "nbformat": 4,
 "nbformat_minor": 4
}
