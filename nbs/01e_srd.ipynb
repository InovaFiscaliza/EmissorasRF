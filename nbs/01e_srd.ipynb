{
 "cells": [
  {
   "cell_type": "code",
   "execution_count": null,
   "metadata": {},
   "outputs": [],
   "source": [
    "#| default_exp datasources.srd\n",
    "%load_ext autoreload\n",
    "%autoreload 2\n",
    "\n",
    "import sys,os\n",
    "from pathlib import Path"
   ]
  },
  {
   "cell_type": "code",
   "execution_count": null,
   "metadata": {},
   "outputs": [],
   "source": [
    "# Insert in Path Project Directory\n",
    "sys.path.insert(0, str(Path().cwd().parent))\n",
    "os.chdir(Path.cwd().parent / 'extracao')"
   ]
  },
  {
   "cell_type": "markdown",
   "metadata": {},
   "source": [
    "# Radiodifusão\n",
    "> Módulo para encapsular a extração e processamento das estações de Radiodifusão Pública"
   ]
  },
  {
   "cell_type": "code",
   "execution_count": null,
   "metadata": {},
   "outputs": [],
   "source": [
    "#| export\n",
    "import os\n",
    "from decimal import Decimal\n",
    "from functools import cached_property\n",
    "\n",
    "import pandas as pd\n",
    "from dotenv import find_dotenv, load_dotenv\n",
    "\n",
    "from extracao.constants import (\n",
    "    BW_MAP,\n",
    "    COLS_SRD,\n",
    "    DICT_SRD,\n",
    "    MONGO_SRD,\n",
    "    PROJECTION_SRD,\n",
    ")\n",
    "\n",
    "from extracao.datasources.mosaico import Mosaico"
   ]
  },
  {
   "cell_type": "code",
   "execution_count": null,
   "metadata": {},
   "outputs": [
    {
     "data": {
      "text/plain": [
       "True"
      ]
     },
     "execution_count": null,
     "metadata": {},
     "output_type": "execute_result"
    }
   ],
   "source": [
    "#| export\n",
    "load_dotenv(find_dotenv(), override=True)"
   ]
  },
  {
   "cell_type": "code",
   "execution_count": null,
   "metadata": {},
   "outputs": [],
   "source": [
    "#| hide: true\n",
    "#| eval:false\n",
    "__file__ = Path.cwd().parent / 'extracao' / 'datasources.py'"
   ]
  },
  {
   "cell_type": "code",
   "execution_count": null,
   "metadata": {},
   "outputs": [],
   "source": [
    "#| export\n",
    "MONGO_URI = os.environ.get(\"MONGO_URI\")"
   ]
  },
  {
   "cell_type": "code",
   "execution_count": null,
   "metadata": {},
   "outputs": [],
   "source": [
    "#| export\n",
    "class SRD(Mosaico):\n",
    "    \"\"\"Classe para encapsular a lógica de extração de Radiodifusão\"\"\"\n",
    "\n",
    "    def __init__(self, mongo_uri: str = MONGO_URI, limit: int = 0) -> None:\n",
    "        super().__init__(mongo_uri)\n",
    "        self.limit = limit\n",
    "\n",
    "    @property\n",
    "    def stem(self):\n",
    "        return \"srd\"\n",
    "\n",
    "    @property\n",
    "    def collection(self):\n",
    "        return \"srd\"\n",
    "\n",
    "    @property\n",
    "    def query(self):\n",
    "        return MONGO_SRD\n",
    "\n",
    "    @property\n",
    "    def projection(self):\n",
    "        return PROJECTION_SRD\n",
    "\n",
    "    @property\n",
    "    def columns(self):\n",
    "        return COLS_SRD\n",
    "\n",
    "    @property\n",
    "    def cols_mapping(self):\n",
    "        return DICT_SRD\n",
    "\n",
    "    def extraction(self) -> pd.DataFrame:\n",
    "        pipeline = [{\"$match\": self.query}, {\"$project\": self.projection}]\n",
    "        if self.limit > 0:\n",
    "            pipeline.append({\"$limit\": self.limit})\n",
    "        df = self._extract(self.collection, pipeline)\n",
    "        # df.loc[df[\"estacao\"] == \"[]\", \"estacao\"] = \"{}\"\n",
    "        # cols = [\"srd_planobasico\", \"estacao\", \"habilitacao\", \"Status\"]\n",
    "        # for col in cols:\n",
    "        #     df = df.join(pd.json_normalize(df[col].apply(eval)))\n",
    "        # df.drop(columns=cols, inplace=True)\n",
    "        df[\"Log\"] = \"\"\n",
    "        return df\n",
    "\n",
    "    def _format(\n",
    "        self,\n",
    "        df: pd.DataFrame,  # DataFrame com o resultantes do banco de dados\n",
    "    ) -> pd.DataFrame:  # DataFrame formatado\n",
    "        \"\"\"Formata, limpa e padroniza os dados provenientes da query no banco\"\"\"\n",
    "\n",
    "        df = df.rename(columns=self.cols_mapping)\n",
    "        status = df.Status.str.contains(\"-C1$|-C2$|-C3$|-C4$|-C7|-C98$\", na=False)\n",
    "        # discarded = df[~status].copy()\n",
    "        # log = \"\"\"[(\"Registro\", \"Status\"),\n",
    "        #         (\"Processamento\", \"Registro com Status não considerado para fins de monitoração\")]\"\"\"\n",
    "        # discarded = self.register_log(discarded, log)\n",
    "        df = df[status].reset_index(drop=True)\n",
    "        df[\"Frequência\"] = (\n",
    "            df.Frequência.astype(\"string\").str.replace(\",\", \".\").astype(\"float\")\n",
    "        )\n",
    "        # discarded_with_na = df[df.Frequência.isna()].copy()\n",
    "        # log = \"\"\"[(\"Registro\", \"Frequência\"),\n",
    "        #         (\"Processamento\", \"Registro com valor nulo presente\")]\"\"\"\n",
    "        # discarded_with_na = self.register_log(discarded_with_na, log)\n",
    "        df.dropna(subset=\"Frequência\", ignore_index=True, inplace=True)  # type: ignore\n",
    "        df.loc[df[\"Serviço\"] == \"205\", \"Frequência\"] = df.loc[\n",
    "            df[\"Serviço\"] == \"205\", \"Frequência\"\n",
    "        ].apply(lambda x: float(Decimal(x) / Decimal(1000)))\n",
    "        df[\"Frequência\"] = df[\"Frequência\"].astype(\"float\")\n",
    "        df[\"Validade_RF\"] = df.Validade_RF.astype(\"string\").str.slice(0, 10)\n",
    "        df[\"Fonte\"] = \"MOSAICO-SRD\"\n",
    "        df[\"Serviço\"] = df[\"Serviço\"].fillna(\"\")\n",
    "        df[\"Designação_Emissão\"] = df.Serviço.astype(\"string\").fillna(\"\").map(BW_MAP)\n",
    "        df = self.split_designacao(df)\n",
    "        df[\"Multiplicidade\"] = 1\n",
    "        df[\"Padrão_Antena(dBd)\"] = df[\"Padrão_Antena(dBd)\"].str.replace(\"None\", \"0\")\n",
    "        df[\"Potência_Transmissor(W)\"] = pd.to_numeric(\n",
    "            df[\"Potência_Transmissor(W)\"], errors=\"coerce\"\n",
    "        ).astype(float)\n",
    "        df[\"Potência_Transmissor(W)\"] = (\n",
    "            df[\"Potência_Transmissor(W)\"]\n",
    "            .apply(lambda x: float(Decimal(1000) * Decimal(x)))\n",
    "            .astype(float)\n",
    "        )\n",
    "        df.loc[:, [\"Id\", \"Status\"]] = df.loc[:, [\"Id\", \"Status\"]].astype(\"string\")\n",
    "        df[\"Relatório_Canal\"] = (\n",
    "            \"http://sistemas.anatel.gov.br/se/eApp/reports/b/srd/resumo_sistema.php?id=\"\n",
    "            + df[\"Id\"]\n",
    "            + \"&state=\"\n",
    "            + df[\"Status\"]\n",
    "        )\n",
    "        # self.append2discarded([self.discarded, discarded, discarded_with_na])\n",
    "        return df.loc[:, self.columns]"
   ]
  }
 ],
 "metadata": {
  "kernelspec": {
   "display_name": "python3",
   "language": "python",
   "name": "python3"
  }
 },
 "nbformat": 4,
 "nbformat_minor": 4
}
