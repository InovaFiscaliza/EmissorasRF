{
 "cells": [
  {
   "cell_type": "code",
   "execution_count": 1,
   "metadata": {},
   "outputs": [],
   "source": [
    "#| default_exp functionsdb\n",
    "import sys\n",
    "from pathlib import Path\n",
    "\n",
    "# Insert in Path Project Directory\n",
    "sys.path.insert(0, str(Path().cwd().parent))\n",
    "%load_ext autoreload\n",
    "%autoreload 2"
   ]
  },
  {
   "cell_type": "code",
   "execution_count": 9,
   "metadata": {},
   "outputs": [],
   "source": [
    "#| export\n",
    "from pymongo import MongoClient\n",
    "import pandas as pd\n",
    "from decimal import Decimal, getcontext\n",
    "\n",
    "from anateldb.updates import input_coordenates"
   ]
  },
  {
   "cell_type": "markdown",
   "metadata": {},
   "source": [
    "# Funções de Banco\n",
    "\n",
    "> Este módulo concentra as funções de banco de consultas na base de dados da Anatel no MongoDB."
   ]
  },
  {
   "cell_type": "code",
   "execution_count": 10,
   "metadata": {},
   "outputs": [],
   "source": [
    "# | export\n",
    "def ConsultaSRD(\n",
    "        mongo_client: MongoClient, # Objeto com o cliente para acesso aos dados do MongoDB                \n",
    ") -> pd.DataFrame: # DataFrame com os dados atualizados\n",
    "    \"\"\"Atualiza a tabela local retornada pela query `RADCOM`\"\"\"\n",
    "\n",
    "    # Colunas retornadas no mosaico\n",
    "    MOSAICO_COLUMNS = (\n",
    "        \"Num_Serviço\",\n",
    "        \"Id\",\n",
    "        \"Número_Estação\",\n",
    "        \"Latitude\",\n",
    "        \"Longitude\",\n",
    "        \"Validade_RF\",\n",
    "        \"Município\",\n",
    "        \"Frequência\",\n",
    "        \"Classe\",\n",
    "        \"Serviço\",\n",
    "        \"Entidade\",\n",
    "        \"UF\",\n",
    "        \"Status\",\n",
    "        \"CNPJ\",\n",
    "        \"Fistel\"\n",
    "    )\n",
    "        \n",
    "    database = mongo_client [\"sms\"]\n",
    "    # Database com as informações de Radio e difusão\n",
    "    collection = database[\"srd\"]\n",
    "\n",
    "    query = {}\n",
    "    projection = {}\n",
    "\n",
    "    projection[\"SiglaServico\"] = 1.0\n",
    "    projection[\"_id\"] = 1.0\n",
    "    projection[\"Status.state\"] = 1.0\n",
    "    projection[\"licensee\"] = 1.0\n",
    "    projection[\"NumFistel\"] = 1.0\n",
    "    projection[\"cnpj\"] = 1.0\n",
    "    projection[\"frequency\"] = 1.0\n",
    "    projection[\"stnClass\"] = 1.0\n",
    "    projection[\"srd_planobasico.NomeMunicipio\"] = 1.0\n",
    "    projection[\"srd_planobasico.SiglaUF\"] = 1.0\n",
    "    projection[\"NumServico\"] = 1.0\n",
    "    projection[\"estacao.NumEstacao\"] = 1.0\n",
    "    projection[\"estacao.MedLatitudeDecimal\"] = 1.0\n",
    "    projection[\"estacao.MedLongitudeDecimal\"] = 1.0\n",
    "    projection[\"habilitacao.DataValFreq\"] = 1.0\n",
    "\n",
    "    list_data = list(collection.find(query, projection = projection))\n",
    "    mosaico_df = pd.json_normalize(list_data)\n",
    "    mosaico_df = mosaico_df.drop(columns=['estacao'])\n",
    "    mosaico_df = mosaico_df[[\"NumServico\"\n",
    "                            ,\"_id\"\n",
    "                            ,\"estacao.NumEstacao\"\n",
    "                            ,\"estacao.MedLatitudeDecimal\"\n",
    "                            ,\"estacao.MedLongitudeDecimal\"\n",
    "                            ,\"habilitacao.DataValFreq\"\n",
    "                            ,\"srd_planobasico.NomeMunicipio\"\n",
    "                            ,\"frequency\"\n",
    "                            ,\"stnClass\"\n",
    "                            ,\"SiglaServico\"\n",
    "                            ,\"licensee\"\n",
    "                            ,\"srd_planobasico.SiglaUF\"\n",
    "                            ,\"Status.state\"\n",
    "                            ,\"cnpj\"\n",
    "                            ,\"NumFistel\"\n",
    "    ]]\n",
    "\n",
    "    mosaico_df.columns = MOSAICO_COLUMNS\n",
    "    \n",
    "    mosaico_df = mosaico_df[mosaico_df.Status.str.contains(\"-C1$|-C2$|-C3$|-C4$|-C7|-C98$\", na=False)].reset_index(drop=True)\n",
    "    \n",
    "    for c in mosaico_df.columns:\n",
    "        mosaico_df.loc[mosaico_df[c] == \"\", c] = pd.NA    \n",
    "    mosaico_df = mosaico_df.dropna(subset=['UF'])\n",
    "    mosaico_df = mosaico_df[mosaico_df.Frequência.notna()].reset_index(drop=True)\n",
    "   \n",
    "    # mosaico_df = input_coordenates(mosaico_df, \"../dados\")\n",
    "    # mosaico_df.loc[\"Frequência\"] = mosaico_df.Frequência.str.replace(\",\", \".\") \n",
    "    # mosaico_df.loc[:, \"Frequência\"] = mosaico_df.Frequência.astype(\"float\")\n",
    "    # mosaico_df.loc[mosaico_df.Serviço == \"OM\", \"Frequência\"] = mosaico_df.loc[\n",
    "    #     mosaico_df.Serviço == \"OM\", \"Frequência\"\n",
    "    # ].apply(lambda x: Decimal(x) / Decimal(1000))\n",
    "    # mosaico_df.loc[:, \"Validade_RF\"] = mosaico_df.Validade_RF.astype(\"string\").str.slice(0, 10)\n",
    "    return mosaico_df    "
   ]
  }
 ],
 "metadata": {
  "kernelspec": {
   "display_name": "Python 3.10.6 ('dev_sentinela-py')",
   "language": "python",
   "name": "python3"
  },
  "language_info": {
   "codemirror_mode": {
    "name": "ipython",
    "version": 3
   },
   "file_extension": ".py",
   "mimetype": "text/x-python",
   "name": "python",
   "nbconvert_exporter": "python",
   "pygments_lexer": "ipython3",
   "version": "3.10.6"
  },
  "orig_nbformat": 4,
  "vscode": {
   "interpreter": {
    "hash": "8057030321b1a59daabc2306f97ec9cc48760573052be09381d8922fb191c320"
   }
  }
 },
 "nbformat": 4,
 "nbformat_minor": 2
}
