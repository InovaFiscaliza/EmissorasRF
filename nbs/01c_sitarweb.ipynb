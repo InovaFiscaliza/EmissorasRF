{
 "cells": [
  {
   "cell_type": "code",
   "execution_count": null,
   "metadata": {},
   "outputs": [],
   "source": [
    "#| default_exp datasources.sitarweb\n",
    "%load_ext autoreload\n",
    "%autoreload 2\n",
    "\n",
    "import sys,os\n",
    "from pathlib import Path"
   ]
  },
  {
   "cell_type": "code",
   "execution_count": null,
   "metadata": {},
   "outputs": [],
   "source": [
    "# Insert in Path Project Directory\n",
    "sys.path.insert(0, str(Path().cwd().parent))\n",
    "os.chdir(Path.cwd().parent / 'extracao')"
   ]
  },
  {
   "cell_type": "markdown",
   "metadata": {},
   "source": [
    "# SITARWEB\n",
    "> Módulo para encapsular a extração e processamento das bases de dados do SITARWEB"
   ]
  },
  {
   "cell_type": "code",
   "execution_count": null,
   "metadata": {},
   "outputs": [],
   "source": [
    "#| export\n",
    "import os\n",
    "import sys\n",
    "from decimal import Decimal, getcontext\n",
    "\n",
    "import pandas as pd\n",
    "from dotenv import find_dotenv, load_dotenv\n",
    "from fastcore.foundation import GetAttr\n",
    "\n",
    "from extracao.constants import (\n",
    "\tCOLUNAS,\n",
    "\tSQL_RADCOM,\n",
    "\tSQL_STEL,\n",
    ")\n",
    "\n",
    "from extracao.datasources.base import Base\n",
    "from extracao.datasources.connectors import SQLServer"
   ]
  },
  {
   "cell_type": "code",
   "execution_count": null,
   "metadata": {},
   "outputs": [
    {
     "data": {
      "text/plain": [
       "True"
      ]
     },
     "execution_count": null,
     "metadata": {},
     "output_type": "execute_result"
    }
   ],
   "source": [
    "#| export\n",
    "getcontext().prec = 5\n",
    "load_dotenv(find_dotenv(), override=True)"
   ]
  },
  {
   "cell_type": "code",
   "execution_count": null,
   "metadata": {},
   "outputs": [],
   "source": [
    "#| hide: true\n",
    "#| eval:false\n",
    "__file__ = Path.cwd().parent / 'extracao' / 'datasources.py'"
   ]
  },
  {
   "cell_type": "code",
   "execution_count": null,
   "metadata": {},
   "outputs": [],
   "source": [
    "#| export\n",
    "SQLSERVER_PARAMS = dict(\n",
    "\tdriver=os.environ.get('SQL_DRIVER'),\n",
    "\tserver=os.environ.get('SQL_SERVER'),\n",
    "\tdatabase=os.environ.get('SQL_DATABASE'),\n",
    "\ttrusted_conn=True,\n",
    "\tmult_results=True,\n",
    "\tencrypt=False,\n",
    "\ttimeout=int(os.environ.get('SQL_TIMEOUT')),\n",
    ")\n",
    "\n",
    "if sys.platform in ('linux', 'darwin', 'cygwin'):\n",
    "\tSQLSERVER_PARAMS.update(\n",
    "\t\t{\n",
    "\t\t\t'trusted_conn': False,\n",
    "\t\t\t'mult_results': False,\n",
    "\t\t\t'username': os.environ.get('USERNAME'),\n",
    "\t\t\t'password': os.environ.get('PASSWORD'),\n",
    "\t\t}\n",
    "\t)\n",
    "\n",
    "\n",
    "class Sitarweb(Base, GetAttr):\n",
    "\tdef __init__(self, sql_params: dict = SQLSERVER_PARAMS):\n",
    "\t\tself.default = SQLServer(sql_params)\n",
    "\n",
    "\t@property\n",
    "\tdef columns(self):\n",
    "\t\treturn COLUNAS\n",
    "\n",
    "\t@property\n",
    "\tdef query(self):\n",
    "\t\traise NotImplementedError(\"Subclasses devem implementar a propriedade 'query'\")\n",
    "\n",
    "\tdef extraction(self):\n",
    "\t\treturn pd.read_sql_query(self.query, self.connect(), dtype='category')\n"
   ]
  },
  {
   "cell_type": "code",
   "execution_count": null,
   "metadata": {},
   "outputs": [],
   "source": [
    "#| export\n",
    "class Radcom(Sitarweb):\n",
    "\tdef __init__(self, sql_params: dict = SQLSERVER_PARAMS):\n",
    "\t\tsuper().__init__(sql_params)\n",
    "\n",
    "\t@property\n",
    "\tdef query(self):\n",
    "\t\treturn SQL_RADCOM\n",
    "\n",
    "\t@property\n",
    "\tdef stem(self):\n",
    "\t\treturn 'radcom'\n",
    "\n",
    "\tdef _format(\n",
    "\t\tself,\n",
    "\t\tdf: pd.DataFrame,  # DataFrame com o resultantes do banco de dados\n",
    "\t) -> pd.DataFrame:  # DataFrame formatado\n",
    "\t\t\"\"\"Formata, limpa e padroniza os dados provenientes da query no banco\"\"\"\n",
    "\t\tdf['Entidade'] = df['Entidade'].str.strip()\n",
    "\t\tdf['Num_Serviço'] = '231'\n",
    "\t\tdf['Classe_Emissão'] = pd.NA\n",
    "\t\tdf['Largura_Emissão(kHz)'] = '256'\n",
    "\t\tdf['Validade_RF'] = pd.NA\n",
    "\t\tdf['Status'] = 'RADCOM'\n",
    "\t\tdf['Fonte'] = 'SRD'\n",
    "\t\tdf['Multiplicidade'] = '1'\n",
    "\t\ta = df.Situação.isna()\n",
    "\t\tdf.loc[a, 'Classe'] = df.loc[a, 'Fase'].astype('string')\n",
    "\t\tdf.loc[~a, 'Classe'] = (\n",
    "\t\t\tdf.loc[~a, 'Fase'].astype('string') + '-' + df.loc[~a, 'Situação'].astype('string')\n",
    "\t\t)\n",
    "\t\tdf.drop(['Fase', 'Situação'], axis=1, inplace=True)\n",
    "\t\tdf['Log'] = ''\n",
    "\t\tdf['Frequência'] = pd.to_numeric(df['Frequência'], errors='coerce').astype('float')\n",
    "\t\tdiscarded = df[df.Frequência.isna()].copy()\n",
    "\t\tif not discarded.empty:\n",
    "\t\t\tlog = \"\"\"[(\"Colunas\", \"Frequência\"),  \n",
    "            (\"Processamento\", \"Valor Nulo\")]\"\"\"\n",
    "\t\t\tself.append2discarded(self.register_log(discarded, log))\n",
    "\t\tdf.dropna(subset=['Frequência'], inplace=True)\n",
    "\t\treturn df.loc[:, self.columns]\n"
   ]
  },
  {
   "cell_type": "code",
   "execution_count": null,
   "metadata": {},
   "outputs": [],
   "source": [
    "#| export\n",
    "class Stel(Sitarweb):\n",
    "\tdef __init__(self, sql_params: dict = SQLSERVER_PARAMS):\n",
    "\t\tsuper().__init__(sql_params)\n",
    "\n",
    "\t@property\n",
    "\tdef query(self):\n",
    "\t\treturn SQL_STEL\n",
    "\n",
    "\t@property\n",
    "\tdef stem(self):\n",
    "\t\treturn 'stel'\n",
    "\n",
    "\tdef _format(\n",
    "\t\tself,\n",
    "\t\tdf: pd.DataFrame,  # DataFrame com o resultantes do banco de dados\n",
    "\t) -> pd.DataFrame:  # DataFrame formatado\n",
    "\t\t\"\"\"Formata, limpa e padroniza os dados provenientes da query no banco\"\"\"\n",
    "\t\tdf['Status'] = 'L'\n",
    "\t\tdf['Entidade'] = df.Entidade.str.strip()\n",
    "\t\tdf['Fonte'] = 'STEL'\n",
    "\t\tdf['Largura_Emissão'] = df['Largura_Emissão'].astype('string')\n",
    "\t\tdf.loc[:, ['Largura_Emissão(kHz)', '_']] = (\n",
    "\t\t\tdf.Largura_Emissão.fillna('').apply(self.parse_bw).tolist()\n",
    "\t\t)\n",
    "\t\tdf.drop(['Largura_Emissão', '_'], axis=1, inplace=True)\n",
    "\t\tdf.loc[:, 'Validade_RF'] = df.Validade_RF.astype('string').str.slice(0, 10)\n",
    "\t\tdf['Frequência'] = df['Frequência'].astype('float')\n",
    "\t\tdf.loc[df.Unidade == 'kHz', 'Frequência'] = df.loc[df.Unidade == 'kHz', 'Frequência'].apply(\n",
    "\t\t\tlambda x: float(Decimal(x) / Decimal(1000))\n",
    "\t\t)\n",
    "\t\tdf.loc[df.Unidade == 'GHz', 'Frequência'] = df.loc[df.Unidade == 'GHz', 'Frequência'].apply(\n",
    "\t\t\tlambda x: float(Decimal(x) * Decimal(1000))\n",
    "\t\t)\n",
    "\t\tdf.drop('Unidade', axis=1, inplace=True)\n",
    "\t\tdf['Multiplicidade'] = 1\n",
    "\t\tdf['Log'] = ''\n",
    "\t\treturn df.loc[:, self.columns]"
   ]
  }
 ],
 "metadata": {
  "kernelspec": {
   "display_name": "python3",
   "language": "python",
   "name": "python3"
  }
 },
 "nbformat": 4,
 "nbformat_minor": 4
}
