{
 "cells": [
  {
   "cell_type": "code",
   "execution_count": null,
   "metadata": {},
   "outputs": [],
   "source": [
    "#| default_exp datasources.sitarweb\n",
    "%load_ext autoreload\n",
    "%autoreload 2\n",
    "\n",
    "import sys,os\n",
    "from pathlib import Path"
   ]
  },
  {
   "cell_type": "code",
   "execution_count": null,
   "metadata": {},
   "outputs": [],
   "source": [
    "# Insert in Path Project Directory\n",
    "sys.path.insert(0, str(Path().cwd().parent))\n",
    "os.chdir(Path.cwd().parent / 'extracao')"
   ]
  },
  {
   "cell_type": "markdown",
   "metadata": {},
   "source": [
    "# SITARWEB\n",
    "> Módulo para encapsular a extração e processamento das bases de dados do SITARWEB"
   ]
  },
  {
   "cell_type": "code",
   "execution_count": null,
   "metadata": {},
   "outputs": [],
   "source": [
    "#| export\n",
    "from decimal import Decimal, getcontext\n",
    "from functools import cached_property\n",
    "\n",
    "import pandas as pd\n",
    "from dotenv import find_dotenv, load_dotenv\n",
    "from fastcore.foundation import GetAttr\n",
    "\n",
    "from extracao.constants import (\n",
    "    COLUNAS,\n",
    "    SQL_RADCOM,\n",
    "    SQL_STEL,\n",
    ")\n",
    "from extracao.datasources.base import Base\n",
    "from extracao.datasources.connectors import SQLServer"
   ]
  },
  {
   "cell_type": "code",
   "execution_count": null,
   "metadata": {},
   "outputs": [
    {
     "data": {
      "text/plain": [
       "True"
      ]
     },
     "execution_count": null,
     "metadata": {},
     "output_type": "execute_result"
    }
   ],
   "source": [
    "#| export\n",
    "getcontext().prec = 5\n",
    "load_dotenv(find_dotenv())"
   ]
  },
  {
   "cell_type": "code",
   "execution_count": null,
   "metadata": {},
   "outputs": [],
   "source": [
    "#| hide: true\n",
    "#| eval:false\n",
    "__file__ = Path.cwd().parent / 'extracao' / 'datasources.py'"
   ]
  },
  {
   "cell_type": "code",
   "execution_count": null,
   "metadata": {},
   "outputs": [],
   "source": [
    "#| export\n",
    "\n",
    "SQLSERVER_PARAMS = dict(\n",
    "    driver=\"{ODBC Driver 17 for SQL Server}\",\n",
    "    server=\"ANATELBDRO05\",\n",
    "    database=\"SITARWEB\",\n",
    "    trusted_conn=True,\n",
    "    mult_results=True,\n",
    "    username=None,\n",
    "    password=None,\n",
    "    timeout=1000,\n",
    ")\n",
    "\n",
    "\n",
    "class Sitarweb(Base, GetAttr):\n",
    "    def __init__(self, sql_params: dict = SQLSERVER_PARAMS):\n",
    "        self.default = SQLServer(sql_params)\n",
    "\n",
    "    @property\n",
    "    def columns(self):\n",
    "        return COLUNAS\n",
    "\n",
    "    @property\n",
    "    def query(self):\n",
    "        raise NotImplementedError(\"Subclasses devem implementar a propriedade 'query'\")\n",
    "\n",
    "    @cached_property\n",
    "    def extraction(self):\n",
    "        return pd.read_sql_query(self.query, self.connect(), dtype=\"string\")"
   ]
  },
  {
   "cell_type": "code",
   "execution_count": null,
   "metadata": {},
   "outputs": [],
   "source": [
    "#| export\n",
    "\n",
    "class Radcom(Sitarweb):\n",
    "    def __init__(self, sql_params: dict = SQLSERVER_PARAMS):\n",
    "        super().__init__(sql_params)\n",
    "\n",
    "    @property\n",
    "    def query(self):\n",
    "        return SQL_RADCOM\n",
    "\n",
    "    @property\n",
    "    def stem(self):\n",
    "        return \"radcom\"\n",
    "\n",
    "    def _format(\n",
    "        self,\n",
    "        df: pd.DataFrame,  # DataFrame com o resultantes do banco de dados\n",
    "    ) -> pd.DataFrame:  # DataFrame formatado\n",
    "        \"\"\"Formata, limpa e padroniza os dados provenientes da query no banco\"\"\"\n",
    "        df[\"Entidade\"] = df[\"Entidade\"].str.strip()\n",
    "        df[\"Num_Serviço\"] = \"231\"\n",
    "        df[\"Classe_Emissão\"] = pd.NA\n",
    "        df[\"Largura_Emissão(kHz)\"] = \"256\"\n",
    "        df[\"Validade_RF\"] = pd.NA\n",
    "        df[\"Status\"] = \"RADCOM\"\n",
    "        df[\"Fonte\"] = \"SRD\"\n",
    "        df[\"Multiplicidade\"] = \"1\"\n",
    "        a = df.Situação.isna()\n",
    "        df.loc[a, \"Classe\"] = df.loc[a, \"Fase\"]\n",
    "        df.loc[~a, \"Classe\"] = (\n",
    "            df.loc[~a, \"Fase\"].astype(\"string\")\n",
    "            + \"-\"\n",
    "            + df.loc[~a, \"Situação\"].astype(\"string\")\n",
    "        )\n",
    "        df.drop([\"Fase\", \"Situação\"], axis=1, inplace=True)\n",
    "        df[\"Log\"] = pd.NA\n",
    "        return df.loc[:, self.columns]"
   ]
  },
  {
   "cell_type": "code",
   "execution_count": null,
   "metadata": {},
   "outputs": [],
   "source": [
    "#| export\n",
    "\n",
    "class Stel(Sitarweb):\n",
    "    def __init__(self, sql_params: dict = SQLSERVER_PARAMS):\n",
    "        super().__init__(sql_params)\n",
    "\n",
    "    @property\n",
    "    def query(self):\n",
    "        return SQL_STEL\n",
    "\n",
    "    @property\n",
    "    def stem(self):\n",
    "        return \"stel\"\n",
    "\n",
    "    def _format(\n",
    "        self,\n",
    "        df: pd.DataFrame,  # DataFrame com o resultantes do banco de dados\n",
    "    ) -> pd.DataFrame:  # DataFrame formatado\n",
    "        \"\"\"Formata, limpa e padroniza os dados provenientes da query no banco\"\"\"\n",
    "        df[\"Status\"] = \"L\"\n",
    "        df[\"Entidade\"] = df.Entidade.str.strip()\n",
    "        df[\"Fonte\"] = \"STEL\"\n",
    "        df.loc[:, [\"Largura_Emissão(kHz)\", \"_\"]] = (\n",
    "            df.Largura_Emissão.fillna(\"\").apply(self.parse_bw).tolist()\n",
    "        )\n",
    "        df.drop([\"Largura_Emissão\", \"_\"], axis=1, inplace=True)\n",
    "        df.loc[:, \"Validade_RF\"] = df.Validade_RF.astype(\"string\").str.slice(0, 10)\n",
    "        df.loc[df.Unidade == \"kHz\", \"Frequência\"] = df.loc[\n",
    "            df.Unidade == \"kHz\", \"Frequência\"\n",
    "        ].apply(lambda x: Decimal(x) / Decimal(1000))\n",
    "        df.loc[df.Unidade == \"GHz\", \"Frequência\"] = df.loc[\n",
    "            df.Unidade == \"GHz\", \"Frequência\"\n",
    "        ].apply(lambda x: Decimal(x) * Decimal(1000))\n",
    "        df.drop(\"Unidade\", axis=1, inplace=True)\n",
    "        df[\"Multiplicidade\"] = 1\n",
    "        df[\"Log\"] = pd.NA\n",
    "        return df.loc[:, self.columns]"
   ]
  },
  {
   "cell_type": "code",
   "execution_count": null,
   "metadata": {},
   "outputs": [],
   "source": []
  },
  {
   "cell_type": "code",
   "execution_count": null,
   "metadata": {},
   "outputs": [],
   "source": [
    "#| hide\n",
    "from nbdev.doclinks import nbdev_export \n",
    "nbdev_export()"
   ]
  },
  {
   "cell_type": "code",
   "execution_count": null,
   "metadata": {},
   "outputs": [],
   "source": []
  }
 ],
 "metadata": {
  "kernelspec": {
   "display_name": "python3",
   "language": "python",
   "name": "python3"
  }
 },
 "nbformat": 4,
 "nbformat_minor": 4
}
