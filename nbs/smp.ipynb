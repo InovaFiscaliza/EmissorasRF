{
 "cells": [
  {
   "cell_type": "code",
   "execution_count": 1,
   "metadata": {},
   "outputs": [],
   "source": [
    "import sys\n",
    "from pathlib import Path"
   ]
  },
  {
   "cell_type": "code",
   "execution_count": 2,
   "metadata": {},
   "outputs": [],
   "source": [
    "import os\n",
    "from pymongo import MongoClient"
   ]
  },
  {
   "cell_type": "code",
   "execution_count": 3,
   "metadata": {},
   "outputs": [],
   "source": [
    "sys.path.insert(0, str(Path().cwd().parent))\n",
    "%load_ext autoreload\n",
    "%autoreload 2"
   ]
  },
  {
   "cell_type": "code",
   "execution_count": 4,
   "metadata": {},
   "outputs": [
    {
     "data": {
      "text/plain": [
       "{'version': '4.0.5',\n",
       " 'gitVersion': '3739429dd92b92d1b0ab120911a23d50bf03c412',\n",
       " 'targetMinOS': 'Windows 7/Windows Server 2008 R2',\n",
       " 'modules': [],\n",
       " 'allocator': 'tcmalloc',\n",
       " 'javascriptEngine': 'mozjs',\n",
       " 'sysInfo': 'deprecated',\n",
       " 'versionArray': [4, 0, 5, 0],\n",
       " 'openssl': {'running': 'Windows SChannel'},\n",
       " 'buildEnvironment': {'distmod': '2008plus-ssl',\n",
       "  'distarch': 'x86_64',\n",
       "  'cc': 'cl: Microsoft (R) C/C++ Optimizing Compiler Version 19.00.24223 for x64',\n",
       "  'ccflags': '/nologo /EHsc /W3 /wd4355 /wd4800 /wd4267 /wd4244 /wd4290 /wd4068 /wd4351 /wd4373 /we4013 /we4099 /we4930 /WX /errorReport:none /MD /O2 /Oy- /bigobj /utf-8 /Zc:rvalueCast /Zc:strictStrings /volatile:iso /Gw /Gy /Zc:inline',\n",
       "  'cxx': 'cl: Microsoft (R) C/C++ Optimizing Compiler Version 19.00.24223 for x64',\n",
       "  'cxxflags': '/TP',\n",
       "  'linkflags': '/nologo /DEBUG /INCREMENTAL:NO /LARGEADDRESSAWARE /OPT:REF',\n",
       "  'target_arch': 'x86_64',\n",
       "  'target_os': 'windows'},\n",
       " 'bits': 64,\n",
       " 'debug': False,\n",
       " 'maxBsonObjectSize': 16777216,\n",
       " 'storageEngines': ['devnull', 'ephemeralForTest', 'mmapv1', 'wiredTiger'],\n",
       " 'ok': 1.0}"
      ]
     },
     "execution_count": 4,
     "metadata": {},
     "output_type": "execute_result"
    }
   ],
   "source": [
    "uri = os.environ['MONGO_URI']\n",
    "mongo_client = MongoClient(uri)\n",
    "mongo_client.server_info()"
   ]
  },
  {
   "cell_type": "code",
   "execution_count": 5,
   "metadata": {},
   "outputs": [],
   "source": [
    "database = mongo_client['sms']"
   ]
  },
  {
   "cell_type": "code",
   "execution_count": 6,
   "metadata": {},
   "outputs": [
    {
     "data": {
      "text/plain": [
       "['import_entidades_pb',\n",
       " 'usuarios_sei',\n",
       " 'habilitacao',\n",
       " 'fix_num_estacao_filtrado',\n",
       " 'srd',\n",
       " 'manifestacao',\n",
       " 'cnpj_aid',\n",
       " 'import_equipamentos',\n",
       " 'licenciamento',\n",
       " 'PH7apps',\n",
       " 'habilitacaoTemp',\n",
       " 'fix_data_validade',\n",
       " 'emission',\n",
       " 'municipio_ppdur',\n",
       " 'entidade',\n",
       " 'Licenciamento',\n",
       " 'scr_licencas',\n",
       " 'fix_num_estacao',\n",
       " 'licenciamento_bloco',\n",
       " 'import_documentos',\n",
       " 'ato',\n",
       " 'application',\n",
       " 'fix_num_servico',\n",
       " 'fix_datavalidade_175',\n",
       " 'import_potencia_irradiada',\n",
       " 'licenciamento_exclusao',\n",
       " 'import_estacoes',\n",
       " 'ato_velho',\n",
       " 'fix_compara_emission',\n",
       " 'municipio',\n",
       " 'edital',\n",
       " 'equipamento_tecnologia',\n",
       " 'licenciamento_credito',\n",
       " 'app',\n",
       " 'fix_ato',\n",
       " 'slp',\n",
       " 'aero',\n",
       " 'import_radcom_satelite',\n",
       " 'log']"
      ]
     },
     "execution_count": 6,
     "metadata": {},
     "output_type": "execute_result"
    }
   ],
   "source": [
    "database.list_collection_names()"
   ]
  },
  {
   "cell_type": "code",
   "execution_count": 7,
   "metadata": {},
   "outputs": [],
   "source": [
    "MONGO_SMP = {\n",
    "    \"$and\": [\n",
    "        {\"DataExclusao\": None},\n",
    "        {\"DataValidade\": {\"$nin\": [\"\", None]}},\n",
    "        {\"Status.state\": \"LIC-LIC-01\"},\n",
    "        {\"NumServico\": \"010\"}, #{\"$nin\": [\"010\", \"045\", \"171\", \"450\", \"750\", \"\", None]}},\n",
    "        {\"FreqCentralMHz\": {\"$nin\": [None, \"\", 0]}},\n",
    "        {\"CodMunicipio\": {\"$nin\": [None, \"\"]}},\n",
    "        {\"FreqCentralMHz\": {\"$type\": 1.0}},\n",
    "        {\"Latitude\": {\"$type\": 1.0}},\n",
    "        {\"Longitude\": {\"$type\": 1.0}},\n",
    "    ]\n",
    "}\n",
    "\n",
    "COLS_SMP = {\n",
    "    \"NumAto\": \"Num_Ato\",\n",
    "    \"NumFistel\": \"Fistel\",\n",
    "    \"NumServico\": \"Num_Serviço\",\n",
    "    \"NomeEntidade\": \"Entidade\",\n",
    "    \"SiglaUf\": \"UF\",\n",
    "    \"NumEstacao\": \"Número_Estação\",\n",
    "    \"CodTipoClasseEstacao\": \"Classe\",\n",
    "    \"NomeMunicipio\": \"Município\",\n",
    "    \"CodMunicipio\": \"Código_Município\",\n",
    "    \"DataValidade\": \"Validade_RF\",\n",
    "    \"FreqCentralMHz\": \"Frequência_Central\",\n",
    "    \"Latitude\": \"Latitude\",\n",
    "    \"Longitude\": \"Longitude\",\n",
    "    \"DesignacaoEmissao\": \"Designacao_Emissão\",\n",
    "    # \"PotenciaTransmissorWatts\" : \"Potência(W)\",\n",
    "    # \"CodTipoAntena\": \"Cod_TipoAntena\",\n",
    "    # \"Polarizacao\": \"Polarização\",\n",
    "    # \"RaioAntena\": \"Raio_Antena\",\n",
    "    # \"GanhoAntena\": \"Ganho_Antena\",\n",
    "    # \"FrenteCostaAntena\": \"FC_Antena\",\n",
    "    # \"AnguloMeiaPotenciaAntena\": \"Ang_MP_Antena\",\n",
    "    # \"AnguloElevacao\": \"Ângulo_Elevação\",\n",
    "    # \"Azimute\": \"Azimute\",\n",
    "    # \"AlturaAntena\": \"Altura_Antena\",\n",
    "    # \"PerdasAcessorias\": \"Perdas_Acessorias\",\n",
    "}\n"
   ]
  },
  {
   "cell_type": "code",
   "execution_count": 8,
   "metadata": {},
   "outputs": [],
   "source": [
    "collection = database[\"licenciamento\"]"
   ]
  },
  {
   "cell_type": "code",
   "execution_count": 12,
   "metadata": {},
   "outputs": [],
   "source": [
    "query_smp = collection.find(MONGO_SMP, limit=100000) #projection={k: 1.0 for k in COLS_SMP.keys()}"
   ]
  },
  {
   "cell_type": "code",
   "execution_count": 10,
   "metadata": {},
   "outputs": [],
   "source": [
    "from tqdm.auto import tqdm"
   ]
  },
  {
   "cell_type": "code",
   "execution_count": 13,
   "metadata": {},
   "outputs": [
    {
     "ename": "StopIteration",
     "evalue": "",
     "output_type": "error",
     "traceback": [
      "\u001b[1;31m---------------------------------------------------------------------------\u001b[0m",
      "\u001b[1;31mStopIteration\u001b[0m                             Traceback (most recent call last)",
      "Cell \u001b[1;32mIn[13], line 1\u001b[0m\n\u001b[1;32m----> 1\u001b[0m query_smp\u001b[39m.\u001b[39;49mnext()\n",
      "File \u001b[1;32mc:\\Users\\rsilva\\scoop\\apps\\mambaforge\\current\\envs\\db\\lib\\site-packages\\pymongo\\cursor.py:1251\u001b[0m, in \u001b[0;36mCursor.next\u001b[1;34m(self)\u001b[0m\n\u001b[0;32m   1249\u001b[0m     \u001b[39mreturn\u001b[39;00m \u001b[39mself\u001b[39m\u001b[39m.\u001b[39m__data\u001b[39m.\u001b[39mpopleft()\n\u001b[0;32m   1250\u001b[0m \u001b[39melse\u001b[39;00m:\n\u001b[1;32m-> 1251\u001b[0m     \u001b[39mraise\u001b[39;00m \u001b[39mStopIteration\u001b[39;00m\n",
      "\u001b[1;31mStopIteration\u001b[0m: "
     ]
    }
   ],
   "source": [
    "query_smp.next()"
   ]
  },
  {
   "cell_type": "code",
   "execution_count": 17,
   "metadata": {},
   "outputs": [
    {
     "data": {
      "application/vnd.jupyter.widget-view+json": {
       "model_id": "7e9234e89892422b869c6d2d43425c58",
       "version_major": 2,
       "version_minor": 0
      },
      "text/plain": [
       "0it [00:00, ?it/s]"
      ]
     },
     "metadata": {},
     "output_type": "display_data"
    }
   ],
   "source": [
    "smp = list(tqdm(query_smp))"
   ]
  },
  {
   "cell_type": "code",
   "execution_count": 14,
   "metadata": {},
   "outputs": [
    {
     "ename": "NameError",
     "evalue": "name 'smp' is not defined",
     "output_type": "error",
     "traceback": [
      "\u001b[1;31m---------------------------------------------------------------------------\u001b[0m",
      "\u001b[1;31mNameError\u001b[0m                                 Traceback (most recent call last)",
      "Cell \u001b[1;32mIn[14], line 1\u001b[0m\n\u001b[1;32m----> 1\u001b[0m smp\n",
      "\u001b[1;31mNameError\u001b[0m: name 'smp' is not defined"
     ]
    }
   ],
   "source": [
    "smp"
   ]
  },
  {
   "cell_type": "code",
   "execution_count": 13,
   "metadata": {},
   "outputs": [
    {
     "ename": "ValueError",
     "evalue": "a must be greater than 0 unless no samples are taken",
     "output_type": "error",
     "traceback": [
      "\u001b[1;31m---------------------------------------------------------------------------\u001b[0m",
      "\u001b[1;31mValueError\u001b[0m                                Traceback (most recent call last)",
      "Cell \u001b[1;32mIn[13], line 6\u001b[0m\n\u001b[0;32m      4\u001b[0m \u001b[39mdel\u001b[39;00m smp\n\u001b[0;32m      5\u001b[0m gc\u001b[39m.\u001b[39mcollect()\n\u001b[1;32m----> 6\u001b[0m df\u001b[39m.\u001b[39;49msample(\u001b[39m5\u001b[39;49m)\n",
      "File \u001b[1;32mc:\\Users\\rsilva\\scoop\\apps\\mambaforge\\current\\envs\\db\\lib\\site-packages\\pandas\\core\\generic.py:5773\u001b[0m, in \u001b[0;36mNDFrame.sample\u001b[1;34m(self, n, frac, replace, weights, random_state, axis, ignore_index)\u001b[0m\n\u001b[0;32m   5770\u001b[0m \u001b[39mif\u001b[39;00m weights \u001b[39mis\u001b[39;00m \u001b[39mnot\u001b[39;00m \u001b[39mNone\u001b[39;00m:\n\u001b[0;32m   5771\u001b[0m     weights \u001b[39m=\u001b[39m sample\u001b[39m.\u001b[39mpreprocess_weights(\u001b[39mself\u001b[39m, weights, axis)\n\u001b[1;32m-> 5773\u001b[0m sampled_indices \u001b[39m=\u001b[39m sample\u001b[39m.\u001b[39;49msample(obj_len, size, replace, weights, rs)\n\u001b[0;32m   5774\u001b[0m result \u001b[39m=\u001b[39m \u001b[39mself\u001b[39m\u001b[39m.\u001b[39mtake(sampled_indices, axis\u001b[39m=\u001b[39maxis)\n\u001b[0;32m   5776\u001b[0m \u001b[39mif\u001b[39;00m ignore_index:\n",
      "File \u001b[1;32mc:\\Users\\rsilva\\scoop\\apps\\mambaforge\\current\\envs\\db\\lib\\site-packages\\pandas\\core\\sample.py:150\u001b[0m, in \u001b[0;36msample\u001b[1;34m(obj_len, size, replace, weights, random_state)\u001b[0m\n\u001b[0;32m    147\u001b[0m     \u001b[39melse\u001b[39;00m:\n\u001b[0;32m    148\u001b[0m         \u001b[39mraise\u001b[39;00m \u001b[39mValueError\u001b[39;00m(\u001b[39m\"\u001b[39m\u001b[39mInvalid weights: weights sum to zero\u001b[39m\u001b[39m\"\u001b[39m)\n\u001b[1;32m--> 150\u001b[0m \u001b[39mreturn\u001b[39;00m random_state\u001b[39m.\u001b[39;49mchoice(obj_len, size\u001b[39m=\u001b[39;49msize, replace\u001b[39m=\u001b[39;49mreplace, p\u001b[39m=\u001b[39;49mweights)\u001b[39m.\u001b[39mastype(\n\u001b[0;32m    151\u001b[0m     np\u001b[39m.\u001b[39mintp, copy\u001b[39m=\u001b[39m\u001b[39mFalse\u001b[39;00m\n\u001b[0;32m    152\u001b[0m )\n",
      "File \u001b[1;32mmtrand.pyx:909\u001b[0m, in \u001b[0;36mnumpy.random.mtrand.RandomState.choice\u001b[1;34m()\u001b[0m\n",
      "\u001b[1;31mValueError\u001b[0m: a must be greater than 0 unless no samples are taken"
     ]
    }
   ],
   "source": [
    "import gc\n",
    "import pandas as pd\n",
    "df = pd.DataFrame(smp, dtype='string')\n",
    "del smp\n",
    "gc.collect()\n",
    "df.sample(5)"
   ]
  },
  {
   "cell_type": "code",
   "execution_count": null,
   "metadata": {},
   "outputs": [],
   "source": [
    "df.to_parquet(Path.cwd().parent / 'dados' / 'smp.parquet.gzip', compression='gzip', index=False)"
   ]
  },
  {
   "cell_type": "code",
   "execution_count": null,
   "metadata": {},
   "outputs": [
    {
     "data": {
      "text/html": [
       "<div>\n",
       "<style scoped>\n",
       "    .dataframe tbody tr th:only-of-type {\n",
       "        vertical-align: middle;\n",
       "    }\n",
       "\n",
       "    .dataframe tbody tr th {\n",
       "        vertical-align: top;\n",
       "    }\n",
       "\n",
       "    .dataframe thead th {\n",
       "        text-align: right;\n",
       "    }\n",
       "</style>\n",
       "<table border=\"1\" class=\"dataframe\">\n",
       "  <thead>\n",
       "    <tr style=\"text-align: right;\">\n",
       "      <th></th>\n",
       "      <th></th>\n",
       "      <th></th>\n",
       "      <th></th>\n",
       "      <th></th>\n",
       "      <th></th>\n",
       "      <th>Contagem_Fistel</th>\n",
       "    </tr>\n",
       "    <tr>\n",
       "      <th>SiglaUf</th>\n",
       "      <th>NomeMunicipio</th>\n",
       "      <th>Latitude</th>\n",
       "      <th>Longitude</th>\n",
       "      <th>NumFistel</th>\n",
       "      <th>FreqCentralMHz</th>\n",
       "      <th></th>\n",
       "    </tr>\n",
       "  </thead>\n",
       "  <tbody>\n",
       "    <tr>\n",
       "      <th rowspan=\"5\" valign=\"top\">AC</th>\n",
       "      <th rowspan=\"5\" valign=\"top\">RIO BRANCO</th>\n",
       "      <th rowspan=\"5\" valign=\"top\">-9.87014</th>\n",
       "      <th rowspan=\"5\" valign=\"top\">-67.9121</th>\n",
       "      <th rowspan=\"5\" valign=\"top\">50409889580</th>\n",
       "      <th>1822.5</th>\n",
       "      <td>5</td>\n",
       "    </tr>\n",
       "    <tr>\n",
       "      <th>1875</th>\n",
       "      <td>5</td>\n",
       "    </tr>\n",
       "    <tr>\n",
       "      <th>2130</th>\n",
       "      <td>3</td>\n",
       "    </tr>\n",
       "    <tr>\n",
       "      <th>2640</th>\n",
       "      <td>3</td>\n",
       "    </tr>\n",
       "    <tr>\n",
       "      <th>885</th>\n",
       "      <td>3</td>\n",
       "    </tr>\n",
       "    <tr>\n",
       "      <th>...</th>\n",
       "      <th>...</th>\n",
       "      <th>...</th>\n",
       "      <th>...</th>\n",
       "      <th>...</th>\n",
       "      <th>...</th>\n",
       "      <td>...</td>\n",
       "    </tr>\n",
       "    <tr>\n",
       "      <th rowspan=\"5\" valign=\"top\">TO</th>\n",
       "      <th rowspan=\"2\" valign=\"top\">PEDRO AFONSO</th>\n",
       "      <th rowspan=\"2\" valign=\"top\">-8.97436</th>\n",
       "      <th rowspan=\"2\" valign=\"top\">-48.17339</th>\n",
       "      <th rowspan=\"2\" valign=\"top\">50409146366</th>\n",
       "      <th>1855</th>\n",
       "      <td>3</td>\n",
       "    </tr>\n",
       "    <tr>\n",
       "      <th>874.5</th>\n",
       "      <td>3</td>\n",
       "    </tr>\n",
       "    <tr>\n",
       "      <th rowspan=\"3\" valign=\"top\">PORTO NACIONAL</th>\n",
       "      <th rowspan=\"3\" valign=\"top\">-10.7101</th>\n",
       "      <th rowspan=\"3\" valign=\"top\">-48.4089</th>\n",
       "      <th rowspan=\"3\" valign=\"top\">50409889580</th>\n",
       "      <th>1822.5</th>\n",
       "      <td>3</td>\n",
       "    </tr>\n",
       "    <tr>\n",
       "      <th>1875</th>\n",
       "      <td>3</td>\n",
       "    </tr>\n",
       "    <tr>\n",
       "      <th>953.75</th>\n",
       "      <td>2</td>\n",
       "    </tr>\n",
       "  </tbody>\n",
       "</table>\n",
       "<p>23457 rows × 1 columns</p>\n",
       "</div>"
      ],
      "text/plain": [
       "                                                                      Contagem_Fistel\n",
       "SiglaUf NomeMunicipio  Latitude Longitude NumFistel   FreqCentralMHz                 \n",
       "AC      RIO BRANCO     -9.87014 -67.9121  50409889580 1822.5                        5\n",
       "                                                      1875                          5\n",
       "                                                      2130                          3\n",
       "                                                      2640                          3\n",
       "                                                      885                           3\n",
       "...                                                                               ...\n",
       "TO      PEDRO AFONSO   -8.97436 -48.17339 50409146366 1855                          3\n",
       "                                                      874.5                         3\n",
       "        PORTO NACIONAL -10.7101 -48.4089  50409889580 1822.5                        3\n",
       "                                                      1875                          3\n",
       "                                                      953.75                        2\n",
       "\n",
       "[23457 rows x 1 columns]"
      ]
     },
     "execution_count": 17,
     "metadata": {},
     "output_type": "execute_result"
    }
   ],
   "source": [
    "df.groupby(['SiglaUf', 'NomeMunicipio', 'Latitude', 'Longitude', 'NumFistel',\n",
    "            'FreqCentralMHz']).size().to_frame(name = 'Contagem_Fistel')"
   ]
  },
  {
   "cell_type": "code",
   "execution_count": null,
   "metadata": {},
   "outputs": [],
   "source": [
    "# from pandas_profiling import ProfileReport\n",
    "# profile = ProfileReport(df, explorative=True)\n",
    "# profile.to_notebook_iframe()"
   ]
  },
  {
   "cell_type": "code",
   "execution_count": null,
   "metadata": {},
   "outputs": [],
   "source": []
  }
 ],
 "metadata": {
  "kernelspec": {
   "display_name": "db",
   "language": "python",
   "name": "python3"
  },
  "language_info": {
   "codemirror_mode": {
    "name": "ipython",
    "version": 3
   },
   "file_extension": ".py",
   "mimetype": "text/x-python",
   "name": "python",
   "nbconvert_exporter": "python",
   "pygments_lexer": "ipython3",
   "version": "3.10.11"
  },
  "orig_nbformat": 4
 },
 "nbformat": 4,
 "nbformat_minor": 2
}
