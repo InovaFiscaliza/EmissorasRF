{
 "cells": [
  {
   "cell_type": "code",
   "execution_count": null,
   "id": "80feb396",
   "metadata": {},
   "outputs": [
    {
     "name": "stdout",
     "output_type": "stream",
     "text": [
      "The autoreload extension is already loaded. To reload it, use:\n",
      "  %reload_ext autoreload\n"
     ]
    }
   ],
   "source": [
    "#| default_exp main\n",
    "import sys,os\n",
    "from pathlib import Path\n",
    "# Insert in Path Project Directory\n",
    "sys.path.insert(0, str(Path().cwd().parent))\n",
    "%load_ext autoreload\n",
    "%autoreload 2"
   ]
  },
  {
   "attachments": {},
   "cell_type": "markdown",
   "id": "c06a9485",
   "metadata": {},
   "source": [
    "# Principal\n",
    "> Este módulo concentra funções auxiliares específicas que filtram os dados do banco com campos e formatação de interesse para aplicações específicas como o [appAnalise](https://github.com/EricMagalhaesDelgado/appAnalise) por exemplo."
   ]
  },
  {
   "cell_type": "code",
   "execution_count": null,
   "id": "ac0c52ca",
   "metadata": {},
   "outputs": [
    {
     "data": {
      "text/plain": [
       "True"
      ]
     },
     "execution_count": null,
     "metadata": {},
     "output_type": "execute_result"
    }
   ],
   "source": [
    "#| export\n",
    "import json\n",
    "from datetime import datetime\n",
    "from pathlib import Path\n",
    "from typing import Union\n",
    "\n",
    "import pandas as pd\n",
    "import pyodbc\n",
    "from dotenv import find_dotenv, load_dotenv\n",
    "from fastcore.test import *\n",
    "from pymongo import MongoClient\n",
    "from rich import print\n",
    "\n",
    "from extracao.format import _filter_matlab, _format_matlab, merge_on_frequency\n",
    "from extracao.reading import read_aero, read_base\n",
    "\n",
    "load_dotenv(find_dotenv(), override=True)"
   ]
  },
  {
   "cell_type": "code",
   "execution_count": null,
   "id": "659d39b0",
   "metadata": {},
   "outputs": [],
   "source": [
    "#| export\n",
    "def get_db(\n",
    "    path: Union[str, Path],  # Pasta onde salvar os arquivos\",\n",
    "    connSQL: pyodbc.Connection = None,  # Objeto de conexão do banco SQL Server\n",
    "    clientMongoDB: MongoClient = None,  # Objeto de conexão do banco MongoDB\n",
    ") -> pd.DataFrame:  # Retorna o DataFrame com as bases da Anatel e da Aeronáutica\n",
    "    \"\"\"Lê e opcionalmente atualiza as bases da Anatel, mescla as bases da Aeronáutica, salva e retorna o arquivo\n",
    "    A atualização junto às bases de dados da Anatel é efetuada caso ambos objetos de banco `connSQL` e `clientMongoDB` forem válidos`\n",
    "    \"\"\"\n",
    "    dest = Path(path)\n",
    "    dest.mkdir(parents=True, exist_ok=True)\n",
    "    print(\":scroll:[green]Lendo as bases de dados da Anatel...\")\n",
    "    df = read_base(path, connSQL, clientMongoDB)\n",
    "    df = _filter_matlab(df)\n",
    "    mod_times = {\"ANATEL\": datetime.now().strftime(\"%d/%m/%Y %H:%M:%S\")}\n",
    "    print(\":airplane:[blue]Requisitando os dados da Aeronáutica.\")\n",
    "    update = all([connSQL, clientMongoDB])\n",
    "    try:\n",
    "        aero = read_aero(path, update=update)\n",
    "    except Exception:\n",
    "        aero = read_aero(path)\n",
    "    mod_times[\"AERONAUTICA\"] = datetime.now().strftime(\"%d/%m/%Y %H:%M:%S\")\n",
    "    print(\":spoon:[yellow]Mesclando os dados da Aeronáutica.\")\n",
    "    df = _format_matlab(merge_on_frequency(df, aero))\n",
    "    print(\":card_file_box:[green]Salvando os arquivos...\")\n",
    "    df.to_parquet(f\"{dest}/AnatelDB.parquet.gzip\", compression=\"gzip\", index=False)\n",
    "    versiondb = json.loads((dest / \"VersionFile.json\").read_text())\n",
    "    mod_times[\"ReleaseDate\"] = datetime.now().strftime(\"%d/%m/%Y %H:%M:%S\")\n",
    "    versiondb[\"anateldb\"].update(mod_times)\n",
    "    json.dump(versiondb, (dest / \"VersionFile.json\").open(\"w\"))\n",
    "    print(\"Sucesso :zap:\")\n",
    "    return df"
   ]
  },
  {
   "cell_type": "code",
   "execution_count": null,
   "id": "40a510fe",
   "metadata": {},
   "outputs": [],
   "source": [
    "#|eval: false\n",
    "import os\n",
    "import warnings\n",
    "from extracao.updates import connect_db\n",
    "import numpy as np\n",
    "from geopy.distance import geodesic\n"
   ]
  },
  {
   "cell_type": "code",
   "execution_count": null,
   "id": "ccb75aa7",
   "metadata": {},
   "outputs": [],
   "source": [
    "#|eval: false\n",
    "warnings.filterwarnings(\"ignore\")"
   ]
  },
  {
   "cell_type": "code",
   "execution_count": null,
   "id": "81f093fe",
   "metadata": {},
   "outputs": [],
   "source": [
    "#|eval: false\n",
    "folder = Path.cwd().parent / 'dados'"
   ]
  },
  {
   "cell_type": "code",
   "execution_count": null,
   "id": "feb70a90",
   "metadata": {},
   "outputs": [],
   "source": [
    "#|eval: false\n",
    "# conn = connect_db()\n",
    "# uri = os.environ['MONGO_URI']\n",
    "# mongo_client = MongoClient(uri)"
   ]
  },
  {
   "cell_type": "code",
   "execution_count": null,
   "id": "ac178478",
   "metadata": {},
   "outputs": [
    {
     "data": {
      "text/html": [
       "<pre style=\"white-space:pre;overflow-x:auto;line-height:normal;font-family:Menlo,'DejaVu Sans Mono',consolas,'Courier New',monospace\">📜<span style=\"color: #008000; text-decoration-color: #008000\">Lendo as bases de dados da Anatel...</span>\n",
       "</pre>\n"
      ],
      "text/plain": [
       "📜\u001b[32mLendo as bases de dados da Anatel\u001b[0m\u001b[32m...\u001b[0m\n"
      ]
     },
     "metadata": {},
     "output_type": "display_data"
    },
    {
     "data": {
      "text/html": [
       "<pre style=\"white-space:pre;overflow-x:auto;line-height:normal;font-family:Menlo,'DejaVu Sans Mono',consolas,'Courier New',monospace\">✈<span style=\"color: #000080; text-decoration-color: #000080\">Requisitando os dados da Aeronáutica.</span>\n",
       "</pre>\n"
      ],
      "text/plain": [
       "✈\u001b[34mRequisitando os dados da Aeronáutica.\u001b[0m\n"
      ]
     },
     "metadata": {},
     "output_type": "display_data"
    },
    {
     "data": {
      "text/html": [
       "<pre style=\"white-space:pre;overflow-x:auto;line-height:normal;font-family:Menlo,'DejaVu Sans Mono',consolas,'Courier New',monospace\">🥄<span style=\"color: #808000; text-decoration-color: #808000\">Mesclando os dados da Aeronáutica.</span>\n",
       "</pre>\n"
      ],
      "text/plain": [
       "🥄\u001b[33mMesclando os dados da Aeronáutica.\u001b[0m\n"
      ]
     },
     "metadata": {},
     "output_type": "display_data"
    },
    {
     "data": {
      "text/html": [
       "<pre style=\"white-space:pre;overflow-x:auto;line-height:normal;font-family:Menlo,'DejaVu Sans Mono',consolas,'Courier New',monospace\">🗃<span style=\"color: #008000; text-decoration-color: #008000\">Salvando os arquivos...</span>\n",
       "</pre>\n"
      ],
      "text/plain": [
       "🗃\u001b[32mSalvando os arquivos\u001b[0m\u001b[32m...\u001b[0m\n"
      ]
     },
     "metadata": {},
     "output_type": "display_data"
    },
    {
     "data": {
      "text/html": [
       "<pre style=\"white-space:pre;overflow-x:auto;line-height:normal;font-family:Menlo,'DejaVu Sans Mono',consolas,'Courier New',monospace\">Sucesso ⚡\n",
       "</pre>\n"
      ],
      "text/plain": [
       "Sucesso ⚡\n"
      ]
     },
     "metadata": {},
     "output_type": "display_data"
    }
   ],
   "source": [
    "#|eval: false\n",
    "# os.chdir(f\"{Path.cwd().parent}/extracao/aero\")\n",
    "df = get_db(folder)\n",
    "# df = get_db(folder) #, conn, mongo_client)\n",
    "# df = pd.read_parquet(folder / 'AnatelDB.parquet.gzip')"
   ]
  },
  {
   "cell_type": "code",
   "execution_count": null,
   "id": "df3f5b85",
   "metadata": {},
   "outputs": [],
   "source": [
    "#|eval: false\n",
    "from pandas_profiling import ProfileReport\n",
    "df['Frequency'] = df['Frequency'].astype('category')\n",
    "profile = ProfileReport(df, config_file= folder.parent / 'nbs/report_config.yaml')\n",
    "profile.to_notebook_iframe()"
   ]
  },
  {
   "cell_type": "code",
   "execution_count": null,
   "id": "a3a32cf1",
   "metadata": {},
   "outputs": [],
   "source": []
  }
 ],
 "metadata": {
  "kernelspec": {
   "display_name": "python3",
   "language": "python",
   "name": "python3"
  }
 },
 "nbformat": 4,
 "nbformat_minor": 5
}
