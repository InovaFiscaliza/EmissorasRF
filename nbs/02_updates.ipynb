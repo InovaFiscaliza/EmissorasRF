{
 "cells": [
  {
   "cell_type": "code",
   "execution_count": null,
   "metadata": {},
   "outputs": [],
   "source": [
    "#| default_exp updates\n",
    "%load_ext autoreload\n",
    "%autoreload 2\n",
    "\n",
    "import sys\n",
    "from pathlib import Path\n"
   ]
  },
  {
   "cell_type": "code",
   "execution_count": null,
   "metadata": {},
   "outputs": [],
   "source": [
    "\n",
    "# Insert in Path Project Directory\n",
    "sys.path.insert(0, str(Path().cwd().parent))"
   ]
  },
  {
   "cell_type": "markdown",
   "metadata": {},
   "source": [
    "# Atualização\n",
    "\n",
    "> Este módulo atualiza as bases. Executa as queries sql do STEL, RADCOM e baixa os arquivos de estações e plano básico do MOSAICO."
   ]
  },
  {
   "cell_type": "code",
   "execution_count": null,
   "metadata": {},
   "outputs": [
    {
     "data": {
      "text/plain": [
       "True"
      ]
     },
     "execution_count": null,
     "metadata": {},
     "output_type": "execute_result"
    }
   ],
   "source": [
    "#| export\n",
    "import gc\n",
    "import os\n",
    "from decimal import Decimal, getcontext\n",
    "from typing import List, Union\n",
    "\n",
    "import numpy as np\n",
    "import pandas as pd\n",
    "import pyodbc\n",
    "from dotenv import find_dotenv, load_dotenv\n",
    "from fastcore.parallel import parallel\n",
    "from fastcore.utils import partialler\n",
    "from fastcore.xtras import Path\n",
    "from pyarrow import ArrowInvalid, ArrowTypeError\n",
    "from pymongo import MongoClient\n",
    "from rich import print\n",
    "from rich.console import Console\n",
    "\n",
    "from extracao.aero.aisgeo import get_aisg\n",
    "from extracao.aero.aisweb import get_aisw\n",
    "from extracao.aero.icao import get_icao\n",
    "from extracao.aero.redemet import get_redemet\n",
    "from extracao.constants import *\n",
    "from extracao.format import _read_df, merge_on_frequency, parse_bw\n",
    "\n",
    "getcontext().prec = 5\n",
    "load_dotenv(find_dotenv())"
   ]
  },
  {
   "cell_type": "markdown",
   "metadata": {},
   "source": [
    "## Conexão com o banco de dados\n",
    "A função a seguir é um `wrapper` simples que utiliza o `pyodbc` para se conectar ao banco de dados base da Anatel e retorna o objeto da conexão"
   ]
  },
  {
   "cell_type": "code",
   "execution_count": null,
   "metadata": {},
   "outputs": [],
   "source": [
    "#| export\n",
    "def connect_db(\n",
    "    server: str = \"ANATELBDRO05\",  # Servidor do Banco de Dados\n",
    "    database: str = \"SITARWEB\",  # Nome do Banco de Dados\n",
    "    trusted_conn: str = \"yes\",  # Conexão Segura: yes | no\n",
    "    mult_results: bool = True,  # Múltiplos Resultados\n",
    ") -> pyodbc.Connection:\n",
    "    \"\"\"Conecta ao Banco `server` e retorna o 'cursor' (iterador) do Banco\"\"\"\n",
    "    return pyodbc.connect(\n",
    "        \"Driver={ODBC Driver 17 for SQL Server};\"\n",
    "        f\"Server={server};\"\n",
    "        f\"Database={database};\"\n",
    "        f\"Trusted_Connection={trusted_conn};\"\n",
    "        f\"MultipleActiveResultSets={mult_results};\",\n",
    "        timeout=TIMEOUT,\n",
    "    )"
   ]
  },
  {
   "cell_type": "code",
   "execution_count": null,
   "metadata": {},
   "outputs": [],
   "source": [
    "from fastcore.test import test_eq"
   ]
  },
  {
   "cell_type": "code",
   "execution_count": null,
   "metadata": {},
   "outputs": [],
   "source": [
    "#echo: false\n",
    "def test_connection():\n",
    "    conn = connect_db()\n",
    "    cursor = conn.cursor()\n",
    "    for query in (SQL_RADCOM,SQL_STEL):\n",
    "        cursor.execute(query)\n",
    "        test_eq(type(cursor.fetchone()), pyodbc.Row)"
   ]
  },
  {
   "cell_type": "code",
   "execution_count": null,
   "metadata": {},
   "outputs": [],
   "source": [
    "#| eval: false\n",
    "test_connection()"
   ]
  },
  {
   "cell_type": "code",
   "execution_count": null,
   "metadata": {},
   "outputs": [],
   "source": [
    "#| export\n",
    "def clean_mosaico(\n",
    "    df: pd.DataFrame,  # DataFrame com os dados de Estações e Plano_Básico mesclados\n",
    "    pasta: Union[\n",
    "        str, Path\n",
    "    ],  # Pasta com os dados de municípios para imputar coordenadas ausentes\n",
    ") -> pd.DataFrame:  # DataFrame com os dados mesclados e limpos\n",
    "    \"\"\"Clean the merged dataframe with the data from the MOSAICO page\"\"\"\n",
    "    df = df[\n",
    "        df.Status.str.contains(\"-C1$|-C2$|-C3$|-C4$|-C7|-C98$\", na=False)\n",
    "    ].reset_index(drop=True)\n",
    "    for c in df.columns:\n",
    "        df.loc[df[c] == \"\", c] = pd.NA\n",
    "    df.loc[\"Frequência\"] = df.Frequência.astype(\"str\").str.replace(\",\", \".\")\n",
    "    df = df[df.Frequência.notna()].reset_index(drop=True)\n",
    "    df.loc[\"Frequência\"] = df.Frequência.astype(\"float\")\n",
    "    df.loc[df.Num_Serviço == \"205\", \"Frequência\"] = df.loc[\n",
    "        df.Num_Serviço == \"205\", \"Frequência\"\n",
    "    ].apply(lambda x: Decimal(x) / Decimal(1000))\n",
    "    df.loc[:, \"Validade_RF\"] = df.Validade_RF.astype(\"string\").str.slice(0, 10)\n",
    "    return df"
   ]
  },
  {
   "cell_type": "markdown",
   "metadata": {},
   "source": [
    "## Atualização das bases de dados\n",
    "As bases de dados são atualizadas atráves das funções a seguir, o único argumento passado em todas elas é a pasta na qual os arquivos locais processados serão salvos, os nomes dos arquivos são padronizados e não podem ser editados para que as funções de leitura e processamento recebam somente a pasta na qual esses arquivos foram salvos."
   ]
  },
  {
   "cell_type": "code",
   "execution_count": null,
   "metadata": {},
   "outputs": [],
   "source": [
    "#| export\n",
    "def _save_df(df: pd.DataFrame, folder: Union[str, Path], stem: str) -> pd.DataFrame:\n",
    "    \"\"\"Format, Save and return a dataframe\"\"\"\n",
    "    df = df.copy().astype(\"string\")  # Impedir a alteração do df original\n",
    "    df = df.drop_duplicates(keep=\"first\").reset_index(drop=True)\n",
    "    if \"Código_Município\" in df:\n",
    "        df = df[df.Código_Município.notna()].reset_index(drop=True)\n",
    "    try:\n",
    "        file = Path(f\"{folder}/{stem}.parquet.gzip\")\n",
    "        df.to_parquet(file, compression=\"gzip\", index=False)\n",
    "    except (ArrowInvalid, ArrowTypeError) as e:\n",
    "        raise e(f\"Não possível salvar o arquivo parquet {file}\") from e\n",
    "    return df"
   ]
  },
  {
   "cell_type": "markdown",
   "metadata": {},
   "source": [
    "### RADCOM"
   ]
  },
  {
   "cell_type": "code",
   "execution_count": null,
   "metadata": {},
   "outputs": [],
   "source": [
    "# | export\n",
    "def update_radcom(\n",
    "    conn: pyodbc.Connection,  # Objeto de conexão de banco\n",
    "    folder: Union[str, Path],  # Pasta onde salvar os arquivos\n",
    ") -> pd.DataFrame:  # DataFrame com os dados atualizados\n",
    "    \"\"\"Atualiza a tabela local retornada pela query `RADCOM`, com tratamento de erro de conectividade.\"\"\"\n",
    "    console = Console()\n",
    "    with console.status(\n",
    "        \"[cyan]Lendo o Banco de Dados de Radcom...\", spinner=\"monkey\"\n",
    "    ) as status:\n",
    "        try:\n",
    "            return _extract_radcom(conn, folder)\n",
    "        except pyodbc.OperationalError as e:\n",
    "            status.console.log(\n",
    "                \"Não foi possível abrir uma conexão com o SQL Server. Esta conexão somente funciona da rede cabeada!\"\n",
    "            )\n",
    "            raise ConnectionError from e\n",
    "\n",
    "\n",
    "def _extract_radcom(\n",
    "    conn: pyodbc.Connection,  # Objeto de conexão de banco\n",
    "    folder: Union[str, Path],  # Pasta onde salvar os arquivos\n",
    ") -> pd.DataFrame:  # DataFrame com os dados atualizados\n",
    "    df = pd.read_sql_query(SQL_RADCOM, conn, dtype=\"string\")\n",
    "    df[\"Entidade\"] = df.Entidade.str.rstrip().str.lstrip()\n",
    "    df[\"Num_Serviço\"] = \"231\"\n",
    "    df[\"Classe_Emissão\"] = pd.NA\n",
    "    df[\"Largura_Emissão(kHz)\"] = \"256\"\n",
    "    df[\"Validade_RF\"] = pd.NA\n",
    "    df[\"Status\"] = \"RADCOM\"\n",
    "    df[\"Fonte\"] = \"SRD\"\n",
    "    df[\"Multiplicidade\"] = \"1\"\n",
    "    a = df.Situação.isna()\n",
    "    df.loc[a, \"Classe\"] = df.loc[a, \"Fase\"]\n",
    "    df.loc[~a, \"Classe\"] = (\n",
    "        df.loc[~a, \"Fase\"].astype(\"string\")\n",
    "        + \"-\"\n",
    "        + df.loc[~a, \"Situação\"].astype(\"string\")\n",
    "    )\n",
    "    df.drop([\"Fase\", \"Situação\"], axis=1, inplace=True)\n",
    "    df = df.loc[:, COLUNAS]\n",
    "    return _save_df(df, folder, \"radcom\")"
   ]
  },
  {
   "cell_type": "code",
   "execution_count": null,
   "metadata": {},
   "outputs": [],
   "source": [
    "#| eval: false\n",
    "import warnings\n",
    "import os\n",
    "# warnings.filterwarnings(\"ignore\", message='install \"ipywidgets\" for Jupyter support')\n",
    "warnings.filterwarnings(\"ignore\")"
   ]
  },
  {
   "cell_type": "code",
   "execution_count": null,
   "metadata": {},
   "outputs": [
    {
     "name": "stdout",
     "output_type": "stream",
     "text": [
      "CPU times: total: 0 ns\n",
      "Wall time: 4.01 ms\n"
     ]
    }
   ],
   "source": [
    "%%time\n",
    "#| eval: false\n",
    "folder = Path.cwd().parent / 'dados'\n",
    "conn = connect_db()\n"
   ]
  },
  {
   "cell_type": "code",
   "execution_count": null,
   "metadata": {},
   "outputs": [
    {
     "data": {
      "application/vnd.jupyter.widget-view+json": {
       "model_id": "b7d003810c1a4e1dbb0765de654f9664",
       "version_major": 2,
       "version_minor": 0
      },
      "text/plain": [
       "Output()"
      ]
     },
     "metadata": {},
     "output_type": "display_data"
    },
    {
     "data": {
      "text/html": [
       "<pre style=\"white-space:pre;overflow-x:auto;line-height:normal;font-family:Menlo,'DejaVu Sans Mono',consolas,'Courier New',monospace\"></pre>\n"
      ],
      "text/plain": []
     },
     "metadata": {},
     "output_type": "display_data"
    },
    {
     "name": "stdout",
     "output_type": "stream",
     "text": [
      "CPU times: total: 547 ms\n",
      "Wall time: 1.22 s\n"
     ]
    },
    {
     "data": {
      "text/html": [
       "<div>\n",
       "<style scoped>\n",
       "    .dataframe tbody tr th:only-of-type {\n",
       "        vertical-align: middle;\n",
       "    }\n",
       "\n",
       "    .dataframe tbody tr th {\n",
       "        vertical-align: top;\n",
       "    }\n",
       "\n",
       "    .dataframe thead th {\n",
       "        text-align: right;\n",
       "    }\n",
       "</style>\n",
       "<table border=\"1\" class=\"dataframe\">\n",
       "  <thead>\n",
       "    <tr style=\"text-align: right;\">\n",
       "      <th></th>\n",
       "      <th>Frequência</th>\n",
       "      <th>Entidade</th>\n",
       "      <th>Fistel</th>\n",
       "      <th>Número_Estação</th>\n",
       "      <th>Município</th>\n",
       "      <th>Código_Município</th>\n",
       "      <th>UF</th>\n",
       "      <th>Latitude</th>\n",
       "      <th>Longitude</th>\n",
       "      <th>Classe</th>\n",
       "      <th>Num_Serviço</th>\n",
       "      <th>Classe_Emissão</th>\n",
       "      <th>Largura_Emissão(kHz)</th>\n",
       "      <th>Validade_RF</th>\n",
       "      <th>Status</th>\n",
       "      <th>Fonte</th>\n",
       "      <th>Multiplicidade</th>\n",
       "    </tr>\n",
       "  </thead>\n",
       "  <tbody>\n",
       "    <tr>\n",
       "      <th>2154</th>\n",
       "      <td>87.9</td>\n",
       "      <td>ASSOCIACAO CULTURAL COMUNITARIA SIMONENSE</td>\n",
       "      <td>50014035022</td>\n",
       "      <td>631438289</td>\n",
       "      <td>São Simão</td>\n",
       "      <td>3550902</td>\n",
       "      <td>SP</td>\n",
       "      <td>-21.479722222222165</td>\n",
       "      <td>-47.55694444444433</td>\n",
       "      <td>3</td>\n",
       "      <td>231</td>\n",
       "      <td>&lt;NA&gt;</td>\n",
       "      <td>256</td>\n",
       "      <td>&lt;NA&gt;</td>\n",
       "      <td>RADCOM</td>\n",
       "      <td>SRD</td>\n",
       "      <td>1</td>\n",
       "    </tr>\n",
       "    <tr>\n",
       "      <th>2126</th>\n",
       "      <td>87.9</td>\n",
       "      <td>ASSOCIACAO COM.BENEF.NOSSA SRA.DA CONCEICAO-RA...</td>\n",
       "      <td>50011838558</td>\n",
       "      <td>659050722</td>\n",
       "      <td>Pereiras</td>\n",
       "      <td>3537503</td>\n",
       "      <td>SP</td>\n",
       "      <td>-23.075833333333332</td>\n",
       "      <td>-47.969444444444335</td>\n",
       "      <td>3-A</td>\n",
       "      <td>231</td>\n",
       "      <td>&lt;NA&gt;</td>\n",
       "      <td>256</td>\n",
       "      <td>&lt;NA&gt;</td>\n",
       "      <td>RADCOM</td>\n",
       "      <td>SRD</td>\n",
       "      <td>1</td>\n",
       "    </tr>\n",
       "    <tr>\n",
       "      <th>2354</th>\n",
       "      <td>98.3</td>\n",
       "      <td>ASSOCIAÇÃO DE RADIODIFUSÃO COMUNITÁRIA ARNORED...</td>\n",
       "      <td>50407724672</td>\n",
       "      <td>699363594</td>\n",
       "      <td>Governador Celso Ramos</td>\n",
       "      <td>4206009</td>\n",
       "      <td>SC</td>\n",
       "      <td>-27.3155555555555</td>\n",
       "      <td>-48.5480555555555</td>\n",
       "      <td>P-A</td>\n",
       "      <td>231</td>\n",
       "      <td>&lt;NA&gt;</td>\n",
       "      <td>256</td>\n",
       "      <td>&lt;NA&gt;</td>\n",
       "      <td>RADCOM</td>\n",
       "      <td>SRD</td>\n",
       "      <td>1</td>\n",
       "    </tr>\n",
       "    <tr>\n",
       "      <th>3248</th>\n",
       "      <td>104.9</td>\n",
       "      <td>ASSOCIACAO COMUNITARIA DE SANTO ANTONIO DO MONTE</td>\n",
       "      <td>50013840010</td>\n",
       "      <td>684040328</td>\n",
       "      <td>Santo Antônio do Monte</td>\n",
       "      <td>3160405</td>\n",
       "      <td>MG</td>\n",
       "      <td>-20.087777777777667</td>\n",
       "      <td>-45.29388888888883</td>\n",
       "      <td>3-B</td>\n",
       "      <td>231</td>\n",
       "      <td>&lt;NA&gt;</td>\n",
       "      <td>256</td>\n",
       "      <td>&lt;NA&gt;</td>\n",
       "      <td>RADCOM</td>\n",
       "      <td>SRD</td>\n",
       "      <td>1</td>\n",
       "    </tr>\n",
       "    <tr>\n",
       "      <th>2042</th>\n",
       "      <td>87.9</td>\n",
       "      <td>ASSOCIACAO COMUNIT. PRO-DESENV. CULT. E ARTIST...</td>\n",
       "      <td>50011314303</td>\n",
       "      <td>631374922</td>\n",
       "      <td>Caconde</td>\n",
       "      <td>3508702</td>\n",
       "      <td>SP</td>\n",
       "      <td>-21.538333333333334</td>\n",
       "      <td>-46.648611111111</td>\n",
       "      <td>3</td>\n",
       "      <td>231</td>\n",
       "      <td>&lt;NA&gt;</td>\n",
       "      <td>256</td>\n",
       "      <td>&lt;NA&gt;</td>\n",
       "      <td>RADCOM</td>\n",
       "      <td>SRD</td>\n",
       "      <td>1</td>\n",
       "    </tr>\n",
       "  </tbody>\n",
       "</table>\n",
       "</div>"
      ],
      "text/plain": [
       "     Frequência                                           Entidade  \\\n",
       "2154       87.9          ASSOCIACAO CULTURAL COMUNITARIA SIMONENSE   \n",
       "2126       87.9  ASSOCIACAO COM.BENEF.NOSSA SRA.DA CONCEICAO-RA...   \n",
       "2354       98.3  ASSOCIAÇÃO DE RADIODIFUSÃO COMUNITÁRIA ARNORED...   \n",
       "3248      104.9   ASSOCIACAO COMUNITARIA DE SANTO ANTONIO DO MONTE   \n",
       "2042       87.9  ASSOCIACAO COMUNIT. PRO-DESENV. CULT. E ARTIST...   \n",
       "\n",
       "           Fistel Número_Estação               Município Código_Município  UF  \\\n",
       "2154  50014035022      631438289               São Simão          3550902  SP   \n",
       "2126  50011838558      659050722                Pereiras          3537503  SP   \n",
       "2354  50407724672      699363594  Governador Celso Ramos          4206009  SC   \n",
       "3248  50013840010      684040328  Santo Antônio do Monte          3160405  MG   \n",
       "2042  50011314303      631374922                 Caconde          3508702  SP   \n",
       "\n",
       "                 Latitude            Longitude Classe Num_Serviço  \\\n",
       "2154  -21.479722222222165   -47.55694444444433      3         231   \n",
       "2126  -23.075833333333332  -47.969444444444335    3-A         231   \n",
       "2354    -27.3155555555555    -48.5480555555555    P-A         231   \n",
       "3248  -20.087777777777667   -45.29388888888883    3-B         231   \n",
       "2042  -21.538333333333334     -46.648611111111      3         231   \n",
       "\n",
       "     Classe_Emissão Largura_Emissão(kHz) Validade_RF  Status Fonte  \\\n",
       "2154           <NA>                  256        <NA>  RADCOM   SRD   \n",
       "2126           <NA>                  256        <NA>  RADCOM   SRD   \n",
       "2354           <NA>                  256        <NA>  RADCOM   SRD   \n",
       "3248           <NA>                  256        <NA>  RADCOM   SRD   \n",
       "2042           <NA>                  256        <NA>  RADCOM   SRD   \n",
       "\n",
       "     Multiplicidade  \n",
       "2154              1  \n",
       "2126              1  \n",
       "2354              1  \n",
       "3248              1  \n",
       "2042              1  "
      ]
     },
     "execution_count": null,
     "metadata": {},
     "output_type": "execute_result"
    }
   ],
   "source": [
    "%%time\n",
    "#| eval: false\n",
    "radcom = update_radcom(conn, folder)\n",
    "radcom.sample(5)"
   ]
  },
  {
   "cell_type": "markdown",
   "metadata": {},
   "source": [
    "### STEL"
   ]
  },
  {
   "cell_type": "code",
   "execution_count": null,
   "metadata": {},
   "outputs": [],
   "source": [
    "#|export\n",
    "def update_stel(\n",
    "    conn: pyodbc.Connection,  # Objeto de conexão de banco\n",
    "    folder: Union[str, Path],  # Pasta onde salvar os arquivos\n",
    ") -> pd.DataFrame:  # DataFrame com os dados atualizados\n",
    "    \"\"\"Atualiza a tabela local retornada pela query `STEL`, com tratamento de erro de conectividade.\"\"\"\n",
    "    console = Console()\n",
    "    with console.status(\n",
    "        \"[red]Lendo o Banco de Dados do STEL\",\n",
    "        spinner=\"grenade\",\n",
    "    ) as status:\n",
    "        try:\n",
    "            return _extract_stel(conn, folder)\n",
    "        except pyodbc.OperationalError as e:\n",
    "            status.console.log(\n",
    "                \"Não foi possível abrir uma conexão com o SQL Server. Esta conexão somente funciona da rede cabeada!\"\n",
    "            )\n",
    "            raise ConnectionError from e\n",
    "\n",
    "\n",
    "def _extract_stel(\n",
    "    conn: pyodbc.Connection,  # Objeto de conexão de banco\n",
    "    folder: Union[str, Path],  # Pasta onde salvar os arquivos\n",
    ") -> pd.DataFrame:  # DataFrame com os dados atualizados\n",
    "    \"\"\"Atualiza a tabela local retornada pela query `STEL`\"\"\"\n",
    "    stel = pd.read_sql_query(SQL_STEL, conn)\n",
    "    stel[\"Status\"] = \"L\"\n",
    "    stel[\"Entidade\"] = stel.Entidade.str.rstrip().str.lstrip()\n",
    "    stel[\"Fonte\"] = \"STEL\"\n",
    "    stel.loc[:, [\"Largura_Emissão(kHz)\", \"_\"]] = (\n",
    "        stel.Largura_Emissão.fillna(\"\").apply(parse_bw).tolist()\n",
    "    )\n",
    "    stel.drop([\"Largura_Emissão\", \"_\"], axis=1, inplace=True)\n",
    "    stel.loc[:, \"Validade_RF\"] = stel.Validade_RF.astype(\"string\").str.slice(0, 10)\n",
    "    stel.loc[stel.Unidade == \"kHz\", \"Frequência\"] = stel.loc[\n",
    "        stel.Unidade == \"kHz\", \"Frequência\"\n",
    "    ].apply(lambda x: Decimal(x) / Decimal(1000))\n",
    "    stel.loc[stel.Unidade == \"GHz\", \"Frequência\"] = stel.loc[\n",
    "        stel.Unidade == \"GHz\", \"Frequência\"\n",
    "    ].apply(lambda x: Decimal(x) * Decimal(1000))\n",
    "    stel.drop(\"Unidade\", axis=1, inplace=True)\n",
    "    stel[\"Multiplicidade\"] = 1\n",
    "    stel = stel.loc[:, COLUNAS]\n",
    "    return _save_df(stel, folder, \"stel\")"
   ]
  },
  {
   "cell_type": "code",
   "execution_count": null,
   "metadata": {},
   "outputs": [
    {
     "data": {
      "application/vnd.jupyter.widget-view+json": {
       "model_id": "7dca207c3d004977b1a3e18730a9a4fd",
       "version_major": 2,
       "version_minor": 0
      },
      "text/plain": [
       "Output()"
      ]
     },
     "metadata": {},
     "output_type": "display_data"
    },
    {
     "data": {
      "text/html": [
       "<pre style=\"white-space:pre;overflow-x:auto;line-height:normal;font-family:Menlo,'DejaVu Sans Mono',consolas,'Courier New',monospace\"></pre>\n"
      ],
      "text/plain": []
     },
     "metadata": {},
     "output_type": "display_data"
    },
    {
     "name": "stdout",
     "output_type": "stream",
     "text": [
      "CPU times: total: 3.98 s\n",
      "Wall time: 29.6 s\n"
     ]
    },
    {
     "data": {
      "text/html": [
       "<div>\n",
       "<style scoped>\n",
       "    .dataframe tbody tr th:only-of-type {\n",
       "        vertical-align: middle;\n",
       "    }\n",
       "\n",
       "    .dataframe tbody tr th {\n",
       "        vertical-align: top;\n",
       "    }\n",
       "\n",
       "    .dataframe thead th {\n",
       "        text-align: right;\n",
       "    }\n",
       "</style>\n",
       "<table border=\"1\" class=\"dataframe\">\n",
       "  <thead>\n",
       "    <tr style=\"text-align: right;\">\n",
       "      <th></th>\n",
       "      <th>Frequência</th>\n",
       "      <th>Entidade</th>\n",
       "      <th>Fistel</th>\n",
       "      <th>Número_Estação</th>\n",
       "      <th>Município</th>\n",
       "      <th>Código_Município</th>\n",
       "      <th>UF</th>\n",
       "      <th>Latitude</th>\n",
       "      <th>Longitude</th>\n",
       "      <th>Classe</th>\n",
       "      <th>Num_Serviço</th>\n",
       "      <th>Classe_Emissão</th>\n",
       "      <th>Largura_Emissão(kHz)</th>\n",
       "      <th>Validade_RF</th>\n",
       "      <th>Status</th>\n",
       "      <th>Fonte</th>\n",
       "      <th>Multiplicidade</th>\n",
       "    </tr>\n",
       "  </thead>\n",
       "  <tbody>\n",
       "    <tr>\n",
       "      <th>23384</th>\n",
       "      <td>767.0</td>\n",
       "      <td>TELEVISAO RIO FORMOSO LTDA</td>\n",
       "      <td>13030154475</td>\n",
       "      <td>3298213</td>\n",
       "      <td>Miranorte</td>\n",
       "      <td>1713304</td>\n",
       "      <td>TO</td>\n",
       "      <td>-9.535833333333333</td>\n",
       "      <td>-48.576111111111</td>\n",
       "      <td>TX</td>\n",
       "      <td>728</td>\n",
       "      <td>C3F</td>\n",
       "      <td>6000.0</td>\n",
       "      <td>1997-10-20</td>\n",
       "      <td>L</td>\n",
       "      <td>STEL</td>\n",
       "      <td>1</td>\n",
       "    </tr>\n",
       "    <tr>\n",
       "      <th>14150</th>\n",
       "      <td>156.55</td>\n",
       "      <td>VOPAK BRASIL S.A.</td>\n",
       "      <td>50415542502</td>\n",
       "      <td>1006008893</td>\n",
       "      <td>Santos</td>\n",
       "      <td>3548500</td>\n",
       "      <td>SP</td>\n",
       "      <td>-23.926388888888834</td>\n",
       "      <td>-46.372777777777664</td>\n",
       "      <td>FC</td>\n",
       "      <td>604</td>\n",
       "      <td>F3E</td>\n",
       "      <td>11.0</td>\n",
       "      <td>2037-10-07</td>\n",
       "      <td>L</td>\n",
       "      <td>STEL</td>\n",
       "      <td>1</td>\n",
       "    </tr>\n",
       "    <tr>\n",
       "      <th>31795</th>\n",
       "      <td>25.375</td>\n",
       "      <td>EDIFICIO DOUBLE SPACE FARIA LIMA</td>\n",
       "      <td>50403887305</td>\n",
       "      <td>688907423</td>\n",
       "      <td>São Paulo</td>\n",
       "      <td>3550308</td>\n",
       "      <td>SP</td>\n",
       "      <td>-23.591116666666668</td>\n",
       "      <td>-46.68056944444433</td>\n",
       "      <td>TX</td>\n",
       "      <td>060</td>\n",
       "      <td>F3E</td>\n",
       "      <td>16.0</td>\n",
       "      <td>2016-10-24</td>\n",
       "      <td>L</td>\n",
       "      <td>STEL</td>\n",
       "      <td>1</td>\n",
       "    </tr>\n",
       "    <tr>\n",
       "      <th>2056</th>\n",
       "      <td>131.875</td>\n",
       "      <td>AZUL LINHAS AEREAS BRASILEIRAS S.A</td>\n",
       "      <td>50405707169</td>\n",
       "      <td>1009310787</td>\n",
       "      <td>São Gonçalo do Amarante</td>\n",
       "      <td>2412005</td>\n",
       "      <td>RN</td>\n",
       "      <td>-5.763611111111</td>\n",
       "      <td>-35.37222222222216</td>\n",
       "      <td>FA</td>\n",
       "      <td>507</td>\n",
       "      <td>A3E</td>\n",
       "      <td>6.0</td>\n",
       "      <td>2029-01-07</td>\n",
       "      <td>L</td>\n",
       "      <td>STEL</td>\n",
       "      <td>1</td>\n",
       "    </tr>\n",
       "    <tr>\n",
       "      <th>20432</th>\n",
       "      <td>156.75</td>\n",
       "      <td>PETROLEO BRASILEIRO S A PETROBRAS</td>\n",
       "      <td>50411168908</td>\n",
       "      <td>700046925</td>\n",
       "      <td>Santos</td>\n",
       "      <td>3548500</td>\n",
       "      <td>SP</td>\n",
       "      <td>-25.266938888888834</td>\n",
       "      <td>-45.252811111111</td>\n",
       "      <td>FC</td>\n",
       "      <td>604</td>\n",
       "      <td>G3E</td>\n",
       "      <td>16.0</td>\n",
       "      <td>2033-12-03</td>\n",
       "      <td>L</td>\n",
       "      <td>STEL</td>\n",
       "      <td>1</td>\n",
       "    </tr>\n",
       "  </tbody>\n",
       "</table>\n",
       "</div>"
      ],
      "text/plain": [
       "      Frequência                            Entidade       Fistel  \\\n",
       "23384      767.0          TELEVISAO RIO FORMOSO LTDA  13030154475   \n",
       "14150     156.55                   VOPAK BRASIL S.A.  50415542502   \n",
       "31795     25.375    EDIFICIO DOUBLE SPACE FARIA LIMA  50403887305   \n",
       "2056     131.875  AZUL LINHAS AEREAS BRASILEIRAS S.A  50405707169   \n",
       "20432     156.75   PETROLEO BRASILEIRO S A PETROBRAS  50411168908   \n",
       "\n",
       "      Número_Estação                Município Código_Município  UF  \\\n",
       "23384        3298213                Miranorte          1713304  TO   \n",
       "14150     1006008893                   Santos          3548500  SP   \n",
       "31795      688907423                São Paulo          3550308  SP   \n",
       "2056      1009310787  São Gonçalo do Amarante          2412005  RN   \n",
       "20432      700046925                   Santos          3548500  SP   \n",
       "\n",
       "                  Latitude            Longitude Classe Num_Serviço  \\\n",
       "23384   -9.535833333333333     -48.576111111111     TX         728   \n",
       "14150  -23.926388888888834  -46.372777777777664     FC         604   \n",
       "31795  -23.591116666666668   -46.68056944444433     TX         060   \n",
       "2056       -5.763611111111   -35.37222222222216     FA         507   \n",
       "20432  -25.266938888888834     -45.252811111111     FC         604   \n",
       "\n",
       "      Classe_Emissão Largura_Emissão(kHz) Validade_RF Status Fonte  \\\n",
       "23384            C3F               6000.0  1997-10-20      L  STEL   \n",
       "14150            F3E                 11.0  2037-10-07      L  STEL   \n",
       "31795            F3E                 16.0  2016-10-24      L  STEL   \n",
       "2056             A3E                  6.0  2029-01-07      L  STEL   \n",
       "20432            G3E                 16.0  2033-12-03      L  STEL   \n",
       "\n",
       "      Multiplicidade  \n",
       "23384              1  \n",
       "14150              1  \n",
       "31795              1  \n",
       "2056               1  \n",
       "20432              1  "
      ]
     },
     "execution_count": null,
     "metadata": {},
     "output_type": "execute_result"
    }
   ],
   "source": [
    "%%time\n",
    "#| eval: false\n",
    "stel = update_stel(conn, folder)\n",
    "stel.sample(5)"
   ]
  },
  {
   "cell_type": "markdown",
   "metadata": {},
   "source": [
    "## MOSAICO"
   ]
  },
  {
   "cell_type": "code",
   "execution_count": null,
   "metadata": {},
   "outputs": [],
   "source": [
    "#|export\n",
    "def split_designacao(df: pd.DataFrame) -> pd.DataFrame:\n",
    "    \"\"\"Parse a bandwidth string to extract the numerical component and a character class\"\"\"\n",
    "    df[\"Designação_Emissão\"] = (\n",
    "        df[\"Designação_Emissão\"].str.replace(\",\", \" \").str.strip().str.upper()\n",
    "    )\n",
    "    df[\"Designação_Emissão\"] = df[\"Designação_Emissão\"].str.split(\" \")\n",
    "    df = df.explode(\"Designação_Emissão\")\n",
    "    df = df[df[\"Designação_Emissão\"] != \"/\"]  # Removes empty rows\n",
    "    df[[\"Largura_Emissão(kHz)\", \"Classe_Emissão\"]] = (\n",
    "        df[\"Designação_Emissão\"].apply(parse_bw).tolist()\n",
    "    )\n",
    "    df[[\"Largura_Emissão(kHz)\", \"Classe_Emissão\"]] = df[\n",
    "        [\"Largura_Emissão(kHz)\", \"Classe_Emissão\"]\n",
    "    ].astype(\"string\")\n",
    "    return df.drop(\"Designação_Emissão\", axis=1)"
   ]
  },
  {
   "cell_type": "markdown",
   "metadata": {},
   "source": [
    "### SRD"
   ]
  },
  {
   "cell_type": "code",
   "execution_count": null,
   "metadata": {},
   "outputs": [],
   "source": [
    "#|export\n",
    "def update_srd(\n",
    "    mongo_client: MongoClient,  # Objeto de conexão com o MongoDB\n",
    "    folder: Union[str, Path],  # Pasta onde salvar os arquivos\n",
    ") -> pd.DataFrame:  # DataFrame com os dados atualizados\n",
    "    \"\"\"Efetua a query na tabela de Radiodifusão no banco mongoDB `mongo_client` e atualiza o arquivo local\"\"\"\n",
    "    console = Console()\n",
    "    with console.status(\"Consolidando os dados do Mosaico...\", spinner=\"runner\"):\n",
    "        database = mongo_client[\"sms\"]\n",
    "        collection = database[\"srd\"]\n",
    "        list_data = list(collection.find(MONGO_SRD, projection=COLS_SRD.keys()))\n",
    "        mosaico = pd.json_normalize(list_data)\n",
    "        mosaico = mosaico.drop(columns=[\"estacao\"])\n",
    "        mosaico = mosaico[list(COLS_SRD.keys())]\n",
    "        mosaico.rename(COLS_SRD, axis=1, inplace=True)\n",
    "        mosaico = clean_mosaico(mosaico, folder)\n",
    "        mosaico[\"Fonte\"] = \"MOS\"\n",
    "        mosaico[\"Num_Serviço\"].fillna(\"\", inplace=True)\n",
    "        mosaico.loc[:, [\"Largura_Emissão(kHz)\", \"Classe_Emissão\"]] = (\n",
    "            mosaico.Num_Serviço.astype(\"string\")\n",
    "            .fillna(\"\")\n",
    "            .map(BW_MAP)\n",
    "            .apply(parse_bw)\n",
    "            .tolist()\n",
    "        )\n",
    "        mosaico.loc[mosaico.Classe_Emissão == \"\", \"Classe_Emissão\"] = pd.NA\n",
    "        mosaico[\"Multiplicidade\"] = 1\n",
    "        mosaico = mosaico.loc[:, COLUNAS]\n",
    "    return _save_df(mosaico, folder, \"srd\")"
   ]
  },
  {
   "cell_type": "code",
   "execution_count": null,
   "metadata": {},
   "outputs": [
    {
     "data": {
      "text/plain": [
       "{'version': '4.0.5',\n",
       " 'gitVersion': '3739429dd92b92d1b0ab120911a23d50bf03c412',\n",
       " 'targetMinOS': 'Windows 7/Windows Server 2008 R2',\n",
       " 'modules': [],\n",
       " 'allocator': 'tcmalloc',\n",
       " 'javascriptEngine': 'mozjs',\n",
       " 'sysInfo': 'deprecated',\n",
       " 'versionArray': [4, 0, 5, 0],\n",
       " 'openssl': {'running': 'Windows SChannel'},\n",
       " 'buildEnvironment': {'distmod': '2008plus-ssl',\n",
       "  'distarch': 'x86_64',\n",
       "  'cc': 'cl: Microsoft (R) C/C++ Optimizing Compiler Version 19.00.24223 for x64',\n",
       "  'ccflags': '/nologo /EHsc /W3 /wd4355 /wd4800 /wd4267 /wd4244 /wd4290 /wd4068 /wd4351 /wd4373 /we4013 /we4099 /we4930 /WX /errorReport:none /MD /O2 /Oy- /bigobj /utf-8 /Zc:rvalueCast /Zc:strictStrings /volatile:iso /Gw /Gy /Zc:inline',\n",
       "  'cxx': 'cl: Microsoft (R) C/C++ Optimizing Compiler Version 19.00.24223 for x64',\n",
       "  'cxxflags': '/TP',\n",
       "  'linkflags': '/nologo /DEBUG /INCREMENTAL:NO /LARGEADDRESSAWARE /OPT:REF',\n",
       "  'target_arch': 'x86_64',\n",
       "  'target_os': 'windows'},\n",
       " 'bits': 64,\n",
       " 'debug': False,\n",
       " 'maxBsonObjectSize': 16777216,\n",
       " 'storageEngines': ['devnull', 'ephemeralForTest', 'mmapv1', 'wiredTiger'],\n",
       " 'ok': 1.0}"
      ]
     },
     "execution_count": null,
     "metadata": {},
     "output_type": "execute_result"
    }
   ],
   "source": [
    "#|eval: false\n",
    "uri = os.environ['MONGO_URI']\n",
    "mongo_client = MongoClient(uri)\n",
    "mongo_client.server_info()"
   ]
  },
  {
   "cell_type": "code",
   "execution_count": null,
   "metadata": {},
   "outputs": [
    {
     "data": {
      "application/vnd.jupyter.widget-view+json": {
       "model_id": "dfdaa6e58c4c4fd5a32c0abacf3c9432",
       "version_major": 2,
       "version_minor": 0
      },
      "text/plain": [
       "Output()"
      ]
     },
     "metadata": {},
     "output_type": "display_data"
    },
    {
     "data": {
      "text/html": [
       "<pre style=\"white-space:pre;overflow-x:auto;line-height:normal;font-family:Menlo,'DejaVu Sans Mono',consolas,'Courier New',monospace\"></pre>\n"
      ],
      "text/plain": []
     },
     "metadata": {},
     "output_type": "display_data"
    },
    {
     "name": "stdout",
     "output_type": "stream",
     "text": [
      "CPU times: total: 3 s\n",
      "Wall time: 3.75 s\n"
     ]
    },
    {
     "data": {
      "text/html": [
       "<div>\n",
       "<style scoped>\n",
       "    .dataframe tbody tr th:only-of-type {\n",
       "        vertical-align: middle;\n",
       "    }\n",
       "\n",
       "    .dataframe tbody tr th {\n",
       "        vertical-align: top;\n",
       "    }\n",
       "\n",
       "    .dataframe thead th {\n",
       "        text-align: right;\n",
       "    }\n",
       "</style>\n",
       "<table border=\"1\" class=\"dataframe\">\n",
       "  <thead>\n",
       "    <tr style=\"text-align: right;\">\n",
       "      <th></th>\n",
       "      <th>Frequência</th>\n",
       "      <th>Entidade</th>\n",
       "      <th>Fistel</th>\n",
       "      <th>Número_Estação</th>\n",
       "      <th>Município</th>\n",
       "      <th>Código_Município</th>\n",
       "      <th>UF</th>\n",
       "      <th>Latitude</th>\n",
       "      <th>Longitude</th>\n",
       "      <th>Classe</th>\n",
       "      <th>Num_Serviço</th>\n",
       "      <th>Classe_Emissão</th>\n",
       "      <th>Largura_Emissão(kHz)</th>\n",
       "      <th>Validade_RF</th>\n",
       "      <th>Status</th>\n",
       "      <th>Fonte</th>\n",
       "      <th>Multiplicidade</th>\n",
       "    </tr>\n",
       "  </thead>\n",
       "  <tbody>\n",
       "    <tr>\n",
       "      <th>6112</th>\n",
       "      <td>57.0</td>\n",
       "      <td>PREFEITURA MUNICIPAL DE SAO BONIFACIO</td>\n",
       "      <td>14023501395</td>\n",
       "      <td>323090044</td>\n",
       "      <td>São Bonifácio</td>\n",
       "      <td>4215901</td>\n",
       "      <td>SC</td>\n",
       "      <td>-27.9013888888888333</td>\n",
       "      <td>-48.9291666666666666</td>\n",
       "      <td>C</td>\n",
       "      <td>800</td>\n",
       "      <td>&lt;NA&gt;</td>\n",
       "      <td>6000.0</td>\n",
       "      <td>2018-12-31</td>\n",
       "      <td>TV-C7</td>\n",
       "      <td>MOS</td>\n",
       "      <td>1</td>\n",
       "    </tr>\n",
       "    <tr>\n",
       "      <th>10493</th>\n",
       "      <td>533.0</td>\n",
       "      <td>TELEVISAO INDEPENDENTE DE SAO JOSE DO RIO PRET...</td>\n",
       "      <td>50409648620</td>\n",
       "      <td>699602360</td>\n",
       "      <td>Cajazeiras</td>\n",
       "      <td>2503704</td>\n",
       "      <td>PB</td>\n",
       "      <td>-6.8947277777776666</td>\n",
       "      <td>-38.5508333333333333</td>\n",
       "      <td>A</td>\n",
       "      <td>801</td>\n",
       "      <td>&lt;NA&gt;</td>\n",
       "      <td>5700.0</td>\n",
       "      <td>2027-07-30</td>\n",
       "      <td>TV-C4</td>\n",
       "      <td>MOS</td>\n",
       "      <td>1</td>\n",
       "    </tr>\n",
       "    <tr>\n",
       "      <th>3721</th>\n",
       "      <td>213.0</td>\n",
       "      <td>PREFEITURA MUNICIPAL DE SONORA</td>\n",
       "      <td>50400553821</td>\n",
       "      <td>322828732</td>\n",
       "      <td>Sonora</td>\n",
       "      <td>5007935</td>\n",
       "      <td>MS</td>\n",
       "      <td>-17.5802777777776666</td>\n",
       "      <td>-54.7505555555555000</td>\n",
       "      <td>C</td>\n",
       "      <td>800</td>\n",
       "      <td>&lt;NA&gt;</td>\n",
       "      <td>6000.0</td>\n",
       "      <td>2018-12-31</td>\n",
       "      <td>TV-C7</td>\n",
       "      <td>MOS</td>\n",
       "      <td>1</td>\n",
       "    </tr>\n",
       "    <tr>\n",
       "      <th>16865</th>\n",
       "      <td>107.3</td>\n",
       "      <td>BRASIL AMAZONIA COMUNICACAO E EMPREENDIMENTOS ...</td>\n",
       "      <td>50001791109</td>\n",
       "      <td>323688144</td>\n",
       "      <td>Nova Timboteua</td>\n",
       "      <td>1505007</td>\n",
       "      <td>PA</td>\n",
       "      <td>-1.1997222222221666</td>\n",
       "      <td>-47.3977777777776666</td>\n",
       "      <td>A3</td>\n",
       "      <td>230</td>\n",
       "      <td>&lt;NA&gt;</td>\n",
       "      <td>256.0</td>\n",
       "      <td>2028-12-08</td>\n",
       "      <td>FM-C4</td>\n",
       "      <td>MOS</td>\n",
       "      <td>1</td>\n",
       "    </tr>\n",
       "    <tr>\n",
       "      <th>11089</th>\n",
       "      <td>521.0</td>\n",
       "      <td>TELEVISAO ANHANGUERA DE ARAGUAINA LTDA</td>\n",
       "      <td>50411145363</td>\n",
       "      <td>1005698659</td>\n",
       "      <td>Augustinópolis</td>\n",
       "      <td>1702554</td>\n",
       "      <td>TO</td>\n",
       "      <td>&lt;NA&gt;</td>\n",
       "      <td>&lt;NA&gt;</td>\n",
       "      <td>C</td>\n",
       "      <td>801</td>\n",
       "      <td>&lt;NA&gt;</td>\n",
       "      <td>5700.0</td>\n",
       "      <td>2028-10-03</td>\n",
       "      <td>TV-C3</td>\n",
       "      <td>MOS</td>\n",
       "      <td>1</td>\n",
       "    </tr>\n",
       "  </tbody>\n",
       "</table>\n",
       "</div>"
      ],
      "text/plain": [
       "      Frequência                                           Entidade  \\\n",
       "6112        57.0              PREFEITURA MUNICIPAL DE SAO BONIFACIO   \n",
       "10493      533.0  TELEVISAO INDEPENDENTE DE SAO JOSE DO RIO PRET...   \n",
       "3721       213.0                     PREFEITURA MUNICIPAL DE SONORA   \n",
       "16865      107.3  BRASIL AMAZONIA COMUNICACAO E EMPREENDIMENTOS ...   \n",
       "11089      521.0             TELEVISAO ANHANGUERA DE ARAGUAINA LTDA   \n",
       "\n",
       "            Fistel Número_Estação       Município Código_Município  UF  \\\n",
       "6112   14023501395      323090044   São Bonifácio          4215901  SC   \n",
       "10493  50409648620      699602360      Cajazeiras          2503704  PB   \n",
       "3721   50400553821      322828732          Sonora          5007935  MS   \n",
       "16865  50001791109      323688144  Nova Timboteua          1505007  PA   \n",
       "11089  50411145363     1005698659  Augustinópolis          1702554  TO   \n",
       "\n",
       "                   Latitude             Longitude Classe Num_Serviço  \\\n",
       "6112   -27.9013888888888333  -48.9291666666666666      C         800   \n",
       "10493   -6.8947277777776666  -38.5508333333333333      A         801   \n",
       "3721   -17.5802777777776666  -54.7505555555555000      C         800   \n",
       "16865   -1.1997222222221666  -47.3977777777776666     A3         230   \n",
       "11089                  <NA>                  <NA>      C         801   \n",
       "\n",
       "      Classe_Emissão Largura_Emissão(kHz) Validade_RF Status Fonte  \\\n",
       "6112            <NA>               6000.0  2018-12-31  TV-C7   MOS   \n",
       "10493           <NA>               5700.0  2027-07-30  TV-C4   MOS   \n",
       "3721            <NA>               6000.0  2018-12-31  TV-C7   MOS   \n",
       "16865           <NA>                256.0  2028-12-08  FM-C4   MOS   \n",
       "11089           <NA>               5700.0  2028-10-03  TV-C3   MOS   \n",
       "\n",
       "      Multiplicidade  \n",
       "6112               1  \n",
       "10493              1  \n",
       "3721               1  \n",
       "16865              1  \n",
       "11089              1  "
      ]
     },
     "execution_count": null,
     "metadata": {},
     "output_type": "execute_result"
    }
   ],
   "source": [
    "%%time\n",
    "#|eval: false\n",
    "mosaico = update_srd(mongo_client, folder)\n",
    "mosaico.sample(5)"
   ]
  },
  {
   "cell_type": "markdown",
   "metadata": {},
   "source": [
    "### TELECOM"
   ]
  },
  {
   "cell_type": "code",
   "execution_count": null,
   "metadata": {},
   "outputs": [],
   "source": [
    "#| export\n",
    "def update_telecom(\n",
    "    mongo_client: MongoClient,  # Objeto de conexão com o MongoDB\n",
    "    folder: Union[str, Path],  # Pasta onde salvar os arquivos\n",
    ") -> pd.DataFrame:  # DataFrame com os dados atualizados\n",
    "    \"\"\"Efetua a query na tabela `licenciamento` no banco mongoDB `mongo_client` e atualiza o arquivo local\"\"\"\n",
    "\n",
    "    database = mongo_client[\"sms\"]\n",
    "    collection = database[\"licenciamento\"]\n",
    "    query = collection.find(\n",
    "        MONGO_TELECOM, projection={k: 1.0 for k in COLS_TELECOM.keys()}, limit=0\n",
    "    )\n",
    "    print(\n",
    "        \"[red] :warning: Executando a query na base licenciamento do Mosaico, processo demorado! :warning:\"\n",
    "    )\n",
    "    df = pd.DataFrame(list(query), columns=COLS_TELECOM.keys(), dtype=\"string\")\n",
    "    return _process_telecom(df, folder)\n",
    "\n",
    "\n",
    "def _process_telecom(\n",
    "    df: pd.DataFrame,  # Dataframe não processado de dados do Mosaico\n",
    "    folder: Union[str, Path],  # Pasta onde salvar os arquivos\n",
    ") -> pd.DataFrame:\n",
    "    \"\"\"Formata e pós-processa e mescla os dados de Telecomunicações do Mosaico\"\"\"\n",
    "    # df.drop(\"_id\", axis=1, inplace=True)\n",
    "    df.rename(COLS_TELECOM, axis=1, inplace=True)\n",
    "    df = split_designacao(df)\n",
    "    subset = [\n",
    "        \"Frequência\",\n",
    "        \"Entidade\",\n",
    "        \"Fistel\",\n",
    "        \"Código_Município\",\n",
    "        \"Longitude\",\n",
    "        \"Latitude\",\n",
    "        \"Classe\",\n",
    "        \"Num_Serviço\",\n",
    "        \"Classe_Emissão\",\n",
    "        \"Largura_Emissão(kHz)\",\n",
    "    ]\n",
    "    df.to_parquet(folder / \"telecom_raw.parquet.gzip\", compression=\"gzip\", index=False)\n",
    "    df.dropna(subset=subset, axis=0, inplace=True)\n",
    "    df_sub = (\n",
    "        df[~df.duplicated(subset=subset, keep=\"first\")].reset_index(drop=True).copy()\n",
    "    )\n",
    "    df_sub[\"Multiplicidade\"] = (\n",
    "        df.groupby(subset, sort=False).count()[\"Número_Estação\"]\n",
    "    ).tolist()\n",
    "    df_sub[\"Status\"] = \"L\"\n",
    "    df_sub[\"Fonte\"] = \"MOS\"\n",
    "    del df\n",
    "    gc.collect()\n",
    "    df_sub = df_sub.reset_index()\n",
    "    df_sub = df_sub.loc[:, COLUNAS]\n",
    "    return _save_df(df_sub, folder, \"telecom\")"
   ]
  },
  {
   "cell_type": "code",
   "execution_count": null,
   "metadata": {},
   "outputs": [
    {
     "data": {
      "text/html": [
       "<pre style=\"white-space:pre;overflow-x:auto;line-height:normal;font-family:Menlo,'DejaVu Sans Mono',consolas,'Courier New',monospace\"><span style=\"color: #800000; text-decoration-color: #800000\"> ⚠ Executando a query na base licenciamento do Mosaico, processo demorado! ⚠</span>\n",
       "</pre>\n"
      ],
      "text/plain": [
       "\u001b[31m ⚠ Executando a query na base licenciamento do Mosaico, processo demorado! ⚠\u001b[0m\n"
      ]
     },
     "metadata": {},
     "output_type": "display_data"
    },
    {
     "name": "stdout",
     "output_type": "stream",
     "text": [
      "CPU times: total: 13min 47s\n",
      "Wall time: 52min 54s\n"
     ]
    },
    {
     "data": {
      "text/html": [
       "<div>\n",
       "<style scoped>\n",
       "    .dataframe tbody tr th:only-of-type {\n",
       "        vertical-align: middle;\n",
       "    }\n",
       "\n",
       "    .dataframe tbody tr th {\n",
       "        vertical-align: top;\n",
       "    }\n",
       "\n",
       "    .dataframe thead th {\n",
       "        text-align: right;\n",
       "    }\n",
       "</style>\n",
       "<table border=\"1\" class=\"dataframe\">\n",
       "  <thead>\n",
       "    <tr style=\"text-align: right;\">\n",
       "      <th></th>\n",
       "      <th>Frequência</th>\n",
       "      <th>Entidade</th>\n",
       "      <th>Fistel</th>\n",
       "      <th>Número_Estação</th>\n",
       "      <th>Município</th>\n",
       "      <th>Código_Município</th>\n",
       "      <th>UF</th>\n",
       "      <th>Latitude</th>\n",
       "      <th>Longitude</th>\n",
       "      <th>Classe</th>\n",
       "      <th>Num_Serviço</th>\n",
       "      <th>Classe_Emissão</th>\n",
       "      <th>Largura_Emissão(kHz)</th>\n",
       "      <th>Validade_RF</th>\n",
       "      <th>Status</th>\n",
       "      <th>Fonte</th>\n",
       "      <th>Multiplicidade</th>\n",
       "    </tr>\n",
       "  </thead>\n",
       "  <tbody>\n",
       "    <tr>\n",
       "      <th>532437</th>\n",
       "      <td>259.05</td>\n",
       "      <td>TELEMAR NORTE LESTE S.A.  EM RECUPERACAO JUDICIAL</td>\n",
       "      <td>04030120318</td>\n",
       "      <td>3017427</td>\n",
       "      <td>&lt;NA&gt;</td>\n",
       "      <td>3168903</td>\n",
       "      <td>MG</td>\n",
       "      <td>-19.141111</td>\n",
       "      <td>-45.975833</td>\n",
       "      <td>FX</td>\n",
       "      <td>175</td>\n",
       "      <td>F3E</td>\n",
       "      <td>16.0</td>\n",
       "      <td>2025-12-31</td>\n",
       "      <td>L</td>\n",
       "      <td>MOS</td>\n",
       "      <td>1</td>\n",
       "    </tr>\n",
       "    <tr>\n",
       "      <th>554609</th>\n",
       "      <td>17713.75</td>\n",
       "      <td>CLARO S.A.</td>\n",
       "      <td>11021017965</td>\n",
       "      <td>535922256</td>\n",
       "      <td>&lt;NA&gt;</td>\n",
       "      <td>2611606</td>\n",
       "      <td>PE</td>\n",
       "      <td>-8.091667</td>\n",
       "      <td>-34.9425</td>\n",
       "      <td>FX</td>\n",
       "      <td>175</td>\n",
       "      <td>G7W</td>\n",
       "      <td>13500.0</td>\n",
       "      <td>2024-02-08</td>\n",
       "      <td>L</td>\n",
       "      <td>MOS</td>\n",
       "      <td>1</td>\n",
       "    </tr>\n",
       "    <tr>\n",
       "      <th>680063</th>\n",
       "      <td>1824.0</td>\n",
       "      <td>TIM S A</td>\n",
       "      <td>50404335578</td>\n",
       "      <td>690218010</td>\n",
       "      <td>&lt;NA&gt;</td>\n",
       "      <td>4106902</td>\n",
       "      <td>PR</td>\n",
       "      <td>-25.557806</td>\n",
       "      <td>-49.255833</td>\n",
       "      <td>FB</td>\n",
       "      <td>175</td>\n",
       "      <td>M7W</td>\n",
       "      <td>200.0</td>\n",
       "      <td>2027-05-29</td>\n",
       "      <td>L</td>\n",
       "      <td>MOS</td>\n",
       "      <td>1</td>\n",
       "    </tr>\n",
       "    <tr>\n",
       "      <th>77978</th>\n",
       "      <td>168.31875</td>\n",
       "      <td>POLICIA MILITAR DO ESTADO DE MINAS GERAIS</td>\n",
       "      <td>50401288943</td>\n",
       "      <td>1001758703</td>\n",
       "      <td></td>\n",
       "      <td>3106200</td>\n",
       "      <td>MG</td>\n",
       "      <td>-19.953653</td>\n",
       "      <td>-43.946831</td>\n",
       "      <td>FX</td>\n",
       "      <td>019</td>\n",
       "      <td>F1W</td>\n",
       "      <td>8.1</td>\n",
       "      <td>2037-06-16 00:00:00.000</td>\n",
       "      <td>L</td>\n",
       "      <td>MOS</td>\n",
       "      <td>4</td>\n",
       "    </tr>\n",
       "    <tr>\n",
       "      <th>687983</th>\n",
       "      <td>244.775</td>\n",
       "      <td>Oi S.a. - em Recuperacao Judicial</td>\n",
       "      <td>10030025605</td>\n",
       "      <td>595802</td>\n",
       "      <td>&lt;NA&gt;</td>\n",
       "      <td>2303204</td>\n",
       "      <td>CE</td>\n",
       "      <td>-7.038889</td>\n",
       "      <td>-39.211944</td>\n",
       "      <td>XR</td>\n",
       "      <td>175</td>\n",
       "      <td>F3E</td>\n",
       "      <td>16.0</td>\n",
       "      <td>2025-12-31</td>\n",
       "      <td>L</td>\n",
       "      <td>MOS</td>\n",
       "      <td>1</td>\n",
       "    </tr>\n",
       "  </tbody>\n",
       "</table>\n",
       "</div>"
      ],
      "text/plain": [
       "       Frequência                                           Entidade  \\\n",
       "532437     259.05  TELEMAR NORTE LESTE S.A.  EM RECUPERACAO JUDICIAL   \n",
       "554609   17713.75                                         CLARO S.A.   \n",
       "680063     1824.0                                            TIM S A   \n",
       "77978   168.31875          POLICIA MILITAR DO ESTADO DE MINAS GERAIS   \n",
       "687983    244.775                  Oi S.a. - em Recuperacao Judicial   \n",
       "\n",
       "             Fistel Número_Estação Município Código_Município  UF    Latitude  \\\n",
       "532437  04030120318        3017427      <NA>          3168903  MG  -19.141111   \n",
       "554609  11021017965      535922256      <NA>          2611606  PE   -8.091667   \n",
       "680063  50404335578      690218010      <NA>          4106902  PR  -25.557806   \n",
       "77978   50401288943     1001758703                    3106200  MG  -19.953653   \n",
       "687983  10030025605         595802      <NA>          2303204  CE   -7.038889   \n",
       "\n",
       "         Longitude Classe Num_Serviço Classe_Emissão Largura_Emissão(kHz)  \\\n",
       "532437  -45.975833     FX         175            F3E                 16.0   \n",
       "554609    -34.9425     FX         175            G7W              13500.0   \n",
       "680063  -49.255833     FB         175            M7W                200.0   \n",
       "77978   -43.946831     FX         019            F1W                  8.1   \n",
       "687983  -39.211944     XR         175            F3E                 16.0   \n",
       "\n",
       "                    Validade_RF Status Fonte Multiplicidade  \n",
       "532437               2025-12-31      L   MOS              1  \n",
       "554609               2024-02-08      L   MOS              1  \n",
       "680063               2027-05-29      L   MOS              1  \n",
       "77978   2037-06-16 00:00:00.000      L   MOS              4  \n",
       "687983               2025-12-31      L   MOS              1  "
      ]
     },
     "execution_count": null,
     "metadata": {},
     "output_type": "execute_result"
    }
   ],
   "source": [
    "%%time\n",
    "#| eval: false\n",
    "telecom = update_telecom(mongo_client, folder)\n",
    "telecom.sample(5)\n",
    "# telecom = pd.read_parquet(folder / 'telecom.parquet.gzip')"
   ]
  },
  {
   "cell_type": "code",
   "execution_count": null,
   "metadata": {},
   "outputs": [
    {
     "data": {
      "text/plain": [
       "(7628117, 14)"
      ]
     },
     "execution_count": null,
     "metadata": {},
     "output_type": "execute_result"
    }
   ],
   "source": [
    "telecom = pd.read_parquet(folder / 'telecom_raw.parquet.gzip')\n",
    "telecom.shape"
   ]
  },
  {
   "cell_type": "markdown",
   "metadata": {},
   "source": [
    "## AERONAUTICA"
   ]
  },
  {
   "cell_type": "code",
   "execution_count": null,
   "metadata": {},
   "outputs": [],
   "source": [
    "#| export \n",
    "def update_aero(\n",
    "    folder: Union[str, Path],  # Pasta onde salvar os arquivos\n",
    ") -> pd.DataFrame:  # DataFrame com os dados atualizados\n",
    "    \"\"\"Atualiza a base de dados de emissões da aeronáutica\"\"\"\n",
    "    icao = get_icao()\n",
    "    aisw = get_aisw()\n",
    "    aisg = get_aisg()\n",
    "    redemet = get_redemet()\n",
    "    radares = pd.read_csv(os.environ[\"PATH_RADAR\"])\n",
    "    for df in [aisw, aisg, redemet, radares]:\n",
    "        icao = merge_on_frequency(icao, df)\n",
    "\n",
    "    icao = icao.sort_values(by=icao.columns.to_list(), ignore_index=True)\n",
    "    icao = icao.drop_duplicates(\n",
    "        subset=[\"Frequency\", \"Latitude\", \"Longitude\"], keep=\"last\", ignore_index=True\n",
    "    )\n",
    "    icao = icao.astype(\n",
    "        {\n",
    "            \"Frequency\": \"float64\",\n",
    "            \"Latitude\": \"float32\",\n",
    "            \"Longitude\": \"float32\",\n",
    "            \"Description\": \"string\",\n",
    "        }\n",
    "    )\n",
    "    # TODO: Eliminate this eventually\n",
    "    icao.loc[np.isclose(icao.Longitude, -472.033447), \"Longitude\"] = -47.2033447\n",
    "    icao.loc[np.isclose(icao.Longitude, 69.934998), \"Longitude\"] = -69.934998\n",
    "\n",
    "    return _save_df(icao, folder, \"aero\")"
   ]
  },
  {
   "cell_type": "code",
   "execution_count": null,
   "metadata": {},
   "outputs": [
    {
     "data": {
      "text/html": [
       "\n",
       "<style>\n",
       "    /* Turns off some styling */\n",
       "    progress {\n",
       "        /* gets rid of default border in Firefox and Opera. */\n",
       "        border: none;\n",
       "        /* Needs to be in here for Safari polyfill so background images work as expected. */\n",
       "        background-size: auto;\n",
       "    }\n",
       "    progress:not([value]), progress:not([value])::-webkit-progress-bar {\n",
       "        background: repeating-linear-gradient(45deg, #7e7e7e, #7e7e7e 10px, #5c5c5c 10px, #5c5c5c 20px);\n",
       "    }\n",
       "    .progress-bar-interrupted, .progress-bar-interrupted::-webkit-progress-bar {\n",
       "        background: #F44336;\n",
       "    }\n",
       "</style>\n"
      ],
      "text/plain": [
       "<IPython.core.display.HTML object>"
      ]
     },
     "metadata": {},
     "output_type": "display_data"
    },
    {
     "data": {
      "text/html": [],
      "text/plain": [
       "<IPython.core.display.HTML object>"
      ]
     },
     "metadata": {},
     "output_type": "display_data"
    },
    {
     "data": {
      "text/html": [
       "\n",
       "<style>\n",
       "    /* Turns off some styling */\n",
       "    progress {\n",
       "        /* gets rid of default border in Firefox and Opera. */\n",
       "        border: none;\n",
       "        /* Needs to be in here for Safari polyfill so background images work as expected. */\n",
       "        background-size: auto;\n",
       "    }\n",
       "    progress:not([value]), progress:not([value])::-webkit-progress-bar {\n",
       "        background: repeating-linear-gradient(45deg, #7e7e7e, #7e7e7e 10px, #5c5c5c 10px, #5c5c5c 20px);\n",
       "    }\n",
       "    .progress-bar-interrupted, .progress-bar-interrupted::-webkit-progress-bar {\n",
       "        background: #F44336;\n",
       "    }\n",
       "</style>\n"
      ],
      "text/plain": [
       "<IPython.core.display.HTML object>"
      ]
     },
     "metadata": {},
     "output_type": "display_data"
    },
    {
     "data": {
      "text/html": [],
      "text/plain": [
       "<IPython.core.display.HTML object>"
      ]
     },
     "metadata": {},
     "output_type": "display_data"
    },
    {
     "ename": "ExpatError",
     "evalue": "junk after document element: line 39, column 16",
     "output_type": "error",
     "traceback": [
      "\u001b[1;31m---------------------------------------------------------------------------\u001b[0m",
      "\u001b[1;31mExpatError\u001b[0m                                Traceback (most recent call last)",
      "File \u001b[1;32m<timed exec>:2\u001b[0m\n",
      "Cell \u001b[1;32mIn[11], line 7\u001b[0m, in \u001b[0;36mupdate_aero\u001b[1;34m(folder)\u001b[0m\n\u001b[0;32m      5\u001b[0m \u001b[39m\u001b[39m\u001b[39m\"\"\"Atualiza a base de dados de emissões da aeronáutica\"\"\"\u001b[39;00m\n\u001b[0;32m      6\u001b[0m icao \u001b[39m=\u001b[39m get_icao()\n\u001b[1;32m----> 7\u001b[0m aisw \u001b[39m=\u001b[39m get_aisw()\n\u001b[0;32m      8\u001b[0m aisg \u001b[39m=\u001b[39m get_aisg()\n\u001b[0;32m      9\u001b[0m redemet \u001b[39m=\u001b[39m get_redemet()\n",
      "File \u001b[1;32mc:\\Users\\rsilva\\OneDrive - ANATEL\\Code\\anateldb\\extracao\\aero\\aisweb.py:219\u001b[0m, in \u001b[0;36mget_aisw\u001b[1;34m()\u001b[0m\n\u001b[0;32m    217\u001b[0m \u001b[39m\u001b[39m\u001b[39m\"\"\"Lê e processa os dataframes individuais da API AISWEB e retorna o conjunto concatenado\"\"\"\u001b[39;00m\n\u001b[0;32m    218\u001b[0m aisweb \u001b[39m=\u001b[39m AisWeb(os\u001b[39m.\u001b[39menviron[\u001b[39m\"\u001b[39m\u001b[39mAISWKEY\u001b[39m\u001b[39m\"\u001b[39m], os\u001b[39m.\u001b[39menviron[\u001b[39m\"\u001b[39m\u001b[39mAISWPASS\u001b[39m\u001b[39m\"\u001b[39m])\n\u001b[1;32m--> 219\u001b[0m \u001b[39mreturn\u001b[39;00m aisweb\u001b[39m.\u001b[39;49mrecords\n",
      "File \u001b[1;32mc:\\Users\\rsilva\\scoop\\apps\\mambaforge\\current\\envs\\db\\lib\\functools.py:981\u001b[0m, in \u001b[0;36mcached_property.__get__\u001b[1;34m(self, instance, owner)\u001b[0m\n\u001b[0;32m    979\u001b[0m val \u001b[39m=\u001b[39m cache\u001b[39m.\u001b[39mget(\u001b[39mself\u001b[39m\u001b[39m.\u001b[39mattrname, _NOT_FOUND)\n\u001b[0;32m    980\u001b[0m \u001b[39mif\u001b[39;00m val \u001b[39mis\u001b[39;00m _NOT_FOUND:\n\u001b[1;32m--> 981\u001b[0m     val \u001b[39m=\u001b[39m \u001b[39mself\u001b[39;49m\u001b[39m.\u001b[39;49mfunc(instance)\n\u001b[0;32m    982\u001b[0m     \u001b[39mtry\u001b[39;00m:\n\u001b[0;32m    983\u001b[0m         cache[\u001b[39mself\u001b[39m\u001b[39m.\u001b[39mattrname] \u001b[39m=\u001b[39m val\n",
      "File \u001b[1;32mc:\\Users\\rsilva\\OneDrive - ANATEL\\Code\\anateldb\\extracao\\aero\\aisweb.py:203\u001b[0m, in \u001b[0;36mAisWeb.records\u001b[1;34m(self)\u001b[0m\n\u001b[0;32m    198\u001b[0m \u001b[39m@cached_property\u001b[39m\n\u001b[0;32m    199\u001b[0m \u001b[39mdef\u001b[39;00m \u001b[39mrecords\u001b[39m(\n\u001b[0;32m    200\u001b[0m     \u001b[39mself\u001b[39m,\n\u001b[0;32m    201\u001b[0m ) \u001b[39m-\u001b[39m\u001b[39m>\u001b[39m pd\u001b[39m.\u001b[39mDataFrame:  \u001b[39m# DataFrame com os dados de estações emissoras\u001b[39;00m\n\u001b[0;32m    202\u001b[0m \u001b[39m    \u001b[39m\u001b[39m\"\"\"Retorna os registros de estações emissoras de RF contidas nos aeroportos\"\"\"\u001b[39;00m\n\u001b[1;32m--> 203\u001b[0m     records \u001b[39m=\u001b[39m parallel(\n\u001b[0;32m    204\u001b[0m         \u001b[39mself\u001b[39;49m\u001b[39m.\u001b[39;49mrequest_stations,\n\u001b[0;32m    205\u001b[0m         \u001b[39mself\u001b[39;49m\u001b[39m.\u001b[39;49mairports\u001b[39m.\u001b[39;49mAeroCode,\n\u001b[0;32m    206\u001b[0m         threadpool\u001b[39m=\u001b[39;49m\u001b[39mTrue\u001b[39;49;00m,\n\u001b[0;32m    207\u001b[0m         n_workers\u001b[39m=\u001b[39;49m\u001b[39m8\u001b[39;49m,\n\u001b[0;32m    208\u001b[0m         pause\u001b[39m=\u001b[39;49m\u001b[39m0.1\u001b[39;49m,\n\u001b[0;32m    209\u001b[0m         progress\u001b[39m=\u001b[39;49m\u001b[39mTrue\u001b[39;49;00m,\n\u001b[0;32m    210\u001b[0m     )\n\u001b[0;32m    211\u001b[0m     df \u001b[39m=\u001b[39m pd\u001b[39m.\u001b[39mconcat(records)\u001b[39m.\u001b[39mastype(\u001b[39m\"\u001b[39m\u001b[39mstring\u001b[39m\u001b[39m\"\u001b[39m)\n\u001b[0;32m    212\u001b[0m     \u001b[39mreturn\u001b[39;00m map_channels(df, \u001b[39m\"\u001b[39m\u001b[39mAISW\u001b[39m\u001b[39m\"\u001b[39m)\u001b[39m.\u001b[39mdrop_duplicates(UNIQUE_COLS, ignore_index\u001b[39m=\u001b[39m\u001b[39mTrue\u001b[39;00m)\n",
      "File \u001b[1;32mc:\\Users\\rsilva\\scoop\\apps\\mambaforge\\current\\envs\\db\\lib\\site-packages\\fastcore\\parallel.py:117\u001b[0m, in \u001b[0;36mparallel\u001b[1;34m(f, items, n_workers, total, progress, pause, method, threadpool, timeout, chunksize, *args, **kwargs)\u001b[0m\n\u001b[0;32m    115\u001b[0m     \u001b[39mif\u001b[39;00m total \u001b[39mis\u001b[39;00m \u001b[39mNone\u001b[39;00m: total \u001b[39m=\u001b[39m \u001b[39mlen\u001b[39m(items)\n\u001b[0;32m    116\u001b[0m     r \u001b[39m=\u001b[39m progress_bar(r, total\u001b[39m=\u001b[39mtotal, leave\u001b[39m=\u001b[39m\u001b[39mFalse\u001b[39;00m)\n\u001b[1;32m--> 117\u001b[0m \u001b[39mreturn\u001b[39;00m L(r)\n",
      "File \u001b[1;32mc:\\Users\\rsilva\\scoop\\apps\\mambaforge\\current\\envs\\db\\lib\\site-packages\\fastcore\\foundation.py:98\u001b[0m, in \u001b[0;36m_L_Meta.__call__\u001b[1;34m(cls, x, *args, **kwargs)\u001b[0m\n\u001b[0;32m     96\u001b[0m \u001b[39mdef\u001b[39;00m \u001b[39m__call__\u001b[39m(\u001b[39mcls\u001b[39m, x\u001b[39m=\u001b[39m\u001b[39mNone\u001b[39;00m, \u001b[39m*\u001b[39margs, \u001b[39m*\u001b[39m\u001b[39m*\u001b[39mkwargs):\n\u001b[0;32m     97\u001b[0m     \u001b[39mif\u001b[39;00m \u001b[39mnot\u001b[39;00m args \u001b[39mand\u001b[39;00m \u001b[39mnot\u001b[39;00m kwargs \u001b[39mand\u001b[39;00m x \u001b[39mis\u001b[39;00m \u001b[39mnot\u001b[39;00m \u001b[39mNone\u001b[39;00m \u001b[39mand\u001b[39;00m \u001b[39misinstance\u001b[39m(x,\u001b[39mcls\u001b[39m): \u001b[39mreturn\u001b[39;00m x\n\u001b[1;32m---> 98\u001b[0m     \u001b[39mreturn\u001b[39;00m \u001b[39msuper\u001b[39m()\u001b[39m.\u001b[39m\u001b[39m__call__\u001b[39m(x, \u001b[39m*\u001b[39margs, \u001b[39m*\u001b[39m\u001b[39m*\u001b[39mkwargs)\n",
      "File \u001b[1;32mc:\\Users\\rsilva\\scoop\\apps\\mambaforge\\current\\envs\\db\\lib\\site-packages\\fastcore\\foundation.py:106\u001b[0m, in \u001b[0;36mL.__init__\u001b[1;34m(self, items, use_list, match, *rest)\u001b[0m\n\u001b[0;32m    104\u001b[0m \u001b[39mdef\u001b[39;00m \u001b[39m__init__\u001b[39m(\u001b[39mself\u001b[39m, items\u001b[39m=\u001b[39m\u001b[39mNone\u001b[39;00m, \u001b[39m*\u001b[39mrest, use_list\u001b[39m=\u001b[39m\u001b[39mFalse\u001b[39;00m, match\u001b[39m=\u001b[39m\u001b[39mNone\u001b[39;00m):\n\u001b[0;32m    105\u001b[0m     \u001b[39mif\u001b[39;00m (use_list \u001b[39mis\u001b[39;00m \u001b[39mnot\u001b[39;00m \u001b[39mNone\u001b[39;00m) \u001b[39mor\u001b[39;00m \u001b[39mnot\u001b[39;00m is_array(items):\n\u001b[1;32m--> 106\u001b[0m         items \u001b[39m=\u001b[39m listify(items, \u001b[39m*\u001b[39;49mrest, use_list\u001b[39m=\u001b[39;49muse_list, match\u001b[39m=\u001b[39;49mmatch)\n\u001b[0;32m    107\u001b[0m     \u001b[39msuper\u001b[39m()\u001b[39m.\u001b[39m\u001b[39m__init__\u001b[39m(items)\n",
      "File \u001b[1;32mc:\\Users\\rsilva\\scoop\\apps\\mambaforge\\current\\envs\\db\\lib\\site-packages\\fastcore\\basics.py:66\u001b[0m, in \u001b[0;36mlistify\u001b[1;34m(o, use_list, match, *rest)\u001b[0m\n\u001b[0;32m     64\u001b[0m \u001b[39melif\u001b[39;00m \u001b[39misinstance\u001b[39m(o, \u001b[39mlist\u001b[39m): res \u001b[39m=\u001b[39m o\n\u001b[0;32m     65\u001b[0m \u001b[39melif\u001b[39;00m \u001b[39misinstance\u001b[39m(o, \u001b[39mstr\u001b[39m) \u001b[39mor\u001b[39;00m is_array(o): res \u001b[39m=\u001b[39m [o]\n\u001b[1;32m---> 66\u001b[0m \u001b[39melif\u001b[39;00m is_iter(o): res \u001b[39m=\u001b[39m \u001b[39mlist\u001b[39;49m(o)\n\u001b[0;32m     67\u001b[0m \u001b[39melse\u001b[39;00m: res \u001b[39m=\u001b[39m [o]\n\u001b[0;32m     68\u001b[0m \u001b[39mif\u001b[39;00m match \u001b[39mis\u001b[39;00m \u001b[39mnot\u001b[39;00m \u001b[39mNone\u001b[39;00m:\n",
      "File \u001b[1;32mc:\\Users\\rsilva\\scoop\\apps\\mambaforge\\current\\envs\\db\\lib\\site-packages\\fastprogress\\fastprogress.py:50\u001b[0m, in \u001b[0;36mProgressBar.__iter__\u001b[1;34m(self)\u001b[0m\n\u001b[0;32m     48\u001b[0m \u001b[39mexcept\u001b[39;00m \u001b[39mException\u001b[39;00m \u001b[39mas\u001b[39;00m e:\n\u001b[0;32m     49\u001b[0m     \u001b[39mself\u001b[39m\u001b[39m.\u001b[39mon_interrupt()\n\u001b[1;32m---> 50\u001b[0m     \u001b[39mraise\u001b[39;00m e\n",
      "File \u001b[1;32mc:\\Users\\rsilva\\scoop\\apps\\mambaforge\\current\\envs\\db\\lib\\site-packages\\fastprogress\\fastprogress.py:41\u001b[0m, in \u001b[0;36mProgressBar.__iter__\u001b[1;34m(self)\u001b[0m\n\u001b[0;32m     39\u001b[0m \u001b[39mif\u001b[39;00m \u001b[39mself\u001b[39m\u001b[39m.\u001b[39mtotal \u001b[39m!=\u001b[39m \u001b[39m0\u001b[39m: \u001b[39mself\u001b[39m\u001b[39m.\u001b[39mupdate(\u001b[39m0\u001b[39m)\n\u001b[0;32m     40\u001b[0m \u001b[39mtry\u001b[39;00m:\n\u001b[1;32m---> 41\u001b[0m     \u001b[39mfor\u001b[39;00m i,o \u001b[39min\u001b[39;00m \u001b[39menumerate\u001b[39m(\u001b[39mself\u001b[39m\u001b[39m.\u001b[39mgen):\n\u001b[0;32m     42\u001b[0m         \u001b[39mif\u001b[39;00m \u001b[39mself\u001b[39m\u001b[39m.\u001b[39mtotal \u001b[39mand\u001b[39;00m i \u001b[39m>\u001b[39m\u001b[39m=\u001b[39m \u001b[39mself\u001b[39m\u001b[39m.\u001b[39mtotal: \u001b[39mbreak\u001b[39;00m\n\u001b[0;32m     43\u001b[0m         \u001b[39myield\u001b[39;00m o\n",
      "File \u001b[1;32mc:\\Users\\rsilva\\scoop\\apps\\mambaforge\\current\\envs\\db\\lib\\concurrent\\futures\\_base.py:621\u001b[0m, in \u001b[0;36mExecutor.map.<locals>.result_iterator\u001b[1;34m()\u001b[0m\n\u001b[0;32m    618\u001b[0m \u001b[39mwhile\u001b[39;00m fs:\n\u001b[0;32m    619\u001b[0m     \u001b[39m# Careful not to keep a reference to the popped future\u001b[39;00m\n\u001b[0;32m    620\u001b[0m     \u001b[39mif\u001b[39;00m timeout \u001b[39mis\u001b[39;00m \u001b[39mNone\u001b[39;00m:\n\u001b[1;32m--> 621\u001b[0m         \u001b[39myield\u001b[39;00m _result_or_cancel(fs\u001b[39m.\u001b[39;49mpop())\n\u001b[0;32m    622\u001b[0m     \u001b[39melse\u001b[39;00m:\n\u001b[0;32m    623\u001b[0m         \u001b[39myield\u001b[39;00m _result_or_cancel(fs\u001b[39m.\u001b[39mpop(), end_time \u001b[39m-\u001b[39m time\u001b[39m.\u001b[39mmonotonic())\n",
      "File \u001b[1;32mc:\\Users\\rsilva\\scoop\\apps\\mambaforge\\current\\envs\\db\\lib\\concurrent\\futures\\_base.py:319\u001b[0m, in \u001b[0;36m_result_or_cancel\u001b[1;34m(***failed resolving arguments***)\u001b[0m\n\u001b[0;32m    317\u001b[0m \u001b[39mtry\u001b[39;00m:\n\u001b[0;32m    318\u001b[0m     \u001b[39mtry\u001b[39;00m:\n\u001b[1;32m--> 319\u001b[0m         \u001b[39mreturn\u001b[39;00m fut\u001b[39m.\u001b[39;49mresult(timeout)\n\u001b[0;32m    320\u001b[0m     \u001b[39mfinally\u001b[39;00m:\n\u001b[0;32m    321\u001b[0m         fut\u001b[39m.\u001b[39mcancel()\n",
      "File \u001b[1;32mc:\\Users\\rsilva\\scoop\\apps\\mambaforge\\current\\envs\\db\\lib\\concurrent\\futures\\_base.py:458\u001b[0m, in \u001b[0;36mFuture.result\u001b[1;34m(self, timeout)\u001b[0m\n\u001b[0;32m    456\u001b[0m     \u001b[39mraise\u001b[39;00m CancelledError()\n\u001b[0;32m    457\u001b[0m \u001b[39melif\u001b[39;00m \u001b[39mself\u001b[39m\u001b[39m.\u001b[39m_state \u001b[39m==\u001b[39m FINISHED:\n\u001b[1;32m--> 458\u001b[0m     \u001b[39mreturn\u001b[39;00m \u001b[39mself\u001b[39;49m\u001b[39m.\u001b[39;49m__get_result()\n\u001b[0;32m    459\u001b[0m \u001b[39melse\u001b[39;00m:\n\u001b[0;32m    460\u001b[0m     \u001b[39mraise\u001b[39;00m \u001b[39mTimeoutError\u001b[39;00m()\n",
      "File \u001b[1;32mc:\\Users\\rsilva\\scoop\\apps\\mambaforge\\current\\envs\\db\\lib\\concurrent\\futures\\_base.py:403\u001b[0m, in \u001b[0;36mFuture.__get_result\u001b[1;34m(self)\u001b[0m\n\u001b[0;32m    401\u001b[0m \u001b[39mif\u001b[39;00m \u001b[39mself\u001b[39m\u001b[39m.\u001b[39m_exception:\n\u001b[0;32m    402\u001b[0m     \u001b[39mtry\u001b[39;00m:\n\u001b[1;32m--> 403\u001b[0m         \u001b[39mraise\u001b[39;00m \u001b[39mself\u001b[39m\u001b[39m.\u001b[39m_exception\n\u001b[0;32m    404\u001b[0m     \u001b[39mfinally\u001b[39;00m:\n\u001b[0;32m    405\u001b[0m         \u001b[39m# Break a reference cycle with the exception in self._exception\u001b[39;00m\n\u001b[0;32m    406\u001b[0m         \u001b[39mself\u001b[39m \u001b[39m=\u001b[39m \u001b[39mNone\u001b[39;00m\n",
      "File \u001b[1;32mc:\\Users\\rsilva\\scoop\\apps\\mambaforge\\current\\envs\\db\\lib\\concurrent\\futures\\thread.py:58\u001b[0m, in \u001b[0;36m_WorkItem.run\u001b[1;34m(self)\u001b[0m\n\u001b[0;32m     55\u001b[0m     \u001b[39mreturn\u001b[39;00m\n\u001b[0;32m     57\u001b[0m \u001b[39mtry\u001b[39;00m:\n\u001b[1;32m---> 58\u001b[0m     result \u001b[39m=\u001b[39m \u001b[39mself\u001b[39m\u001b[39m.\u001b[39mfn(\u001b[39m*\u001b[39m\u001b[39mself\u001b[39m\u001b[39m.\u001b[39margs, \u001b[39m*\u001b[39m\u001b[39m*\u001b[39m\u001b[39mself\u001b[39m\u001b[39m.\u001b[39mkwargs)\n\u001b[0;32m     59\u001b[0m \u001b[39mexcept\u001b[39;00m \u001b[39mBaseException\u001b[39;00m \u001b[39mas\u001b[39;00m exc:\n\u001b[0;32m     60\u001b[0m     \u001b[39mself\u001b[39m\u001b[39m.\u001b[39mfuture\u001b[39m.\u001b[39mset_exception(exc)\n",
      "File \u001b[1;32mc:\\Users\\rsilva\\scoop\\apps\\mambaforge\\current\\envs\\db\\lib\\site-packages\\fastcore\\parallel.py:46\u001b[0m, in \u001b[0;36m_call\u001b[1;34m(lock, pause, n, g, item)\u001b[0m\n\u001b[0;32m     44\u001b[0m     \u001b[39mfinally\u001b[39;00m:\n\u001b[0;32m     45\u001b[0m         \u001b[39mif\u001b[39;00m l: lock\u001b[39m.\u001b[39mrelease()\n\u001b[1;32m---> 46\u001b[0m \u001b[39mreturn\u001b[39;00m g(item)\n",
      "File \u001b[1;32mc:\\Users\\rsilva\\OneDrive - ANATEL\\Code\\anateldb\\extracao\\aero\\aisweb.py:193\u001b[0m, in \u001b[0;36mAisWeb.request_stations\u001b[1;34m(self, icao_code)\u001b[0m\n\u001b[0;32m    186\u001b[0m \u001b[39mdef\u001b[39;00m \u001b[39mrequest_stations\u001b[39m(\n\u001b[0;32m    187\u001b[0m     \u001b[39mself\u001b[39m,\n\u001b[0;32m    188\u001b[0m     icao_code: \u001b[39mstr\u001b[39m,  \u001b[39m# Código ICAO identificando o aeroporto\u001b[39;00m\n\u001b[0;32m    189\u001b[0m ) \u001b[39m-\u001b[39m\u001b[39m>\u001b[39m (\n\u001b[0;32m    190\u001b[0m     pd\u001b[39m.\u001b[39mDataFrame\n\u001b[0;32m    191\u001b[0m ):  \u001b[39m# DataFrame com os dados de estações do aeroporto de código `icao_code`\u001b[39;00m\n\u001b[0;32m    192\u001b[0m \u001b[39m    \u001b[39m\u001b[39m\"\"\"Recebe o código do aeroporto `icao_code` e retorna as estações registradas nele\"\"\"\u001b[39;00m\n\u001b[1;32m--> 193\u001b[0m     dict_data \u001b[39m=\u001b[39m \u001b[39mself\u001b[39;49m\u001b[39m.\u001b[39;49m_get_request(\u001b[39m\"\u001b[39;49m\u001b[39m&icaoCode=\u001b[39;49m\u001b[39m\"\u001b[39;49m, icao_code)\n\u001b[0;32m    194\u001b[0m     \u001b[39mreturn\u001b[39;00m (\n\u001b[0;32m    195\u001b[0m         \u001b[39mself\u001b[39m\u001b[39m.\u001b[39m_process_data(dict_data) \u001b[39mif\u001b[39;00m dict_data\u001b[39m.\u001b[39mget(\u001b[39m\"\u001b[39m\u001b[39maisweb\u001b[39m\u001b[39m\"\u001b[39m) \u001b[39melse\u001b[39;00m pd\u001b[39m.\u001b[39mDataFrame()\n\u001b[0;32m    196\u001b[0m     )\n",
      "File \u001b[1;32mc:\\Users\\rsilva\\OneDrive - ANATEL\\Code\\anateldb\\extracao\\aero\\aisweb.py:74\u001b[0m, in \u001b[0;36mAisWeb._get_request\u001b[1;34m(self, key, value)\u001b[0m\n\u001b[0;32m     70\u001b[0m \u001b[39mif\u001b[39;00m response\u001b[39m.\u001b[39mstatus_code \u001b[39m!=\u001b[39m \u001b[39m200\u001b[39m:\n\u001b[0;32m     71\u001b[0m     \u001b[39mraise\u001b[39;00m \u001b[39mValueError\u001b[39;00m(\n\u001b[0;32m     72\u001b[0m         \u001b[39mf\u001b[39m\u001b[39m\"\u001b[39m\u001b[39mResposta a requisição não foi bem sucedida: \u001b[39m\u001b[39m{\u001b[39;00mresponse\u001b[39m.\u001b[39mstatus_code\u001b[39m:\u001b[39;00m\u001b[39m=\u001b[39m\u001b[39m}\u001b[39;00m\u001b[39m\"\u001b[39m\n\u001b[0;32m     73\u001b[0m     )\n\u001b[1;32m---> 74\u001b[0m \u001b[39mreturn\u001b[39;00m xmltodict\u001b[39m.\u001b[39;49mparse(response\u001b[39m.\u001b[39;49mcontent)\n",
      "File \u001b[1;32mc:\\Users\\rsilva\\scoop\\apps\\mambaforge\\current\\envs\\db\\lib\\site-packages\\xmltodict.py:378\u001b[0m, in \u001b[0;36mparse\u001b[1;34m(xml_input, encoding, expat, process_namespaces, namespace_separator, disable_entities, process_comments, **kwargs)\u001b[0m\n\u001b[0;32m    376\u001b[0m     parser\u001b[39m.\u001b[39mParse(\u001b[39mb\u001b[39m\u001b[39m'\u001b[39m\u001b[39m'\u001b[39m,\u001b[39mTrue\u001b[39;00m)\n\u001b[0;32m    377\u001b[0m \u001b[39melse\u001b[39;00m:\n\u001b[1;32m--> 378\u001b[0m     parser\u001b[39m.\u001b[39;49mParse(xml_input, \u001b[39mTrue\u001b[39;49;00m)\n\u001b[0;32m    379\u001b[0m \u001b[39mreturn\u001b[39;00m handler\u001b[39m.\u001b[39mitem\n",
      "\u001b[1;31mExpatError\u001b[0m: junk after document element: line 39, column 16"
     ]
    }
   ],
   "source": [
    "%%time\n",
    "#| eval: false\n",
    "aero = update_aero(folder)\n",
    "aero.sample(5)"
   ]
  },
  {
   "cell_type": "markdown",
   "metadata": {},
   "source": [
    "## Base Consolidada ANATEL"
   ]
  },
  {
   "cell_type": "code",
   "execution_count": null,
   "metadata": {},
   "outputs": [],
   "source": [
    "#| export\n",
    "def validar_coords(\n",
    "    row: pd.Series,  # Linha de um DataFrame\n",
    "    connector: pyodbc.Connection = None,  # Conector de Banco de Dados\n",
    ") -> List[str]:  # DataFrame com dados do município\n",
    "    \"\"\"Valida os dados de coordenadas e município em `row` no polígono dos municípios em banco corporativ do IBGE\"\"\"\n",
    "\n",
    "    mun, cod, lat, long = (\n",
    "        row.Município,\n",
    "        row.Código_Município,\n",
    "        row.Latitude,\n",
    "        row.Longitude,\n",
    "    )\n",
    "    is_valid = \"-1\"\n",
    "    conn = connect_db() if connector is None else connector\n",
    "    crsr = conn.cursor()\n",
    "    sql = SQL_VALIDA_COORD.format(long, lat, cod)\n",
    "    crsr.execute(sql)\n",
    "    result = crsr.fetchone()\n",
    "    if result is not None:\n",
    "        mun = result.NO_MUNICIPIO\n",
    "        lat = result.NU_LATITUDE\n",
    "        long = result.NU_LONGITUDE\n",
    "        is_valid = result.COORD_VALIDA\n",
    "    if connector is None:\n",
    "        del conn\n",
    "    return [str(mun), str(lat), str(long), str(is_valid)]"
   ]
  },
  {
   "cell_type": "code",
   "execution_count": null,
   "metadata": {},
   "outputs": [
    {
     "ename": "NameError",
     "evalue": "name 'pd' is not defined",
     "output_type": "error",
     "traceback": [
      "\u001b[1;31m---------------------------------------------------------------------------\u001b[0m",
      "\u001b[1;31mNameError\u001b[0m                                 Traceback (most recent call last)",
      "Cell \u001b[1;32mIn[1], line 2\u001b[0m\n\u001b[0;32m      1\u001b[0m \u001b[38;5;66;03m#| export\u001b[39;00m\n\u001b[1;32m----> 2\u001b[0m \u001b[38;5;28;01mdef\u001b[39;00m \u001b[38;5;21mupdate_cached_df\u001b[39m(df: \u001b[43mpd\u001b[49m\u001b[38;5;241m.\u001b[39mDataFrame, df_cache: pd\u001b[38;5;241m.\u001b[39mDataFrame) \u001b[38;5;241m-\u001b[39m\u001b[38;5;241m>\u001b[39m pd\u001b[38;5;241m.\u001b[39mDataFrame:\n\u001b[0;32m      3\u001b[0m \u001b[38;5;250m    \u001b[39m\u001b[38;5;124;03m\"\"\"Mescla ambos dataframes eliminando os excluídos (existentes somente em df_cache)\"\"\"\u001b[39;00m\n\u001b[0;32m      5\u001b[0m     \u001b[38;5;66;03m# Merge dataframes based on all columns except \"Coords_Valida_IBGE\"\u001b[39;00m\n",
      "\u001b[1;31mNameError\u001b[0m: name 'pd' is not defined"
     ]
    }
   ],
   "source": [
    "#| export\n",
    "def update_cached_df(df: pd.DataFrame, df_cache: pd.DataFrame) -> pd.DataFrame:\n",
    "    \"\"\"Mescla ambos dataframes eliminando os excluídos (existentes somente em df_cache)\"\"\"\n",
    "\n",
    "    # Merge dataframes based on all columns except \"Coords_Valida_IBGE\"\n",
    "    merged = pd.merge(\n",
    "        df_cache,\n",
    "        df,\n",
    "        on=list(df.columns),\n",
    "        how=\"outer\",\n",
    "        indicator=True,\n",
    "        copy=False,\n",
    "        validate=\"one_to_one\",\n",
    "    ).astype(\"string\")\n",
    "\n",
    "    # Exclude rows only present in df_cache\n",
    "    df_cache = merged[merged[\"_merge\"] != \"left_only\"]\n",
    "\n",
    "    # inplace=True not working\n",
    "    df_cache.loc[:, [\"Latitude\", \"Longitude\"]] = df_cache.loc[\n",
    "        :, [\"Latitude\", \"Longitude\"]\n",
    "    ].fillna(\"-1\")\n",
    "\n",
    "    # # Drop the _merge column\n",
    "    return df_cache.drop(columns=\"_merge\")"
   ]
  },
  {
   "cell_type": "code",
   "execution_count": null,
   "metadata": {},
   "outputs": [],
   "source": [
    "# | export\n",
    "def _validar_coords_base(\n",
    "    df: pd.DataFrame,  # DataFrame com os dados da Anatel\n",
    "    df_cache: pd.DataFrame,  # DataFrame validado anteriormente, usado como cache\n",
    "    connector: pyodbc.Connection = None,  # Conector de Banco de Dados\n",
    ") -> pd.DataFrame:  # DataFrame com as coordenadas validadas na base do IBGE\n",
    "    \"\"\"Valida as coordenadas consultado a Base Corporativa do IBGE, excluindo o que já está no cache na versão anterior\"\"\"\n",
    "\n",
    "    df_cache = update_cached_df(df.astype(\"string\"), df_cache.astype(\"string\"))\n",
    "\n",
    "    municipios = pd.read_csv(\n",
    "        Path(__file__).parent / \"arquivos\" / \"municipios_coordenadas.csv\",\n",
    "        usecols=[\"codigo_ibge\"],\n",
    "        dtype=\"string\",\n",
    "    )\n",
    "\n",
    "    # valida os códigos de municípios\n",
    "    valid_cod_mun = df_cache.Código_Município.isin(municipios.codigo_ibge)\n",
    "\n",
    "    df_cache.loc[~valid_cod_mun, \"Coords_Valida_IBGE\"] = \"-1\"\n",
    "\n",
    "    subset = df_cache.Coords_Valida_IBGE.isna()\n",
    "\n",
    "    if linhas := list(\n",
    "        df_cache.loc[\n",
    "            subset, [\"Município\", \"Código_Município\", \"Latitude\", \"Longitude\"]\n",
    "        ].itertuples()\n",
    "    ):\n",
    "        func = partialler(validar_coords, connector=connector)\n",
    "\n",
    "        # Gambiarra para evitar compartilhamento da mesma conexão de banco em diferentes threads\n",
    "        n_workers = 1 if connector is not None else 20\n",
    "\n",
    "        ibge = [\n",
    "            \"Município_IBGE\",\n",
    "            \"Latitude_IBGE\",\n",
    "            \"Longitude_IBGE\",\n",
    "            \"Coords_Valida_IBGE\",\n",
    "        ]\n",
    "\n",
    "        df_cache.loc[subset, ibge] = parallel(\n",
    "            func, linhas, threadpool=True, n_workers=n_workers, progress=True\n",
    "        )\n",
    "\n",
    "    df_cache = df_cache.astype(\"string\")\n",
    "\n",
    "    df_cache.loc[df_cache.Coords_Valida_IBGE == \"-1\", \"Coords_Valida_IBGE\"] = pd.NA\n",
    "\n",
    "    return df_cache"
   ]
  },
  {
   "cell_type": "code",
   "execution_count": null,
   "metadata": {},
   "outputs": [],
   "source": [
    "# | export\n",
    "def update_base(\n",
    "    conn: pyodbc.Connection,  # Objeto de conexão de banco\n",
    "    clientMongoDB: MongoClient,  # Objeto de conexão com o MongoDB\n",
    "    folder: Union[str, Path],  # Pasta onde salvar os arquivos\n",
    "    conn_threads: bool = False,  # Flag para criar uma conexão de banco por thread\n",
    ") -> pd.DataFrame:  # DataFrame com os dados atualizados\n",
    "    # sourcery skip: use-fstring-for-concatenation\n",
    "    \"\"\"Wrapper que atualiza opcionalmente lê e atualiza as 4 bases indicadas anteriormente, as combina e salva o arquivo consolidado na folder `folder`\"\"\"\n",
    "    stel = update_stel(conn, folder)\n",
    "    radcom = update_radcom(conn, folder)\n",
    "    mosaico = update_srd(clientMongoDB, folder)\n",
    "    telecom = update_telecom(clientMongoDB, folder)\n",
    "\n",
    "    df = (\n",
    "        pd.concat([mosaico, radcom, stel, telecom])\n",
    "        .sort_values([\"Frequência\", \"Latitude\", \"Longitude\"])\n",
    "        .reset_index(drop=True)\n",
    "    ).astype(\"string\")\n",
    "\n",
    "    # inplace not working!\n",
    "    df.loc[:, [\"Latitude\", \"Longitude\"]] = df.loc[:, [\"Latitude\", \"Longitude\"]].fillna(\n",
    "        \"0\"\n",
    "    )\n",
    "    try:\n",
    "        df_cache = _read_df(folder, \"base\")\n",
    "    except FileNotFoundError:\n",
    "        df_cache = pd.DataFrame(columns=df.columns.to_list() + [\"Coords_Valida_IBGE\"])\n",
    "\n",
    "    connector = None if conn_threads else conn\n",
    "\n",
    "    df_cache = _validar_coords_base(df, df_cache, connector)\n",
    "\n",
    "    return _save_df(df_cache, folder, \"base\")"
   ]
  },
  {
   "cell_type": "code",
   "execution_count": null,
   "metadata": {},
   "outputs": [
    {
     "data": {
      "application/vnd.jupyter.widget-view+json": {
       "model_id": "725b320b339c4440a4b4e6c7dbbb7163",
       "version_major": 2,
       "version_minor": 0
      },
      "text/plain": [
       "Output()"
      ]
     },
     "metadata": {},
     "output_type": "display_data"
    },
    {
     "data": {
      "text/html": [
       "<pre style=\"white-space:pre;overflow-x:auto;line-height:normal;font-family:Menlo,'DejaVu Sans Mono',consolas,'Courier New',monospace\"></pre>\n"
      ],
      "text/plain": []
     },
     "metadata": {},
     "output_type": "display_data"
    },
    {
     "data": {
      "application/vnd.jupyter.widget-view+json": {
       "model_id": "b659cd42a6da427fab8f1dbd727016cf",
       "version_major": 2,
       "version_minor": 0
      },
      "text/plain": [
       "Output()"
      ]
     },
     "metadata": {},
     "output_type": "display_data"
    },
    {
     "data": {
      "text/html": [
       "<pre style=\"white-space:pre;overflow-x:auto;line-height:normal;font-family:Menlo,'DejaVu Sans Mono',consolas,'Courier New',monospace\"></pre>\n"
      ],
      "text/plain": []
     },
     "metadata": {},
     "output_type": "display_data"
    },
    {
     "data": {
      "application/vnd.jupyter.widget-view+json": {
       "model_id": "a1371c3c84c24376a9f9cb8a41c2de32",
       "version_major": 2,
       "version_minor": 0
      },
      "text/plain": [
       "Output()"
      ]
     },
     "metadata": {},
     "output_type": "display_data"
    },
    {
     "data": {
      "text/html": [
       "<pre style=\"white-space:pre;overflow-x:auto;line-height:normal;font-family:Menlo,'DejaVu Sans Mono',consolas,'Courier New',monospace\"></pre>\n"
      ],
      "text/plain": []
     },
     "metadata": {},
     "output_type": "display_data"
    },
    {
     "data": {
      "text/html": [
       "<pre style=\"white-space:pre;overflow-x:auto;line-height:normal;font-family:Menlo,'DejaVu Sans Mono',consolas,'Courier New',monospace\"><span style=\"color: #800000; text-decoration-color: #800000\"> ⚠ Executando a query na base licenciamento do Mosaico, processo demorado! ⚠</span>\n",
       "</pre>\n"
      ],
      "text/plain": [
       "\u001b[31m ⚠ Executando a query na base licenciamento do Mosaico, processo demorado! ⚠\u001b[0m\n"
      ]
     },
     "metadata": {},
     "output_type": "display_data"
    }
   ],
   "source": [
    "#| eval: false\n",
    "# base = update_base(conn, mongo_client, folder)\n",
    "# base.sample(5)"
   ]
  }
 ],
 "metadata": {
  "kernelspec": {
   "display_name": "python3",
   "language": "python",
   "name": "python3"
  }
 },
 "nbformat": 4,
 "nbformat_minor": 4
}
