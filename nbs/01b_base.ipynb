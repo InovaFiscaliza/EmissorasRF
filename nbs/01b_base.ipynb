{
 "cells": [
  {
   "cell_type": "code",
   "execution_count": null,
   "metadata": {},
   "outputs": [],
   "source": [
    "#| default_exp datasources.base\n",
    "%load_ext autoreload\n",
    "%autoreload 2\n",
    "\n",
    "import sys,os\n",
    "from pathlib import Path"
   ]
  },
  {
   "cell_type": "code",
   "execution_count": null,
   "metadata": {},
   "outputs": [],
   "source": [
    "# Insert in Path Project Directory\n",
    "sys.path.insert(0, str(Path().cwd().parent))\n",
    "os.chdir(Path.cwd().parent / \"extracao\")"
   ]
  },
  {
   "cell_type": "markdown",
   "metadata": {},
   "source": [
    "# Classe Base\n",
    "> Módulo para encapsular a extração e processamento comum às diferentes fontes de dados"
   ]
  },
  {
   "cell_type": "code",
   "execution_count": null,
   "metadata": {},
   "outputs": [],
   "source": [
    "# | export\n",
    "import re\n",
    "from dataclasses import dataclass\n",
    "from functools import cached_property\n",
    "from typing import Tuple, Union, List\n",
    "\n",
    "import pandas as pd\n",
    "from dotenv import find_dotenv, load_dotenv\n",
    "from fastcore.xtras import Path, listify\n",
    "from pyarrow import ArrowInvalid, ArrowTypeError\n",
    "\n",
    "from extracao.constants import BW, RE_BW"
   ]
  },
  {
   "cell_type": "code",
   "execution_count": null,
   "metadata": {},
   "outputs": [
    {
     "data": {
      "text/plain": [
       "True"
      ]
     },
     "execution_count": null,
     "metadata": {},
     "output_type": "execute_result"
    }
   ],
   "source": [
    "# | export\n",
    "load_dotenv(find_dotenv(), override=True)\n"
   ]
  },
  {
   "cell_type": "code",
   "execution_count": null,
   "metadata": {},
   "outputs": [],
   "source": [
    "# | hide: true\n",
    "# | eval:false\n",
    "__file__ = Path.cwd().parent / \"extracao\" / \"datasources.py\""
   ]
  },
  {
   "cell_type": "code",
   "execution_count": null,
   "metadata": {},
   "outputs": [],
   "source": [
    "#| export\n",
    "@dataclass\n",
    "class Base:\n",
    "\tfolder: Union[str, Path] = Path(__file__).parent / 'arquivos' / 'saida'\n",
    "\n",
    "\tdef _read(self, stem: str) -> pd.DataFrame:\n",
    "\t\t\"\"\"Lê o dataframe formado por self.folder / self.stem.parquet.gzip\"\"\"\n",
    "\t\tfile = Path(f'{self.folder}/{stem}.parquet.gzip')\n",
    "\t\ttry:\n",
    "\t\t\tdf = pd.read_parquet(file, dtype_backend='pyarrow')\n",
    "\t\texcept (ArrowInvalid, FileNotFoundError) as e:\n",
    "\t\t\traise ValueError(f'Error when reading {file}') from e\n",
    "\t\treturn df\n",
    "\n",
    "\tdef _save(self, df: pd.DataFrame, folder: Union[str, Path], stem: str) -> pd.DataFrame:\n",
    "\t\t\"\"\"Format, Save and return a dataframe\"\"\"\n",
    "\t\ttry:\n",
    "\t\t\tfile = Path(f'{folder}/{stem}.parquet.gzip')\n",
    "\t\t\tdf.astype('string[pyarrow]').to_parquet(\n",
    "\t\t\t\tfile, compression='gzip', index=False, engine='pyarrow'\n",
    "\t\t\t)\n",
    "\t\texcept (ArrowInvalid, ArrowTypeError) as e:\n",
    "\t\t\traise e(f'Não foi possível salvar o arquivo parquet {file}') from e\n",
    "\t\treturn df\n",
    "\n",
    "\tdef df(self) -> pd.DataFrame:\n",
    "\t\ttry:\n",
    "\t\t\tdf = self._read(self.stem)\n",
    "\t\texcept (ArrowInvalid, FileNotFoundError):\n",
    "\t\t\tdf = self._format(self.extraction())\n",
    "\t\treturn df\n",
    "\n",
    "\t@staticmethod\n",
    "\tdef parse_bw(\n",
    "\t\tbw: str,  # Designação de Emissão (Largura + Classe) codificada como string\n",
    "\t) -> Tuple[str, str]:  # Largura e Classe de Emissão\n",
    "\t\t\"\"\"Parse the bandwidth string\"\"\"\n",
    "\t\tif match := re.match(RE_BW, bw):\n",
    "\t\t\tmultiplier = BW[match[2]]\n",
    "\t\t\tif mantissa := match[3]:\n",
    "\t\t\t\tnumber = float(f'{match[1]}.{mantissa}')\n",
    "\t\t\telse:\n",
    "\t\t\t\tnumber = float(match[1])\n",
    "\t\t\tclasse = match[4]\n",
    "\t\t\treturn str(multiplier * number), str(classe)\n",
    "\t\treturn pd.NA, pd.NA\n",
    "\n",
    "\t@cached_property\n",
    "\tdef discarded(self) -> pd.DataFrame:\n",
    "\t\treturn pd.DataFrame(columns=self.columns)\n",
    "\n",
    "\tdef append2discarded(self, dfs: Union[pd.DataFrame, List]) -> None:\n",
    "\t\t\"\"\"Receives one of more dataframes and append to the discarded dataframe\"\"\"\n",
    "\t\tdfs = listify(dfs)\n",
    "\t\tif not self.discarded.empty:\n",
    "\t\t\tdfs.append(self.discarded)\n",
    "\t\tself.discarded = pd.concat(dfs, ignore_index=True)\n",
    "\n",
    "\t@staticmethod\n",
    "\tdef register_log(df: pd.DataFrame, log: str, row_filter: pd.Series = None):\n",
    "\t\t\"\"\"Register a log in the dataframe\"\"\"\n",
    "\t\tif row_filter is None:\n",
    "\t\t\trow_filter = pd.Series(True, index=df.index)\n",
    "\n",
    "\t\tdf['Log'] = df['Log'].astype('string').fillna('')\n",
    "\n",
    "\t\tdf.loc[row_filter, 'Log'] = df.loc[row_filter, 'Log'].apply(\n",
    "\t\t\tlambda x: f'{x}|{log}' if x else log\n",
    "\t\t)\n",
    "\t\tdf['Log'] = df.Log.str.replace(r'[\\n\\t]', '', regex=True)\n",
    "\t\treturn df\n",
    "\n",
    "\t@property\n",
    "\tdef columns(self):\n",
    "\t\traise NotImplementedError(\"Subclasses devem implementar a propriedade 'columns'\")\n",
    "\n",
    "\t@property\n",
    "\tdef cols_mapping(self):\n",
    "\t\traise NotImplementedError(\"Subclasses devem implementar a propriedade 'cols_mapping'\")\n",
    "\n",
    "\t@property\n",
    "\tdef stem(self):\n",
    "\t\traise NotImplementedError('Subclasses devem setar a propriedade stem!')\n",
    "\n",
    "\tdef extraction(self) -> pd.DataFrame:\n",
    "\t\traise NotImplementedError('Subclasses devem implementar o método extract')\n",
    "\n",
    "\tdef _format(\n",
    "\t\tself,\n",
    "\t\tdf: pd.DataFrame,  # DataFrame com os dados de Estações\n",
    "\t) -> pd.DataFrame:  # DataFrame formatado\n",
    "\t\t\"\"\"Formata, limpa e padroniza os dados provenientes da query no banco\"\"\"\n",
    "\t\traise NotImplementedError('Subclasses devem implementar o método _format')\n",
    "\n",
    "\tdef update(self):\n",
    "\t\tself.df = self._format(self.extraction())\n",
    "\n",
    "\tdef save(self, folder: Union[str, Path] = None):\n",
    "\t\tif folder is None:\n",
    "\t\t\tfolder = self.folder\n",
    "\t\tself._save(self.df, folder, self.stem)\n",
    "\t\tself._save(self.discarded, folder, f'{self.stem}_discarded')"
   ]
  }
 ],
 "metadata": {
  "kernelspec": {
   "display_name": "python3",
   "language": "python",
   "name": "python3"
  }
 },
 "nbformat": 4,
 "nbformat_minor": 4
}
