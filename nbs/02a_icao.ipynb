{
 "cells": [
  {
   "cell_type": "code",
   "execution_count": null,
   "metadata": {},
   "outputs": [],
   "source": [
    "#| default_exp datasources.icao\n",
    "%load_ext autoreload\n",
    "%autoreload 2\n",
    "\n",
    "import sys,os\n",
    "from pathlib import Path\n"
   ]
  },
  {
   "cell_type": "code",
   "execution_count": null,
   "metadata": {},
   "outputs": [],
   "source": [
    "#| hide\n",
    "# Insert in Path Project Directory\n",
    "sys.path.insert(0, str(Path().cwd().parent))"
   ]
  },
  {
   "attachments": {},
   "cell_type": "markdown",
   "metadata": {},
   "source": [
    "# ICAO\n",
    "\n",
    "> Este módulo concentra as constantes, funções de carga, processamento, mesclagem e salvamento de dados aeronáuticos provenientes do Software Frequency Finder da ICAO"
   ]
  },
  {
   "cell_type": "code",
   "execution_count": null,
   "metadata": {},
   "outputs": [
    {
     "data": {
      "text/plain": [
       "True"
      ]
     },
     "execution_count": null,
     "metadata": {},
     "output_type": "execute_result"
    }
   ],
   "source": [
    "#| export\n",
    "import os\n",
    "from pathlib import Path\n",
    "from typing import Iterable\n",
    "\n",
    "import pandas as pd\n",
    "from dotenv import find_dotenv, load_dotenv\n",
    "from extracao.constants import PATH_NAV, PATH_COM, VOR_ILS_DME\n",
    "\n",
    "load_dotenv(find_dotenv(), override=True)"
   ]
  },
  {
   "attachments": {},
   "cell_type": "markdown",
   "metadata": {},
   "source": [
    "## CONSTANTES\n"
   ]
  },
  {
   "attachments": {},
   "cell_type": "markdown",
   "metadata": {},
   "source": [
    "Dados para acesso aos dados do ICAO"
   ]
  },
  {
   "cell_type": "code",
   "execution_count": null,
   "metadata": {},
   "outputs": [],
   "source": [
    "#| export\n",
    "COLS_NAV = [\"Frequency\", \"Latitude\", \"Longitude\", \"Facility\", \"Location\", \"NS\", \"WE\"]\n",
    "COLS_COM = [\"Frequency\", \"CoordLat\", \"CoordLong\", \"DOC\", \"Location\", \"NS\", \"WE\"]\n",
    "UNIQUE_COLS = [\"Frequência\", \"Latitude\", \"Longitude\"]"
   ]
  },
  {
   "cell_type": "code",
   "execution_count": null,
   "metadata": {},
   "outputs": [],
   "source": [
    "#| export\n",
    "def convert_latitude(\n",
    "    lat: str,  # Latitude\n",
    "    hemisphere: str,  # Hemisfério: N | S\n",
    ") -> float:\n",
    "    \"\"\"Converte a Latitude para formato decimal\"\"\"\n",
    "    multiplier = 1 if hemisphere == \"N\" else -1\n",
    "    return multiplier * (\n",
    "        float(lat[:2]) + float(lat[3:5]) / 60 + float(lat[6:8]) / 3600.0\n",
    "    )\n",
    "\n",
    "\n",
    "def convert_longitude(\n",
    "    lon: str,  # Longitude\n",
    "    hemisphere: str,  # Hemisfério: W | E\n",
    ") -> float:\n",
    "    \"\"\"Converte a longitude para formato decimal\"\"\"\n",
    "\n",
    "    multiplier = 1 if hemisphere == \"E\" else -1\n",
    "    return multiplier * (\n",
    "        float(lon[1:3]) + float(lon[4:6]) / 60 + float(lon[7:9]) / 3600.0\n",
    "    )"
   ]
  },
  {
   "cell_type": "code",
   "execution_count": null,
   "metadata": {},
   "outputs": [],
   "source": [
    "from fastcore.test import test_close"
   ]
  },
  {
   "cell_type": "code",
   "execution_count": null,
   "metadata": {},
   "outputs": [],
   "source": [
    "lat = \"25D36'01\"\n",
    "long = \"056D06'00\"\n",
    "test_close(convert_latitude(lat, 'S'), -25.60027)\n",
    "test_close(convert_longitude(long, 'W'), -56.10000)"
   ]
  },
  {
   "cell_type": "code",
   "execution_count": null,
   "metadata": {},
   "outputs": [],
   "source": [
    "#|export\n",
    "def _read_df(\n",
    "    path: str,  # Caminho do arquivo\n",
    "    usecols: Iterable[str],  # Subconjunto de colunas do arquivo\n",
    ") -> pd.DataFrame:  # Dataframe formatado\n",
    "    # sourcery skip: use-fstring-for-concatenation\n",
    "    \"\"\"Lê o DataFrame no caminho `path`, filtra as colunas `usecols` e o retorna formatado\"\"\"\n",
    "    df = pd.read_csv(path, dtype=\"string\")[usecols]\n",
    "    df.columns = COLS_NAV\n",
    "    df[\"Latitude\"] = df.apply(\n",
    "        lambda x: convert_latitude(x[\"Latitude\"], x[\"NS\"]), axis=1\n",
    "    )\n",
    "    df[\"Longitude\"] = df.apply(\n",
    "        lambda x: convert_longitude(x[\"Longitude\"], x[\"WE\"]), axis=1\n",
    "    )\n",
    "    df[\"Description\"] = df.Facility + \", \" + df.Location\n",
    "    df[\"Fonte\"] = \"ICAO\"\n",
    "    df = df[[\"Frequency\", \"Latitude\", \"Longitude\", \"Description\", \"Fonte\"]]\n",
    "    df.columns = [\"Frequência\", \"Latitude\", \"Longitude\", \"Entidade\", \"Fonte\"]\n",
    "    return df"
   ]
  },
  {
   "cell_type": "code",
   "execution_count": null,
   "metadata": {},
   "outputs": [],
   "source": [
    "#| export\n",
    "def map_channels(\n",
    "    df: pd.DataFrame,  # DataFrame dos dados de origem\n",
    "    origem: str,  # Descrição da emissão a ser substituída\n",
    ") -> pd.DataFrame:\n",
    "    \"\"\"Mapeia os canais contidos em `df` e adiciona os registros ILS/DME caso houver\"\"\"\n",
    "    chs = pd.read_csv(VOR_ILS_DME, dtype=\"string\", dtype_backend=\"pyarrow\")\n",
    "    for row in df[df.Entidade.str.contains(\"ILS|DME\")].itertuples():\n",
    "        if not (ch := chs[(chs.VOR_ILSloc == row.Frequência)]).empty:\n",
    "            for i, c in enumerate(ch.values[0][2:]):\n",
    "                if pd.notna(c):\n",
    "                    if i == 0:\n",
    "                        freq_type = \"ILS glide path\"\n",
    "                    elif i == 1:\n",
    "                        freq_type = \"Airbone DME\"\n",
    "                    elif i == 2:\n",
    "                        freq_type = \"Ground-based DME\"\n",
    "                    else:\n",
    "                        raise ValueError(\"No additional frequency to map on channel\")\n",
    "                    entidade = row.Entidade + f\"({freq_type})\"\n",
    "                    df.loc[len(df)] = [\n",
    "                        c,\n",
    "                        row.Latitude,\n",
    "                        row.Longitude,\n",
    "                        entidade,\n",
    "                        f\"{origem}-CANALIZACAO-VOR/ILS/DME\",\n",
    "                    ]\n",
    "    return df"
   ]
  },
  {
   "cell_type": "code",
   "execution_count": null,
   "metadata": {},
   "outputs": [],
   "source": [
    "#| export    \n",
    "def get_icao() -> (\n",
    "    pd.DataFrame\n",
    "):  # DataFrame com frequências, coordenadas e descrição das estações\n",
    "    \"\"\"Lê, concatena e pós-processa os arquivos do ICAO\"\"\"\n",
    "    df = pd.concat(\n",
    "        _read_df(p, c) for p, c in zip([PATH_NAV, PATH_COM], [COLS_NAV, COLS_COM])\n",
    "    )\n",
    "    df = df.astype(\"string\")\n",
    "    return map_channels(df, \"ICAO\").drop_duplicates(UNIQUE_COLS, ignore_index=True)"
   ]
  },
  {
   "cell_type": "code",
   "execution_count": null,
   "metadata": {},
   "outputs": [
    {
     "data": {
      "text/html": [
       "<div>\n",
       "<style scoped>\n",
       "    .dataframe tbody tr th:only-of-type {\n",
       "        vertical-align: middle;\n",
       "    }\n",
       "\n",
       "    .dataframe tbody tr th {\n",
       "        vertical-align: top;\n",
       "    }\n",
       "\n",
       "    .dataframe thead th {\n",
       "        text-align: right;\n",
       "    }\n",
       "</style>\n",
       "<table border=\"1\" class=\"dataframe\">\n",
       "  <thead>\n",
       "    <tr style=\"text-align: right;\">\n",
       "      <th></th>\n",
       "      <th>Frequency</th>\n",
       "      <th>Latitude</th>\n",
       "      <th>Longitude</th>\n",
       "      <th>Description</th>\n",
       "    </tr>\n",
       "  </thead>\n",
       "  <tbody>\n",
       "    <tr>\n",
       "      <th>0</th>\n",
       "      <td>113.4</td>\n",
       "      <td>-9.866666666666667</td>\n",
       "      <td>-56.1</td>\n",
       "      <td>[ICAO] VOR/DME, ALTA FLORESTA</td>\n",
       "    </tr>\n",
       "    <tr>\n",
       "      <th>1</th>\n",
       "      <td>113.2</td>\n",
       "      <td>-3.25</td>\n",
       "      <td>-52.25</td>\n",
       "      <td>[ICAO] VOR/DME, ALTAMIRA</td>\n",
       "    </tr>\n",
       "    <tr>\n",
       "      <th>2</th>\n",
       "      <td>117.5</td>\n",
       "      <td>-4.183333333333334</td>\n",
       "      <td>-69.93333333333334</td>\n",
       "      <td>[ICAO] VOR/DME, AMAZONICA</td>\n",
       "    </tr>\n",
       "    <tr>\n",
       "      <th>3</th>\n",
       "      <td>115.4</td>\n",
       "      <td>-16.25</td>\n",
       "      <td>-49.0</td>\n",
       "      <td>[ICAO] VOR/DME, ANAPOLIS</td>\n",
       "    </tr>\n",
       "    <tr>\n",
       "      <th>4</th>\n",
       "      <td>112.0</td>\n",
       "      <td>-10.983333333333333</td>\n",
       "      <td>-37.06666666666667</td>\n",
       "      <td>[ICAO] VOR/DME, ARACAJU STA. MARIA</td>\n",
       "    </tr>\n",
       "    <tr>\n",
       "      <th>...</th>\n",
       "      <td>...</td>\n",
       "      <td>...</td>\n",
       "      <td>...</td>\n",
       "      <td>...</td>\n",
       "    </tr>\n",
       "    <tr>\n",
       "      <th>2626</th>\n",
       "      <td>1176</td>\n",
       "      <td>-20.766666666666666</td>\n",
       "      <td>-51.55</td>\n",
       "      <td>[DOC] VOR/DME, URUBUPUNGA CASTILHO (Ground-bas...</td>\n",
       "    </tr>\n",
       "    <tr>\n",
       "      <th>2627</th>\n",
       "      <td>1082.0</td>\n",
       "      <td>-12.7</td>\n",
       "      <td>-60.083333333333336</td>\n",
       "      <td>[DOC] VOR/DME, VILHENA (Airbone DME)</td>\n",
       "    </tr>\n",
       "    <tr>\n",
       "      <th>2628</th>\n",
       "      <td>1019</td>\n",
       "      <td>-12.7</td>\n",
       "      <td>-60.083333333333336</td>\n",
       "      <td>[DOC] VOR/DME, VILHENA (Ground-based DME)</td>\n",
       "    </tr>\n",
       "    <tr>\n",
       "      <th>2629</th>\n",
       "      <td>1126.0</td>\n",
       "      <td>-20.25</td>\n",
       "      <td>-40.28333333333333</td>\n",
       "      <td>[DOC] VOR/DME, VITORIA GOIABEIRAS (Airbone DME)</td>\n",
       "    </tr>\n",
       "    <tr>\n",
       "      <th>2630</th>\n",
       "      <td>1189</td>\n",
       "      <td>-20.25</td>\n",
       "      <td>-40.28333333333333</td>\n",
       "      <td>[DOC] VOR/DME, VITORIA GOIABEIRAS (Ground-base...</td>\n",
       "    </tr>\n",
       "  </tbody>\n",
       "</table>\n",
       "<p>2631 rows × 4 columns</p>\n",
       "</div>"
      ],
      "text/plain": [
       "     Frequency             Latitude            Longitude  \\\n",
       "0        113.4   -9.866666666666667                -56.1   \n",
       "1        113.2                -3.25               -52.25   \n",
       "2        117.5   -4.183333333333334   -69.93333333333334   \n",
       "3        115.4               -16.25                -49.0   \n",
       "4        112.0  -10.983333333333333   -37.06666666666667   \n",
       "...        ...                  ...                  ...   \n",
       "2626      1176  -20.766666666666666               -51.55   \n",
       "2627    1082.0                -12.7  -60.083333333333336   \n",
       "2628      1019                -12.7  -60.083333333333336   \n",
       "2629    1126.0               -20.25   -40.28333333333333   \n",
       "2630      1189               -20.25   -40.28333333333333   \n",
       "\n",
       "                                            Description  \n",
       "0                         [ICAO] VOR/DME, ALTA FLORESTA  \n",
       "1                              [ICAO] VOR/DME, ALTAMIRA  \n",
       "2                             [ICAO] VOR/DME, AMAZONICA  \n",
       "3                              [ICAO] VOR/DME, ANAPOLIS  \n",
       "4                    [ICAO] VOR/DME, ARACAJU STA. MARIA  \n",
       "...                                                 ...  \n",
       "2626  [DOC] VOR/DME, URUBUPUNGA CASTILHO (Ground-bas...  \n",
       "2627               [DOC] VOR/DME, VILHENA (Airbone DME)  \n",
       "2628          [DOC] VOR/DME, VILHENA (Ground-based DME)  \n",
       "2629    [DOC] VOR/DME, VITORIA GOIABEIRAS (Airbone DME)  \n",
       "2630  [DOC] VOR/DME, VITORIA GOIABEIRAS (Ground-base...  \n",
       "\n",
       "[2631 rows x 4 columns]"
      ]
     },
     "execution_count": null,
     "metadata": {},
     "output_type": "execute_result"
    }
   ],
   "source": [
    "#| eval: false\n",
    "get_icao()"
   ]
  }
 ],
 "metadata": {
  "kernelspec": {
   "display_name": "python3",
   "language": "python",
   "name": "python3"
  }
 },
 "nbformat": 4,
 "nbformat_minor": 4
}
