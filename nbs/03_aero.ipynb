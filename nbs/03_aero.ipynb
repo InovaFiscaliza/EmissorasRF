{
 "cells": [
  {
   "cell_type": "code",
   "execution_count": null,
   "metadata": {},
   "outputs": [],
   "source": [
    "#| default_exp datasources.aeronautica\n",
    "%load_ext autoreload\n",
    "%autoreload 2\n",
    "\n",
    "import sys\n",
    "from pathlib import Path\n"
   ]
  },
  {
   "cell_type": "code",
   "execution_count": null,
   "metadata": {},
   "outputs": [],
   "source": [
    "\n",
    "# Insert in Path Project Directory\n",
    "sys.path.insert(0, str(Path().cwd().parent))"
   ]
  },
  {
   "cell_type": "markdown",
   "metadata": {},
   "source": [
    "# Atualização\n",
    "\n",
    "> Este módulo atualiza as bases aeronáuticas fazendo novas requisições às APIS"
   ]
  },
  {
   "cell_type": "code",
   "execution_count": null,
   "metadata": {},
   "outputs": [],
   "source": [
    "#| export\n",
    "import os\n",
    "from typing import List, Union\n",
    "from functools import cached_property\n",
    "\n",
    "\n",
    "import numpy as np\n",
    "import pandas as pd\n",
    "from dotenv import find_dotenv, load_dotenv\n",
    "from fastcore.xtras import Path\n",
    "from fastcore.parallel import parallel\n",
    "\n",
    "from extracao.datasources.icao import get_icao\n",
    "from extracao.datasources.aisweb import get_aisw\n",
    "from extracao.datasources.aisgeo import get_aisg\n",
    "from extracao.datasources.redemet import get_redemet\n",
    "from extracao.datasources.base import Base\n",
    "from extracao.format import merge_on_frequency"
   ]
  },
  {
   "cell_type": "code",
   "execution_count": null,
   "metadata": {},
   "outputs": [
    {
     "data": {
      "text/plain": [
       "True"
      ]
     },
     "execution_count": null,
     "metadata": {},
     "output_type": "execute_result"
    }
   ],
   "source": [
    "#| export\n",
    "load_dotenv(find_dotenv())"
   ]
  },
  {
   "cell_type": "code",
   "execution_count": null,
   "metadata": {},
   "outputs": [],
   "source": [
    "__file__ = Path.cwd().parent / \"extracao\" / \"datasources\" / \"datasources.py\""
   ]
  },
  {
   "cell_type": "code",
   "execution_count": null,
   "metadata": {},
   "outputs": [],
   "source": [
    "#|export\n",
    "class Aero(Base):\n",
    "    \"\"\"Classe auxiliar para agregar os dados das APIs aeronáuticas\"\"\"\n",
    "\n",
    "    @property\n",
    "    def stem(self):\n",
    "        return \"aero\"\n",
    "\n",
    "    @property\n",
    "    def columns(self):\n",
    "        return [\"Frequência\", \"Latitude\", \"Longitude\", \"Entidade\", \"Fonte\"]\n",
    "\n",
    "    def extraction(self) -> pd.DataFrame:\n",
    "        func = lambda f: f()\n",
    "        radares = pd.read_csv(Path(__file__).parent / \"arquivos\" / \"radares.csv\")\n",
    "        radares[\"Fonte\"] = \"RADAR\"\n",
    "        sources = [get_icao, get_aisw, get_aisg, get_redemet]\n",
    "        dfs = parallel(func, sources, threadpool=True, progress=False)\n",
    "        dfs.append(radares)\n",
    "        return dfs\n",
    "\n",
    "    def _format(\n",
    "        self,\n",
    "        dfs: List,  # List with the individual API sources\n",
    "    ) -> pd.DataFrame:  # Processed DataFrame\n",
    "        if dfs:\n",
    "            icao = dfs.pop(0)\n",
    "            for df in dfs:\n",
    "                icao = merge_on_frequency(icao, df)\n",
    "\n",
    "            icao = icao.sort_values(by=icao.columns.to_list(), ignore_index=True)\n",
    "            icao = icao.drop_duplicates(\n",
    "                subset=[\"Frequência\", \"Latitude\", \"Longitude\"],\n",
    "                keep=\"last\",\n",
    "                ignore_index=True,\n",
    "            )\n",
    "            icao = icao.astype(\n",
    "                {\n",
    "                    \"Frequência\": \"float\",\n",
    "                    \"Latitude\": \"float\",\n",
    "                    \"Longitude\": \"float\",\n",
    "                    \"Entidade\": \"string\",\n",
    "                }\n",
    "            )\n",
    "            icao.loc[np.isclose(icao.Longitude, -472.033447), \"Longitude\"] = -47.2033447\n",
    "            icao.loc[np.isclose(icao.Longitude, 69.934998), \"Longitude\"] = -69.934998\n",
    "            icao[\"Multiplicidade\"] = 1\n",
    "            return icao"
   ]
  }
 ],
 "metadata": {
  "kernelspec": {
   "display_name": "python3",
   "language": "python",
   "name": "python3"
  }
 },
 "nbformat": 4,
 "nbformat_minor": 4
}
