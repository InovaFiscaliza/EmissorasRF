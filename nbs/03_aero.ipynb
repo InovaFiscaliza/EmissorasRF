{
 "cells": [
  {
   "cell_type": "code",
   "execution_count": null,
   "metadata": {},
   "outputs": [],
   "source": [
    "#| default_exp datasources.aeronautica\n",
    "%load_ext autoreload\n",
    "%autoreload 2\n",
    "\n",
    "import sys\n",
    "from pathlib import Path\n"
   ]
  },
  {
   "cell_type": "code",
   "execution_count": null,
   "metadata": {},
   "outputs": [],
   "source": [
    "\n",
    "# Insert in Path Project Directory\n",
    "sys.path.insert(0, str(Path().cwd().parent))"
   ]
  },
  {
   "cell_type": "markdown",
   "metadata": {},
   "source": [
    "# Atualização\n",
    "\n",
    "> Este módulo atualiza as bases aeronáuticas fazendo novas requisições às APIS"
   ]
  },
  {
   "cell_type": "code",
   "execution_count": null,
   "metadata": {},
   "outputs": [],
   "source": [
    "#| export\n",
    "import os\n",
    "from typing import List, Union\n",
    "from functools import cached_property\n",
    "\n",
    "\n",
    "import numpy as np\n",
    "import pandas as pd\n",
    "from dotenv import find_dotenv, load_dotenv\n",
    "from fastcore.xtras import Path\n",
    "from fastcore.parallel import parallel\n",
    "\n",
    "from extracao.datasources.icao import get_icao\n",
    "from extracao.datasources.aisweb import get_aisw\n",
    "from extracao.datasources.aisgeo import get_aisg\n",
    "from extracao.datasources.redemet import get_redemet\n",
    "from extracao.datasources.base import Base\n",
    "from extracao.format import merge_on_frequency"
   ]
  },
  {
   "cell_type": "code",
   "execution_count": null,
   "metadata": {},
   "outputs": [
    {
     "data": {
      "text/plain": [
       "True"
      ]
     },
     "execution_count": null,
     "metadata": {},
     "output_type": "execute_result"
    }
   ],
   "source": [
    "#| export\n",
    "load_dotenv(find_dotenv())\n"
   ]
  },
  {
   "cell_type": "code",
   "execution_count": null,
   "metadata": {},
   "outputs": [],
   "source": [
    "__file__ = Path.cwd().parent / \"extracao\" / \"datasources\" / \"datasources.py\""
   ]
  },
  {
   "cell_type": "code",
   "execution_count": null,
   "metadata": {},
   "outputs": [],
   "source": [
    "#|export\n",
    "class Aero(Base):\n",
    "\t\"\"\"Classe auxiliar para agregar os dados das APIs aeronáuticas\"\"\"\n",
    "\n",
    "\t@property\n",
    "\tdef stem(self):\n",
    "\t\treturn 'aero'\n",
    "\n",
    "\t@property\n",
    "\tdef columns(self):\n",
    "\t\treturn ['Frequência', 'Latitude', 'Longitude', 'Entidade', 'Fonte']\n",
    "\n",
    "\tdef extraction(self) -> pd.DataFrame:\n",
    "\t\tfunc = lambda f: f()\n",
    "\t\tradares = pd.read_csv(Path(__file__).parent / 'arquivos' / 'radares.csv')\n",
    "\t\tradares['Fonte'] = 'RADAR'\n",
    "\t\tsources = [get_icao, get_aisw, get_aisg, get_redemet]\n",
    "\t\tdfs = parallel(func, sources, threadpool=True, progress=True)\n",
    "\t\tdfs.append(radares)\n",
    "\t\treturn dfs\n",
    "\n",
    "\tdef _format(\n",
    "\t\tself,\n",
    "\t\tdfs: List,  # List with the individual API sources\n",
    "\t) -> pd.DataFrame:  # Processed DataFrame\n",
    "\t\tif dfs:\n",
    "\t\t\ticao = dfs.pop(0)\n",
    "\t\t\tfor df in dfs:\n",
    "\t\t\t\ticao = merge_on_frequency(icao, df)\n",
    "\n",
    "\t\t\ticao = icao.sort_values(by=icao.columns.to_list(), ignore_index=True)\n",
    "\t\t\ticao = icao.drop_duplicates(\n",
    "\t\t\t\tsubset=['Frequência', 'Latitude', 'Longitude'],\n",
    "\t\t\t\tkeep='last',\n",
    "\t\t\t\tignore_index=True,\n",
    "\t\t\t)\n",
    "\t\t\ticao = icao.astype(\n",
    "\t\t\t\t{\n",
    "\t\t\t\t\t'Frequência': 'float',\n",
    "\t\t\t\t\t'Latitude': 'float',\n",
    "\t\t\t\t\t'Longitude': 'float',\n",
    "\t\t\t\t\t'Entidade': 'string',\n",
    "\t\t\t\t}\n",
    "\t\t\t)\n",
    "\t\t\ticao.loc[np.isclose(icao.Longitude, -472.033447), 'Longitude'] = -47.2033447\n",
    "\t\t\ticao.loc[np.isclose(icao.Longitude, 69.934998), 'Longitude'] = -69.934998\n",
    "\t\t\treturn icao"
   ]
  }
 ],
 "metadata": {
  "kernelspec": {
   "display_name": "python3",
   "language": "python",
   "name": "python3"
  }
 },
 "nbformat": 4,
 "nbformat_minor": 4
}
