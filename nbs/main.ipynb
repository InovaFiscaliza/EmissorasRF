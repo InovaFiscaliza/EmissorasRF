{
 "cells": [
  {
   "cell_type": "code",
   "execution_count": 1,
   "id": "80feb396",
   "metadata": {},
   "outputs": [],
   "source": [
    "#| default_exp main\n",
    "import sys\n",
    "from pathlib import Path"
   ]
  },
  {
   "cell_type": "code",
   "execution_count": 2,
   "id": "59d06f84",
   "metadata": {},
   "outputs": [],
   "source": [
    "# Insert in Path Project Directory\n",
    "sys.path.insert(0, str(Path().cwd().parent))\n",
    "%load_ext autoreload\n",
    "%autoreload 2"
   ]
  },
  {
   "attachments": {},
   "cell_type": "markdown",
   "id": "c06a9485",
   "metadata": {},
   "source": [
    "# Principal\n",
    "> Este módulo concentra funções auxiliares específicas que filtram os dados do banco com campos e formatação de interesse para aplicações específicas como o [appAnalise](https://github.com/EricMagalhaesDelgado/appAnalise) por exemplo."
   ]
  },
  {
   "cell_type": "code",
   "execution_count": 3,
   "id": "ac0c52ca",
   "metadata": {},
   "outputs": [],
   "source": [
    "#| export\n",
    "import os\n",
    "from pathlib import Path\n",
    "import json\n",
    "from typing import Union\n",
    "from datetime import datetime\n",
    "\n",
    "import pandas as pd\n",
    "from fastcore.test import *\n",
    "from rich import print\n",
    "import pyodbc\n",
    "from pymongo import MongoClient\n",
    "from dotenv import load_dotenv, find_dotenv\n",
    "\n",
    "from extracao.constants import APP_ANALISE_PT, APP_ANALISE_EN\n",
    "from extracao.reading import read_base, read_aero\n",
    "from extracao.format import merge_close_rows\n"
   ]
  },
  {
   "cell_type": "code",
   "execution_count": 4,
   "id": "bf45d7eb",
   "metadata": {},
   "outputs": [
    {
     "data": {
      "text/plain": [
       "True"
      ]
     },
     "execution_count": 4,
     "metadata": {},
     "output_type": "execute_result"
    }
   ],
   "source": [
    "#| export\n",
    "LIMIT_FREQ = 84812.50\n",
    "load_dotenv(find_dotenv())"
   ]
  },
  {
   "cell_type": "code",
   "execution_count": 5,
   "id": "da73bdb8",
   "metadata": {},
   "outputs": [],
   "source": [
    "#| export\n",
    "def _filter_matlab(\n",
    "    df: pd.DataFrame,  # Arquivo de Dados Base de Entrada\n",
    ") -> pd.DataFrame:  # Arquivo de Dados formatado para leitura no Matlab\n",
    "    \"\"\"Recebe a base de dados da Anatel e formata as colunas para leitura de acordo com os requisitos do Matlab\"\"\"\n",
    "    df[\"#Estação\"] = df[\"Número_Estação\"]\n",
    "    df.loc[df.Multiplicidade != \"1\", \"#Estação\"] = (\n",
    "        df.loc[df.Multiplicidade != \"1\", \"Número_Estação\"]\n",
    "        + \"+\"\n",
    "        + df.loc[df.Multiplicidade != \"1\", \"Multiplicidade\"]\n",
    "    )\n",
    "    cols_desc = [\n",
    "        \"Fonte\",\n",
    "        \"Status\",\n",
    "        \"Classe\",\n",
    "        \"Entidade\",\n",
    "        \"Fistel\",\n",
    "        \"#Estação\",\n",
    "        \"Município_IBGE\",\n",
    "        \"UF\",\n",
    "    ]\n",
    "    df.loc[:, cols_desc].fillna(\"NI\", inplace=True)\n",
    "\n",
    "    df[\"Descrição\"] = (\n",
    "        \"[\"\n",
    "        + df.Fonte\n",
    "        + \"] \"\n",
    "        + df.Status\n",
    "        + \", \"\n",
    "        + df.Classe\n",
    "        + \", \"\n",
    "        + df.Entidade.str.title()\n",
    "        + \" (\"\n",
    "        + df.Fistel\n",
    "        + \", \"\n",
    "        + df[\"#Estação\"]\n",
    "        + \"), \"\n",
    "        + df.Município_IBGE\n",
    "        + \"/\"\n",
    "        + df.UF\n",
    "    )\n",
    "\n",
    "    bad_coords = df.Coords_Valida_IBGE == \"0\"\n",
    "\n",
    "    df.loc[bad_coords == \"False\", \"Descrição\"] = (\n",
    "        df.loc[bad_coords == \"False\", \"Descrição\"] + \"*\"\n",
    "    )\n",
    "\n",
    "    df.loc[bad_coords, [\"Latitude\", \"Longitude\"]] = df.loc[\n",
    "        bad_coords, [\"Latitude_IBGE\", \"Longitude_IBGE\"]\n",
    "    ].values\n",
    "\n",
    "    df = df.loc[:, APP_ANALISE_PT]\n",
    "    df.columns = APP_ANALISE_EN\n",
    "    return df\n",
    "\n",
    "\n",
    "def _format_matlab(\n",
    "    df: pd.DataFrame,  # Arquivo de Dados Base de Entrada\n",
    ") -> pd.DataFrame:  # Arquivo de Dados formatado para leitura no Matlab\n",
    "    \"\"\"Formata o arquivo final de dados para o formato esperado pela aplicação em Matlab\"\"\"\n",
    "    for c in [\"Latitude\", \"Longitude\"]:\n",
    "        df[c] = df[c].fillna(-1).astype(\"float32\")\n",
    "        \n",
    "    df[\"Frequency\"] = df[\"Frequency\"].astype(\"float64\")\n",
    "    df.loc[df.Service.isin([\"\", \"-1\"]), \"Service\"] = pd.NA\n",
    "    df[\"Service\"] = df.Service.fillna(\"-1\").astype(\"int16\")\n",
    "    df.loc[df.Station.isin([\"\", \"-1\"]), \"Station\"] = pd.NA\n",
    "    df[\"Station\"] = df.Station.fillna(\"-1\").astype(\"int32\")\n",
    "    df.loc[df.BW.isin([\"\", \"-1\"]), \"BW\"] = pd.NA\n",
    "    df[\"BW\"] = df[\"BW\"].astype(\"float32\").fillna(-1)\n",
    "    df.loc[df[\"Class\"].isin([\"\", \"-1\"]), \"Class\"] = pd.NA\n",
    "    df[\"Class\"] = df.Class.fillna(\"NI\").astype(\"category\")\n",
    "    df = (\n",
    "        df.drop_duplicates(keep=\"first\")\n",
    "        .sort_values(by=[\"Frequency\", \"Latitude\", \"Longitude\"])\n",
    "        .reset_index(drop=True)\n",
    "    )\n",
    "    df[\"Id\"] = [f\"#{i+1}\" for i in df.index]\n",
    "    df[\"Id\"] = df.Id.astype(\"string\")\n",
    "    df.loc[df.Description == \"\", \"Description\"] = pd.NA\n",
    "    df[\"Description\"] = df[\"Description\"].astype(\"string\").fillna(\"NI\")\n",
    "    df = df[df.Frequency <= LIMIT_FREQ]\n",
    "    return df[[\"Id\"] + list(APP_ANALISE_EN)]\n"
   ]
  },
  {
   "cell_type": "code",
   "execution_count": 6,
   "id": "659d39b0",
   "metadata": {},
   "outputs": [],
   "source": [
    "#| export\n",
    "def get_db(\n",
    "    path: Union[str, Path],  # Pasta onde salvar os arquivos\",\n",
    "    connSQL: pyodbc.Connection = None,  # Objeto de conexão do banco SQL Server\n",
    "    clientMongoDB: MongoClient = None,  # Objeto de conexão do banco MongoDB\n",
    ") -> pd.DataFrame:  # Retorna o DataFrame com as bases da Anatel e da Aeronáutica\n",
    "    \"\"\"Lê e opcionalmente atualiza as bases da Anatel, mescla as bases da Aeronáutica, salva e retorna o arquivo\n",
    "    A atualização junto às bases de dados da Anatel é efetuada caso ambos objetos de banco `connSQL` e `clientMongoDB` forem válidos`\n",
    "    \"\"\"\n",
    "    dest = Path(path)\n",
    "    dest.mkdir(parents=True, exist_ok=True)\n",
    "    print(\":scroll:[green]Lendo as bases de dados da Anatel...\")\n",
    "    df = read_base(path, connSQL, clientMongoDB)\n",
    "    df = _filter_matlab(df)\n",
    "    mod_times = {\"ANATEL\": datetime.now().strftime(\"%d/%m/%Y %H:%M:%S\")}\n",
    "    print(\":airplane:[blue]Requisitando os dados da Aeronáutica.\")\n",
    "    update = all([connSQL, clientMongoDB])\n",
    "    aero = read_aero(path, update=update)\n",
    "    mod_times[\"AERONAUTICA\"] = datetime.now().strftime(\"%d/%m/%Y %H:%M:%S\")\n",
    "    print(\":spoon:[yellow]Mesclando os dados da Aeronáutica.\")\n",
    "    df = merge_close_rows(df, aero)\n",
    "    df.loc[len(df), :] =  [-1,  -15.7801,  -47.9292, \"[TEMP] L, FX, Estação do SMP licenciada (cadastro temporário)\", \"10\", \"999999999\", 'NI', \"-1\"] #Paliativo...\n",
    "    df = _format_matlab(df)\n",
    "    print(\":card_file_box:[green]Salvando os arquivos...\")\n",
    "    df.to_parquet(f\"{dest}/AnatelDB.parquet.gzip\", compression=\"gzip\", index=False)\n",
    "    versiondb = json.loads((dest / \"VersionFile.json\").read_text())\n",
    "    mod_times[\"ReleaseDate\"] = datetime.now().strftime(\"%d/%m/%Y %H:%M:%S\")\n",
    "    versiondb[\"anateldb\"].update(mod_times)\n",
    "    json.dump(versiondb, (dest / \"VersionFile.json\").open(\"w\"))\n",
    "    print(\"Sucesso :zap:\")\n",
    "    return df"
   ]
  },
  {
   "cell_type": "code",
   "execution_count": 7,
   "id": "40a510fe",
   "metadata": {},
   "outputs": [],
   "source": [
    "#| eval:false\n",
    "import os\n",
    "import warnings\n",
    "from extracao.updates import connect_db"
   ]
  },
  {
   "cell_type": "code",
   "execution_count": 8,
   "id": "ccb75aa7",
   "metadata": {},
   "outputs": [],
   "source": [
    "#| eval:false\n",
    "warnings.filterwarnings(\"ignore\")"
   ]
  },
  {
   "cell_type": "code",
   "execution_count": 9,
   "id": "81f093fe",
   "metadata": {},
   "outputs": [],
   "source": [
    "#| eval:false\n",
    "folder = Path.cwd().parent / 'dados'"
   ]
  },
  {
   "cell_type": "code",
   "execution_count": 10,
   "id": "feb70a90",
   "metadata": {},
   "outputs": [],
   "source": [
    "#| eval:false\n",
    "# conn = connect_db()\n",
    "# uri = os.environ['MONGO_URI']\n",
    "# mongo_client = MongoClient(uri)\n",
    "# mongo_client.server_info()"
   ]
  },
  {
   "cell_type": "code",
   "execution_count": 10,
   "id": "e9438f88",
   "metadata": {},
   "outputs": [
    {
     "name": "stdout",
     "output_type": "stream",
     "text": [
      "<class 'pandas.core.frame.DataFrame'>\n",
      "RangeIndex: 819686 entries, 0 to 819685\n",
      "Data columns (total 9 columns):\n",
      " #   Column       Non-Null Count   Dtype   \n",
      "---  ------       --------------   -----   \n",
      " 0   Id           819686 non-null  string  \n",
      " 1   Frequency    819686 non-null  float64 \n",
      " 2   Latitude     819686 non-null  float64 \n",
      " 3   Longitude    819686 non-null  float64 \n",
      " 4   Description  819686 non-null  string  \n",
      " 5   Service      819686 non-null  int16   \n",
      " 6   Station      819686 non-null  int32   \n",
      " 7   Class        819686 non-null  category\n",
      " 8   BW           819686 non-null  float32 \n",
      "dtypes: category(1), float32(1), float64(3), int16(1), int32(1), string(2)\n",
      "memory usage: 39.9 MB\n"
     ]
    }
   ],
   "source": [
    "#| eval:false\n",
    "df = pd.read_parquet(folder / 'ANATELDB.parquet.gzip')\n"
   ]
  },
  {
   "cell_type": "code",
   "execution_count": 11,
   "id": "6e7ad4a2",
   "metadata": {},
   "outputs": [
    {
     "data": {
      "text/html": [
       "<div>\n",
       "<style scoped>\n",
       "    .dataframe tbody tr th:only-of-type {\n",
       "        vertical-align: middle;\n",
       "    }\n",
       "\n",
       "    .dataframe tbody tr th {\n",
       "        vertical-align: top;\n",
       "    }\n",
       "\n",
       "    .dataframe thead th {\n",
       "        text-align: right;\n",
       "    }\n",
       "</style>\n",
       "<table border=\"1\" class=\"dataframe\">\n",
       "  <thead>\n",
       "    <tr style=\"text-align: right;\">\n",
       "      <th></th>\n",
       "      <th>Id</th>\n",
       "      <th>Frequency</th>\n",
       "      <th>Latitude</th>\n",
       "      <th>Longitude</th>\n",
       "      <th>Description</th>\n",
       "      <th>Service</th>\n",
       "      <th>Station</th>\n",
       "      <th>Class</th>\n",
       "      <th>BW</th>\n",
       "    </tr>\n",
       "  </thead>\n",
       "  <tbody>\n",
       "    <tr>\n",
       "      <th>0</th>\n",
       "      <td>#1</td>\n",
       "      <td>-1.000</td>\n",
       "      <td>-15.780100</td>\n",
       "      <td>-47.929199</td>\n",
       "      <td>[TEMP] L, FX, Estação do SMP licenciada (cadas...</td>\n",
       "      <td>10</td>\n",
       "      <td>999999999</td>\n",
       "      <td>NI</td>\n",
       "      <td>-1.0</td>\n",
       "    </tr>\n",
       "    <tr>\n",
       "      <th>1</th>\n",
       "      <td>#2</td>\n",
       "      <td>0.028</td>\n",
       "      <td>-22.662779</td>\n",
       "      <td>-43.476391</td>\n",
       "      <td>[MOS] L, OP, Furnas Centrais Eletricas S A (01...</td>\n",
       "      <td>19</td>\n",
       "      <td>1557670</td>\n",
       "      <td>J9E</td>\n",
       "      <td>8.0</td>\n",
       "    </tr>\n",
       "    <tr>\n",
       "      <th>2</th>\n",
       "      <td>#3</td>\n",
       "      <td>0.030</td>\n",
       "      <td>-23.709999</td>\n",
       "      <td>-46.273335</td>\n",
       "      <td>[MOS] L, OP, Furnas Centrais Eletricas S A (01...</td>\n",
       "      <td>19</td>\n",
       "      <td>1558412</td>\n",
       "      <td>J3E</td>\n",
       "      <td>2.0</td>\n",
       "    </tr>\n",
       "    <tr>\n",
       "      <th>3</th>\n",
       "      <td>#4</td>\n",
       "      <td>0.030</td>\n",
       "      <td>-23.441668</td>\n",
       "      <td>-46.590832</td>\n",
       "      <td>[MOS] L, OP, Furnas Centrais Eletricas S A (01...</td>\n",
       "      <td>19</td>\n",
       "      <td>1557823</td>\n",
       "      <td>J3E</td>\n",
       "      <td>1.0</td>\n",
       "    </tr>\n",
       "    <tr>\n",
       "      <th>4</th>\n",
       "      <td>#5</td>\n",
       "      <td>0.030</td>\n",
       "      <td>-22.926666</td>\n",
       "      <td>-43.264999</td>\n",
       "      <td>[MOS] L, OP, Furnas Centrais Eletricas S A (01...</td>\n",
       "      <td>19</td>\n",
       "      <td>859761</td>\n",
       "      <td>J3E</td>\n",
       "      <td>0.5</td>\n",
       "    </tr>\n",
       "  </tbody>\n",
       "</table>\n",
       "</div>"
      ],
      "text/plain": [
       "   Id  Frequency   Latitude  Longitude  \\\n",
       "0  #1     -1.000 -15.780100 -47.929199   \n",
       "1  #2      0.028 -22.662779 -43.476391   \n",
       "2  #3      0.030 -23.709999 -46.273335   \n",
       "3  #4      0.030 -23.441668 -46.590832   \n",
       "4  #5      0.030 -22.926666 -43.264999   \n",
       "\n",
       "                                         Description  Service    Station  \\\n",
       "0  [TEMP] L, FX, Estação do SMP licenciada (cadas...       10  999999999   \n",
       "1  [MOS] L, OP, Furnas Centrais Eletricas S A (01...       19    1557670   \n",
       "2  [MOS] L, OP, Furnas Centrais Eletricas S A (01...       19    1558412   \n",
       "3  [MOS] L, OP, Furnas Centrais Eletricas S A (01...       19    1557823   \n",
       "4  [MOS] L, OP, Furnas Centrais Eletricas S A (01...       19     859761   \n",
       "\n",
       "  Class   BW  \n",
       "0    NI -1.0  \n",
       "1   J9E  8.0  \n",
       "2   J3E  2.0  \n",
       "3   J3E  1.0  \n",
       "4   J3E  0.5  "
      ]
     },
     "execution_count": 11,
     "metadata": {},
     "output_type": "execute_result"
    }
   ],
   "source": [
    "#| eval:false\n",
    "df.head()"
   ]
  },
  {
   "cell_type": "code",
   "execution_count": 12,
   "id": "6ab351f1",
   "metadata": {},
   "outputs": [
    {
     "data": {
      "text/html": [
       "<div>\n",
       "<style scoped>\n",
       "    .dataframe tbody tr th:only-of-type {\n",
       "        vertical-align: middle;\n",
       "    }\n",
       "\n",
       "    .dataframe tbody tr th {\n",
       "        vertical-align: top;\n",
       "    }\n",
       "\n",
       "    .dataframe thead th {\n",
       "        text-align: right;\n",
       "    }\n",
       "</style>\n",
       "<table border=\"1\" class=\"dataframe\">\n",
       "  <thead>\n",
       "    <tr style=\"text-align: right;\">\n",
       "      <th></th>\n",
       "      <th>Id</th>\n",
       "      <th>Frequency</th>\n",
       "      <th>Latitude</th>\n",
       "      <th>Longitude</th>\n",
       "      <th>Description</th>\n",
       "      <th>Service</th>\n",
       "      <th>Station</th>\n",
       "      <th>Class</th>\n",
       "      <th>BW</th>\n",
       "    </tr>\n",
       "  </thead>\n",
       "  <tbody>\n",
       "    <tr>\n",
       "      <th>955112</th>\n",
       "      <td>#955113</td>\n",
       "      <td>84125.0</td>\n",
       "      <td>-20.355619</td>\n",
       "      <td>-40.395580</td>\n",
       "      <td>[MOS] L, FX, Claro S.A. (50418766738, 10145803...</td>\n",
       "      <td>19</td>\n",
       "      <td>1014580355</td>\n",
       "      <td>Q7W</td>\n",
       "      <td>2000000.0</td>\n",
       "    </tr>\n",
       "    <tr>\n",
       "      <th>955113</th>\n",
       "      <td>#955114</td>\n",
       "      <td>84187.5</td>\n",
       "      <td>-20.326571</td>\n",
       "      <td>-40.362171</td>\n",
       "      <td>[MOS] L, FX, Claro S.A. (50418766738, 10143002...</td>\n",
       "      <td>19</td>\n",
       "      <td>1014300220</td>\n",
       "      <td>Q7W</td>\n",
       "      <td>2000000.0</td>\n",
       "    </tr>\n",
       "    <tr>\n",
       "      <th>955114</th>\n",
       "      <td>#955115</td>\n",
       "      <td>84187.5</td>\n",
       "      <td>-20.326571</td>\n",
       "      <td>-40.362171</td>\n",
       "      <td>[MOS] L, FX, Claro S.A. (50418766738, 10143002...</td>\n",
       "      <td>19</td>\n",
       "      <td>1014300220</td>\n",
       "      <td>Q7W</td>\n",
       "      <td>2000000.0</td>\n",
       "    </tr>\n",
       "    <tr>\n",
       "      <th>955115</th>\n",
       "      <td>#955116</td>\n",
       "      <td>84812.5</td>\n",
       "      <td>-12.981688</td>\n",
       "      <td>-38.454357</td>\n",
       "      <td>[MOS] L, FX, Computadores E Sistemas Ltda (504...</td>\n",
       "      <td>19</td>\n",
       "      <td>1011928598</td>\n",
       "      <td>Q7W</td>\n",
       "      <td>62500.0</td>\n",
       "    </tr>\n",
       "    <tr>\n",
       "      <th>955116</th>\n",
       "      <td>#955117</td>\n",
       "      <td>84812.5</td>\n",
       "      <td>-12.978972</td>\n",
       "      <td>-38.461666</td>\n",
       "      <td>[MOS] L, FX, Computadores E Sistemas Ltda (504...</td>\n",
       "      <td>19</td>\n",
       "      <td>1011928610</td>\n",
       "      <td>Q7W</td>\n",
       "      <td>62500.0</td>\n",
       "    </tr>\n",
       "  </tbody>\n",
       "</table>\n",
       "</div>"
      ],
      "text/plain": [
       "             Id  Frequency   Latitude  Longitude  \\\n",
       "955112  #955113    84125.0 -20.355619 -40.395580   \n",
       "955113  #955114    84187.5 -20.326571 -40.362171   \n",
       "955114  #955115    84187.5 -20.326571 -40.362171   \n",
       "955115  #955116    84812.5 -12.981688 -38.454357   \n",
       "955116  #955117    84812.5 -12.978972 -38.461666   \n",
       "\n",
       "                                              Description  Service  \\\n",
       "955112  [MOS] L, FX, Claro S.A. (50418766738, 10145803...       19   \n",
       "955113  [MOS] L, FX, Claro S.A. (50418766738, 10143002...       19   \n",
       "955114  [MOS] L, FX, Claro S.A. (50418766738, 10143002...       19   \n",
       "955115  [MOS] L, FX, Computadores E Sistemas Ltda (504...       19   \n",
       "955116  [MOS] L, FX, Computadores E Sistemas Ltda (504...       19   \n",
       "\n",
       "           Station Class         BW  \n",
       "955112  1014580355   Q7W  2000000.0  \n",
       "955113  1014300220   Q7W  2000000.0  \n",
       "955114  1014300220   Q7W  2000000.0  \n",
       "955115  1011928598   Q7W    62500.0  \n",
       "955116  1011928610   Q7W    62500.0  "
      ]
     },
     "execution_count": 12,
     "metadata": {},
     "output_type": "execute_result"
    }
   ],
   "source": [
    "#| eval:false\n",
    "df.tail()"
   ]
  },
  {
   "cell_type": "code",
   "execution_count": 18,
   "id": "c5fe1ed1",
   "metadata": {},
   "outputs": [],
   "source": [
    "#| eval:false\n",
    "df.to_parquet(folder / 'ANATELDB.parquet.gzip', compression='gzip', index=False)"
   ]
  },
  {
   "cell_type": "code",
   "execution_count": 11,
   "id": "ac178478",
   "metadata": {},
   "outputs": [
    {
     "data": {
      "text/html": [
       "<pre style=\"white-space:pre;overflow-x:auto;line-height:normal;font-family:Menlo,'DejaVu Sans Mono',consolas,'Courier New',monospace\">📜<span style=\"color: #008000; text-decoration-color: #008000\">Lendo as bases de dados da Anatel...</span>\n",
       "</pre>\n"
      ],
      "text/plain": [
       "📜\u001b[32mLendo as bases de dados da Anatel\u001b[0m\u001b[32m...\u001b[0m\n"
      ]
     },
     "metadata": {},
     "output_type": "display_data"
    },
    {
     "data": {
      "text/html": [
       "<pre style=\"white-space:pre;overflow-x:auto;line-height:normal;font-family:Menlo,'DejaVu Sans Mono',consolas,'Courier New',monospace\">✈<span style=\"color: #000080; text-decoration-color: #000080\">Requisitando os dados da Aeronáutica.</span>\n",
       "</pre>\n"
      ],
      "text/plain": [
       "✈\u001b[34mRequisitando os dados da Aeronáutica.\u001b[0m\n"
      ]
     },
     "metadata": {},
     "output_type": "display_data"
    },
    {
     "data": {
      "text/html": [
       "<pre style=\"white-space:pre;overflow-x:auto;line-height:normal;font-family:Menlo,'DejaVu Sans Mono',consolas,'Courier New',monospace\">🥄<span style=\"color: #808000; text-decoration-color: #808000\">Mesclando os dados da Aeronáutica.</span>\n",
       "</pre>\n"
      ],
      "text/plain": [
       "🥄\u001b[33mMesclando os dados da Aeronáutica.\u001b[0m\n"
      ]
     },
     "metadata": {},
     "output_type": "display_data"
    },
    {
     "data": {
      "text/html": [
       "<pre style=\"white-space:pre;overflow-x:auto;line-height:normal;font-family:Menlo,'DejaVu Sans Mono',consolas,'Courier New',monospace\"></pre>\n"
      ],
      "text/plain": [
       "\u001b[?25l"
      ]
     },
     "metadata": {},
     "output_type": "display_data"
    },
    {
     "data": {
      "application/vnd.jupyter.widget-view+json": {
       "model_id": "",
       "version_major": 2,
       "version_minor": 0
      },
      "text/plain": [
       "Output()"
      ]
     },
     "metadata": {},
     "output_type": "display_data"
    },
    {
     "data": {
      "text/html": [
       "<pre style=\"white-space:pre;overflow-x:auto;line-height:normal;font-family:Menlo,'DejaVu Sans Mono',consolas,'Courier New',monospace\">\n",
       "</pre>\n"
      ],
      "text/plain": [
       "\n",
       "\u001b[?25h\r\n",
       "\u001b[1A\u001b[2K"
      ]
     },
     "metadata": {},
     "output_type": "display_data"
    },
    {
     "data": {
      "text/html": [
       "<pre style=\"white-space:pre;overflow-x:auto;line-height:normal;font-family:Menlo,'DejaVu Sans Mono',consolas,'Courier New',monospace\">🗃<span style=\"color: #008000; text-decoration-color: #008000\">Salvando os arquivos...</span>\n",
       "</pre>\n"
      ],
      "text/plain": [
       "🗃\u001b[32mSalvando os arquivos\u001b[0m\u001b[32m...\u001b[0m\n"
      ]
     },
     "metadata": {},
     "output_type": "display_data"
    },
    {
     "data": {
      "text/html": [
       "<pre style=\"white-space:pre;overflow-x:auto;line-height:normal;font-family:Menlo,'DejaVu Sans Mono',consolas,'Courier New',monospace\">Sucesso ⚡\n",
       "</pre>\n"
      ],
      "text/plain": [
       "Sucesso ⚡\n"
      ]
     },
     "metadata": {},
     "output_type": "display_data"
    }
   ],
   "source": [
    "#|eval: false\n",
    "df = get_db(folder)\n",
    "#df = get_db(folder, conn, mongo_client)"
   ]
  },
  {
   "cell_type": "code",
   "execution_count": 12,
   "id": "071b6bfa",
   "metadata": {},
   "outputs": [],
   "source": [
    "#| eval:false\n",
    "# df.loc[(df.Station == 688022243) & (df.Frequency == 161.07)]"
   ]
  },
  {
   "cell_type": "code",
   "execution_count": 13,
   "id": "df3f5b85",
   "metadata": {},
   "outputs": [],
   "source": [
    "#|eval: false\n",
    "# from pandas_profiling import ProfileReport\n",
    "# df['Frequency'] = df['Frequency'].astype('category')\n",
    "# profile = ProfileReport(df, config_file='report_config.yaml')\n",
    "# profile.to_notebook_iframe()"
   ]
  },
  {
   "cell_type": "code",
   "execution_count": 14,
   "id": "78b74613",
   "metadata": {},
   "outputs": [],
   "source": [
    "#|eval: false\n",
    "# from extracao.constants import MIN_LAT, MIN_LONG, MAX_LAT, MAX_LONG\n",
    "# df.loc[~(df.Latitude.between(MIN_LAT,MAX_LAT) & df.Longitude.between(MIN_LONG, MAX_LONG))]"
   ]
  }
 ],
 "metadata": {
  "kernelspec": {
   "display_name": "Python 3 (ipykernel)",
   "language": "python",
   "name": "python3"
  },
  "language_info": {
   "codemirror_mode": {
    "name": "ipython",
    "version": 3
   },
   "file_extension": ".py",
   "mimetype": "text/x-python",
   "name": "python",
   "nbconvert_exporter": "python",
   "pygments_lexer": "ipython3",
   "version": "3.10.11"
  }
 },
 "nbformat": 4,
 "nbformat_minor": 5
}
