{
 "cells": [
  {
   "cell_type": "code",
   "execution_count": null,
   "id": "80feb396",
   "metadata": {},
   "outputs": [],
   "source": [
    "#| default_exp main\n",
    "import sys,os\n",
    "from pathlib import Path\n",
    "# Insert in Path Project Directory\n",
    "sys.path.insert(0, str(Path().cwd().parent))\n",
    "%load_ext autoreload\n",
    "%autoreload 2"
   ]
  },
  {
   "attachments": {},
   "cell_type": "markdown",
   "id": "c06a9485",
   "metadata": {},
   "source": [
    "# Principal\n",
    "> Este módulo concentra funções auxiliares específicas que filtram os dados do banco com campos e formatação de interesse para aplicações específicas como o [appAnalise](https://github.com/EricMagalhaesDelgado/appAnalise) por exemplo."
   ]
  },
  {
   "cell_type": "code",
   "execution_count": null,
   "id": "ac0c52ca",
   "metadata": {},
   "outputs": [
    {
     "data": {
      "text/plain": [
       "True"
      ]
     },
     "execution_count": null,
     "metadata": {},
     "output_type": "execute_result"
    }
   ],
   "source": [
    "#| export\n",
    "import os\n",
    "from pathlib import Path\n",
    "import json\n",
    "from typing import Union\n",
    "from datetime import datetime\n",
    "\n",
    "import pandas as pd\n",
    "from fastcore.test import *\n",
    "from rich import print\n",
    "import pyodbc\n",
    "from pymongo import MongoClient\n",
    "from dotenv import load_dotenv, find_dotenv\n",
    "\n",
    "from extracao.reading import read_base, read_aero\n",
    "from extracao.format import merge_on_frequency, _filter_matlab, _format_matlab\n",
    "\n",
    "load_dotenv(find_dotenv(), override=True)"
   ]
  },
  {
   "cell_type": "code",
   "execution_count": null,
   "id": "659d39b0",
   "metadata": {},
   "outputs": [],
   "source": [
    "#| export\n",
    "def get_db(\n",
    "    path: Union[str, Path],  # Pasta onde salvar os arquivos\",\n",
    "    connSQL: pyodbc.Connection = None,  # Objeto de conexão do banco SQL Server\n",
    "    clientMongoDB: MongoClient = None,  # Objeto de conexão do banco MongoDB\n",
    ") -> pd.DataFrame:  # Retorna o DataFrame com as bases da Anatel e da Aeronáutica\n",
    "    \"\"\"Lê e opcionalmente atualiza as bases da Anatel, mescla as bases da Aeronáutica, salva e retorna o arquivo\n",
    "    A atualização junto às bases de dados da Anatel é efetuada caso ambos objetos de banco `connSQL` e `clientMongoDB` forem válidos`\n",
    "    \"\"\"\n",
    "    dest = Path(path)\n",
    "    dest.mkdir(parents=True, exist_ok=True)\n",
    "    print(\":scroll:[green]Lendo as bases de dados da Anatel...\")\n",
    "    df = read_base(path) #, connSQL, clientMongoDB)\n",
    "    df = _filter_matlab(df)\n",
    "    mod_times = {\"ANATEL\": datetime.now().strftime(\"%d/%m/%Y %H:%M:%S\")}\n",
    "    print(\":airplane:[blue]Requisitando os dados da Aeronáutica.\")\n",
    "    update = all([connSQL, clientMongoDB])\n",
    "    aero = read_aero(path, update=update)\n",
    "    mod_times[\"AERONAUTICA\"] = datetime.now().strftime(\"%d/%m/%Y %H:%M:%S\")\n",
    "    print(\":spoon:[yellow]Mesclando os dados da Aeronáutica.\")\n",
    "    df = _format_matlab(merge_on_frequency(df, aero))\n",
    "    print(\":card_file_box:[green]Salvando os arquivos...\")\n",
    "    df.to_parquet(f\"{dest}/AnatelDB.parquet.gzip\", compression=\"gzip\", index=False)\n",
    "    versiondb = json.loads((dest / \"VersionFile.json\").read_text())\n",
    "    mod_times[\"ReleaseDate\"] = datetime.now().strftime(\"%d/%m/%Y %H:%M:%S\")\n",
    "    versiondb[\"anateldb\"].update(mod_times)\n",
    "    json.dump(versiondb, (dest / \"VersionFile.json\").open(\"w\"))\n",
    "    print(\"Sucesso :zap:\")\n",
    "    return df"
   ]
  },
  {
   "cell_type": "code",
   "execution_count": null,
   "id": "40a510fe",
   "metadata": {},
   "outputs": [],
   "source": [
    "#|eval: false\n",
    "import os\n",
    "import warnings\n",
    "from extracao.updates import connect_db\n",
    "import numpy as np\n",
    "from geopy.distance import geodesic\n"
   ]
  },
  {
   "cell_type": "code",
   "execution_count": null,
   "id": "ccb75aa7",
   "metadata": {},
   "outputs": [],
   "source": [
    "#|eval: false\n",
    "warnings.filterwarnings(\"ignore\")"
   ]
  },
  {
   "cell_type": "code",
   "execution_count": null,
   "id": "81f093fe",
   "metadata": {},
   "outputs": [],
   "source": [
    "#|eval: false\n",
    "folder = Path.cwd().parent / 'dados'"
   ]
  },
  {
   "cell_type": "code",
   "execution_count": null,
   "id": "feb70a90",
   "metadata": {},
   "outputs": [
    {
     "data": {
      "text/plain": [
       "{'version': '4.0.5',\n",
       " 'gitVersion': '3739429dd92b92d1b0ab120911a23d50bf03c412',\n",
       " 'targetMinOS': 'Windows 7/Windows Server 2008 R2',\n",
       " 'modules': [],\n",
       " 'allocator': 'tcmalloc',\n",
       " 'javascriptEngine': 'mozjs',\n",
       " 'sysInfo': 'deprecated',\n",
       " 'versionArray': [4, 0, 5, 0],\n",
       " 'openssl': {'running': 'Windows SChannel'},\n",
       " 'buildEnvironment': {'distmod': '2008plus-ssl',\n",
       "  'distarch': 'x86_64',\n",
       "  'cc': 'cl: Microsoft (R) C/C++ Optimizing Compiler Version 19.00.24223 for x64',\n",
       "  'ccflags': '/nologo /EHsc /W3 /wd4355 /wd4800 /wd4267 /wd4244 /wd4290 /wd4068 /wd4351 /wd4373 /we4013 /we4099 /we4930 /WX /errorReport:none /MD /O2 /Oy- /bigobj /utf-8 /Zc:rvalueCast /Zc:strictStrings /volatile:iso /Gw /Gy /Zc:inline',\n",
       "  'cxx': 'cl: Microsoft (R) C/C++ Optimizing Compiler Version 19.00.24223 for x64',\n",
       "  'cxxflags': '/TP',\n",
       "  'linkflags': '/nologo /DEBUG /INCREMENTAL:NO /LARGEADDRESSAWARE /OPT:REF',\n",
       "  'target_arch': 'x86_64',\n",
       "  'target_os': 'windows'},\n",
       " 'bits': 64,\n",
       " 'debug': False,\n",
       " 'maxBsonObjectSize': 16777216,\n",
       " 'storageEngines': ['devnull', 'ephemeralForTest', 'mmapv1', 'wiredTiger'],\n",
       " 'ok': 1.0}"
      ]
     },
     "execution_count": null,
     "metadata": {},
     "output_type": "execute_result"
    }
   ],
   "source": [
    "#|eval: false\n",
    "conn = connect_db()\n",
    "uri = os.environ['MONGO_URI']\n",
    "mongo_client = MongoClient(uri)"
   ]
  },
  {
   "cell_type": "code",
   "execution_count": null,
   "id": "ac178478",
   "metadata": {},
   "outputs": [
    {
     "data": {
      "text/html": [
       "<pre style=\"white-space:pre;overflow-x:auto;line-height:normal;font-family:Menlo,'DejaVu Sans Mono',consolas,'Courier New',monospace\">📜<span style=\"color: #008000; text-decoration-color: #008000\">Lendo as bases de dados da Anatel...</span>\n",
       "</pre>\n"
      ],
      "text/plain": [
       "📜\u001b[32mLendo as bases de dados da Anatel\u001b[0m\u001b[32m...\u001b[0m\n"
      ]
     },
     "metadata": {},
     "output_type": "display_data"
    },
    {
     "data": {
      "text/html": [
       "<pre style=\"white-space:pre;overflow-x:auto;line-height:normal;font-family:Menlo,'DejaVu Sans Mono',consolas,'Courier New',monospace\">✈<span style=\"color: #000080; text-decoration-color: #000080\">Requisitando os dados da Aeronáutica.</span>\n",
       "</pre>\n"
      ],
      "text/plain": [
       "✈\u001b[34mRequisitando os dados da Aeronáutica.\u001b[0m\n"
      ]
     },
     "metadata": {},
     "output_type": "display_data"
    },
    {
     "data": {
      "text/html": [
       "<pre style=\"white-space:pre;overflow-x:auto;line-height:normal;font-family:Menlo,'DejaVu Sans Mono',consolas,'Courier New',monospace\">🥄<span style=\"color: #808000; text-decoration-color: #808000\">Mesclando os dados da Aeronáutica.</span>\n",
       "</pre>\n"
      ],
      "text/plain": [
       "🥄\u001b[33mMesclando os dados da Aeronáutica.\u001b[0m\n"
      ]
     },
     "metadata": {},
     "output_type": "display_data"
    },
    {
     "data": {
      "text/html": [
       "<pre style=\"white-space:pre;overflow-x:auto;line-height:normal;font-family:Menlo,'DejaVu Sans Mono',consolas,'Courier New',monospace\">🗃<span style=\"color: #008000; text-decoration-color: #008000\">Salvando os arquivos...</span>\n",
       "</pre>\n"
      ],
      "text/plain": [
       "🗃\u001b[32mSalvando os arquivos\u001b[0m\u001b[32m...\u001b[0m\n"
      ]
     },
     "metadata": {},
     "output_type": "display_data"
    },
    {
     "data": {
      "text/html": [
       "<pre style=\"white-space:pre;overflow-x:auto;line-height:normal;font-family:Menlo,'DejaVu Sans Mono',consolas,'Courier New',monospace\">Sucesso ⚡\n",
       "</pre>\n"
      ],
      "text/plain": [
       "Sucesso ⚡\n"
      ]
     },
     "metadata": {},
     "output_type": "display_data"
    }
   ],
   "source": [
    "#|eval: false\n",
    "# os.chdir(f\"{Path.cwd().parent}/extracao/aero\")\n",
    "# df = get_db(folder)\n",
    "df = get_db(folder) #, conn, mongo_client)\n",
    "#df = pd.read_parquet(folder / 'AnatelDB.parquet.gzip')"
   ]
  },
  {
   "cell_type": "code",
   "execution_count": null,
   "id": "32542404-b730-4445-bcd4-a596c7b3379c",
   "metadata": {},
   "outputs": [
    {
     "data": {
      "text/html": [
       "<div>\n",
       "<style scoped>\n",
       "    .dataframe tbody tr th:only-of-type {\n",
       "        vertical-align: middle;\n",
       "    }\n",
       "\n",
       "    .dataframe tbody tr th {\n",
       "        vertical-align: top;\n",
       "    }\n",
       "\n",
       "    .dataframe thead th {\n",
       "        text-align: right;\n",
       "    }\n",
       "</style>\n",
       "<table border=\"1\" class=\"dataframe\">\n",
       "  <thead>\n",
       "    <tr style=\"text-align: right;\">\n",
       "      <th></th>\n",
       "      <th>Id</th>\n",
       "      <th>Frequency</th>\n",
       "      <th>Latitude</th>\n",
       "      <th>Longitude</th>\n",
       "      <th>Description</th>\n",
       "      <th>Service</th>\n",
       "      <th>Station</th>\n",
       "      <th>Class</th>\n",
       "      <th>BW</th>\n",
       "    </tr>\n",
       "  </thead>\n",
       "  <tbody>\n",
       "    <tr>\n",
       "      <th>38811</th>\n",
       "      <td>#38812</td>\n",
       "      <td>109.100</td>\n",
       "      <td>-25.600000</td>\n",
       "      <td>-54.466667</td>\n",
       "      <td>[ICAO] ILS, FOZ DO IGUACU CATARATAS | [AISW] S...</td>\n",
       "      <td>-1</td>\n",
       "      <td>-1</td>\n",
       "      <td>NI</td>\n",
       "      <td>-1.0</td>\n",
       "    </tr>\n",
       "    <tr>\n",
       "      <th>38812</th>\n",
       "      <td>#38813</td>\n",
       "      <td>109.100</td>\n",
       "      <td>-25.600000</td>\n",
       "      <td>-54.466667</td>\n",
       "      <td>[ICAO] ILS, FOZ DO IGUACU CATARATAS | [AISW] S...</td>\n",
       "      <td>108</td>\n",
       "      <td>696597080</td>\n",
       "      <td>A3E</td>\n",
       "      <td>6.0</td>\n",
       "    </tr>\n",
       "    <tr>\n",
       "      <th>38813</th>\n",
       "      <td>#38814</td>\n",
       "      <td>109.100</td>\n",
       "      <td>-21.787222</td>\n",
       "      <td>-43.386112</td>\n",
       "      <td>[MOS] L, AL, Sinart - Sociedade Nacional De Ap...</td>\n",
       "      <td>108</td>\n",
       "      <td>696597080</td>\n",
       "      <td>A3E</td>\n",
       "      <td>6.0</td>\n",
       "    </tr>\n",
       "    <tr>\n",
       "      <th>38814</th>\n",
       "      <td>#38815</td>\n",
       "      <td>109.100</td>\n",
       "      <td>-21.783333</td>\n",
       "      <td>-43.383335</td>\n",
       "      <td>[ICAO] ILS/DME, JUIZ DE FORA</td>\n",
       "      <td>-1</td>\n",
       "      <td>-1</td>\n",
       "      <td>NI</td>\n",
       "      <td>-1.0</td>\n",
       "    </tr>\n",
       "    <tr>\n",
       "      <th>38819</th>\n",
       "      <td>#38820</td>\n",
       "      <td>109.300</td>\n",
       "      <td>-25.533333</td>\n",
       "      <td>-49.166668</td>\n",
       "      <td>[ICAO] ILS, CURITIBA AFONSO PEÑA | [AISW] SBCT...</td>\n",
       "      <td>-1</td>\n",
       "      <td>-1</td>\n",
       "      <td>NI</td>\n",
       "      <td>-1.0</td>\n",
       "    </tr>\n",
       "    <tr>\n",
       "      <th>...</th>\n",
       "      <td>...</td>\n",
       "      <td>...</td>\n",
       "      <td>...</td>\n",
       "      <td>...</td>\n",
       "      <td>...</td>\n",
       "      <td>...</td>\n",
       "      <td>...</td>\n",
       "      <td>...</td>\n",
       "      <td>...</td>\n",
       "    </tr>\n",
       "    <tr>\n",
       "      <th>98908</th>\n",
       "      <td>#98909</td>\n",
       "      <td>136.825</td>\n",
       "      <td>-8.126389</td>\n",
       "      <td>-34.922779</td>\n",
       "      <td>[ICAO] AOC U 100/100, RECIFE</td>\n",
       "      <td>507</td>\n",
       "      <td>1009303802</td>\n",
       "      <td>A3E</td>\n",
       "      <td>6.0</td>\n",
       "    </tr>\n",
       "    <tr>\n",
       "      <th>98909</th>\n",
       "      <td>#98910</td>\n",
       "      <td>136.825</td>\n",
       "      <td>-8.126389</td>\n",
       "      <td>-34.922779</td>\n",
       "      <td>[ICAO] AOC U 100/100, RECIFE</td>\n",
       "      <td>507</td>\n",
       "      <td>1009307174</td>\n",
       "      <td>A3E</td>\n",
       "      <td>6.0</td>\n",
       "    </tr>\n",
       "    <tr>\n",
       "      <th>98910</th>\n",
       "      <td>#98911</td>\n",
       "      <td>136.825</td>\n",
       "      <td>-8.122803</td>\n",
       "      <td>-34.919464</td>\n",
       "      <td>[STEL] L, FA, Azul Linhas Aereas Brasileiras S...</td>\n",
       "      <td>507</td>\n",
       "      <td>1009265412</td>\n",
       "      <td>A3E</td>\n",
       "      <td>6.0</td>\n",
       "    </tr>\n",
       "    <tr>\n",
       "      <th>98914</th>\n",
       "      <td>#98915</td>\n",
       "      <td>136.875</td>\n",
       "      <td>-22.909445</td>\n",
       "      <td>-43.167221</td>\n",
       "      <td>[ICAO] AOC U 100/100, RIO DE JANEIRO - S. DUMONT</td>\n",
       "      <td>-1</td>\n",
       "      <td>-1</td>\n",
       "      <td>NI</td>\n",
       "      <td>-1.0</td>\n",
       "    </tr>\n",
       "    <tr>\n",
       "      <th>98915</th>\n",
       "      <td>#98916</td>\n",
       "      <td>136.875</td>\n",
       "      <td>-12.908611</td>\n",
       "      <td>-38.322498</td>\n",
       "      <td>[ICAO] AOC U 100/100, SALVADOR</td>\n",
       "      <td>-1</td>\n",
       "      <td>-1</td>\n",
       "      <td>NI</td>\n",
       "      <td>-1.0</td>\n",
       "    </tr>\n",
       "  </tbody>\n",
       "</table>\n",
       "<p>55253 rows × 9 columns</p>\n",
       "</div>"
      ],
      "text/plain": [
       "           Id  Frequency   Latitude  Longitude  \\\n",
       "38811  #38812    109.100 -25.600000 -54.466667   \n",
       "38812  #38813    109.100 -25.600000 -54.466667   \n",
       "38813  #38814    109.100 -21.787222 -43.386112   \n",
       "38814  #38815    109.100 -21.783333 -43.383335   \n",
       "38819  #38820    109.300 -25.533333 -49.166668   \n",
       "...       ...        ...        ...        ...   \n",
       "98908  #98909    136.825  -8.126389 -34.922779   \n",
       "98909  #98910    136.825  -8.126389 -34.922779   \n",
       "98910  #98911    136.825  -8.122803 -34.919464   \n",
       "98914  #98915    136.875 -22.909445 -43.167221   \n",
       "98915  #98916    136.875 -12.908611 -38.322498   \n",
       "\n",
       "                                             Description  Service     Station  \\\n",
       "38811  [ICAO] ILS, FOZ DO IGUACU CATARATAS | [AISW] S...       -1          -1   \n",
       "38812  [ICAO] ILS, FOZ DO IGUACU CATARATAS | [AISW] S...      108   696597080   \n",
       "38813  [MOS] L, AL, Sinart - Sociedade Nacional De Ap...      108   696597080   \n",
       "38814                       [ICAO] ILS/DME, JUIZ DE FORA       -1          -1   \n",
       "38819  [ICAO] ILS, CURITIBA AFONSO PEÑA | [AISW] SBCT...       -1          -1   \n",
       "...                                                  ...      ...         ...   \n",
       "98908                       [ICAO] AOC U 100/100, RECIFE      507  1009303802   \n",
       "98909                       [ICAO] AOC U 100/100, RECIFE      507  1009307174   \n",
       "98910  [STEL] L, FA, Azul Linhas Aereas Brasileiras S...      507  1009265412   \n",
       "98914   [ICAO] AOC U 100/100, RIO DE JANEIRO - S. DUMONT       -1          -1   \n",
       "98915                     [ICAO] AOC U 100/100, SALVADOR       -1          -1   \n",
       "\n",
       "      Class   BW  \n",
       "38811    NI -1.0  \n",
       "38812   A3E  6.0  \n",
       "38813   A3E  6.0  \n",
       "38814    NI -1.0  \n",
       "38819    NI -1.0  \n",
       "...     ...  ...  \n",
       "98908   A3E  6.0  \n",
       "98909   A3E  6.0  \n",
       "98910   A3E  6.0  \n",
       "98914    NI -1.0  \n",
       "98915    NI -1.0  \n",
       "\n",
       "[55253 rows x 9 columns]"
      ]
     },
     "execution_count": null,
     "metadata": {},
     "output_type": "execute_result"
    }
   ],
   "source": [
    "df[df.Description.str.contains('\\[ICAO\\]')]"
   ]
  },
  {
   "cell_type": "code",
   "execution_count": null,
   "id": "be1e4c28-a4eb-4478-99ed-8aea434c6aeb",
   "metadata": {},
   "outputs": [],
   "source": [
    "aero = read_aero(folder)"
   ]
  },
  {
   "cell_type": "code",
   "execution_count": null,
   "id": "d2eae6a0-bed1-43a5-8f4b-d71f7fdb6e6a",
   "metadata": {},
   "outputs": [
    {
     "data": {
      "text/html": [
       "<div>\n",
       "<style scoped>\n",
       "    .dataframe tbody tr th:only-of-type {\n",
       "        vertical-align: middle;\n",
       "    }\n",
       "\n",
       "    .dataframe tbody tr th {\n",
       "        vertical-align: top;\n",
       "    }\n",
       "\n",
       "    .dataframe thead th {\n",
       "        text-align: right;\n",
       "    }\n",
       "</style>\n",
       "<table border=\"1\" class=\"dataframe\">\n",
       "  <thead>\n",
       "    <tr style=\"text-align: right;\">\n",
       "      <th></th>\n",
       "      <th>Frequency</th>\n",
       "      <th>Latitude</th>\n",
       "      <th>Longitude</th>\n",
       "      <th>Description</th>\n",
       "    </tr>\n",
       "  </thead>\n",
       "  <tbody>\n",
       "    <tr>\n",
       "      <th>40</th>\n",
       "      <td>109.1</td>\n",
       "      <td>-25.6</td>\n",
       "      <td>-54.46666717529297</td>\n",
       "      <td>[ICAO] ILS, FOZ DO IGUACU CATARATAS</td>\n",
       "    </tr>\n",
       "    <tr>\n",
       "      <th>2910</th>\n",
       "      <td>109.1</td>\n",
       "      <td>-25.6</td>\n",
       "      <td>-54.46666717529297</td>\n",
       "      <td>[ICAO] ILS, FOZ DO IGUACU CATARATAS | [AISW] S...</td>\n",
       "    </tr>\n",
       "  </tbody>\n",
       "</table>\n",
       "</div>"
      ],
      "text/plain": [
       "     Frequency Latitude           Longitude  \\\n",
       "40       109.1    -25.6  -54.46666717529297   \n",
       "2910     109.1    -25.6  -54.46666717529297   \n",
       "\n",
       "                                            Description  \n",
       "40                  [ICAO] ILS, FOZ DO IGUACU CATARATAS  \n",
       "2910  [ICAO] ILS, FOZ DO IGUACU CATARATAS | [AISW] S...  "
      ]
     },
     "execution_count": null,
     "metadata": {},
     "output_type": "execute_result"
    }
   ],
   "source": [
    "aero[aero.Description.str.contains(r'\\[ICAO\\] ILS, FOZ DO IGUACU CATARATAS')]"
   ]
  },
  {
   "cell_type": "code",
   "execution_count": null,
   "id": "53ac5682-0b85-44d7-95db-3dfdd1138b7e",
   "metadata": {},
   "outputs": [
    {
     "data": {
      "text/html": [
       "<div>\n",
       "<style scoped>\n",
       "    .dataframe tbody tr th:only-of-type {\n",
       "        vertical-align: middle;\n",
       "    }\n",
       "\n",
       "    .dataframe tbody tr th {\n",
       "        vertical-align: top;\n",
       "    }\n",
       "\n",
       "    .dataframe thead th {\n",
       "        text-align: right;\n",
       "    }\n",
       "</style>\n",
       "<table border=\"1\" class=\"dataframe\">\n",
       "  <thead>\n",
       "    <tr style=\"text-align: right;\">\n",
       "      <th></th>\n",
       "      <th>Frequency</th>\n",
       "      <th>Latitude</th>\n",
       "      <th>Longitude</th>\n",
       "      <th>Description</th>\n",
       "    </tr>\n",
       "  </thead>\n",
       "  <tbody>\n",
       "    <tr>\n",
       "      <th>0</th>\n",
       "      <td>115.4</td>\n",
       "      <td>-16.25</td>\n",
       "      <td>-49.0</td>\n",
       "      <td>[ICAO] VOR/DME, ANAPOLIS</td>\n",
       "    </tr>\n",
       "    <tr>\n",
       "      <th>1</th>\n",
       "      <td>112.0</td>\n",
       "      <td>-10.983334</td>\n",
       "      <td>-37.06666564941406</td>\n",
       "      <td>[ICAO] VOR/DME, ARACAJU STA. MARIA</td>\n",
       "    </tr>\n",
       "    <tr>\n",
       "      <th>2</th>\n",
       "      <td>113.3</td>\n",
       "      <td>-15.85</td>\n",
       "      <td>-52.38333511352539</td>\n",
       "      <td>[ICAO] VOR/DME, BARRA DO GARCAS</td>\n",
       "    </tr>\n",
       "    <tr>\n",
       "      <th>3</th>\n",
       "      <td>112.2</td>\n",
       "      <td>-22.35</td>\n",
       "      <td>-49.04999923706055</td>\n",
       "      <td>[ICAO] VOR/DME, BAURU</td>\n",
       "    </tr>\n",
       "    <tr>\n",
       "      <th>4</th>\n",
       "      <td>109.7</td>\n",
       "      <td>-19.65</td>\n",
       "      <td>-43.95000076293945</td>\n",
       "      <td>[ICAO] ILS, BELO HORIZONTE TANCREDO NEVES</td>\n",
       "    </tr>\n",
       "    <tr>\n",
       "      <th>...</th>\n",
       "      <td>...</td>\n",
       "      <td>...</td>\n",
       "      <td>...</td>\n",
       "      <td>...</td>\n",
       "    </tr>\n",
       "    <tr>\n",
       "      <th>3211</th>\n",
       "      <td>1090.0</td>\n",
       "      <td>2.22156</td>\n",
       "      <td>-55.94504928588867</td>\n",
       "      <td>[DOC] Radar secundário (Airbone SSR)</td>\n",
       "    </tr>\n",
       "    <tr>\n",
       "      <th>3212</th>\n",
       "      <td>1090.0</td>\n",
       "      <td>-5.53668</td>\n",
       "      <td>-47.460601806640625</td>\n",
       "      <td>[DOC] Radar secundário (Airbone SSR)</td>\n",
       "    </tr>\n",
       "    <tr>\n",
       "      <th>3213</th>\n",
       "      <td>1090.0</td>\n",
       "      <td>-6.64257</td>\n",
       "      <td>-51.95793151855469</td>\n",
       "      <td>[DOC] Radar secundário (Airbone SSR)</td>\n",
       "    </tr>\n",
       "    <tr>\n",
       "      <th>3214</th>\n",
       "      <td>1090.0</td>\n",
       "      <td>-11.61905</td>\n",
       "      <td>-50.69247055053711</td>\n",
       "      <td>[DOC] Radar secundário (Airbone SSR)</td>\n",
       "    </tr>\n",
       "    <tr>\n",
       "      <th>3215</th>\n",
       "      <td>1090.0</td>\n",
       "      <td>-9.36829</td>\n",
       "      <td>-40.56911849975586</td>\n",
       "      <td>[DOC] Radar secundário (Airbone SSR)</td>\n",
       "    </tr>\n",
       "  </tbody>\n",
       "</table>\n",
       "<p>3216 rows × 4 columns</p>\n",
       "</div>"
      ],
      "text/plain": [
       "     Frequency    Latitude            Longitude  \\\n",
       "0        115.4      -16.25                -49.0   \n",
       "1        112.0  -10.983334   -37.06666564941406   \n",
       "2        113.3      -15.85   -52.38333511352539   \n",
       "3        112.2      -22.35   -49.04999923706055   \n",
       "4        109.7      -19.65   -43.95000076293945   \n",
       "...        ...         ...                  ...   \n",
       "3211    1090.0     2.22156   -55.94504928588867   \n",
       "3212    1090.0    -5.53668  -47.460601806640625   \n",
       "3213    1090.0    -6.64257   -51.95793151855469   \n",
       "3214    1090.0   -11.61905   -50.69247055053711   \n",
       "3215    1090.0    -9.36829   -40.56911849975586   \n",
       "\n",
       "                                    Description  \n",
       "0                      [ICAO] VOR/DME, ANAPOLIS  \n",
       "1            [ICAO] VOR/DME, ARACAJU STA. MARIA  \n",
       "2               [ICAO] VOR/DME, BARRA DO GARCAS  \n",
       "3                         [ICAO] VOR/DME, BAURU  \n",
       "4     [ICAO] ILS, BELO HORIZONTE TANCREDO NEVES  \n",
       "...                                         ...  \n",
       "3211       [DOC] Radar secundário (Airbone SSR)  \n",
       "3212       [DOC] Radar secundário (Airbone SSR)  \n",
       "3213       [DOC] Radar secundário (Airbone SSR)  \n",
       "3214       [DOC] Radar secundário (Airbone SSR)  \n",
       "3215       [DOC] Radar secundário (Airbone SSR)  \n",
       "\n",
       "[3216 rows x 4 columns]"
      ]
     },
     "execution_count": null,
     "metadata": {},
     "output_type": "execute_result"
    }
   ],
   "source": [
    "aero = aero.drop_duplicates(subset=['Frequency', 'Latitude', 'Longitude'], keep='last', ignore_index=True)\n",
    "aero"
   ]
  },
  {
   "cell_type": "code",
   "execution_count": null,
   "id": "2daee27c-4b9b-42bf-b815-316daed5510f",
   "metadata": {},
   "outputs": [
    {
     "data": {
      "text/html": [
       "<div>\n",
       "<style scoped>\n",
       "    .dataframe tbody tr th:only-of-type {\n",
       "        vertical-align: middle;\n",
       "    }\n",
       "\n",
       "    .dataframe tbody tr th {\n",
       "        vertical-align: top;\n",
       "    }\n",
       "\n",
       "    .dataframe thead th {\n",
       "        text-align: right;\n",
       "    }\n",
       "</style>\n",
       "<table border=\"1\" class=\"dataframe\">\n",
       "  <thead>\n",
       "    <tr style=\"text-align: right;\">\n",
       "      <th></th>\n",
       "      <th>Frequency</th>\n",
       "      <th>Latitude</th>\n",
       "      <th>Longitude</th>\n",
       "      <th>Description</th>\n",
       "    </tr>\n",
       "  </thead>\n",
       "  <tbody>\n",
       "    <tr>\n",
       "      <th>2415</th>\n",
       "      <td>109.1</td>\n",
       "      <td>-25.6</td>\n",
       "      <td>-54.46666717529297</td>\n",
       "      <td>[ICAO] ILS, FOZ DO IGUACU CATARATAS | [AISW] S...</td>\n",
       "    </tr>\n",
       "  </tbody>\n",
       "</table>\n",
       "</div>"
      ],
      "text/plain": [
       "     Frequency Latitude           Longitude  \\\n",
       "2415     109.1    -25.6  -54.46666717529297   \n",
       "\n",
       "                                            Description  \n",
       "2415  [ICAO] ILS, FOZ DO IGUACU CATARATAS | [AISW] S...  "
      ]
     },
     "execution_count": null,
     "metadata": {},
     "output_type": "execute_result"
    }
   ],
   "source": [
    "aero[aero.Description.str.contains(r'\\[ICAO\\] ILS, FOZ DO IGUACU CATARATAS')]"
   ]
  },
  {
   "cell_type": "code",
   "execution_count": null,
   "id": "c94d0112-e2ec-4baa-b8d1-b8443ff38924",
   "metadata": {},
   "outputs": [],
   "source": [
    "aero.to_parquet(folder / 'aero.parquet.gzip', compression='gzip')"
   ]
  },
  {
   "cell_type": "code",
   "execution_count": null,
   "id": "0515e00a-4af3-4802-bebd-c75c7f337eb1",
   "metadata": {},
   "outputs": [
    {
     "data": {
      "text/html": [
       "<div>\n",
       "<style scoped>\n",
       "    .dataframe tbody tr th:only-of-type {\n",
       "        vertical-align: middle;\n",
       "    }\n",
       "\n",
       "    .dataframe tbody tr th {\n",
       "        vertical-align: top;\n",
       "    }\n",
       "\n",
       "    .dataframe thead th {\n",
       "        text-align: right;\n",
       "    }\n",
       "</style>\n",
       "<table border=\"1\" class=\"dataframe\">\n",
       "  <thead>\n",
       "    <tr style=\"text-align: right;\">\n",
       "      <th></th>\n",
       "      <th>Frequência</th>\n",
       "      <th>Entidade</th>\n",
       "      <th>Fistel</th>\n",
       "      <th>Número_Estação</th>\n",
       "      <th>Município</th>\n",
       "      <th>Código_Município</th>\n",
       "      <th>UF</th>\n",
       "      <th>Latitude</th>\n",
       "      <th>Longitude</th>\n",
       "      <th>Classe</th>\n",
       "      <th>...</th>\n",
       "      <th>Classe_Emissão</th>\n",
       "      <th>Largura_Emissão(kHz)</th>\n",
       "      <th>Validade_RF</th>\n",
       "      <th>Status</th>\n",
       "      <th>Fonte</th>\n",
       "      <th>Multiplicidade</th>\n",
       "      <th>Município_IBGE</th>\n",
       "      <th>Latitude_IBGE</th>\n",
       "      <th>Longitude_IBGE</th>\n",
       "      <th>Coords_Valida_IBGE</th>\n",
       "    </tr>\n",
       "  </thead>\n",
       "  <tbody>\n",
       "    <tr>\n",
       "      <th>665912</th>\n",
       "      <td>109.1</td>\n",
       "      <td>SINART - SOCIEDADE NACIONAL DE APOIO RODOVIARI...</td>\n",
       "      <td>50408840870</td>\n",
       "      <td>696597080</td>\n",
       "      <td>Juiz de Fora</td>\n",
       "      <td>3136702</td>\n",
       "      <td>MG</td>\n",
       "      <td>-21.787222222222166</td>\n",
       "      <td>-43.386111111111</td>\n",
       "      <td>AL</td>\n",
       "      <td>...</td>\n",
       "      <td>A3E</td>\n",
       "      <td>6.0</td>\n",
       "      <td>2034-02-13</td>\n",
       "      <td>L</td>\n",
       "      <td>MOS</td>\n",
       "      <td>1</td>\n",
       "      <td>Juiz de Fora</td>\n",
       "      <td>-21.760900000000000</td>\n",
       "      <td>-43.348800000000000</td>\n",
       "      <td>1</td>\n",
       "    </tr>\n",
       "  </tbody>\n",
       "</table>\n",
       "<p>1 rows × 21 columns</p>\n",
       "</div>"
      ],
      "text/plain": [
       "       Frequência                                           Entidade  \\\n",
       "665912      109.1  SINART - SOCIEDADE NACIONAL DE APOIO RODOVIARI...   \n",
       "\n",
       "             Fistel Número_Estação     Município Código_Município  UF  \\\n",
       "665912  50408840870      696597080  Juiz de Fora          3136702  MG   \n",
       "\n",
       "                   Latitude         Longitude Classe  ... Classe_Emissão  \\\n",
       "665912  -21.787222222222166  -43.386111111111     AL  ...            A3E   \n",
       "\n",
       "       Largura_Emissão(kHz) Validade_RF Status Fonte Multiplicidade  \\\n",
       "665912                  6.0  2034-02-13      L   MOS              1   \n",
       "\n",
       "       Município_IBGE        Latitude_IBGE       Longitude_IBGE  \\\n",
       "665912   Juiz de Fora  -21.760900000000000  -43.348800000000000   \n",
       "\n",
       "       Coords_Valida_IBGE  \n",
       "665912                  1  \n",
       "\n",
       "[1 rows x 21 columns]"
      ]
     },
     "execution_count": null,
     "metadata": {},
     "output_type": "execute_result"
    }
   ],
   "source": [
    "base = read_base(folder)\n",
    "base[base.Número_Estação == '696597080']"
   ]
  },
  {
   "cell_type": "code",
   "execution_count": null,
   "id": "708feb82-ad70-4257-b08f-7d1bc2a0f562",
   "metadata": {},
   "outputs": [],
   "source": [
    "aero"
   ]
  },
  {
   "cell_type": "code",
   "execution_count": null,
   "id": "df3f5b85",
   "metadata": {},
   "outputs": [],
   "source": [
    "#|eval: false\n",
    "from pandas_profiling import ProfileReport\n",
    "df['Frequency'] = df['Frequency'].astype('category')\n",
    "profile = ProfileReport(df, config_file= folder.parent / 'nbs/report_config.yaml')\n",
    "profile.to_notebook_iframe()"
   ]
  },
  {
   "cell_type": "code",
   "execution_count": null,
   "id": "a3a32cf1",
   "metadata": {},
   "outputs": [],
   "source": []
  }
 ],
 "metadata": {
  "kernelspec": {
   "display_name": "db",
   "language": "python",
   "name": "python3"
  }
 },
 "nbformat": 4,
 "nbformat_minor": 5
}
