{
 "cells": [
  {
   "cell_type": "code",
   "execution_count": null,
   "metadata": {},
   "outputs": [],
   "source": [
    "#| default_exp estacoes\n",
    "%load_ext autoreload\n",
    "%autoreload 2\n",
    "\n",
    "import sys\n",
    "from pathlib import Path\n"
   ]
  },
  {
   "cell_type": "code",
   "execution_count": null,
   "metadata": {},
   "outputs": [],
   "source": [
    "\n",
    "# Insert in Path Project Directory\n",
    "sys.path.insert(0, str(Path().cwd().parent))"
   ]
  },
  {
   "cell_type": "markdown",
   "metadata": {},
   "source": [
    "# Anatel\n",
    "\n",
    "> Este módulo consolida as bases da Anatel e realiza pós-processamento dos dados obtidos."
   ]
  },
  {
   "cell_type": "code",
   "execution_count": null,
   "metadata": {},
   "outputs": [],
   "source": [
    "# | export\n",
    "import pandas as pd\n",
    "from dotenv import find_dotenv, load_dotenv\n",
    "from fastcore.foundation import L\n",
    "from fastcore.parallel import parallel\n",
    "\n",
    "from extracao.constants import COLS_SRD\n",
    "from extracao.location import Geography\n",
    "\n",
    "from extracao.datasources.aeronautica import Aero\n",
    "from extracao.datasources.base import Base\n",
    "from extracao.datasources.mosaico import MONGO_URI\n",
    "from extracao.datasources.sitarweb import SQLSERVER_PARAMS, Radcom, Stel\n",
    "from extracao.datasources.smp import Smp\n",
    "from extracao.datasources.srd import SRD\n",
    "from extracao.datasources.telecom import Telecom\n",
    "from extracao.format import LIMIT_FREQ, merge_on_frequency"
   ]
  },
  {
   "cell_type": "code",
   "execution_count": null,
   "metadata": {},
   "outputs": [],
   "source": [
    "# | export\n",
    "load_dotenv(find_dotenv(), override=True)\n",
    "pd.options.mode.copy_on_write = True"
   ]
  },
  {
   "cell_type": "markdown",
   "metadata": {},
   "source": [
    "## Base Consolidada ANATEL"
   ]
  },
  {
   "cell_type": "code",
   "execution_count": null,
   "metadata": {},
   "outputs": [],
   "source": [
    "# |export\n",
    "class Estacoes(Base):\n",
    "\t\"\"\"Helper Class to aggregate and process the data from different sources\"\"\"\n",
    "\n",
    "\tdef __init__(\n",
    "\t\tself,\n",
    "\t\tsql_params: dict = SQLSERVER_PARAMS,\n",
    "\t\tmongo_uri: str = MONGO_URI,\n",
    "\t\tlimit: int = 0,\n",
    "\t\tparallel: bool = True,\n",
    "\t\tread_cache: bool = True,\n",
    "\t\treprocess_sources: bool = False,\n",
    "\t):\n",
    "\t\tself.sql_params = sql_params\n",
    "\t\tself.mongo_uri = mongo_uri\n",
    "\t\tself.limit = limit\n",
    "\t\tself.parallel = parallel\n",
    "\t\tself.read_cache = read_cache\n",
    "\t\tself.reprocess_sources = reprocess_sources\n",
    "\t\tself.init_data_sources()\n",
    "\n",
    "\t@property\n",
    "\tdef columns(self):\n",
    "\t\treturn COLS_SRD\n",
    "\n",
    "\t@property\n",
    "\tdef stem(self):\n",
    "\t\treturn 'estacoes'\n",
    "\n",
    "\t@staticmethod\n",
    "\tdef _update_source(class_instance):\n",
    "\t\t\"\"\"Helper functions to update and save the individual data sources\"\"\"\n",
    "\t\ttry:\n",
    "\t\t\tclass_instance.update()\n",
    "\t\t\tclass_instance.save()\n",
    "\t\texcept Exception as e:\n",
    "\t\t\tprint(f'Erro ao atualizar a classe {class_instance.__class__.__name__}: {e}')\n",
    "\t\treturn class_instance\n",
    "\n",
    "\tdef init_data_sources(self):\n",
    "\t\t\"\"\"Initializes the individual classes and saves them in a property list\"\"\"\n",
    "\t\tself.sources = L(\n",
    "\t\t\t[\n",
    "\t\t\t\tTelecom(self.mongo_uri, self.limit, self.read_cache),\n",
    "\t\t\t\tSmp(self.mongo_uri, self.limit, self.read_cache),\n",
    "\t\t\t\tSRD(self.mongo_uri, self.limit, self.read_cache),\n",
    "\t\t\t\tStel(self.sql_params, self.read_cache),\n",
    "\t\t\t\tRadcom(self.sql_params, self.read_cache),\n",
    "\t\t\t\tAero(self.read_cache),\n",
    "\t\t\t]\n",
    "\t\t)\n",
    "\n",
    "\tdef extraction(self) -> L:\n",
    "\t\tif not self.reprocess_sources and self.read_cache:\n",
    "\t\t\treturn self.sources.attrgot('df')\n",
    "\t\tif self.parallel:\n",
    "\t\t\tself.sources = parallel(\n",
    "\t\t\t\tEstacoes._update_source,\n",
    "\t\t\t\tself.sources,\n",
    "\t\t\t\tn_workers=len(self.sources),\n",
    "\t\t\t\tprogress=False,\n",
    "\t\t\t)\n",
    "\t\telse:\n",
    "\t\t\tself.sources = self.sources.map(Estacoes._update_source)\n",
    "\t\treturn self.sources.attrgot('df')\n",
    "\n",
    "\tdef update(self):\n",
    "\t\tdf = self.extraction()\n",
    "\t\tself.df = self._format(df)\n",
    "\n",
    "\t@staticmethod\n",
    "\tdef _simplify_sources(df):\n",
    "\t\tdf['Fonte'] = df['Fonte'].str.replace(\n",
    "\t\t\t'ICAO-CANALIZACAO-VOR/ILS/DME | AISWEB-CANALIZACAO-VOR/ILS/DME',\n",
    "\t\t\t'CANALIZACAO-VOR/ILS/DME',\n",
    "\t\t)\n",
    "\t\tdf['Fonte'] = df['Fonte'].str.replace(\n",
    "\t\t\tr'(ICAO-)?(AISWEB-)?CANALIZACAO-VOR/ILS/DME',\n",
    "\t\t\t'CANALIZACAO-VOR/ILS/DME',\n",
    "\t\t\tregex=True,\n",
    "\t\t)\n",
    "\n",
    "\t\treturn df\n",
    "\n",
    "\t@staticmethod\n",
    "\tdef _remove_invalid_frequencies(df):\n",
    "\t\tdf['Frequência'] = df['Frequência'].astype('float')\n",
    "\t\tdf.sort_values(['Frequência', 'Latitude', 'Longitude'], ignore_index=True, inplace=True)\n",
    "\t\trow_filter = df['Frequência'] > LIMIT_FREQ\n",
    "\t\tBase.register_log(\n",
    "\t\t\tdf,\n",
    "\t\t\tf'Frequência removida. Valor superior a {LIMIT_FREQ}MHz.',\n",
    "\t\t\t'Frequência',\n",
    "\t\t\trow_filter,\n",
    "\t\t)\n",
    "\t\treturn df[~row_filter].reset_index(drop=True)\n",
    "\n",
    "\tdef _format(\n",
    "\t\tself,\n",
    "\t\tdfs: L,  # List with the individual API sources\n",
    "\t) -> pd.DataFrame:  # Processed DataFrame\n",
    "\t\taero = dfs.pop()\n",
    "\t\tanatel = pd.concat(dfs, ignore_index=True, copy=False).astype('string', copy=False)\n",
    "\t\tdf = merge_on_frequency(anatel, aero)\n",
    "\t\tdf = Geography(df).validate()\n",
    "\t\tdf = Estacoes._simplify_sources(df)\n",
    "\t\tdf = Estacoes._remove_invalid_frequencies(df)\n",
    "\t\tdf = df.astype('string', copy=False).replace('-1.0', '-1')  # .fillna('-1')\n",
    "\t\tdf = df.astype('category', copy=False)\n",
    "\t\treturn df\n",
    "\t\t# return df.loc[:, self.columns]\n"
   ]
  },
  {
   "cell_type": "code",
   "execution_count": null,
   "metadata": {},
   "outputs": [],
   "source": [
    "data = Estacoes()"
   ]
  },
  {
   "cell_type": "code",
   "execution_count": null,
   "metadata": {},
   "outputs": [],
   "source": [
    "dfs = data.extraction()"
   ]
  },
  {
   "cell_type": "code",
   "execution_count": null,
   "metadata": {},
   "outputs": [
    {
     "name": "stderr",
     "output_type": "stream",
     "text": [
      "/tmp/ipykernel_1916517/1210101140.py:2: FutureWarning: The behavior of DataFrame concatenation with empty or all-NA entries is deprecated. In a future version, this will no longer exclude empty or all-NA columns when determining the result dtypes. To retain the old behavior, exclude the relevant entries before the concat operation.\n",
      "  anatel = pd.concat(dfs, ignore_index=True, copy=False).astype('string', copy=False)\n"
     ]
    },
    {
     "data": {
      "text/html": [
       "<pre style=\"white-space:pre;overflow-x:auto;line-height:normal;font-family:Menlo,'DejaVu Sans Mono',consolas,'Courier New',monospace\"><span style=\"color: #008000; text-decoration-color: #008000; font-weight: bold\">Logging:</span> <span style=\"font-style: italic\">Calculando distância entre estações mescladas.</span>\n",
       "</pre>\n"
      ],
      "text/plain": [
       "\u001b[1;32mLogging:\u001b[0m \u001b[3mCalculando distância entre estações mescladas.\u001b[0m\n"
      ]
     },
     "metadata": {},
     "output_type": "display_data"
    },
    {
     "data": {
      "application/vnd.jupyter.widget-view+json": {
       "model_id": "f2dd8bb6b5c14608998ec5ae7377a192",
       "version_major": 2,
       "version_minor": 0
      },
      "text/plain": [
       "  0%|          | 0/55928 [00:00<?, ?it/s]"
      ]
     },
     "metadata": {},
     "output_type": "display_data"
    }
   ],
   "source": [
    "aero = dfs.pop()\n",
    "anatel = pd.concat(dfs, ignore_index=True, copy=False).astype('string', copy=False)\n",
    "df = merge_on_frequency(anatel, aero)"
   ]
  },
  {
   "cell_type": "code",
   "execution_count": null,
   "metadata": {},
   "outputs": [
    {
     "name": "stdout",
     "output_type": "stream",
     "text": [
      "<class 'pandas.core.frame.DataFrame'>\n",
      "RangeIndex: 1023110 entries, 0 to 1023109\n",
      "Data columns (total 29 columns):\n",
      " #   Column                       Non-Null Count    Dtype \n",
      "---  ------                       --------------    ----- \n",
      " 0   Frequência                   1023110 non-null  string\n",
      " 1   Entidade                     1006071 non-null  string\n",
      " 2   Fistel                       1021523 non-null  string\n",
      " 3   Serviço                      1021523 non-null  string\n",
      " 4   Estação                      1017709 non-null  string\n",
      " 5   Latitude                     1005771 non-null  string\n",
      " 6   Longitude                    1005771 non-null  string\n",
      " 7   Código_Município             1021523 non-null  string\n",
      " 8   Município                    533869 non-null   string\n",
      " 9   UF                           1020381 non-null  string\n",
      " 10  Classe                       1021078 non-null  string\n",
      " 11  Classe_Emissão               1016081 non-null  string\n",
      " 12  Largura_Emissão(kHz)         1021102 non-null  string\n",
      " 13  Validade_RF                  1013870 non-null  string\n",
      " 14  Status                       1021523 non-null  string\n",
      " 15  Fonte                        1023110 non-null  string\n",
      " 16  Multiplicidade               1023110 non-null  string\n",
      " 17  Log                          1021523 non-null  string\n",
      " 18  Cota_Base_Torre(m)           13048 non-null    string\n",
      " 19  Potência_Transmissor(W)      27548 non-null    string\n",
      " 20  Ganho_Antena(dBd)            26195 non-null    string\n",
      " 21  Ângulo_Elevação_Antena       26546 non-null    string\n",
      " 22  Azimute_Antena               27180 non-null    string\n",
      " 23  Altura_Antena(m)             27966 non-null    string\n",
      " 24  Atenuação_Linha(db/100m)     26359 non-null    string\n",
      " 25  Perdas_Acessórias_Linha(db)  33061 non-null    string\n",
      " 26  Padrão_Antena(dBd)           25909 non-null    string\n",
      " 27  Comprimento_Linha(m)         26430 non-null    string\n",
      " 28  Relatório_Canal              35085 non-null    string\n",
      "dtypes: string(29)\n",
      "memory usage: 226.4 MB\n"
     ]
    }
   ],
   "source": [
    "df.info()"
   ]
  },
  {
   "cell_type": "code",
   "execution_count": null,
   "metadata": {},
   "outputs": [
    {
     "data": {
      "text/plain": [
       "Frequência                           0\n",
       "Entidade                         17039\n",
       "Fistel                            1587\n",
       "Serviço                           1587\n",
       "Estação                           5401\n",
       "Latitude                         17339\n",
       "Longitude                        17339\n",
       "Código_Município                  1587\n",
       "Município                       489241\n",
       "UF                                2729\n",
       "Classe                            2032\n",
       "Classe_Emissão                    7029\n",
       "Largura_Emissão(kHz)              2008\n",
       "Validade_RF                       9240\n",
       "Status                            1587\n",
       "Fonte                                0\n",
       "Multiplicidade                       0\n",
       "Log                               1587\n",
       "Cota_Base_Torre(m)             1010062\n",
       "Potência_Transmissor(W)         995562\n",
       "Ganho_Antena(dBd)               996915\n",
       "Ângulo_Elevação_Antena          996564\n",
       "Azimute_Antena                  995930\n",
       "Altura_Antena(m)                995144\n",
       "Atenuação_Linha(db/100m)        996751\n",
       "Perdas_Acessórias_Linha(db)     990049\n",
       "Padrão_Antena(dBd)              997201\n",
       "Comprimento_Linha(m)            996680\n",
       "Relatório_Canal                 988025\n",
       "dtype: int64"
      ]
     },
     "execution_count": null,
     "metadata": {},
     "output_type": "execute_result"
    }
   ],
   "source": [
    "df.isna().sum()"
   ]
  },
  {
   "cell_type": "code",
   "execution_count": null,
   "metadata": {},
   "outputs": [],
   "source": [
    "from extracao.location import Geography"
   ]
  },
  {
   "cell_type": "code",
   "execution_count": null,
   "metadata": {},
   "outputs": [
    {
     "data": {
      "text/html": [
       "<pre style=\"white-space:pre;overflow-x:auto;line-height:normal;font-family:Menlo,'DejaVu Sans Mono',consolas,'Courier New',monospace\"><span style=\"color: #008000; text-decoration-color: #008000; font-weight: bold\">Logging:</span> <span style=\"font-style: italic\">Coordenadas nulas.</span>\n",
       "</pre>\n"
      ],
      "text/plain": [
       "\u001b[1;32mLogging:\u001b[0m \u001b[3mCoordenadas nulas.\u001b[0m\n"
      ]
     },
     "metadata": {},
     "output_type": "display_data"
    },
    {
     "data": {
      "application/vnd.jupyter.widget-view+json": {
       "model_id": "3a638408b4a549259602bd451b272333",
       "version_major": 2,
       "version_minor": 0
      },
      "text/plain": [
       "  0%|          | 0/17339 [00:00<?, ?it/s]"
      ]
     },
     "metadata": {},
     "output_type": "display_data"
    },
    {
     "data": {
      "text/html": [
       "<pre style=\"white-space:pre;overflow-x:auto;line-height:normal;font-family:Menlo,'DejaVu Sans Mono',consolas,'Courier New',monospace\"><span style=\"color: #008000; text-decoration-color: #008000; font-weight: bold\">Logging:</span> <span style=\"font-style: italic\">Código do Município nulo.</span>\n",
       "</pre>\n"
      ],
      "text/plain": [
       "\u001b[1;32mLogging:\u001b[0m \u001b[3mCódigo do Município nulo.\u001b[0m\n"
      ]
     },
     "metadata": {},
     "output_type": "display_data"
    },
    {
     "data": {
      "application/vnd.jupyter.widget-view+json": {
       "model_id": "e3e0916a3ea648d7b6c2a86a6057b3ee",
       "version_major": 2,
       "version_minor": 0
      },
      "text/plain": [
       "  0%|          | 0/1587 [00:00<?, ?it/s]"
      ]
     },
     "metadata": {},
     "output_type": "display_data"
    },
    {
     "data": {
      "text/html": [
       "<pre style=\"white-space:pre;overflow-x:auto;line-height:normal;font-family:Menlo,'DejaVu Sans Mono',consolas,'Courier New',monospace\"><span style=\"color: #008000; text-decoration-color: #008000; font-weight: bold\">Logging:</span> <span style=\"font-style: italic\">Código do Município não numérico.</span>\n",
       "</pre>\n"
      ],
      "text/plain": [
       "\u001b[1;32mLogging:\u001b[0m \u001b[3mCódigo do Município não numérico.\u001b[0m\n"
      ]
     },
     "metadata": {},
     "output_type": "display_data"
    },
    {
     "data": {
      "application/vnd.jupyter.widget-view+json": {
       "model_id": "1a9eb328273d4aeabae00ea31cbde73e",
       "version_major": 2,
       "version_minor": 0
      },
      "text/plain": [
       "  0%|          | 0/2 [00:00<?, ?it/s]"
      ]
     },
     "metadata": {},
     "output_type": "display_data"
    }
   ],
   "source": [
    "g = Geography(df)"
   ]
  },
  {
   "cell_type": "code",
   "execution_count": null,
   "metadata": {},
   "outputs": [
    {
     "data": {
      "text/plain": [
       "Frequência                           0\n",
       "Entidade                         17039\n",
       "Fistel                            1587\n",
       "Serviço                           1587\n",
       "Estação                           5401\n",
       "Latitude                         17339\n",
       "Longitude                        17339\n",
       "Código_Município                  1589\n",
       "Município                       489241\n",
       "UF                                2729\n",
       "Classe                            2032\n",
       "Classe_Emissão                    7029\n",
       "Largura_Emissão(kHz)              2008\n",
       "Validade_RF                       9240\n",
       "Status                            1587\n",
       "Fonte                                0\n",
       "Multiplicidade                       0\n",
       "Log                                  0\n",
       "Cota_Base_Torre(m)             1010062\n",
       "Potência_Transmissor(W)         995562\n",
       "Ganho_Antena(dBd)               996915\n",
       "Ângulo_Elevação_Antena          996564\n",
       "Azimute_Antena                  995930\n",
       "Altura_Antena(m)                995144\n",
       "Atenuação_Linha(db/100m)        996751\n",
       "Perdas_Acessórias_Linha(db)     990049\n",
       "Padrão_Antena(dBd)              997201\n",
       "Comprimento_Linha(m)            996680\n",
       "Relatório_Canal                 988025\n",
       "dtype: int64"
      ]
     },
     "execution_count": null,
     "metadata": {},
     "output_type": "execute_result"
    }
   ],
   "source": [
    "g.df.isna().sum()"
   ]
  },
  {
   "cell_type": "code",
   "execution_count": null,
   "metadata": {},
   "outputs": [
    {
     "data": {
      "text/html": [
       "<div>\n",
       "<style scoped>\n",
       "    .dataframe tbody tr th:only-of-type {\n",
       "        vertical-align: middle;\n",
       "    }\n",
       "\n",
       "    .dataframe tbody tr th {\n",
       "        vertical-align: top;\n",
       "    }\n",
       "\n",
       "    .dataframe thead th {\n",
       "        text-align: right;\n",
       "    }\n",
       "</style>\n",
       "<table border=\"1\" class=\"dataframe\">\n",
       "  <thead>\n",
       "    <tr style=\"text-align: right;\">\n",
       "      <th></th>\n",
       "      <th>Frequência</th>\n",
       "      <th>Entidade</th>\n",
       "      <th>Fistel</th>\n",
       "      <th>Serviço</th>\n",
       "      <th>Estação</th>\n",
       "      <th>Latitude</th>\n",
       "      <th>Longitude</th>\n",
       "      <th>Código_Município</th>\n",
       "      <th>Município</th>\n",
       "      <th>UF</th>\n",
       "      <th>...</th>\n",
       "      <th>Potência_Transmissor(W)</th>\n",
       "      <th>Ganho_Antena(dBd)</th>\n",
       "      <th>Ângulo_Elevação_Antena</th>\n",
       "      <th>Azimute_Antena</th>\n",
       "      <th>Altura_Antena(m)</th>\n",
       "      <th>Atenuação_Linha(db/100m)</th>\n",
       "      <th>Perdas_Acessórias_Linha(db)</th>\n",
       "      <th>Padrão_Antena(dBd)</th>\n",
       "      <th>Comprimento_Linha(m)</th>\n",
       "      <th>Relatório_Canal</th>\n",
       "    </tr>\n",
       "  </thead>\n",
       "  <tbody>\n",
       "    <tr>\n",
       "      <th>434235</th>\n",
       "      <td>18057.5</td>\n",
       "      <td>TELEFONICA BRASIL S.A.</td>\n",
       "      <td>50417179405</td>\n",
       "      <td>019</td>\n",
       "      <td>1015168474</td>\n",
       "      <td>-23.5222</td>\n",
       "      <td>-46.917</td>\n",
       "      <td>JANDIRA</td>\n",
       "      <td>3525003</td>\n",
       "      <td>SP</td>\n",
       "      <td>...</td>\n",
       "      <td>&lt;NA&gt;</td>\n",
       "      <td>&lt;NA&gt;</td>\n",
       "      <td>&lt;NA&gt;</td>\n",
       "      <td>&lt;NA&gt;</td>\n",
       "      <td>&lt;NA&gt;</td>\n",
       "      <td>&lt;NA&gt;</td>\n",
       "      <td>&lt;NA&gt;</td>\n",
       "      <td>&lt;NA&gt;</td>\n",
       "      <td>&lt;NA&gt;</td>\n",
       "      <td>&lt;NA&gt;</td>\n",
       "    </tr>\n",
       "    <tr>\n",
       "      <th>529246</th>\n",
       "      <td>19617.5</td>\n",
       "      <td>TELEFONICA BRASIL S.A.</td>\n",
       "      <td>50417179405</td>\n",
       "      <td>019</td>\n",
       "      <td>1015168466</td>\n",
       "      <td>-23.5136</td>\n",
       "      <td>-46.9295</td>\n",
       "      <td>ITAPEVI</td>\n",
       "      <td>3522505</td>\n",
       "      <td>SP</td>\n",
       "      <td>...</td>\n",
       "      <td>&lt;NA&gt;</td>\n",
       "      <td>&lt;NA&gt;</td>\n",
       "      <td>&lt;NA&gt;</td>\n",
       "      <td>&lt;NA&gt;</td>\n",
       "      <td>&lt;NA&gt;</td>\n",
       "      <td>&lt;NA&gt;</td>\n",
       "      <td>&lt;NA&gt;</td>\n",
       "      <td>&lt;NA&gt;</td>\n",
       "      <td>&lt;NA&gt;</td>\n",
       "      <td>&lt;NA&gt;</td>\n",
       "    </tr>\n",
       "  </tbody>\n",
       "</table>\n",
       "<p>2 rows × 29 columns</p>\n",
       "</div>"
      ],
      "text/plain": [
       "       Frequência                Entidade       Fistel Serviço     Estação  \\\n",
       "434235    18057.5  TELEFONICA BRASIL S.A.  50417179405     019  1015168474   \n",
       "529246    19617.5  TELEFONICA BRASIL S.A.  50417179405     019  1015168466   \n",
       "\n",
       "        Latitude Longitude Código_Município Município  UF  ...  \\\n",
       "434235  -23.5222   -46.917          JANDIRA   3525003  SP  ...   \n",
       "529246  -23.5136  -46.9295          ITAPEVI   3522505  SP  ...   \n",
       "\n",
       "       Potência_Transmissor(W) Ganho_Antena(dBd) Ângulo_Elevação_Antena  \\\n",
       "434235                    <NA>              <NA>                   <NA>   \n",
       "529246                    <NA>              <NA>                   <NA>   \n",
       "\n",
       "       Azimute_Antena Altura_Antena(m) Atenuação_Linha(db/100m)  \\\n",
       "434235           <NA>             <NA>                     <NA>   \n",
       "529246           <NA>             <NA>                     <NA>   \n",
       "\n",
       "       Perdas_Acessórias_Linha(db) Padrão_Antena(dBd) Comprimento_Linha(m)  \\\n",
       "434235                        <NA>               <NA>                 <NA>   \n",
       "529246                        <NA>               <NA>                 <NA>   \n",
       "\n",
       "       Relatório_Canal  \n",
       "434235            <NA>  \n",
       "529246            <NA>  \n",
       "\n",
       "[2 rows x 29 columns]"
      ]
     },
     "execution_count": null,
     "metadata": {},
     "output_type": "execute_result"
    }
   ],
   "source": [
    "c = g.df['Código_Município'].isna() & df['Código_Município'].notna()\n",
    "df[c]"
   ]
  },
  {
   "cell_type": "code",
   "execution_count": null,
   "metadata": {},
   "outputs": [
    {
     "data": {
      "text/plain": [
       "'[{\"Processamento\": \"Registro expandido nos componentes individuais Largura_Emissão(kHz) e Classe_Emissão\", \"Coluna\": \"Designação_Emissão\", \"Original\": \"55M0D7W\"}, {\"Processamento\": \"Código do Município não numérico.\", \"Coluna\": \"#Código_Município\", \"Original\": \"JANDIRA\"}]'"
      ]
     },
     "execution_count": null,
     "metadata": {},
     "output_type": "execute_result"
    }
   ],
   "source": [
    "g.df[c].loc[434235, 'Log']"
   ]
  },
  {
   "cell_type": "code",
   "execution_count": null,
   "metadata": {},
   "outputs": [
    {
     "data": {
      "text/html": [
       "<pre style=\"white-space:pre;overflow-x:auto;line-height:normal;font-family:Menlo,'DejaVu Sans Mono',consolas,'Courier New',monospace\"><span style=\"color: #008000; text-decoration-color: #008000; font-weight: bold\">Logging:</span> <span style=\"font-style: italic\">Código do Município não consta no IBGE.</span>\n",
       "<span style=\"font-style: italic\">Município normalizado e UF serão usados como chave para validação.</span>\n",
       "</pre>\n"
      ],
      "text/plain": [
       "\u001b[1;32mLogging:\u001b[0m \u001b[3mCódigo do Município não consta no IBGE.\u001b[0m\n",
       "\u001b[3mMunicípio normalizado e UF serão usados como chave para validação.\u001b[0m\n"
      ]
     },
     "metadata": {},
     "output_type": "display_data"
    },
    {
     "data": {
      "application/vnd.jupyter.widget-view+json": {
       "model_id": "0c2ebb05b76d4aa281605d993c6084d4",
       "version_major": 2,
       "version_minor": 0
      },
      "text/plain": [
       "  0%|          | 0/87 [00:00<?, ?it/s]"
      ]
     },
     "metadata": {},
     "output_type": "display_data"
    },
    {
     "data": {
      "text/html": [
       "<pre style=\"white-space:pre;overflow-x:auto;line-height:normal;font-family:Menlo,'DejaVu Sans Mono',consolas,'Courier New',monospace\"><span style=\"color: #008000; text-decoration-color: #008000; font-weight: bold\">Logging:</span> <span style=\"font-style: italic\">Valor da coluna Município substituído conforme consta no IBGE</span>\n",
       "</pre>\n"
      ],
      "text/plain": [
       "\u001b[1;32mLogging:\u001b[0m \u001b[3mValor da coluna Município substituído conforme consta no IBGE\u001b[0m\n"
      ]
     },
     "metadata": {},
     "output_type": "display_data"
    },
    {
     "data": {
      "application/vnd.jupyter.widget-view+json": {
       "model_id": "529d9b7972804ceb8987757418b28df8",
       "version_major": 2,
       "version_minor": 0
      },
      "text/plain": [
       "  0%|          | 0/39 [00:00<?, ?it/s]"
      ]
     },
     "metadata": {},
     "output_type": "display_data"
    },
    {
     "data": {
      "text/html": [
       "<pre style=\"white-space:pre;overflow-x:auto;line-height:normal;font-family:Menlo,'DejaVu Sans Mono',consolas,'Courier New',monospace\"><span style=\"color: #008000; text-decoration-color: #008000; font-weight: bold\">Logging:</span> <span style=\"font-style: italic\">Valor da coluna Código_Município substituído conforme consta no IBGE</span>\n",
       "</pre>\n"
      ],
      "text/plain": [
       "\u001b[1;32mLogging:\u001b[0m \u001b[3mValor da coluna Código_Município substituído conforme consta no IBGE\u001b[0m\n"
      ]
     },
     "metadata": {},
     "output_type": "display_data"
    },
    {
     "data": {
      "application/vnd.jupyter.widget-view+json": {
       "model_id": "f93b671787424259b39f247762e8de95",
       "version_major": 2,
       "version_minor": 0
      },
      "text/plain": [
       "  0%|          | 0/39 [00:00<?, ?it/s]"
      ]
     },
     "metadata": {},
     "output_type": "display_data"
    }
   ],
   "source": [
    "g.merge_df_with_ibge()"
   ]
  },
  {
   "cell_type": "code",
   "execution_count": null,
   "metadata": {},
   "outputs": [
    {
     "data": {
      "text/plain": [
       "Frequência                           0\n",
       "Entidade                         17039\n",
       "Fistel                            1587\n",
       "Serviço                           1587\n",
       "Estação                           5401\n",
       "Latitude                         17339\n",
       "Longitude                        17339\n",
       "Código_Município                  1592\n",
       "Município                       489244\n",
       "UF                                2729\n",
       "Classe                            2032\n",
       "Classe_Emissão                    7029\n",
       "Largura_Emissão(kHz)              2008\n",
       "Validade_RF                       9240\n",
       "Status                            1587\n",
       "Fonte                                0\n",
       "Multiplicidade                       0\n",
       "Log                                  0\n",
       "Cota_Base_Torre(m)             1010062\n",
       "Potência_Transmissor(W)         995562\n",
       "Ganho_Antena(dBd)               996915\n",
       "Ângulo_Elevação_Antena          996564\n",
       "Azimute_Antena                  995930\n",
       "Altura_Antena(m)                995144\n",
       "Atenuação_Linha(db/100m)        996751\n",
       "Perdas_Acessórias_Linha(db)     990049\n",
       "Padrão_Antena(dBd)              997201\n",
       "Comprimento_Linha(m)            996680\n",
       "Relatório_Canal                 988025\n",
       "Município_IBGE                    1676\n",
       "Latitude_IBGE                     1676\n",
       "Longitude_IBGE                    1676\n",
       "UF_IBGE                           1676\n",
       "dtype: int64"
      ]
     },
     "execution_count": null,
     "metadata": {},
     "output_type": "execute_result"
    }
   ],
   "source": [
    "g.df.isna().sum()"
   ]
  },
  {
   "cell_type": "code",
   "execution_count": null,
   "metadata": {},
   "outputs": [
    {
     "data": {
      "text/html": [
       "<pre style=\"white-space:pre;overflow-x:auto;line-height:normal;font-family:Menlo,'DejaVu Sans Mono',consolas,'Courier New',monospace\"><span style=\"color: #008000; text-decoration-color: #008000; font-weight: bold\">Logging:</span> <span style=\"font-style: italic\">Coluna Município normalizada como consta no IBGE.</span>\n",
       "</pre>\n"
      ],
      "text/plain": [
       "\u001b[1;32mLogging:\u001b[0m \u001b[3mColuna Município normalizada como consta no IBGE.\u001b[0m\n"
      ]
     },
     "metadata": {},
     "output_type": "display_data"
    },
    {
     "data": {
      "application/vnd.jupyter.widget-view+json": {
       "model_id": "674524228d9a4da3a334a0fefc4b66cf",
       "version_major": 2,
       "version_minor": 0
      },
      "text/plain": [
       "  0%|          | 0/734167 [00:00<?, ?it/s]"
      ]
     },
     "metadata": {},
     "output_type": "display_data"
    },
    {
     "data": {
      "text/html": [
       "<pre style=\"white-space:pre;overflow-x:auto;line-height:normal;font-family:Menlo,'DejaVu Sans Mono',consolas,'Courier New',monospace\"><span style=\"color: #008000; text-decoration-color: #008000; font-weight: bold\">Logging:</span> <span style=\"font-style: italic\">Coluna UF normalizada como consta no IBGE.</span>\n",
       "</pre>\n"
      ],
      "text/plain": [
       "\u001b[1;32mLogging:\u001b[0m \u001b[3mColuna UF normalizada como consta no IBGE.\u001b[0m\n"
      ]
     },
     "metadata": {},
     "output_type": "display_data"
    },
    {
     "data": {
      "application/vnd.jupyter.widget-view+json": {
       "model_id": "3a056b56cb9e49788bec005cce88c1d5",
       "version_major": 2,
       "version_minor": 0
      },
      "text/plain": [
       "  0%|          | 0/1161 [00:00<?, ?it/s]"
      ]
     },
     "metadata": {},
     "output_type": "display_data"
    }
   ],
   "source": [
    "g.normalize_location_names()"
   ]
  },
  {
   "cell_type": "code",
   "execution_count": null,
   "metadata": {},
   "outputs": [
    {
     "data": {
      "text/html": [
       "<pre style=\"white-space:pre;overflow-x:auto;line-height:normal;font-family:Menlo,'DejaVu Sans Mono',consolas,'Courier New',monospace\"><span style=\"color: #008000; text-decoration-color: #008000; font-weight: bold\">Logging:</span> <span style=\"font-style: italic\">Coordenadas ausentes. Latitude do Município inserida.</span>\n",
       "</pre>\n"
      ],
      "text/plain": [
       "\u001b[1;32mLogging:\u001b[0m \u001b[3mCoordenadas ausentes. Latitude do Município inserida.\u001b[0m\n"
      ]
     },
     "metadata": {},
     "output_type": "display_data"
    },
    {
     "data": {
      "application/vnd.jupyter.widget-view+json": {
       "model_id": "0fb849ae3bd04b999e87ef49e3f90b1e",
       "version_major": 2,
       "version_minor": 0
      },
      "text/plain": [
       "  0%|          | 0/17339 [00:00<?, ?it/s]"
      ]
     },
     "metadata": {},
     "output_type": "display_data"
    },
    {
     "data": {
      "text/html": [
       "<pre style=\"white-space:pre;overflow-x:auto;line-height:normal;font-family:Menlo,'DejaVu Sans Mono',consolas,'Courier New',monospace\"><span style=\"color: #008000; text-decoration-color: #008000; font-weight: bold\">Logging:</span> <span style=\"font-style: italic\">Coordenadas ausentes. Longitude do Município inserida.</span>\n",
       "</pre>\n"
      ],
      "text/plain": [
       "\u001b[1;32mLogging:\u001b[0m \u001b[3mCoordenadas ausentes. Longitude do Município inserida.\u001b[0m\n"
      ]
     },
     "metadata": {},
     "output_type": "display_data"
    },
    {
     "data": {
      "application/vnd.jupyter.widget-view+json": {
       "model_id": "d67bba967c81477c9a6bf3a5af681dba",
       "version_major": 2,
       "version_minor": 0
      },
      "text/plain": [
       "  0%|          | 0/17339 [00:00<?, ?it/s]"
      ]
     },
     "metadata": {},
     "output_type": "display_data"
    }
   ],
   "source": [
    "g.fill_missing_coords()"
   ]
  },
  {
   "cell_type": "code",
   "execution_count": null,
   "metadata": {},
   "outputs": [
    {
     "data": {
      "text/plain": [
       "Frequência                           0\n",
       "Entidade                         17039\n",
       "Fistel                            1587\n",
       "Serviço                           1587\n",
       "Estação                           5401\n",
       "Latitude                             0\n",
       "Longitude                            0\n",
       "Código_Município                  1592\n",
       "Município                         1590\n",
       "UF                                1601\n",
       "Classe                            2032\n",
       "Classe_Emissão                    7029\n",
       "Largura_Emissão(kHz)              2008\n",
       "Validade_RF                       9240\n",
       "Status                            1587\n",
       "Fonte                                0\n",
       "Multiplicidade                       0\n",
       "Log                                  0\n",
       "Cota_Base_Torre(m)             1010062\n",
       "Potência_Transmissor(W)         995562\n",
       "Ganho_Antena(dBd)               996915\n",
       "Ângulo_Elevação_Antena          996564\n",
       "Azimute_Antena                  995930\n",
       "Altura_Antena(m)                995144\n",
       "Atenuação_Linha(db/100m)        996751\n",
       "Perdas_Acessórias_Linha(db)     990049\n",
       "Padrão_Antena(dBd)              997201\n",
       "Comprimento_Linha(m)            996680\n",
       "Relatório_Canal                 988025\n",
       "Município_IBGE                    1676\n",
       "Latitude_IBGE                     1676\n",
       "Longitude_IBGE                    1676\n",
       "UF_IBGE                           1676\n",
       "dtype: int64"
      ]
     },
     "execution_count": null,
     "metadata": {},
     "output_type": "execute_result"
    }
   ],
   "source": [
    "g.df.isna().sum()"
   ]
  },
  {
   "cell_type": "code",
   "execution_count": null,
   "metadata": {},
   "outputs": [
    {
     "name": "stderr",
     "output_type": "stream",
     "text": [
      "/home/ronaldo/code/rfdatahub/extracao/location.py:283: UserWarning: Geometry is in a geographic CRS. Results from 'centroid' are likely incorrect. Use 'GeoSeries.to_crs()' to re-project geometries to a projected CRS before this operation.\n",
      "\n",
      "  gdf_joined['LAT'] = gdf_joined.geometry.centroid.y.astype('string', copy=False)\n",
      "/home/ronaldo/code/rfdatahub/extracao/location.py:284: UserWarning: Geometry is in a geographic CRS. Results from 'centroid' are likely incorrect. Use 'GeoSeries.to_crs()' to re-project geometries to a projected CRS before this operation.\n",
      "\n",
      "  gdf_joined['LON'] = gdf_joined.geometry.centroid.x.astype('string', copy=False)\n"
     ]
    }
   ],
   "source": [
    "g.intersect_coordinates_on_poligon()"
   ]
  },
  {
   "cell_type": "code",
   "execution_count": null,
   "metadata": {},
   "outputs": [
    {
     "data": {
      "text/html": [
       "<pre style=\"white-space:pre;overflow-x:auto;line-height:normal;font-family:Menlo,'DejaVu Sans Mono',consolas,'Courier New',monospace\"><span style=\"color: #008000; text-decoration-color: #008000; font-weight: bold\">Logging:</span> <span style=\"font-style: italic\">Código_Município Ausente. Informação resgatada à partir da intersecção das coordenadas no polígono </span>\n",
       "<span style=\"font-style: italic\">territorial.</span>\n",
       "</pre>\n"
      ],
      "text/plain": [
       "\u001b[1;32mLogging:\u001b[0m \u001b[3mCódigo_Município Ausente. Informação resgatada à partir da intersecção das coordenadas no polígono \u001b[0m\n",
       "\u001b[3mterritorial.\u001b[0m\n"
      ]
     },
     "metadata": {},
     "output_type": "display_data"
    },
    {
     "data": {
      "application/vnd.jupyter.widget-view+json": {
       "model_id": "1cd3b44d424d4ce1b6860959a6e76ed1",
       "version_major": 2,
       "version_minor": 0
      },
      "text/plain": [
       "  0%|          | 0/1431 [00:00<?, ?it/s]"
      ]
     },
     "metadata": {},
     "output_type": "display_data"
    },
    {
     "data": {
      "text/html": [
       "<pre style=\"white-space:pre;overflow-x:auto;line-height:normal;font-family:Menlo,'DejaVu Sans Mono',consolas,'Courier New',monospace\"><span style=\"color: #008000; text-decoration-color: #008000; font-weight: bold\">Logging:</span> <span style=\"font-style: italic\">Município Ausente. Informação resgatada à partir da intersecção das coordenadas no polígono territorial.</span>\n",
       "</pre>\n"
      ],
      "text/plain": [
       "\u001b[1;32mLogging:\u001b[0m \u001b[3mMunicípio Ausente. Informação resgatada à partir da intersecção das coordenadas no polígono territorial.\u001b[0m\n"
      ]
     },
     "metadata": {},
     "output_type": "display_data"
    },
    {
     "data": {
      "application/vnd.jupyter.widget-view+json": {
       "model_id": "15251b90c23345b5927b61dbf23b7002",
       "version_major": 2,
       "version_minor": 0
      },
      "text/plain": [
       "  0%|          | 0/1431 [00:00<?, ?it/s]"
      ]
     },
     "metadata": {},
     "output_type": "display_data"
    },
    {
     "data": {
      "text/html": [
       "<pre style=\"white-space:pre;overflow-x:auto;line-height:normal;font-family:Menlo,'DejaVu Sans Mono',consolas,'Courier New',monospace\"><span style=\"color: #008000; text-decoration-color: #008000; font-weight: bold\">Logging:</span> <span style=\"font-style: italic\">UF Ausente. Informação resgatada à partir da intersecção das coordenadas no polígono territorial.</span>\n",
       "</pre>\n"
      ],
      "text/plain": [
       "\u001b[1;32mLogging:\u001b[0m \u001b[3mUF Ausente. Informação resgatada à partir da intersecção das coordenadas no polígono territorial.\u001b[0m\n"
      ]
     },
     "metadata": {},
     "output_type": "display_data"
    },
    {
     "data": {
      "application/vnd.jupyter.widget-view+json": {
       "model_id": "253b2794189142168f48110847240b8c",
       "version_major": 2,
       "version_minor": 0
      },
      "text/plain": [
       "  0%|          | 0/1426 [00:00<?, ?it/s]"
      ]
     },
     "metadata": {},
     "output_type": "display_data"
    }
   ],
   "source": [
    "g.fill_missing_city_info()"
   ]
  },
  {
   "cell_type": "code",
   "execution_count": null,
   "metadata": {},
   "outputs": [
    {
     "data": {
      "text/plain": [
       "1431"
      ]
     },
     "execution_count": null,
     "metadata": {},
     "output_type": "execute_result"
    }
   ],
   "source": [
    "g.log['filled_city_info'].sum()"
   ]
  },
  {
   "cell_type": "code",
   "execution_count": null,
   "metadata": {},
   "outputs": [
    {
     "data": {
      "text/plain": [
       "Frequência                           0\n",
       "Entidade                         17039\n",
       "Fistel                            1587\n",
       "Serviço                           1587\n",
       "Estação                           5401\n",
       "Latitude                             0\n",
       "Longitude                            0\n",
       "Código_Município                   161\n",
       "Município                          161\n",
       "UF                                 175\n",
       "Classe                            2032\n",
       "Classe_Emissão                    7029\n",
       "Largura_Emissão(kHz)              2008\n",
       "Validade_RF                       9240\n",
       "Status                            1587\n",
       "Fonte                                0\n",
       "Multiplicidade                       0\n",
       "Log                                  0\n",
       "Cota_Base_Torre(m)             1010064\n",
       "Potência_Transmissor(W)         995564\n",
       "Ganho_Antena(dBd)               996917\n",
       "Ângulo_Elevação_Antena          996566\n",
       "Azimute_Antena                  995932\n",
       "Altura_Antena(m)                995146\n",
       "Atenuação_Linha(db/100m)        996753\n",
       "Perdas_Acessórias_Linha(db)     990051\n",
       "Padrão_Antena(dBd)              997203\n",
       "Comprimento_Linha(m)            996682\n",
       "Relatório_Canal                 988027\n",
       "Município_IBGE                    1676\n",
       "Latitude_IBGE                     1676\n",
       "Longitude_IBGE                    1676\n",
       "UF_IBGE                           1676\n",
       "CD_MUN                           20338\n",
       "NM_MUN                           20338\n",
       "SIGLA_UF                         20338\n",
       "LAT                                  0\n",
       "LON                                  0\n",
       "dtype: int64"
      ]
     },
     "execution_count": null,
     "metadata": {},
     "output_type": "execute_result"
    }
   ],
   "source": [
    "g.df.isna().sum()"
   ]
  },
  {
   "cell_type": "code",
   "execution_count": null,
   "metadata": {},
   "outputs": [
    {
     "name": "stderr",
     "output_type": "stream",
     "text": [
      "/home/ronaldo/code/rfdatahub/extracao/location.py:331: FutureWarning: Operation between non boolean Series with different indexes will no longer return a boolean result in a future version. Cast both Series to object type to maintain the prior behavior.\n",
      "  wrong_city_coords &= self.log['city_normalized']\n"
     ]
    },
    {
     "data": {
      "text/html": [
       "<pre style=\"white-space:pre;overflow-x:auto;line-height:normal;font-family:Menlo,'DejaVu Sans Mono',consolas,'Courier New',monospace\"><span style=\"color: #008000; text-decoration-color: #008000; font-weight: bold\">Logging:</span> <span style=\"font-style: italic\">Latitude divergente. Valor substituído pelo centróide da intersecção das coordenadas no polígono </span>\n",
       "<span style=\"font-style: italic\">territorial.</span>\n",
       "</pre>\n"
      ],
      "text/plain": [
       "\u001b[1;32mLogging:\u001b[0m \u001b[3mLatitude divergente. Valor substituído pelo centróide da intersecção das coordenadas no polígono \u001b[0m\n",
       "\u001b[3mterritorial.\u001b[0m\n"
      ]
     },
     "metadata": {},
     "output_type": "display_data"
    },
    {
     "data": {
      "application/vnd.jupyter.widget-view+json": {
       "model_id": "b2f2e44aaad64e8190824e7ec27e63df",
       "version_major": 2,
       "version_minor": 0
      },
      "text/plain": [
       "  0%|          | 0/32470 [00:00<?, ?it/s]"
      ]
     },
     "metadata": {},
     "output_type": "display_data"
    },
    {
     "data": {
      "text/html": [
       "<pre style=\"white-space:pre;overflow-x:auto;line-height:normal;font-family:Menlo,'DejaVu Sans Mono',consolas,'Courier New',monospace\"><span style=\"color: #008000; text-decoration-color: #008000; font-weight: bold\">Logging:</span> <span style=\"font-style: italic\">Longitude divergente. Valor substituído pelo centróide da intersecção das coordenadas no polígono </span>\n",
       "<span style=\"font-style: italic\">territorial.</span>\n",
       "</pre>\n"
      ],
      "text/plain": [
       "\u001b[1;32mLogging:\u001b[0m \u001b[3mLongitude divergente. Valor substituído pelo centróide da intersecção das coordenadas no polígono \u001b[0m\n",
       "\u001b[3mterritorial.\u001b[0m\n"
      ]
     },
     "metadata": {},
     "output_type": "display_data"
    },
    {
     "data": {
      "application/vnd.jupyter.widget-view+json": {
       "model_id": "570e723ac8e2492b9d42163bb803d4dd",
       "version_major": 2,
       "version_minor": 0
      },
      "text/plain": [
       "  0%|          | 0/32470 [00:00<?, ?it/s]"
      ]
     },
     "metadata": {},
     "output_type": "display_data"
    }
   ],
   "source": [
    "g.substitute_divergent_coordinates()"
   ]
  },
  {
   "cell_type": "code",
   "execution_count": null,
   "metadata": {},
   "outputs": [
    {
     "data": {
      "text/html": [
       "<div>\n",
       "<style scoped>\n",
       "    .dataframe tbody tr th:only-of-type {\n",
       "        vertical-align: middle;\n",
       "    }\n",
       "\n",
       "    .dataframe tbody tr th {\n",
       "        vertical-align: top;\n",
       "    }\n",
       "\n",
       "    .dataframe thead th {\n",
       "        text-align: right;\n",
       "    }\n",
       "</style>\n",
       "<table border=\"1\" class=\"dataframe\">\n",
       "  <thead>\n",
       "    <tr style=\"text-align: right;\">\n",
       "      <th></th>\n",
       "      <th>Frequência</th>\n",
       "      <th>Entidade</th>\n",
       "      <th>Fistel</th>\n",
       "      <th>Serviço</th>\n",
       "      <th>Estação</th>\n",
       "      <th>Latitude</th>\n",
       "      <th>Longitude</th>\n",
       "      <th>Código_Município</th>\n",
       "      <th>Município</th>\n",
       "      <th>UF</th>\n",
       "      <th>...</th>\n",
       "      <th>Relatório_Canal</th>\n",
       "      <th>Município_IBGE</th>\n",
       "      <th>Latitude_IBGE</th>\n",
       "      <th>Longitude_IBGE</th>\n",
       "      <th>UF_IBGE</th>\n",
       "      <th>CD_MUN</th>\n",
       "      <th>NM_MUN</th>\n",
       "      <th>SIGLA_UF</th>\n",
       "      <th>LAT</th>\n",
       "      <th>LON</th>\n",
       "    </tr>\n",
       "  </thead>\n",
       "  <tbody>\n",
       "    <tr>\n",
       "      <th>64</th>\n",
       "      <td>0.048</td>\n",
       "      <td>COMPANHIA DE GERACAO TERMICA DE ENERGIA ELETRICA</td>\n",
       "      <td>50420217282</td>\n",
       "      <td>019</td>\n",
       "      <td>641233027</td>\n",
       "      <td>-29.356</td>\n",
       "      <td>-50.8119</td>\n",
       "      <td>4304408</td>\n",
       "      <td>Canela</td>\n",
       "      <td>RS</td>\n",
       "      <td>...</td>\n",
       "      <td>&lt;NA&gt;</td>\n",
       "      <td>Canela</td>\n",
       "      <td>-29.356</td>\n",
       "      <td>-50.8119</td>\n",
       "      <td>RS</td>\n",
       "      <td>4318200</td>\n",
       "      <td>São Francisco de Paula</td>\n",
       "      <td>RS</td>\n",
       "      <td>-29.275</td>\n",
       "      <td>-50.799722</td>\n",
       "    </tr>\n",
       "    <tr>\n",
       "      <th>120</th>\n",
       "      <td>0.064</td>\n",
       "      <td>COMPANHIA DE GERACAO TERMICA DE ENERGIA ELETRICA</td>\n",
       "      <td>50420217282</td>\n",
       "      <td>019</td>\n",
       "      <td>641233027</td>\n",
       "      <td>-29.356</td>\n",
       "      <td>-50.8119</td>\n",
       "      <td>4304408</td>\n",
       "      <td>Canela</td>\n",
       "      <td>RS</td>\n",
       "      <td>...</td>\n",
       "      <td>&lt;NA&gt;</td>\n",
       "      <td>Canela</td>\n",
       "      <td>-29.356</td>\n",
       "      <td>-50.8119</td>\n",
       "      <td>RS</td>\n",
       "      <td>4318200</td>\n",
       "      <td>São Francisco de Paula</td>\n",
       "      <td>RS</td>\n",
       "      <td>-29.275</td>\n",
       "      <td>-50.799722</td>\n",
       "    </tr>\n",
       "    <tr>\n",
       "      <th>121</th>\n",
       "      <td>0.064</td>\n",
       "      <td>FURNAS CENTRAIS ELETRICAS S A</td>\n",
       "      <td>01030052263</td>\n",
       "      <td>019</td>\n",
       "      <td>683388762</td>\n",
       "      <td>-24.2058</td>\n",
       "      <td>-50.9185</td>\n",
       "      <td>4117305</td>\n",
       "      <td>Ortigueira</td>\n",
       "      <td>PR</td>\n",
       "      <td>...</td>\n",
       "      <td>&lt;NA&gt;</td>\n",
       "      <td>Ortigueira</td>\n",
       "      <td>-24.2058</td>\n",
       "      <td>-50.9185</td>\n",
       "      <td>PR</td>\n",
       "      <td>4107603</td>\n",
       "      <td>Faxinal</td>\n",
       "      <td>PR</td>\n",
       "      <td>-24.052778</td>\n",
       "      <td>-51.155278</td>\n",
       "    </tr>\n",
       "    <tr>\n",
       "      <th>162</th>\n",
       "      <td>0.072</td>\n",
       "      <td>FURNAS CENTRAIS ELETRICAS S A</td>\n",
       "      <td>01030052263</td>\n",
       "      <td>019</td>\n",
       "      <td>683388762</td>\n",
       "      <td>-24.2058</td>\n",
       "      <td>-50.9185</td>\n",
       "      <td>4117305</td>\n",
       "      <td>Ortigueira</td>\n",
       "      <td>PR</td>\n",
       "      <td>...</td>\n",
       "      <td>&lt;NA&gt;</td>\n",
       "      <td>Ortigueira</td>\n",
       "      <td>-24.2058</td>\n",
       "      <td>-50.9185</td>\n",
       "      <td>PR</td>\n",
       "      <td>4107603</td>\n",
       "      <td>Faxinal</td>\n",
       "      <td>PR</td>\n",
       "      <td>-24.052778</td>\n",
       "      <td>-51.155278</td>\n",
       "    </tr>\n",
       "    <tr>\n",
       "      <th>196</th>\n",
       "      <td>0.08</td>\n",
       "      <td>COMPANHIA DE GERACAO TERMICA DE ENERGIA ELETRICA</td>\n",
       "      <td>50420217282</td>\n",
       "      <td>019</td>\n",
       "      <td>641233434</td>\n",
       "      <td>-27.4242</td>\n",
       "      <td>-51.7668</td>\n",
       "      <td>4213104</td>\n",
       "      <td>Piratuba</td>\n",
       "      <td>SC</td>\n",
       "      <td>...</td>\n",
       "      <td>&lt;NA&gt;</td>\n",
       "      <td>Piratuba</td>\n",
       "      <td>-27.4242</td>\n",
       "      <td>-51.7668</td>\n",
       "      <td>SC</td>\n",
       "      <td>4312203</td>\n",
       "      <td>Maximiliano de Almeida</td>\n",
       "      <td>RS</td>\n",
       "      <td>-27.523611</td>\n",
       "      <td>-51.784722</td>\n",
       "    </tr>\n",
       "    <tr>\n",
       "      <th>...</th>\n",
       "      <td>...</td>\n",
       "      <td>...</td>\n",
       "      <td>...</td>\n",
       "      <td>...</td>\n",
       "      <td>...</td>\n",
       "      <td>...</td>\n",
       "      <td>...</td>\n",
       "      <td>...</td>\n",
       "      <td>...</td>\n",
       "      <td>...</td>\n",
       "      <td>...</td>\n",
       "      <td>...</td>\n",
       "      <td>...</td>\n",
       "      <td>...</td>\n",
       "      <td>...</td>\n",
       "      <td>...</td>\n",
       "      <td>...</td>\n",
       "      <td>...</td>\n",
       "      <td>...</td>\n",
       "      <td>...</td>\n",
       "      <td>...</td>\n",
       "    </tr>\n",
       "    <tr>\n",
       "      <th>1020632</th>\n",
       "      <td>128.45</td>\n",
       "      <td>COMANDO DA AERONAUTICA | ACC-U C-261/450, MORR...</td>\n",
       "      <td>50415723132</td>\n",
       "      <td>507</td>\n",
       "      <td>1007691252</td>\n",
       "      <td>-28.0157</td>\n",
       "      <td>-49.5925</td>\n",
       "      <td>4218905</td>\n",
       "      <td>Urubici</td>\n",
       "      <td>SC</td>\n",
       "      <td>...</td>\n",
       "      <td>&lt;NA&gt;</td>\n",
       "      <td>Urubici</td>\n",
       "      <td>-28.0157</td>\n",
       "      <td>-49.5925</td>\n",
       "      <td>SC</td>\n",
       "      <td>4202503</td>\n",
       "      <td>Bom Jardim da Serra</td>\n",
       "      <td>SC</td>\n",
       "      <td>-28.126091666666667</td>\n",
       "      <td>-49.476494444444334</td>\n",
       "    </tr>\n",
       "    <tr>\n",
       "      <th>1020633</th>\n",
       "      <td>126.1</td>\n",
       "      <td>COMANDO DA AERONAUTICA | ACC-U C-261/450, MORR...</td>\n",
       "      <td>50415723132</td>\n",
       "      <td>507</td>\n",
       "      <td>1007691252</td>\n",
       "      <td>-28.0157</td>\n",
       "      <td>-49.5925</td>\n",
       "      <td>4218905</td>\n",
       "      <td>Urubici</td>\n",
       "      <td>SC</td>\n",
       "      <td>...</td>\n",
       "      <td>&lt;NA&gt;</td>\n",
       "      <td>Urubici</td>\n",
       "      <td>-28.0157</td>\n",
       "      <td>-49.5925</td>\n",
       "      <td>SC</td>\n",
       "      <td>4202503</td>\n",
       "      <td>Bom Jardim da Serra</td>\n",
       "      <td>SC</td>\n",
       "      <td>-28.126091666666667</td>\n",
       "      <td>-49.476494444444334</td>\n",
       "    </tr>\n",
       "    <tr>\n",
       "      <th>1020634</th>\n",
       "      <td>132.05</td>\n",
       "      <td>COMANDO DA AERONAUTICA | VOLMET B-260/450, MOR...</td>\n",
       "      <td>50415723132</td>\n",
       "      <td>507</td>\n",
       "      <td>1007691252</td>\n",
       "      <td>-28.0157</td>\n",
       "      <td>-49.5925</td>\n",
       "      <td>4218905</td>\n",
       "      <td>Urubici</td>\n",
       "      <td>SC</td>\n",
       "      <td>...</td>\n",
       "      <td>&lt;NA&gt;</td>\n",
       "      <td>Urubici</td>\n",
       "      <td>-28.0157</td>\n",
       "      <td>-49.5925</td>\n",
       "      <td>SC</td>\n",
       "      <td>4202503</td>\n",
       "      <td>Bom Jardim da Serra</td>\n",
       "      <td>SC</td>\n",
       "      <td>-28.126091666666667</td>\n",
       "      <td>-49.476494444444334</td>\n",
       "    </tr>\n",
       "    <tr>\n",
       "      <th>1020661</th>\n",
       "      <td>131.225</td>\n",
       "      <td>GOL LINHAS AEREAS S.A. | AOC U 100/100, MACEIÓ</td>\n",
       "      <td>50415208017</td>\n",
       "      <td>507</td>\n",
       "      <td>1011664914</td>\n",
       "      <td>-9.47783</td>\n",
       "      <td>-35.8394</td>\n",
       "      <td>2707701</td>\n",
       "      <td>Rio Largo</td>\n",
       "      <td>AL</td>\n",
       "      <td>...</td>\n",
       "      <td>&lt;NA&gt;</td>\n",
       "      <td>Rio Largo</td>\n",
       "      <td>-9.47783</td>\n",
       "      <td>-35.8394</td>\n",
       "      <td>AL</td>\n",
       "      <td>2704302</td>\n",
       "      <td>Maceió</td>\n",
       "      <td>AL</td>\n",
       "      <td>-9.515</td>\n",
       "      <td>-35.7930555555555</td>\n",
       "    </tr>\n",
       "    <tr>\n",
       "      <th>1021034</th>\n",
       "      <td>0.32</td>\n",
       "      <td>NAV BRASIL SERVICOS DE NAVEGACAO AEREA S.A. - ...</td>\n",
       "      <td>50444239804</td>\n",
       "      <td>108</td>\n",
       "      <td>699727251</td>\n",
       "      <td>-7.1238</td>\n",
       "      <td>-34.9293</td>\n",
       "      <td>2501807</td>\n",
       "      <td>Bayeux</td>\n",
       "      <td>PB</td>\n",
       "      <td>...</td>\n",
       "      <td>&lt;NA&gt;</td>\n",
       "      <td>Bayeux</td>\n",
       "      <td>-7.1238</td>\n",
       "      <td>-34.9293</td>\n",
       "      <td>PB</td>\n",
       "      <td>2513703</td>\n",
       "      <td>Santa Rita</td>\n",
       "      <td>PB</td>\n",
       "      <td>-7.1405555555555</td>\n",
       "      <td>-34.9525</td>\n",
       "    </tr>\n",
       "  </tbody>\n",
       "</table>\n",
       "<p>32518 rows × 38 columns</p>\n",
       "</div>"
      ],
      "text/plain": [
       "        Frequência                                           Entidade  \\\n",
       "64           0.048   COMPANHIA DE GERACAO TERMICA DE ENERGIA ELETRICA   \n",
       "120          0.064   COMPANHIA DE GERACAO TERMICA DE ENERGIA ELETRICA   \n",
       "121          0.064                      FURNAS CENTRAIS ELETRICAS S A   \n",
       "162          0.072                      FURNAS CENTRAIS ELETRICAS S A   \n",
       "196           0.08   COMPANHIA DE GERACAO TERMICA DE ENERGIA ELETRICA   \n",
       "...            ...                                                ...   \n",
       "1020632     128.45  COMANDO DA AERONAUTICA | ACC-U C-261/450, MORR...   \n",
       "1020633      126.1  COMANDO DA AERONAUTICA | ACC-U C-261/450, MORR...   \n",
       "1020634     132.05  COMANDO DA AERONAUTICA | VOLMET B-260/450, MOR...   \n",
       "1020661    131.225     GOL LINHAS AEREAS S.A. | AOC U 100/100, MACEIÓ   \n",
       "1021034       0.32  NAV BRASIL SERVICOS DE NAVEGACAO AEREA S.A. - ...   \n",
       "\n",
       "              Fistel Serviço     Estação  Latitude Longitude Código_Município  \\\n",
       "64       50420217282     019   641233027   -29.356  -50.8119          4304408   \n",
       "120      50420217282     019   641233027   -29.356  -50.8119          4304408   \n",
       "121      01030052263     019   683388762  -24.2058  -50.9185          4117305   \n",
       "162      01030052263     019   683388762  -24.2058  -50.9185          4117305   \n",
       "196      50420217282     019   641233434  -27.4242  -51.7668          4213104   \n",
       "...              ...     ...         ...       ...       ...              ...   \n",
       "1020632  50415723132     507  1007691252  -28.0157  -49.5925          4218905   \n",
       "1020633  50415723132     507  1007691252  -28.0157  -49.5925          4218905   \n",
       "1020634  50415723132     507  1007691252  -28.0157  -49.5925          4218905   \n",
       "1020661  50415208017     507  1011664914  -9.47783  -35.8394          2707701   \n",
       "1021034  50444239804     108   699727251   -7.1238  -34.9293          2501807   \n",
       "\n",
       "          Município  UF  ... Relatório_Canal Município_IBGE Latitude_IBGE  \\\n",
       "64           Canela  RS  ...            <NA>         Canela       -29.356   \n",
       "120          Canela  RS  ...            <NA>         Canela       -29.356   \n",
       "121      Ortigueira  PR  ...            <NA>     Ortigueira      -24.2058   \n",
       "162      Ortigueira  PR  ...            <NA>     Ortigueira      -24.2058   \n",
       "196        Piratuba  SC  ...            <NA>       Piratuba      -27.4242   \n",
       "...             ...  ..  ...             ...            ...           ...   \n",
       "1020632     Urubici  SC  ...            <NA>        Urubici      -28.0157   \n",
       "1020633     Urubici  SC  ...            <NA>        Urubici      -28.0157   \n",
       "1020634     Urubici  SC  ...            <NA>        Urubici      -28.0157   \n",
       "1020661   Rio Largo  AL  ...            <NA>      Rio Largo      -9.47783   \n",
       "1021034      Bayeux  PB  ...            <NA>         Bayeux       -7.1238   \n",
       "\n",
       "        Longitude_IBGE UF_IBGE   CD_MUN                  NM_MUN SIGLA_UF  \\\n",
       "64            -50.8119      RS  4318200  São Francisco de Paula       RS   \n",
       "120           -50.8119      RS  4318200  São Francisco de Paula       RS   \n",
       "121           -50.9185      PR  4107603                 Faxinal       PR   \n",
       "162           -50.9185      PR  4107603                 Faxinal       PR   \n",
       "196           -51.7668      SC  4312203  Maximiliano de Almeida       RS   \n",
       "...                ...     ...      ...                     ...      ...   \n",
       "1020632       -49.5925      SC  4202503     Bom Jardim da Serra       SC   \n",
       "1020633       -49.5925      SC  4202503     Bom Jardim da Serra       SC   \n",
       "1020634       -49.5925      SC  4202503     Bom Jardim da Serra       SC   \n",
       "1020661       -35.8394      AL  2704302                  Maceió       AL   \n",
       "1021034       -34.9293      PB  2513703              Santa Rita       PB   \n",
       "\n",
       "                         LAT                  LON  \n",
       "64                   -29.275           -50.799722  \n",
       "120                  -29.275           -50.799722  \n",
       "121               -24.052778           -51.155278  \n",
       "162               -24.052778           -51.155278  \n",
       "196               -27.523611           -51.784722  \n",
       "...                      ...                  ...  \n",
       "1020632  -28.126091666666667  -49.476494444444334  \n",
       "1020633  -28.126091666666667  -49.476494444444334  \n",
       "1020634  -28.126091666666667  -49.476494444444334  \n",
       "1020661               -9.515    -35.7930555555555  \n",
       "1021034     -7.1405555555555             -34.9525  \n",
       "\n",
       "[32518 rows x 38 columns]"
      ]
     },
     "execution_count": null,
     "metadata": {},
     "output_type": "execute_result"
    }
   ],
   "source": [
    "a = g.df['Código_Município'] != g.df['CD_MUN']\n",
    "g.df[a]"
   ]
  },
  {
   "cell_type": "code",
   "execution_count": null,
   "metadata": {},
   "outputs": [
    {
     "data": {
      "application/vnd.jupyter.widget-view+json": {
       "model_id": "86403033822647499640c66043a98b6b",
       "version_major": 2,
       "version_minor": 0
      },
      "text/plain": [
       "  0%|          | 0/161 [00:00<?, ?it/s]"
      ]
     },
     "metadata": {},
     "output_type": "display_data"
    },
    {
     "data": {
      "text/html": [
       "<pre style=\"white-space:pre;overflow-x:auto;line-height:normal;font-family:Menlo,'DejaVu Sans Mono',consolas,'Courier New',monospace\"><span style=\"color: #008000; text-decoration-color: #008000; font-weight: bold\">Logging: </span><span style=\"font-style: italic\">Requisitando API geocoders para locais fora do perímetro brasileiro.</span>\n",
       "</pre>\n"
      ],
      "text/plain": [
       "\u001b[1;32mLogging: \u001b[0m\u001b[3mRequisitando API geocoders para locais fora do perímetro brasileiro.\u001b[0m\n"
      ]
     },
     "metadata": {},
     "output_type": "display_data"
    }
   ],
   "source": [
    "g.input_info_from_coords()"
   ]
  },
  {
   "cell_type": "code",
   "execution_count": null,
   "metadata": {},
   "outputs": [
    {
     "data": {
      "text/plain": [
       "Frequência                           0\n",
       "Entidade                         17039\n",
       "Fistel                            1587\n",
       "Serviço                           1587\n",
       "Estação                           5401\n",
       "Latitude                             0\n",
       "Longitude                            0\n",
       "Código_Município                   161\n",
       "Município                          122\n",
       "UF                                 136\n",
       "Classe                            2032\n",
       "Classe_Emissão                    7029\n",
       "Largura_Emissão(kHz)              2008\n",
       "Validade_RF                       9240\n",
       "Status                            1587\n",
       "Fonte                                0\n",
       "Multiplicidade                       0\n",
       "Log                                  0\n",
       "Cota_Base_Torre(m)             1010064\n",
       "Potência_Transmissor(W)         995564\n",
       "Ganho_Antena(dBd)               996917\n",
       "Ângulo_Elevação_Antena          996566\n",
       "Azimute_Antena                  995932\n",
       "Altura_Antena(m)                995146\n",
       "Atenuação_Linha(db/100m)        996753\n",
       "Perdas_Acessórias_Linha(db)     990051\n",
       "Padrão_Antena(dBd)              997203\n",
       "Comprimento_Linha(m)            996682\n",
       "Relatório_Canal                 988027\n",
       "Município_IBGE                    1676\n",
       "Latitude_IBGE                     1676\n",
       "Longitude_IBGE                    1676\n",
       "UF_IBGE                           1676\n",
       "CD_MUN                           20338\n",
       "NM_MUN                           20338\n",
       "SIGLA_UF                         20338\n",
       "LAT                                  0\n",
       "LON                                  0\n",
       "empty_coords                         0\n",
       "empty_code                           0\n",
       "both                                 0\n",
       "coords_not_numeric                   0\n",
       "code_not_numeric                     0\n",
       "invalid_code                         0\n",
       "city_normalized                      0\n",
       "filled_city_coords                   0\n",
       "filled_city_info                     0\n",
       "wrong_city_coords                    0\n",
       "city_state_country                   0\n",
       "dtype: int64"
      ]
     },
     "execution_count": null,
     "metadata": {},
     "output_type": "execute_result"
    }
   ],
   "source": [
    "g.df.isna().sum()"
   ]
  },
  {
   "cell_type": "code",
   "execution_count": null,
   "metadata": {},
   "outputs": [],
   "source": []
  }
 ],
 "metadata": {
  "kernelspec": {
   "display_name": "python3",
   "language": "python",
   "name": "python3"
  }
 },
 "nbformat": 4,
 "nbformat_minor": 4
}
