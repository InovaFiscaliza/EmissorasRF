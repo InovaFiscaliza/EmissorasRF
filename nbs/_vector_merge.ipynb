{
 "cells": [
  {
   "cell_type": "code",
   "execution_count": null,
   "metadata": {},
   "outputs": [],
   "source": [
    "from extracao.reading import *\n",
    "from extracao.main import format_matlab\n",
    "from dotenv import load_dotenv\n",
    "\n",
    "load_dotenv()\n",
    "\n",
    "folder = Path.cwd().parent / 'dados'\n"
   ]
  },
  {
   "cell_type": "code",
   "execution_count": null,
   "metadata": {},
   "outputs": [],
   "source": [
    "base = format_matlab(read_base(folder))"
   ]
  },
  {
   "cell_type": "code",
   "execution_count": null,
   "metadata": {},
   "outputs": [
    {
     "data": {
      "text/html": [
       "<div>\n",
       "<style scoped>\n",
       "    .dataframe tbody tr th:only-of-type {\n",
       "        vertical-align: middle;\n",
       "    }\n",
       "\n",
       "    .dataframe tbody tr th {\n",
       "        vertical-align: top;\n",
       "    }\n",
       "\n",
       "    .dataframe thead th {\n",
       "        text-align: right;\n",
       "    }\n",
       "</style>\n",
       "<table border=\"1\" class=\"dataframe\">\n",
       "  <thead>\n",
       "    <tr style=\"text-align: right;\">\n",
       "      <th></th>\n",
       "      <th>Id</th>\n",
       "      <th>Frequency</th>\n",
       "      <th>Latitude</th>\n",
       "      <th>Longitude</th>\n",
       "      <th>Description</th>\n",
       "      <th>Service</th>\n",
       "      <th>Station</th>\n",
       "      <th>Class</th>\n",
       "      <th>BW</th>\n",
       "    </tr>\n",
       "  </thead>\n",
       "  <tbody>\n",
       "    <tr>\n",
       "      <th>0</th>\n",
       "      <td>#1</td>\n",
       "      <td>0.028</td>\n",
       "      <td>-22.662779</td>\n",
       "      <td>-43.476391</td>\n",
       "      <td>[MOS] L, OP, Furnas Centrais Eletricas S A (01...</td>\n",
       "      <td>19</td>\n",
       "      <td>1557670</td>\n",
       "      <td>J9E</td>\n",
       "      <td>8.0</td>\n",
       "    </tr>\n",
       "    <tr>\n",
       "      <th>1</th>\n",
       "      <td>#2</td>\n",
       "      <td>0.030</td>\n",
       "      <td>-23.709999</td>\n",
       "      <td>-46.273335</td>\n",
       "      <td>[MOS] L, OP, Furnas Centrais Eletricas S A (01...</td>\n",
       "      <td>19</td>\n",
       "      <td>1558412</td>\n",
       "      <td>J3E</td>\n",
       "      <td>2.0</td>\n",
       "    </tr>\n",
       "    <tr>\n",
       "      <th>2</th>\n",
       "      <td>#3</td>\n",
       "      <td>0.030</td>\n",
       "      <td>-23.441668</td>\n",
       "      <td>-46.590832</td>\n",
       "      <td>[MOS] L, OP, Furnas Centrais Eletricas S A (01...</td>\n",
       "      <td>19</td>\n",
       "      <td>1557823</td>\n",
       "      <td>J3E</td>\n",
       "      <td>1.0</td>\n",
       "    </tr>\n",
       "    <tr>\n",
       "      <th>3</th>\n",
       "      <td>#4</td>\n",
       "      <td>0.030</td>\n",
       "      <td>-22.926666</td>\n",
       "      <td>-43.264999</td>\n",
       "      <td>[MOS] L, OP, Furnas Centrais Eletricas S A (01...</td>\n",
       "      <td>19</td>\n",
       "      <td>859761</td>\n",
       "      <td>J3E</td>\n",
       "      <td>0.5</td>\n",
       "    </tr>\n",
       "    <tr>\n",
       "      <th>4</th>\n",
       "      <td>#5</td>\n",
       "      <td>0.030</td>\n",
       "      <td>-22.774166</td>\n",
       "      <td>-47.004444</td>\n",
       "      <td>[MOS] L, OP, Furnas Centrais Eletricas S A (01...</td>\n",
       "      <td>19</td>\n",
       "      <td>859753</td>\n",
       "      <td>J3E</td>\n",
       "      <td>1.0</td>\n",
       "    </tr>\n",
       "    <tr>\n",
       "      <th>...</th>\n",
       "      <td>...</td>\n",
       "      <td>...</td>\n",
       "      <td>...</td>\n",
       "      <td>...</td>\n",
       "      <td>...</td>\n",
       "      <td>...</td>\n",
       "      <td>...</td>\n",
       "      <td>...</td>\n",
       "      <td>...</td>\n",
       "    </tr>\n",
       "    <tr>\n",
       "      <th>832361</th>\n",
       "      <td>#832362</td>\n",
       "      <td>148650.000</td>\n",
       "      <td>-2.509556</td>\n",
       "      <td>-44.294556</td>\n",
       "      <td>[MOS] L, FB, Apil Seguranca E Vigilancia Ltda ...</td>\n",
       "      <td>19</td>\n",
       "      <td>1011671368</td>\n",
       "      <td>F1D</td>\n",
       "      <td>7.6</td>\n",
       "    </tr>\n",
       "    <tr>\n",
       "      <th>832362</th>\n",
       "      <td>#832363</td>\n",
       "      <td>4096125.000</td>\n",
       "      <td>-29.872139</td>\n",
       "      <td>-51.170582</td>\n",
       "      <td>[MOS] L, FX, Petroleo Brasileiro S/A Petrobras...</td>\n",
       "      <td>19</td>\n",
       "      <td>698585682</td>\n",
       "      <td>F7D</td>\n",
       "      <td>25.0</td>\n",
       "    </tr>\n",
       "    <tr>\n",
       "      <th>832363</th>\n",
       "      <td>#832364</td>\n",
       "      <td>4265625.000</td>\n",
       "      <td>-29.876944</td>\n",
       "      <td>-51.170692</td>\n",
       "      <td>[MOS] L, FX, Petroleo Brasileiro S/A Petrobras...</td>\n",
       "      <td>19</td>\n",
       "      <td>698585704</td>\n",
       "      <td>F7D</td>\n",
       "      <td>25.0</td>\n",
       "    </tr>\n",
       "    <tr>\n",
       "      <th>832364</th>\n",
       "      <td>#832365</td>\n",
       "      <td>4265625.000</td>\n",
       "      <td>-29.870222</td>\n",
       "      <td>-51.201305</td>\n",
       "      <td>[MOS] L, FX, Petroleo Brasileiro S/A Petrobras...</td>\n",
       "      <td>19</td>\n",
       "      <td>698801288</td>\n",
       "      <td>F7D</td>\n",
       "      <td>25.0</td>\n",
       "    </tr>\n",
       "    <tr>\n",
       "      <th>832365</th>\n",
       "      <td>#832366</td>\n",
       "      <td>4265625.000</td>\n",
       "      <td>-29.867193</td>\n",
       "      <td>-51.185944</td>\n",
       "      <td>[MOS] L, FX, Petroleo Brasileiro S/A Petrobras...</td>\n",
       "      <td>19</td>\n",
       "      <td>698585690</td>\n",
       "      <td>F7D</td>\n",
       "      <td>25.0</td>\n",
       "    </tr>\n",
       "  </tbody>\n",
       "</table>\n",
       "<p>832366 rows × 9 columns</p>\n",
       "</div>"
      ],
      "text/plain": [
       "             Id    Frequency   Latitude  Longitude  \\\n",
       "0            #1        0.028 -22.662779 -43.476391   \n",
       "1            #2        0.030 -23.709999 -46.273335   \n",
       "2            #3        0.030 -23.441668 -46.590832   \n",
       "3            #4        0.030 -22.926666 -43.264999   \n",
       "4            #5        0.030 -22.774166 -47.004444   \n",
       "...         ...          ...        ...        ...   \n",
       "832361  #832362   148650.000  -2.509556 -44.294556   \n",
       "832362  #832363  4096125.000 -29.872139 -51.170582   \n",
       "832363  #832364  4265625.000 -29.876944 -51.170692   \n",
       "832364  #832365  4265625.000 -29.870222 -51.201305   \n",
       "832365  #832366  4265625.000 -29.867193 -51.185944   \n",
       "\n",
       "                                              Description  Service  \\\n",
       "0       [MOS] L, OP, Furnas Centrais Eletricas S A (01...       19   \n",
       "1       [MOS] L, OP, Furnas Centrais Eletricas S A (01...       19   \n",
       "2       [MOS] L, OP, Furnas Centrais Eletricas S A (01...       19   \n",
       "3       [MOS] L, OP, Furnas Centrais Eletricas S A (01...       19   \n",
       "4       [MOS] L, OP, Furnas Centrais Eletricas S A (01...       19   \n",
       "...                                                   ...      ...   \n",
       "832361  [MOS] L, FB, Apil Seguranca E Vigilancia Ltda ...       19   \n",
       "832362  [MOS] L, FX, Petroleo Brasileiro S/A Petrobras...       19   \n",
       "832363  [MOS] L, FX, Petroleo Brasileiro S/A Petrobras...       19   \n",
       "832364  [MOS] L, FX, Petroleo Brasileiro S/A Petrobras...       19   \n",
       "832365  [MOS] L, FX, Petroleo Brasileiro S/A Petrobras...       19   \n",
       "\n",
       "           Station Class    BW  \n",
       "0          1557670   J9E   8.0  \n",
       "1          1558412   J3E   2.0  \n",
       "2          1557823   J3E   1.0  \n",
       "3           859761   J3E   0.5  \n",
       "4           859753   J3E   1.0  \n",
       "...            ...   ...   ...  \n",
       "832361  1011671368   F1D   7.6  \n",
       "832362   698585682   F7D  25.0  \n",
       "832363   698585704   F7D  25.0  \n",
       "832364   698801288   F7D  25.0  \n",
       "832365   698585690   F7D  25.0  \n",
       "\n",
       "[832366 rows x 9 columns]"
      ]
     },
     "metadata": {},
     "output_type": "display_data"
    }
   ],
   "source": [
    "base"
   ]
  },
  {
   "cell_type": "code",
   "execution_count": null,
   "metadata": {},
   "outputs": [],
   "source": [
    "aero = read_aero(folder)"
   ]
  },
  {
   "cell_type": "code",
   "execution_count": null,
   "metadata": {},
   "outputs": [
    {
     "data": {
      "text/html": [
       "<pre style=\"white-space:pre;overflow-x:auto;line-height:normal;font-family:Menlo,'DejaVu Sans Mono',consolas,'Courier New',monospace\"></pre>\n"
      ],
      "text/plain": [
       "\u001b[?25l"
      ]
     },
     "metadata": {},
     "output_type": "display_data"
    },
    {
     "data": {
      "application/vnd.jupyter.widget-view+json": {
       "model_id": "bb2cbab930a746e7b8b5f92b710c6610",
       "version_major": 2,
       "version_minor": 0
      },
      "text/plain": [
       "Output()"
      ]
     },
     "metadata": {},
     "output_type": "display_data"
    },
    {
     "data": {
      "text/html": [
       "<pre style=\"white-space:pre;overflow-x:auto;line-height:normal;font-family:Menlo,'DejaVu Sans Mono',consolas,'Courier New',monospace\">\n",
       "</pre>\n"
      ],
      "text/plain": [
       "\n",
       "\u001b[?25h\r\u001b[1A\u001b[2K"
      ]
     },
     "metadata": {},
     "output_type": "display_data"
    }
   ],
   "source": [
    "df = merge_close_rows(base.iloc[-100:], aero)"
   ]
  },
  {
   "cell_type": "code",
   "execution_count": null,
   "metadata": {},
   "outputs": [],
   "source": [
    "df = pd.merge(base, aero, on=['Frequency'], how='outer')"
   ]
  },
  {
   "cell_type": "code",
   "execution_count": null,
   "metadata": {},
   "outputs": [],
   "source": [
    "def distancia(row):\n",
    "    return geodesic((row[0], row[1]), (row[2], row[3])).km"
   ]
  },
  {
   "cell_type": "code",
   "execution_count": null,
   "metadata": {},
   "outputs": [],
   "source": [
    "condition = np.all(df[['Latitude_x', 'Longitude_x', 'Latitude_y', 'Longitude_y']].notna(), axis=1)"
   ]
  },
  {
   "cell_type": "code",
   "execution_count": null,
   "metadata": {},
   "outputs": [],
   "source": [
    "df.loc[condition, 'dist'] = df.loc[condition, ['Latitude_x', 'Longitude_x', 'Latitude_y', 'Longitude_y']].apply(distancia , axis=1)"
   ]
  },
  {
   "cell_type": "code",
   "execution_count": null,
   "metadata": {},
   "outputs": [],
   "source": [
    "condition = (df.dist.notna()) & (df.dist <= MAX_DIST) \n",
    "df.loc[condition, 'Description_x'] = df.loc[condition, 'Description_x'] + ' | ' + df.loc[condition, 'Description_y']  "
   ]
  },
  {
   "cell_type": "code",
   "execution_count": null,
   "metadata": {},
   "outputs": [],
   "source": [
    "df.to_excel(folder / 'mesclados_outer_join.xlsx', index=False)"
   ]
  },
  {
   "cell_type": "code",
   "execution_count": null,
   "metadata": {},
   "outputs": [],
   "source": [
    "aero.to_excel(folder / 'aero.xlsx', index=False)"
   ]
  }
 ],
 "metadata": {
  "kernelspec": {
   "display_name": "db",
   "language": "python",
   "name": "python3"
  },
  "language_info": {
   "name": "python",
   "version": "3.10.8"
  },
  "orig_nbformat": 4,
  "vscode": {
   "interpreter": {
    "hash": "7bb5bdefed358c9bc21882321cba6aaea0c5bd54091270b3f5b4c8e60635bfdd"
   }
  }
 },
 "nbformat": 4,
 "nbformat_minor": 2
}
