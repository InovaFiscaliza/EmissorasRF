{
 "cells": [
  {
   "cell_type": "code",
   "execution_count": null,
   "metadata": {},
   "outputs": [],
   "source": [
    "#|echo : False\n",
    "%load_ext autoreload\n",
    "%autoreload 2\n",
    "import sys\n",
    "from fastcore.xtras import Path\n",
    "sys.path.insert(0, Path.cwd().parent)"
   ]
  },
  {
   "cell_type": "markdown",
   "metadata": {},
   "source": [
    "# Anatel - Consulta e Processamento do Banco de Dados\n",
    "\n",
    "> Este repositório concentra um conjunto de scripts para navegar e baixar informações dos principais bancos de dados da Anatel e as bases públicas da Aeronáutica como o AISWEB, GEOAISWEB e ICAO cruzadas com documentações técnicas internas. Cujo dados serão utilizados em tarefas fiscalizatórias. O público alvo são os servidores do órgão, uma vez que a maioria dos sistemas utilizados aqui necessitam de autenticação cujo acesso é restrito aos servidores da ANATEL."
   ]
  },
  {
   "cell_type": "markdown",
   "metadata": {},
   "source": [
    "<a href=\"https://gitmoji.dev\">\n",
    "  <img src=\"https://img.shields.io/badge/gitmoji-%20😜%20😍-FFDD67.svg?style=flat-square\" alt=\"Gitmoji\">\n",
    "</a>"
   ]
  },
  {
   "cell_type": "markdown",
   "metadata": {},
   "source": [
    "\n",
    "[![scraper: gazpacho](https://img.shields.io/badge/scraper-gazpacho-C6422C)](https://github.com/maxhumber/gazpacho)"
   ]
  },
  {
   "cell_type": "markdown",
   "metadata": {},
   "source": [
    "## Instalação"
   ]
  },
  {
   "cell_type": "markdown",
   "metadata": {},
   "source": [
    "<code>pip install git+https://github.com/ronaldokun/anateldb.git</code>"
   ]
  },
  {
   "cell_type": "markdown",
   "metadata": {},
   "source": [
    "## Como utilizar"
   ]
  },
  {
   "cell_type": "markdown",
   "metadata": {},
   "source": [
    "### Consulta à base de dados formatada para o AppAnalise de Anatel\n",
    "\n",
    "A motivação original para a presente biblioteca foi disponibilizar os dados de diferentes fontes da Anatel - e posteriormente da Aeronáutica - programaticamente, para serem utilizadas pelo [AppAnalise](https://github.com/EricMagalhaesDelgado/appAnalise/releases/) na identificação de emissões captadas pelos planos de monitoração e também em fiscalização de campo.\n",
    "\n",
    "Os dados em formato otimizado `.parquet.gzip` são disponibilizados junto ao repositório na pasta `dados`."
   ]
  },
  {
   "cell_type": "code",
   "execution_count": null,
   "metadata": {},
   "outputs": [],
   "source": [
    "from fastcore.xtras import Path\n",
    "from extracao.main import get_db\n",
    "from nbdev.showdoc import *\n",
    "\n",
    "pasta = Path.cwd().parent / 'dados'\n",
    "show_doc(get_db)"
   ]
  },
  {
   "cell_type": "code",
   "execution_count": null,
   "metadata": {},
   "outputs": [
    {
     "data": {
      "text/html": [
       "<pre style=\"white-space:pre;overflow-x:auto;line-height:normal;font-family:Menlo,'DejaVu Sans Mono',consolas,'Courier New',monospace\">📜<span style=\"color: #008000; text-decoration-color: #008000\">Lendo as bases de dados da Anatel...</span>\n",
       "</pre>\n"
      ],
      "text/plain": [
       "📜\u001b[32mLendo as bases de dados da Anatel\u001b[0m\u001b[32m...\u001b[0m\n"
      ]
     },
     "metadata": {},
     "output_type": "display_data"
    },
    {
     "data": {
      "text/html": [
       "<div>\n",
       "<style scoped>\n",
       "    .dataframe tbody tr th:only-of-type {\n",
       "        vertical-align: middle;\n",
       "    }\n",
       "\n",
       "    .dataframe tbody tr th {\n",
       "        vertical-align: top;\n",
       "    }\n",
       "\n",
       "    .dataframe thead th {\n",
       "        text-align: right;\n",
       "    }\n",
       "</style>\n",
       "<table border=\"1\" class=\"dataframe\">\n",
       "  <thead>\n",
       "    <tr style=\"text-align: right;\">\n",
       "      <th></th>\n",
       "      <th>Id</th>\n",
       "      <th>Frequency</th>\n",
       "      <th>Latitude</th>\n",
       "      <th>Longitude</th>\n",
       "      <th>Description</th>\n",
       "      <th>Service</th>\n",
       "      <th>Station</th>\n",
       "      <th>Class</th>\n",
       "      <th>BW</th>\n",
       "    </tr>\n",
       "  </thead>\n",
       "  <tbody>\n",
       "    <tr>\n",
       "      <th>667035</th>\n",
       "      <td>#667036</td>\n",
       "      <td>527.00000</td>\n",
       "      <td>-2.806110</td>\n",
       "      <td>-57.069721</td>\n",
       "      <td>[MOS] TV-C1, C, Camara Dos Deputados (50441490...</td>\n",
       "      <td>801</td>\n",
       "      <td>-1</td>\n",
       "      <td>NI</td>\n",
       "      <td>5700.0</td>\n",
       "    </tr>\n",
       "    <tr>\n",
       "      <th>107525</th>\n",
       "      <td>#107526</td>\n",
       "      <td>156.47500</td>\n",
       "      <td>-8.581717</td>\n",
       "      <td>-63.725052</td>\n",
       "      <td>[STEL] L, ML, Transportes Bertolini Ltda (1202...</td>\n",
       "      <td>19</td>\n",
       "      <td>1000751993</td>\n",
       "      <td>G3E</td>\n",
       "      <td>16.0</td>\n",
       "    </tr>\n",
       "    <tr>\n",
       "      <th>117314</th>\n",
       "      <td>#117315</td>\n",
       "      <td>156.70000</td>\n",
       "      <td>-1.540750</td>\n",
       "      <td>-48.743168</td>\n",
       "      <td>[STEL] L, FC, Alpina Briggs Defesa Ambiental S...</td>\n",
       "      <td>19</td>\n",
       "      <td>690246978</td>\n",
       "      <td>F3E</td>\n",
       "      <td>16.0</td>\n",
       "    </tr>\n",
       "    <tr>\n",
       "      <th>273145</th>\n",
       "      <td>#273146</td>\n",
       "      <td>167.63125</td>\n",
       "      <td>-20.387291</td>\n",
       "      <td>-44.484554</td>\n",
       "      <td>[STEL] L, ML, Policia Militar Do Estado De Min...</td>\n",
       "      <td>19</td>\n",
       "      <td>1001948332</td>\n",
       "      <td>F1W</td>\n",
       "      <td>8.1</td>\n",
       "    </tr>\n",
       "    <tr>\n",
       "      <th>306394</th>\n",
       "      <td>#306395</td>\n",
       "      <td>167.74375</td>\n",
       "      <td>-19.881208</td>\n",
       "      <td>-43.859077</td>\n",
       "      <td>[STEL] L, ML, Policia Militar Do Estado De Min...</td>\n",
       "      <td>19</td>\n",
       "      <td>1002234406</td>\n",
       "      <td>G1W</td>\n",
       "      <td>8.1</td>\n",
       "    </tr>\n",
       "  </tbody>\n",
       "</table>\n",
       "</div>"
      ],
      "text/plain": [
       "             Id  Frequency   Latitude  Longitude  \\\n",
       "667035  #667036  527.00000  -2.806110 -57.069721   \n",
       "107525  #107526  156.47500  -8.581717 -63.725052   \n",
       "117314  #117315  156.70000  -1.540750 -48.743168   \n",
       "273145  #273146  167.63125 -20.387291 -44.484554   \n",
       "306394  #306395  167.74375 -19.881208 -43.859077   \n",
       "\n",
       "                                              Description  Service  \\\n",
       "667035  [MOS] TV-C1, C, Camara Dos Deputados (50441490...      801   \n",
       "107525  [STEL] L, ML, Transportes Bertolini Ltda (1202...       19   \n",
       "117314  [STEL] L, FC, Alpina Briggs Defesa Ambiental S...       19   \n",
       "273145  [STEL] L, ML, Policia Militar Do Estado De Min...       19   \n",
       "306394  [STEL] L, ML, Policia Militar Do Estado De Min...       19   \n",
       "\n",
       "           Station Class      BW  \n",
       "667035          -1    NI  5700.0  \n",
       "107525  1000751993   G3E    16.0  \n",
       "117314   690246978   F3E    16.0  \n",
       "273145  1001948332   F1W     8.1  \n",
       "306394  1002234406   G1W     8.1  "
      ]
     },
     "execution_count": null,
     "metadata": {},
     "output_type": "execute_result"
    }
   ],
   "source": [
    "#| eval: false\n",
    "db = get_db(pasta)\n",
    "db.sample(5)"
   ]
  },
  {
   "cell_type": "markdown",
   "metadata": {},
   "source": [
    "### Métodos para atualizar os arquivos das bases de dados"
   ]
  },
  {
   "cell_type": "markdown",
   "metadata": {},
   "source": [
    "```python\n",
    "from extracao.updates import update_mosaico, update_radcom, update_stel, update_telecom, update_base\n",
    "```"
   ]
  },
  {
   "cell_type": "markdown",
   "metadata": {},
   "source": [
    "A função `update_mosaico` atualiza os dados de radiodifusão pública disponíveis na interface pública online do [Spectrum E](http://sistemas.anatel.gov.br/se/public/view/b/srd.php) "
   ]
  },
  {
   "cell_type": "markdown",
   "metadata": {},
   "source": [
    "```python\n",
    "%%time\n",
    "update_mosaico(pasta='D:\\OneDrive - ANATEL\\GR01FI3\\BaseDados')\n",
    "```\n",
    "\n",
    "    Baixando as Estações do Mosaico...\n",
    "    Baixando o Plano Básico das Estações...\n",
    "    Baixando o Histórico de Atualizações...\n",
    "    Kbô\n",
    "    Wall time: 8.12 s"
   ]
  },
  {
   "cell_type": "markdown",
   "metadata": {},
   "source": [
    "A função `update_radcom` é um complemento à função `update_mosaico`. Ela retorna os registros específicos de Rádio Comunitária, os quais ficam em base separada."
   ]
  },
  {
   "cell_type": "markdown",
   "metadata": {},
   "source": [
    "\n",
    "```python\n",
    "%%time\n",
    "update_radcom('D:\\OneDrive - ANATEL\\GR01FI3\\BaseDados')\n",
    "```\n",
    "\n",
    "    Lendo o Banco de Dados de Radcom\n",
    "    Wall time: 1 s"
   ]
  },
  {
   "cell_type": "markdown",
   "metadata": {},
   "source": [
    "A função <code>update_telecom</code> é bem mais lenta que as demais, dado que o banco de dados abarca todos os registros privados de serviços de telecomunicações da ANATEL, com cerca de **10.000.000** registros ativos atualmente. Esse banco de dados é atualizado 1 vez ao dia à meia-noite e remete ao estado do dia anterior, portanto não faz sentido atualizá-lo mais de 1 vez por dia."
   ]
  },
  {
   "cell_type": "markdown",
   "metadata": {},
   "source": [
    "A função `update_stel` retorna os registros de Serviços Privados de Telecomunicações da Anatel que ainda não constam na base pública do Mosaico em [Spectrum - E](http://sistemas.anatel.gov.br/se/public/view/b/licenciamento.php) e são retornados pela função `update_telecom`"
   ]
  },
  {
   "cell_type": "markdown",
   "metadata": {},
   "source": [
    "```python\n",
    "%%time\n",
    "update_stel('D:\\OneDrive - ANATEL\\GR01FI3\\BaseDados')\n",
    "```\n"
   ]
  },
  {
   "cell_type": "markdown",
   "metadata": {},
   "source": [
    "A função `update_base` combina as 4 bases anteriores e uniformiza os campos:\n",
    "```python\n",
    "update_base('D:\\OneDrive - ANATEL\\GR01FI3\\BaseDados')\n",
    "```\n"
   ]
  },
  {
   "cell_type": "markdown",
   "metadata": {},
   "source": [
    "### Métodos para ler as Bases de Dados"
   ]
  },
  {
   "cell_type": "code",
   "execution_count": null,
   "metadata": {},
   "outputs": [],
   "source": [
    "#| eval: false\n",
    "from extracao.reading import read_radcom, read_stel, read_mosaico, read_telecom, read_base\n",
    "radcom = read_radcom(pasta)\n",
    "radcom.sample(5).iloc[:,:5]"
   ]
  },
  {
   "cell_type": "markdown",
   "metadata": {},
   "source": [
    "Se o argumento <code>conn</code> for fornecido, o arquivo será atualizado por meio da função <code>update_radcom</code>. "
   ]
  },
  {
   "cell_type": "markdown",
   "metadata": {},
   "source": [
    "> *A função <code>update_radcom</code> somente irá funcionar caso o PC estiver plugado na rede interna cabeada da Anatel.*"
   ]
  },
  {
   "cell_type": "code",
   "execution_count": null,
   "metadata": {},
   "outputs": [
    {
     "data": {
      "text/html": [
       "<div>\n",
       "<style scoped>\n",
       "    .dataframe tbody tr th:only-of-type {\n",
       "        vertical-align: middle;\n",
       "    }\n",
       "\n",
       "    .dataframe tbody tr th {\n",
       "        vertical-align: top;\n",
       "    }\n",
       "\n",
       "    .dataframe thead th {\n",
       "        text-align: right;\n",
       "    }\n",
       "</style>\n",
       "<table border=\"1\" class=\"dataframe\">\n",
       "  <thead>\n",
       "    <tr style=\"text-align: right;\">\n",
       "      <th></th>\n",
       "      <th>Frequência</th>\n",
       "      <th>Classe_Emissão</th>\n",
       "      <th>Largura_Emissão</th>\n",
       "      <th>Classe</th>\n",
       "      <th>Num_Serviço</th>\n",
       "      <th>Entidade</th>\n",
       "      <th>Fistel</th>\n",
       "    </tr>\n",
       "  </thead>\n",
       "  <tbody>\n",
       "    <tr>\n",
       "      <th>713502</th>\n",
       "      <td>459.68750</td>\n",
       "      <td>F1D</td>\n",
       "      <td>7K60</td>\n",
       "      <td>FX</td>\n",
       "      <td>019</td>\n",
       "      <td>MOSAIC FERTILIZANTES P&amp;K LTDA.</td>\n",
       "      <td>50416997473</td>\n",
       "    </tr>\n",
       "    <tr>\n",
       "      <th>744967</th>\n",
       "      <td>469.70000</td>\n",
       "      <td>F1W</td>\n",
       "      <td>7K60</td>\n",
       "      <td>BR</td>\n",
       "      <td>019</td>\n",
       "      <td>ASSOCIACAO MELHORAMENTOS PARQUE SILVINO PEREIRA</td>\n",
       "      <td>50011329165</td>\n",
       "    </tr>\n",
       "    <tr>\n",
       "      <th>353408</th>\n",
       "      <td>167.34375</td>\n",
       "      <td>F1W</td>\n",
       "      <td>7K60</td>\n",
       "      <td>FB</td>\n",
       "      <td>019</td>\n",
       "      <td>DURATEX FLORESTAL LTDA</td>\n",
       "      <td>02021684504</td>\n",
       "    </tr>\n",
       "    <tr>\n",
       "      <th>226524</th>\n",
       "      <td>157.78125</td>\n",
       "      <td>F1E</td>\n",
       "      <td>7K60</td>\n",
       "      <td>FX</td>\n",
       "      <td>011</td>\n",
       "      <td>OLIVEIRA, TAVORA E CIA LTDA</td>\n",
       "      <td>50418317186</td>\n",
       "    </tr>\n",
       "    <tr>\n",
       "      <th>380431</th>\n",
       "      <td>167.68125</td>\n",
       "      <td>F3E</td>\n",
       "      <td>11K0</td>\n",
       "      <td>ML</td>\n",
       "      <td>019</td>\n",
       "      <td>POLICIA MILITAR DO ESTADO DE MINAS GERAIS</td>\n",
       "      <td>50401288943</td>\n",
       "    </tr>\n",
       "  </tbody>\n",
       "</table>\n",
       "</div>"
      ],
      "text/plain": [
       "        Frequência Classe_Emissão Largura_Emissão Classe Num_Serviço  \\\n",
       "713502   459.68750            F1D            7K60     FX         019   \n",
       "744967   469.70000            F1W            7K60     BR         019   \n",
       "353408   167.34375            F1W            7K60     FB         019   \n",
       "226524   157.78125            F1E            7K60     FX         011   \n",
       "380431   167.68125            F3E            11K0     ML         019   \n",
       "\n",
       "                                               Entidade       Fistel  \n",
       "713502                   MOSAIC FERTILIZANTES P&K LTDA.  50416997473  \n",
       "744967  ASSOCIACAO MELHORAMENTOS PARQUE SILVINO PEREIRA  50011329165  \n",
       "353408                           DURATEX FLORESTAL LTDA  02021684504  \n",
       "226524                      OLIVEIRA, TAVORA E CIA LTDA  50418317186  \n",
       "380431        POLICIA MILITAR DO ESTADO DE MINAS GERAIS  50401288943  "
      ]
     },
     "execution_count": null,
     "metadata": {},
     "output_type": "execute_result"
    }
   ],
   "source": [
    "#| eval: false\n",
    "stel = read_stel(pasta)\n",
    "stel.sample(5).iloc[:,:7]"
   ]
  },
  {
   "cell_type": "markdown",
   "metadata": {},
   "source": [
    "Se o argumento <code>conn</code> for fornecido, o arquivo será atualizado por meio da função <code>update_stel</code>. \n",
    "\n",
    "> *A função  <code>update_stel</code> somente irá funcionar caso o PC estiver plugado na rede interna cabeada da Anatel.*"
   ]
  },
  {
   "cell_type": "code",
   "execution_count": null,
   "metadata": {},
   "outputs": [
    {
     "data": {
      "text/html": [
       "<div>\n",
       "<style scoped>\n",
       "    .dataframe tbody tr th:only-of-type {\n",
       "        vertical-align: middle;\n",
       "    }\n",
       "\n",
       "    .dataframe tbody tr th {\n",
       "        vertical-align: top;\n",
       "    }\n",
       "\n",
       "    .dataframe thead th {\n",
       "        text-align: right;\n",
       "    }\n",
       "</style>\n",
       "<table border=\"1\" class=\"dataframe\">\n",
       "  <thead>\n",
       "    <tr style=\"text-align: right;\">\n",
       "      <th></th>\n",
       "      <th>Num_Serviço</th>\n",
       "      <th>Id</th>\n",
       "      <th>Número_Estação</th>\n",
       "      <th>Latitude</th>\n",
       "      <th>Longitude</th>\n",
       "      <th>Validade_RF</th>\n",
       "      <th>Município</th>\n",
       "    </tr>\n",
       "  </thead>\n",
       "  <tbody>\n",
       "    <tr>\n",
       "      <th>14017</th>\n",
       "      <td>800</td>\n",
       "      <td>57dbabf18de3d</td>\n",
       "      <td>1002434758</td>\n",
       "      <td>-21.762528</td>\n",
       "      <td>-43.357556</td>\n",
       "      <td>2023-12-31</td>\n",
       "      <td>Juiz de Fora</td>\n",
       "    </tr>\n",
       "    <tr>\n",
       "      <th>28419</th>\n",
       "      <td>801</td>\n",
       "      <td>617afd492ade4</td>\n",
       "      <td>&lt;NA&gt;</td>\n",
       "      <td>-17.400000</td>\n",
       "      <td>-42.717220</td>\n",
       "      <td>2041-11-18</td>\n",
       "      <td>Veredinha</td>\n",
       "    </tr>\n",
       "    <tr>\n",
       "      <th>216</th>\n",
       "      <td>800</td>\n",
       "      <td>57dbaadbc8413</td>\n",
       "      <td>441611648</td>\n",
       "      <td>-7.730833</td>\n",
       "      <td>-72.648889</td>\n",
       "      <td>2023-12-31</td>\n",
       "      <td>Rodrigues Alves</td>\n",
       "    </tr>\n",
       "    <tr>\n",
       "      <th>15976</th>\n",
       "      <td>230</td>\n",
       "      <td>57dbac17c5a24</td>\n",
       "      <td>699381339</td>\n",
       "      <td>-19.817611</td>\n",
       "      <td>-40.336056</td>\n",
       "      <td>2024-08-20</td>\n",
       "      <td>Ibiraçu</td>\n",
       "    </tr>\n",
       "    <tr>\n",
       "      <th>10352</th>\n",
       "      <td>801</td>\n",
       "      <td>57dbabb50b92a</td>\n",
       "      <td>&lt;NA&gt;</td>\n",
       "      <td>-21.208611</td>\n",
       "      <td>-45.198056</td>\n",
       "      <td>2035-10-09</td>\n",
       "      <td>Nepomuceno</td>\n",
       "    </tr>\n",
       "  </tbody>\n",
       "</table>\n",
       "</div>"
      ],
      "text/plain": [
       "      Num_Serviço             Id Número_Estação   Latitude  Longitude  \\\n",
       "14017         800  57dbabf18de3d     1002434758 -21.762528 -43.357556   \n",
       "28419         801  617afd492ade4           <NA> -17.400000 -42.717220   \n",
       "216           800  57dbaadbc8413      441611648  -7.730833 -72.648889   \n",
       "15976         230  57dbac17c5a24      699381339 -19.817611 -40.336056   \n",
       "10352         801  57dbabb50b92a           <NA> -21.208611 -45.198056   \n",
       "\n",
       "      Validade_RF        Município  \n",
       "14017  2023-12-31     Juiz de Fora  \n",
       "28419  2041-11-18        Veredinha  \n",
       "216    2023-12-31  Rodrigues Alves  \n",
       "15976  2024-08-20          Ibiraçu  \n",
       "10352  2035-10-09       Nepomuceno  "
      ]
     },
     "execution_count": null,
     "metadata": {},
     "output_type": "execute_result"
    }
   ],
   "source": [
    "#| eval: false\n",
    "mosaico = read_mosaico(pasta)\n",
    "mosaico.sample(5).iloc[:,:7]"
   ]
  },
  {
   "cell_type": "markdown",
   "metadata": {},
   "source": [
    "Se o argumento <code>mongo_client</code> for fornecido, o arquivo será atualizado por meio da função <code>update_mosaico</code>. \n",
    ">  *A função  <code>update_mosaico</code> somente irá funcionar caso o PC estiver plugado na rede interna cabeada da Anatel.*"
   ]
  },
  {
   "cell_type": "code",
   "execution_count": null,
   "metadata": {},
   "outputs": [],
   "source": [
    "#| eval: false\n",
    "telecom = read_telecom(pasta)\n",
    "telecom.sample(5).iloc[:,:7]"
   ]
  },
  {
   "cell_type": "markdown",
   "metadata": {},
   "source": [
    "Se o argumento <code>mongo_client</code> for fornecido, o arquivo será atualizado por meio da função <code>update_telecom</code>. \n",
    ">  *A função  <code>update_telecom</code> somente irá funcionar caso o PC estiver plugado na rede interna cabeada da Anatel.*"
   ]
  },
  {
   "cell_type": "code",
   "execution_count": null,
   "metadata": {},
   "outputs": [],
   "source": [
    "#| eval: false\n",
    "base = read_base(pasta)\n",
    "base.sample(5).iloc[:, :7]"
   ]
  },
  {
   "cell_type": "markdown",
   "metadata": {},
   "source": [
    "A função `read_base` combina os 4 arquivos anteriores, e mescla os registros similares dos arquivos consolidados da aeronáutica.\n",
    "Se os argumentos <code>conn e mongo_client</code> forem fornecidos, os arquivo serão atualizados por meio de chamada da função `update_base`, esta função encapsula a atualização de todos os arquivos por meio das funções de atualização mencionadas anteriormente. \n",
    ">  *A função <code>update_base</code> somente irá funcionar caso o PC estiver plugado na rede interna cabeada da Anatel.*"
   ]
  }
 ],
 "metadata": {
  "kernelspec": {
   "display_name": "Python 3.9.13 ('anateldb')",
   "language": "python",
   "name": "python3"
  }
 },
 "nbformat": 4,
 "nbformat_minor": 4
}
